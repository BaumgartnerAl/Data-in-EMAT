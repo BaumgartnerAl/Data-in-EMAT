{
 "cells": [
  {
   "cell_type": "markdown",
   "id": "a6be97f2",
   "metadata": {},
   "source": [
    "<h1> League of Legends' Popularity in relation to Arcane</h1>\n",
    "<h4>Alex Baumgartner</h4>\n"
   ]
  },
  {
   "cell_type": "markdown",
   "id": "19f2f9fd",
   "metadata": {},
   "source": [
    "League of Legends is one of the largest video games of all time. Throughout its 10 years of stardom, the community has been growing at a steady pace. Riot Games, the creator's of League of Legends, have recently started broadening their influence, creating several other titles such as Valorant, Legends of Runeterra, Teamfight Tactics, and several smaller games developed through their publishing label Riot Forge.<p></p>\n",
    "Riot's most recent endeavor was Arcane: a 9 episode Netflix series that aired on November 6th, 2021, and was fully released by November 20th. Arcane was wildly successful and almost immediately was within the top 10 chart in over 50 countries. The show was also Netflix's number one program in the month of November.<p>\n",
    "Off of this wild success, it would only make sense that League of Legends, the game Arcane's story is derived from, would see a spike in popularity."
   ]
  },
  {
   "cell_type": "code",
   "execution_count": 116,
   "id": "ea5bacfd",
   "metadata": {},
   "outputs": [],
   "source": [
    "import pandas as pd\n",
    "import requests\n",
    "from bs4 import BeautifulSoup\n",
    "import matplotlib\n",
    "from matplotlib import pyplot as plt\n",
    "import html5lib\n",
    "import numpy as np"
   ]
  },
  {
   "cell_type": "markdown",
   "id": "7f39e448",
   "metadata": {},
   "source": [
    "After importing the required packages, I used the read html feature to find the table that contains the playerbase data, including Average Monthly Players. Most websites have very similar numbers, although they sometimes differ slightly."
   ]
  },
  {
   "cell_type": "code",
   "execution_count": 2,
   "id": "2d9d2518",
   "metadata": {},
   "outputs": [
    {
     "data": {
      "text/html": [
       "<div>\n",
       "<style scoped>\n",
       "    .dataframe tbody tr th:only-of-type {\n",
       "        vertical-align: middle;\n",
       "    }\n",
       "\n",
       "    .dataframe tbody tr th {\n",
       "        vertical-align: top;\n",
       "    }\n",
       "\n",
       "    .dataframe thead th {\n",
       "        text-align: right;\n",
       "    }\n",
       "</style>\n",
       "<table border=\"1\" class=\"dataframe\">\n",
       "  <thead>\n",
       "    <tr style=\"text-align: right;\">\n",
       "      <th></th>\n",
       "      <th>Month</th>\n",
       "      <th>Average Monthly Players</th>\n",
       "      <th>Peak Players In a Day</th>\n",
       "    </tr>\n",
       "  </thead>\n",
       "  <tbody>\n",
       "    <tr>\n",
       "      <th>0</th>\n",
       "      <td>Last 30 Days</td>\n",
       "      <td>180000000</td>\n",
       "      <td>31512723</td>\n",
       "    </tr>\n",
       "    <tr>\n",
       "      <th>1</th>\n",
       "      <td>September 30, 2021</td>\n",
       "      <td>125995870</td>\n",
       "      <td>11339628</td>\n",
       "    </tr>\n",
       "    <tr>\n",
       "      <th>2</th>\n",
       "      <td>August 30, 2021</td>\n",
       "      <td>126550278</td>\n",
       "      <td>11389525</td>\n",
       "    </tr>\n",
       "    <tr>\n",
       "      <th>3</th>\n",
       "      <td>July 30, 2021</td>\n",
       "      <td>128014473</td>\n",
       "      <td>11521303</td>\n",
       "    </tr>\n",
       "    <tr>\n",
       "      <th>4</th>\n",
       "      <td>June 30, 2021</td>\n",
       "      <td>126335475</td>\n",
       "      <td>11370193</td>\n",
       "    </tr>\n",
       "    <tr>\n",
       "      <th>5</th>\n",
       "      <td>May 30, 2021</td>\n",
       "      <td>121566901</td>\n",
       "      <td>10941021</td>\n",
       "    </tr>\n",
       "    <tr>\n",
       "      <th>6</th>\n",
       "      <td>April 30, 2021</td>\n",
       "      <td>118501466</td>\n",
       "      <td>10665132</td>\n",
       "    </tr>\n",
       "    <tr>\n",
       "      <th>7</th>\n",
       "      <td>March 30, 2021</td>\n",
       "      <td>120302279</td>\n",
       "      <td>10827205</td>\n",
       "    </tr>\n",
       "    <tr>\n",
       "      <th>8</th>\n",
       "      <td>February 28, 2021</td>\n",
       "      <td>117522367</td>\n",
       "      <td>10577013</td>\n",
       "    </tr>\n",
       "    <tr>\n",
       "      <th>9</th>\n",
       "      <td>January 30, 2021</td>\n",
       "      <td>115647815</td>\n",
       "      <td>10408303</td>\n",
       "    </tr>\n",
       "    <tr>\n",
       "      <th>10</th>\n",
       "      <td>December 30, 2020</td>\n",
       "      <td>121206637</td>\n",
       "      <td>10908597</td>\n",
       "    </tr>\n",
       "    <tr>\n",
       "      <th>11</th>\n",
       "      <td>November 30, 2020</td>\n",
       "      <td>116916136</td>\n",
       "      <td>10522452</td>\n",
       "    </tr>\n",
       "  </tbody>\n",
       "</table>\n",
       "</div>"
      ],
      "text/plain": [
       "                 Month  Average Monthly Players  Peak Players In a Day\n",
       "0         Last 30 Days                180000000               31512723\n",
       "1   September 30, 2021                125995870               11339628\n",
       "2      August 30, 2021                126550278               11389525\n",
       "3        July 30, 2021                128014473               11521303\n",
       "4        June 30, 2021                126335475               11370193\n",
       "5         May 30, 2021                121566901               10941021\n",
       "6       April 30, 2021                118501466               10665132\n",
       "7       March 30, 2021                120302279               10827205\n",
       "8    February 28, 2021                117522367               10577013\n",
       "9     January 30, 2021                115647815               10408303\n",
       "10   December 30, 2020                121206637               10908597\n",
       "11   November 30, 2020                116916136               10522452"
      ]
     },
     "execution_count": 2,
     "metadata": {},
     "output_type": "execute_result"
    }
   ],
   "source": [
    "url = \"https://leaguefeed.net/did-you-know-total-league-of-legends-player-count-updated/\"\n",
    "\n",
    "r = requests.get(url)\n",
    "MAP_lf_list = pd.read_html(r.text) # this parses all the tables in webpages to a list\n",
    "MAP_lf_df = MAP_lf_list[0]\n",
    "MAP_lf_df.head(12)"
   ]
  },
  {
   "cell_type": "markdown",
   "id": "1e6bd5ab",
   "metadata": {},
   "source": [
    "After loading the table data into a dataframe, I reversed the order of the table so that it would display in chronological order from left to right when graphed"
   ]
  },
  {
   "cell_type": "code",
   "execution_count": 3,
   "id": "ff26ad66",
   "metadata": {},
   "outputs": [],
   "source": [
    "MAP_reindex = MAP_lf_df[::-1].reset_index().tail(12)"
   ]
  },
  {
   "cell_type": "code",
   "execution_count": 4,
   "id": "26fe57f9",
   "metadata": {},
   "outputs": [
    {
     "data": {
      "text/html": [
       "<div>\n",
       "<style scoped>\n",
       "    .dataframe tbody tr th:only-of-type {\n",
       "        vertical-align: middle;\n",
       "    }\n",
       "\n",
       "    .dataframe tbody tr th {\n",
       "        vertical-align: top;\n",
       "    }\n",
       "\n",
       "    .dataframe thead th {\n",
       "        text-align: right;\n",
       "    }\n",
       "</style>\n",
       "<table border=\"1\" class=\"dataframe\">\n",
       "  <thead>\n",
       "    <tr style=\"text-align: right;\">\n",
       "      <th></th>\n",
       "      <th>index</th>\n",
       "      <th>Month</th>\n",
       "      <th>Average Monthly Players</th>\n",
       "      <th>Peak Players In a Day</th>\n",
       "    </tr>\n",
       "  </thead>\n",
       "  <tbody>\n",
       "    <tr>\n",
       "      <th>22</th>\n",
       "      <td>11</td>\n",
       "      <td>November 30, 2020</td>\n",
       "      <td>116916136</td>\n",
       "      <td>10522452</td>\n",
       "    </tr>\n",
       "    <tr>\n",
       "      <th>23</th>\n",
       "      <td>10</td>\n",
       "      <td>December 30, 2020</td>\n",
       "      <td>121206637</td>\n",
       "      <td>10908597</td>\n",
       "    </tr>\n",
       "    <tr>\n",
       "      <th>24</th>\n",
       "      <td>9</td>\n",
       "      <td>January 30, 2021</td>\n",
       "      <td>115647815</td>\n",
       "      <td>10408303</td>\n",
       "    </tr>\n",
       "    <tr>\n",
       "      <th>25</th>\n",
       "      <td>8</td>\n",
       "      <td>February 28, 2021</td>\n",
       "      <td>117522367</td>\n",
       "      <td>10577013</td>\n",
       "    </tr>\n",
       "    <tr>\n",
       "      <th>26</th>\n",
       "      <td>7</td>\n",
       "      <td>March 30, 2021</td>\n",
       "      <td>120302279</td>\n",
       "      <td>10827205</td>\n",
       "    </tr>\n",
       "    <tr>\n",
       "      <th>27</th>\n",
       "      <td>6</td>\n",
       "      <td>April 30, 2021</td>\n",
       "      <td>118501466</td>\n",
       "      <td>10665132</td>\n",
       "    </tr>\n",
       "    <tr>\n",
       "      <th>28</th>\n",
       "      <td>5</td>\n",
       "      <td>May 30, 2021</td>\n",
       "      <td>121566901</td>\n",
       "      <td>10941021</td>\n",
       "    </tr>\n",
       "    <tr>\n",
       "      <th>29</th>\n",
       "      <td>4</td>\n",
       "      <td>June 30, 2021</td>\n",
       "      <td>126335475</td>\n",
       "      <td>11370193</td>\n",
       "    </tr>\n",
       "    <tr>\n",
       "      <th>30</th>\n",
       "      <td>3</td>\n",
       "      <td>July 30, 2021</td>\n",
       "      <td>128014473</td>\n",
       "      <td>11521303</td>\n",
       "    </tr>\n",
       "    <tr>\n",
       "      <th>31</th>\n",
       "      <td>2</td>\n",
       "      <td>August 30, 2021</td>\n",
       "      <td>126550278</td>\n",
       "      <td>11389525</td>\n",
       "    </tr>\n",
       "    <tr>\n",
       "      <th>32</th>\n",
       "      <td>1</td>\n",
       "      <td>September 30, 2021</td>\n",
       "      <td>125995870</td>\n",
       "      <td>11339628</td>\n",
       "    </tr>\n",
       "    <tr>\n",
       "      <th>33</th>\n",
       "      <td>0</td>\n",
       "      <td>Last 30 Days</td>\n",
       "      <td>180000000</td>\n",
       "      <td>31512723</td>\n",
       "    </tr>\n",
       "  </tbody>\n",
       "</table>\n",
       "</div>"
      ],
      "text/plain": [
       "    index               Month  Average Monthly Players  Peak Players In a Day\n",
       "22     11   November 30, 2020                116916136               10522452\n",
       "23     10   December 30, 2020                121206637               10908597\n",
       "24      9    January 30, 2021                115647815               10408303\n",
       "25      8   February 28, 2021                117522367               10577013\n",
       "26      7      March 30, 2021                120302279               10827205\n",
       "27      6      April 30, 2021                118501466               10665132\n",
       "28      5        May 30, 2021                121566901               10941021\n",
       "29      4       June 30, 2021                126335475               11370193\n",
       "30      3       July 30, 2021                128014473               11521303\n",
       "31      2     August 30, 2021                126550278               11389525\n",
       "32      1  September 30, 2021                125995870               11339628\n",
       "33      0        Last 30 Days                180000000               31512723"
      ]
     },
     "execution_count": 4,
     "metadata": {},
     "output_type": "execute_result"
    }
   ],
   "source": [
    "MAP_reindex.tail(12)"
   ]
  },
  {
   "cell_type": "markdown",
   "id": "6cbaac7f",
   "metadata": {},
   "source": [
    "Looking at the past 12 months of data, We can see a steady increase throughout most of the year. In the last 30 days, we see the Monthly Active Players jump up to an astounding 180 million. "
   ]
  },
  {
   "cell_type": "code",
   "execution_count": 5,
   "id": "1c58c960",
   "metadata": {
    "scrolled": false
   },
   "outputs": [
    {
     "data": {
      "text/plain": [
       "[<matplotlib.lines.Line2D at 0x1ba4f7a8190>]"
      ]
     },
     "execution_count": 5,
     "metadata": {},
     "output_type": "execute_result"
    },
    {
     "data": {
      "image/png": "[encoded data removed]",
      "text/plain": [
       "<Figure size 1440x720 with 1 Axes>"
      ]
     },
     "metadata": {
      "needs_background": "light"
     },
     "output_type": "display_data"
    }
   ],
   "source": [
    "fig1, ax1 = plt.subplots(1,1, figsize=(20,10))\n",
    "ax1.set_xlabel(\"Month\")\n",
    "ax1.set_ylabel(\"Monthly Average Players (in millions)\")\n",
    "ax1.plot(MAP_reindex.tail(12)[\"Month\"], MAP_reindex.tail(12)[\"Average Monthly Players\"])"
   ]
  },
  {
   "cell_type": "markdown",
   "id": "3aa7bd4c",
   "metadata": {},
   "source": [
    "This may seem like it lines up well with my thoughts about Arcane causing a spike in player numbers. This data, however, is not entirely accurate. The most recent data point, 180 million Monthly Active Players, is taken from a tweet by Riot games. This number is not just for League of Legends' player base. The tweet uses data from across several Riot Games titles, which does include League as the bulk of those users. However, this makes the data skewed and inaccurate."
   ]
  },
  {
   "cell_type": "markdown",
   "id": "56e26995",
   "metadata": {},
   "source": [
    "Because of the lack of reliable data, I am considering removing this data from my final project and focusing more on the analysis below for champion playrates. I have been checking multiple websites but between the 180 million players data point being inaccurate and other websites not updating, it has been very hard to create a successful analysis."
   ]
  },
  {
   "cell_type": "markdown",
   "id": "7891add3",
   "metadata": {},
   "source": [
    "I decided to look at another metric for the success of Arcane. The story of Arcane is centered around a handful of characters from League of Legends. Champion play rates are available online, so I decided to look at the characters' playrate before Arcane and after the show released. There are many factors that influence a champion's playrate, although every champion that was represented in Arcane saw an increase in popularity. "
   ]
  },
  {
   "cell_type": "code",
   "execution_count": 21,
   "id": "a59ff557",
   "metadata": {},
   "outputs": [],
   "source": [
    "url3 = \"https://www.dexerto.com/league-of-legends/arcane-changed-league-of-legends-meta-season-12-1702049/\"\n",
    "response3 = requests.get(url3)"
   ]
  },
  {
   "cell_type": "code",
   "execution_count": 55,
   "id": "3f2f97e6",
   "metadata": {
    "scrolled": true
   },
   "outputs": [
    {
     "data": {
      "text/html": [
       "<div>\n",
       "<style scoped>\n",
       "    .dataframe tbody tr th:only-of-type {\n",
       "        vertical-align: middle;\n",
       "    }\n",
       "\n",
       "    .dataframe tbody tr th {\n",
       "        vertical-align: top;\n",
       "    }\n",
       "\n",
       "    .dataframe thead th {\n",
       "        text-align: right;\n",
       "    }\n",
       "</style>\n",
       "<table border=\"1\" class=\"dataframe\">\n",
       "  <thead>\n",
       "    <tr style=\"text-align: right;\">\n",
       "      <th></th>\n",
       "      <th>0</th>\n",
       "      <th>1</th>\n",
       "      <th>2</th>\n",
       "      <th>3</th>\n",
       "    </tr>\n",
       "  </thead>\n",
       "  <tbody>\n",
       "    <tr>\n",
       "      <th>0</th>\n",
       "      <td>Champion</td>\n",
       "      <td>Playrate before Arcane</td>\n",
       "      <td>Current playrate</td>\n",
       "      <td>Peak playrate since Arcane</td>\n",
       "    </tr>\n",
       "    <tr>\n",
       "      <th>1</th>\n",
       "      <td>Caitlyn</td>\n",
       "      <td>14.99%</td>\n",
       "      <td>26.1%</td>\n",
       "      <td>26.1%</td>\n",
       "    </tr>\n",
       "    <tr>\n",
       "      <th>2</th>\n",
       "      <td>Ekko (Jungle)</td>\n",
       "      <td>7.98%</td>\n",
       "      <td>6.96%</td>\n",
       "      <td>8.3%</td>\n",
       "    </tr>\n",
       "    <tr>\n",
       "      <th>3</th>\n",
       "      <td>Ekko (Mid)</td>\n",
       "      <td>3.1%</td>\n",
       "      <td>3.31%</td>\n",
       "      <td>3.86%</td>\n",
       "    </tr>\n",
       "    <tr>\n",
       "      <th>4</th>\n",
       "      <td>Heimerdinger (Top)</td>\n",
       "      <td>1.08%</td>\n",
       "      <td>1.33%</td>\n",
       "      <td>1.33%</td>\n",
       "    </tr>\n",
       "    <tr>\n",
       "      <th>5</th>\n",
       "      <td>Heimderdinger (Mid)</td>\n",
       "      <td>0.8%</td>\n",
       "      <td>1.15%</td>\n",
       "      <td>1.26%</td>\n",
       "    </tr>\n",
       "    <tr>\n",
       "      <th>6</th>\n",
       "      <td>Jayce</td>\n",
       "      <td>3.68%</td>\n",
       "      <td>8.24%</td>\n",
       "      <td>11.85%</td>\n",
       "    </tr>\n",
       "    <tr>\n",
       "      <th>7</th>\n",
       "      <td>Jinx</td>\n",
       "      <td>11.85%</td>\n",
       "      <td>18.38%</td>\n",
       "      <td>18.38%</td>\n",
       "    </tr>\n",
       "    <tr>\n",
       "      <th>8</th>\n",
       "      <td>Singed</td>\n",
       "      <td>1.37%</td>\n",
       "      <td>2.3%</td>\n",
       "      <td>2.3%</td>\n",
       "    </tr>\n",
       "    <tr>\n",
       "      <th>9</th>\n",
       "      <td>Vi</td>\n",
       "      <td>5.74%</td>\n",
       "      <td>15.4%</td>\n",
       "      <td>18.14%</td>\n",
       "    </tr>\n",
       "    <tr>\n",
       "      <th>10</th>\n",
       "      <td>Viktor</td>\n",
       "      <td>2.53%</td>\n",
       "      <td>4.17%</td>\n",
       "      <td>4.17%</td>\n",
       "    </tr>\n",
       "  </tbody>\n",
       "</table>\n",
       "</div>"
      ],
      "text/plain": [
       "                      0                       1                 2  \\\n",
       "0              Champion  Playrate before Arcane  Current playrate   \n",
       "1               Caitlyn                  14.99%             26.1%   \n",
       "2         Ekko (Jungle)                   7.98%             6.96%   \n",
       "3            Ekko (Mid)                    3.1%             3.31%   \n",
       "4    Heimerdinger (Top)                   1.08%             1.33%   \n",
       "5   Heimderdinger (Mid)                    0.8%             1.15%   \n",
       "6                 Jayce                   3.68%             8.24%   \n",
       "7                  Jinx                  11.85%            18.38%   \n",
       "8                Singed                   1.37%              2.3%   \n",
       "9                    Vi                   5.74%             15.4%   \n",
       "10               Viktor                   2.53%             4.17%   \n",
       "\n",
       "                             3  \n",
       "0   Peak playrate since Arcane  \n",
       "1                        26.1%  \n",
       "2                         8.3%  \n",
       "3                        3.86%  \n",
       "4                        1.33%  \n",
       "5                        1.26%  \n",
       "6                       11.85%  \n",
       "7                       18.38%  \n",
       "8                         2.3%  \n",
       "9                       18.14%  \n",
       "10                       4.17%  "
      ]
     },
     "execution_count": 55,
     "metadata": {},
     "output_type": "execute_result"
    }
   ],
   "source": [
    "champ_list = pd.read_html(response3.text) # this parses all the tables in webpages to a list\n",
    "champ_df = champ_list[0]\n",
    "champ_df"
   ]
  },
  {
   "cell_type": "code",
   "execution_count": 69,
   "id": "daab2434",
   "metadata": {},
   "outputs": [],
   "source": [
    "champ_df.columns = ['Champion', 'Playrate before Arcane', 'Current Playrate', 'Peak playrate since Arcane']"
   ]
  },
  {
   "cell_type": "code",
   "execution_count": 71,
   "id": "afd9bee2",
   "metadata": {},
   "outputs": [],
   "source": [
    "champ_df_1 = champ_df.drop(labels=0,axis=0)"
   ]
  },
  {
   "cell_type": "code",
   "execution_count": 72,
   "id": "b19d1e26",
   "metadata": {
    "scrolled": true
   },
   "outputs": [
    {
     "data": {
      "text/html": [
       "<div>\n",
       "<style scoped>\n",
       "    .dataframe tbody tr th:only-of-type {\n",
       "        vertical-align: middle;\n",
       "    }\n",
       "\n",
       "    .dataframe tbody tr th {\n",
       "        vertical-align: top;\n",
       "    }\n",
       "\n",
       "    .dataframe thead th {\n",
       "        text-align: right;\n",
       "    }\n",
       "</style>\n",
       "<table border=\"1\" class=\"dataframe\">\n",
       "  <thead>\n",
       "    <tr style=\"text-align: right;\">\n",
       "      <th></th>\n",
       "      <th>Champion</th>\n",
       "      <th>Playrate before Arcane</th>\n",
       "      <th>Current Playrate</th>\n",
       "      <th>Peak playrate since Arcane</th>\n",
       "    </tr>\n",
       "  </thead>\n",
       "  <tbody>\n",
       "    <tr>\n",
       "      <th>1</th>\n",
       "      <td>Caitlyn</td>\n",
       "      <td>14.99%</td>\n",
       "      <td>26.1%</td>\n",
       "      <td>26.1%</td>\n",
       "    </tr>\n",
       "    <tr>\n",
       "      <th>2</th>\n",
       "      <td>Ekko (Jungle)</td>\n",
       "      <td>7.98%</td>\n",
       "      <td>6.96%</td>\n",
       "      <td>8.3%</td>\n",
       "    </tr>\n",
       "    <tr>\n",
       "      <th>3</th>\n",
       "      <td>Ekko (Mid)</td>\n",
       "      <td>3.1%</td>\n",
       "      <td>3.31%</td>\n",
       "      <td>3.86%</td>\n",
       "    </tr>\n",
       "    <tr>\n",
       "      <th>4</th>\n",
       "      <td>Heimerdinger (Top)</td>\n",
       "      <td>1.08%</td>\n",
       "      <td>1.33%</td>\n",
       "      <td>1.33%</td>\n",
       "    </tr>\n",
       "    <tr>\n",
       "      <th>5</th>\n",
       "      <td>Heimderdinger (Mid)</td>\n",
       "      <td>0.8%</td>\n",
       "      <td>1.15%</td>\n",
       "      <td>1.26%</td>\n",
       "    </tr>\n",
       "    <tr>\n",
       "      <th>6</th>\n",
       "      <td>Jayce</td>\n",
       "      <td>3.68%</td>\n",
       "      <td>8.24%</td>\n",
       "      <td>11.85%</td>\n",
       "    </tr>\n",
       "    <tr>\n",
       "      <th>7</th>\n",
       "      <td>Jinx</td>\n",
       "      <td>11.85%</td>\n",
       "      <td>18.38%</td>\n",
       "      <td>18.38%</td>\n",
       "    </tr>\n",
       "    <tr>\n",
       "      <th>8</th>\n",
       "      <td>Singed</td>\n",
       "      <td>1.37%</td>\n",
       "      <td>2.3%</td>\n",
       "      <td>2.3%</td>\n",
       "    </tr>\n",
       "    <tr>\n",
       "      <th>9</th>\n",
       "      <td>Vi</td>\n",
       "      <td>5.74%</td>\n",
       "      <td>15.4%</td>\n",
       "      <td>18.14%</td>\n",
       "    </tr>\n",
       "    <tr>\n",
       "      <th>10</th>\n",
       "      <td>Viktor</td>\n",
       "      <td>2.53%</td>\n",
       "      <td>4.17%</td>\n",
       "      <td>4.17%</td>\n",
       "    </tr>\n",
       "  </tbody>\n",
       "</table>\n",
       "</div>"
      ],
      "text/plain": [
       "               Champion Playrate before Arcane Current Playrate  \\\n",
       "1               Caitlyn                 14.99%            26.1%   \n",
       "2         Ekko (Jungle)                  7.98%            6.96%   \n",
       "3            Ekko (Mid)                   3.1%            3.31%   \n",
       "4    Heimerdinger (Top)                  1.08%            1.33%   \n",
       "5   Heimderdinger (Mid)                   0.8%            1.15%   \n",
       "6                 Jayce                  3.68%            8.24%   \n",
       "7                  Jinx                 11.85%           18.38%   \n",
       "8                Singed                  1.37%             2.3%   \n",
       "9                    Vi                  5.74%            15.4%   \n",
       "10               Viktor                  2.53%            4.17%   \n",
       "\n",
       "   Peak playrate since Arcane  \n",
       "1                       26.1%  \n",
       "2                        8.3%  \n",
       "3                       3.86%  \n",
       "4                       1.33%  \n",
       "5                       1.26%  \n",
       "6                      11.85%  \n",
       "7                      18.38%  \n",
       "8                        2.3%  \n",
       "9                      18.14%  \n",
       "10                      4.17%  "
      ]
     },
     "execution_count": 72,
     "metadata": {},
     "output_type": "execute_result"
    }
   ],
   "source": [
    "champ_df_1"
   ]
  },
  {
   "cell_type": "markdown",
   "id": "da469732",
   "metadata": {},
   "source": [
    "After reading in the data from the webpage, I tidied it up slightly, renaming the columns and making it function more. The data was in percentages, which would mess up the visualizations, so I had to mess with the data again to strip the percent symbol and rewrite the data points as decimals."
   ]
  },
  {
   "cell_type": "code",
   "execution_count": null,
   "id": "b3449a08",
   "metadata": {
    "scrolled": true
   },
   "outputs": [],
   "source": [
    "champ_df_1['Playrate before Arcane'] = champ_df_1['Playrate before Arcane'].str.rstrip('%').astype('float') / 100.0"
   ]
  },
  {
   "cell_type": "code",
   "execution_count": 92,
   "id": "5ea56e34",
   "metadata": {},
   "outputs": [],
   "source": [
    "champ_df_1['Current Playrate'] = champ_df_1['Current Playrate'].str.rstrip('%').astype('float') / 100.0\n",
    "champ_df_1['Peak playrate since Arcane'] = champ_df_1['Peak playrate since Arcane'].str.rstrip('%').astype('float') / 100.0"
   ]
  },
  {
   "cell_type": "code",
   "execution_count": 93,
   "id": "6670a9f6",
   "metadata": {
    "scrolled": true
   },
   "outputs": [
    {
     "data": {
      "text/html": [
       "<div>\n",
       "<style scoped>\n",
       "    .dataframe tbody tr th:only-of-type {\n",
       "        vertical-align: middle;\n",
       "    }\n",
       "\n",
       "    .dataframe tbody tr th {\n",
       "        vertical-align: top;\n",
       "    }\n",
       "\n",
       "    .dataframe thead th {\n",
       "        text-align: right;\n",
       "    }\n",
       "</style>\n",
       "<table border=\"1\" class=\"dataframe\">\n",
       "  <thead>\n",
       "    <tr style=\"text-align: right;\">\n",
       "      <th></th>\n",
       "      <th>Champion</th>\n",
       "      <th>Playrate before Arcane</th>\n",
       "      <th>Current Playrate</th>\n",
       "      <th>Peak playrate since Arcane</th>\n",
       "    </tr>\n",
       "  </thead>\n",
       "  <tbody>\n",
       "    <tr>\n",
       "      <th>1</th>\n",
       "      <td>Caitlyn</td>\n",
       "      <td>0.1499</td>\n",
       "      <td>0.2610</td>\n",
       "      <td>0.2610</td>\n",
       "    </tr>\n",
       "    <tr>\n",
       "      <th>2</th>\n",
       "      <td>Ekko (Jungle)</td>\n",
       "      <td>0.0798</td>\n",
       "      <td>0.0696</td>\n",
       "      <td>0.0830</td>\n",
       "    </tr>\n",
       "    <tr>\n",
       "      <th>3</th>\n",
       "      <td>Ekko (Mid)</td>\n",
       "      <td>0.0310</td>\n",
       "      <td>0.0331</td>\n",
       "      <td>0.0386</td>\n",
       "    </tr>\n",
       "    <tr>\n",
       "      <th>4</th>\n",
       "      <td>Heimerdinger (Top)</td>\n",
       "      <td>0.0108</td>\n",
       "      <td>0.0133</td>\n",
       "      <td>0.0133</td>\n",
       "    </tr>\n",
       "    <tr>\n",
       "      <th>5</th>\n",
       "      <td>Heimderdinger (Mid)</td>\n",
       "      <td>0.0080</td>\n",
       "      <td>0.0115</td>\n",
       "      <td>0.0126</td>\n",
       "    </tr>\n",
       "    <tr>\n",
       "      <th>6</th>\n",
       "      <td>Jayce</td>\n",
       "      <td>0.0368</td>\n",
       "      <td>0.0824</td>\n",
       "      <td>0.1185</td>\n",
       "    </tr>\n",
       "    <tr>\n",
       "      <th>7</th>\n",
       "      <td>Jinx</td>\n",
       "      <td>0.1185</td>\n",
       "      <td>0.1838</td>\n",
       "      <td>0.1838</td>\n",
       "    </tr>\n",
       "    <tr>\n",
       "      <th>8</th>\n",
       "      <td>Singed</td>\n",
       "      <td>0.0137</td>\n",
       "      <td>0.0230</td>\n",
       "      <td>0.0230</td>\n",
       "    </tr>\n",
       "    <tr>\n",
       "      <th>9</th>\n",
       "      <td>Vi</td>\n",
       "      <td>0.0574</td>\n",
       "      <td>0.1540</td>\n",
       "      <td>0.1814</td>\n",
       "    </tr>\n",
       "    <tr>\n",
       "      <th>10</th>\n",
       "      <td>Viktor</td>\n",
       "      <td>0.0253</td>\n",
       "      <td>0.0417</td>\n",
       "      <td>0.0417</td>\n",
       "    </tr>\n",
       "  </tbody>\n",
       "</table>\n",
       "</div>"
      ],
      "text/plain": [
       "               Champion  Playrate before Arcane  Current Playrate  \\\n",
       "1               Caitlyn                  0.1499            0.2610   \n",
       "2         Ekko (Jungle)                  0.0798            0.0696   \n",
       "3            Ekko (Mid)                  0.0310            0.0331   \n",
       "4    Heimerdinger (Top)                  0.0108            0.0133   \n",
       "5   Heimderdinger (Mid)                  0.0080            0.0115   \n",
       "6                 Jayce                  0.0368            0.0824   \n",
       "7                  Jinx                  0.1185            0.1838   \n",
       "8                Singed                  0.0137            0.0230   \n",
       "9                    Vi                  0.0574            0.1540   \n",
       "10               Viktor                  0.0253            0.0417   \n",
       "\n",
       "    Peak playrate since Arcane  \n",
       "1                       0.2610  \n",
       "2                       0.0830  \n",
       "3                       0.0386  \n",
       "4                       0.0133  \n",
       "5                       0.0126  \n",
       "6                       0.1185  \n",
       "7                       0.1838  \n",
       "8                       0.0230  \n",
       "9                       0.1814  \n",
       "10                      0.0417  "
      ]
     },
     "execution_count": 93,
     "metadata": {},
     "output_type": "execute_result"
    }
   ],
   "source": [
    "champ_df_1"
   ]
  },
  {
   "cell_type": "code",
   "execution_count": 80,
   "id": "ec7b5161",
   "metadata": {
    "scrolled": true
   },
   "outputs": [
    {
     "data": {
      "text/plain": [
       "'Ekko (Jungle)'"
      ]
     },
     "execution_count": 80,
     "metadata": {},
     "output_type": "execute_result"
    }
   ],
   "source": [
    "champ_df_1['Champion'][2]"
   ]
  },
  {
   "cell_type": "markdown",
   "id": "5de64dae",
   "metadata": {},
   "source": [
    "After getting the data into a usable format, I graphed each point, showing each champion's playrate before Arcane and their Peak playrate since. Each champion involved saw an increase in playrate, and the main protagonists of the show, Caitlyn and Vi, saw the largest increases."
   ]
  },
  {
   "cell_type": "code",
   "execution_count": 145,
   "id": "d7224e77",
   "metadata": {},
   "outputs": [
    {
     "data": {
      "text/plain": [
       "<matplotlib.legend.Legend at 0x1ba593e0a90>"
      ]
     },
     "execution_count": 145,
     "metadata": {},
     "output_type": "execute_result"
    },
    {
     "data": {
      "image/png": "[encoded data removed]",
      "text/plain": [
       "<Figure size 1296x576 with 1 Axes>"
      ]
     },
     "metadata": {
      "needs_background": "light"
     },
     "output_type": "display_data"
    }
   ],
   "source": [
    "fig3, ax3 = plt.subplots(1,1,figsize=(18,8))\n",
    "ax3.bar(champ_df_1['Champion'], champ_df_1['Playrate before Arcane'], alpha=1, color=\"r\", label=\"Playrate before Arcane\")\n",
    "ax3.bar(champ_df_1['Champion'], champ_df_1['Peak playrate since Arcane'], alpha=0.5, color=\"b\", label=\"Peak playrate since Arcane\")\n",
    "ax3.legend()"
   ]
  },
  {
   "cell_type": "markdown",
   "id": "99e85bbd",
   "metadata": {},
   "source": [
    "From here I plan on Looking at each champion's percent increase in playrate. I think that this will help to better show the increase for some of the less played champions. To more easily show percent change, I entered all of the original data into a new data frame, shifting around the position of everything to easily calculate the percent change in each champion's playrate. I did remove 2 sets of data from the set, removing Ekko jungle and Heimerding top. Each champion has a different play rate for each position they are commonly picked in, and most websites include fringe picks that are not common currently. These two data points were essentially outliers, as they were already very uncommon picks, so an increase in that pick would be very unlikely."
   ]
  },
  {
   "cell_type": "code",
   "execution_count": 166,
   "id": "4c478cf7",
   "metadata": {},
   "outputs": [],
   "source": [
    "champ_pct_df = pd.DataFrame({\n",
    "    \"Caitlyn\": [14.99, 26.10],\n",
    "    \"Ekko (Mid)\": [3.10, 3.86],\n",
    "    \"Heimerdinger (Mid)\": [.80, 1.26],\n",
    "    \"Jayce\": [3.68, 11.85],\n",
    "    \"Jinx\": [11.85, 18.38],\n",
    "    \"Singed\": [1.37, 2.30],\n",
    "    \"Vi\": [5.74, 18.14],\n",
    "    \"Viktor\": [2.53, 4.17]},\n",
    "    index=['Playrate before Arcane', 'Peak playrate since Arcane']\n",
    "    )"
   ]
  },
  {
   "cell_type": "code",
   "execution_count": 167,
   "id": "84e0d2f9",
   "metadata": {},
   "outputs": [
    {
     "data": {
      "text/html": [
       "<div>\n",
       "<style scoped>\n",
       "    .dataframe tbody tr th:only-of-type {\n",
       "        vertical-align: middle;\n",
       "    }\n",
       "\n",
       "    .dataframe tbody tr th {\n",
       "        vertical-align: top;\n",
       "    }\n",
       "\n",
       "    .dataframe thead th {\n",
       "        text-align: right;\n",
       "    }\n",
       "</style>\n",
       "<table border=\"1\" class=\"dataframe\">\n",
       "  <thead>\n",
       "    <tr style=\"text-align: right;\">\n",
       "      <th></th>\n",
       "      <th>Caitlyn</th>\n",
       "      <th>Ekko (Mid)</th>\n",
       "      <th>Heimerdinger (Mid)</th>\n",
       "      <th>Jayce</th>\n",
       "      <th>Jinx</th>\n",
       "      <th>Singed</th>\n",
       "      <th>Vi</th>\n",
       "      <th>Viktor</th>\n",
       "    </tr>\n",
       "  </thead>\n",
       "  <tbody>\n",
       "    <tr>\n",
       "      <th>Playrate before Arcane</th>\n",
       "      <td>14.99</td>\n",
       "      <td>3.10</td>\n",
       "      <td>0.80</td>\n",
       "      <td>3.68</td>\n",
       "      <td>11.85</td>\n",
       "      <td>1.37</td>\n",
       "      <td>5.74</td>\n",
       "      <td>2.53</td>\n",
       "    </tr>\n",
       "    <tr>\n",
       "      <th>Peak playrate since Arcane</th>\n",
       "      <td>26.10</td>\n",
       "      <td>3.86</td>\n",
       "      <td>1.26</td>\n",
       "      <td>11.85</td>\n",
       "      <td>18.38</td>\n",
       "      <td>2.30</td>\n",
       "      <td>18.14</td>\n",
       "      <td>4.17</td>\n",
       "    </tr>\n",
       "  </tbody>\n",
       "</table>\n",
       "</div>"
      ],
      "text/plain": [
       "                            Caitlyn  Ekko (Mid)  Heimerdinger (Mid)  Jayce  \\\n",
       "Playrate before Arcane        14.99        3.10                0.80   3.68   \n",
       "Peak playrate since Arcane    26.10        3.86                1.26  11.85   \n",
       "\n",
       "                             Jinx  Singed     Vi  Viktor  \n",
       "Playrate before Arcane      11.85    1.37   5.74    2.53  \n",
       "Peak playrate since Arcane  18.38    2.30  18.14    4.17  "
      ]
     },
     "execution_count": 167,
     "metadata": {},
     "output_type": "execute_result"
    }
   ],
   "source": [
    "champ_pct_df"
   ]
  },
  {
   "cell_type": "code",
   "execution_count": 168,
   "id": "2fa9b2b7",
   "metadata": {},
   "outputs": [
    {
     "data": {
      "text/html": [
       "<div>\n",
       "<style scoped>\n",
       "    .dataframe tbody tr th:only-of-type {\n",
       "        vertical-align: middle;\n",
       "    }\n",
       "\n",
       "    .dataframe tbody tr th {\n",
       "        vertical-align: top;\n",
       "    }\n",
       "\n",
       "    .dataframe thead th {\n",
       "        text-align: right;\n",
       "    }\n",
       "</style>\n",
       "<table border=\"1\" class=\"dataframe\">\n",
       "  <thead>\n",
       "    <tr style=\"text-align: right;\">\n",
       "      <th></th>\n",
       "      <th>Caitlyn</th>\n",
       "      <th>Ekko (Mid)</th>\n",
       "      <th>Heimerdinger (Mid)</th>\n",
       "      <th>Jayce</th>\n",
       "      <th>Jinx</th>\n",
       "      <th>Singed</th>\n",
       "      <th>Vi</th>\n",
       "      <th>Viktor</th>\n",
       "    </tr>\n",
       "  </thead>\n",
       "  <tbody>\n",
       "    <tr>\n",
       "      <th>Playrate before Arcane</th>\n",
       "      <td>NaN</td>\n",
       "      <td>NaN</td>\n",
       "      <td>NaN</td>\n",
       "      <td>NaN</td>\n",
       "      <td>NaN</td>\n",
       "      <td>NaN</td>\n",
       "      <td>NaN</td>\n",
       "      <td>NaN</td>\n",
       "    </tr>\n",
       "    <tr>\n",
       "      <th>Peak playrate since Arcane</th>\n",
       "      <td>0.741161</td>\n",
       "      <td>0.245161</td>\n",
       "      <td>0.575</td>\n",
       "      <td>2.220109</td>\n",
       "      <td>0.551055</td>\n",
       "      <td>0.678832</td>\n",
       "      <td>2.160279</td>\n",
       "      <td>0.648221</td>\n",
       "    </tr>\n",
       "  </tbody>\n",
       "</table>\n",
       "</div>"
      ],
      "text/plain": [
       "                             Caitlyn  Ekko (Mid)  Heimerdinger (Mid)  \\\n",
       "Playrate before Arcane           NaN         NaN                 NaN   \n",
       "Peak playrate since Arcane  0.741161    0.245161               0.575   \n",
       "\n",
       "                               Jayce      Jinx    Singed        Vi    Viktor  \n",
       "Playrate before Arcane           NaN       NaN       NaN       NaN       NaN  \n",
       "Peak playrate since Arcane  2.220109  0.551055  0.678832  2.160279  0.648221  "
      ]
     },
     "execution_count": 168,
     "metadata": {},
     "output_type": "execute_result"
    }
   ],
   "source": [
    "champ_pct_df.pct_change()"
   ]
  },
  {
   "cell_type": "markdown",
   "id": "814dc5f8",
   "metadata": {},
   "source": [
    "Every champion featured in Arcane saw an increase in playrate. Jayce was the largest increase at 222%, and Vi was close behind at 216% increase. The lowest percent change was Ekko, who only saw a 24% increase in pick rate, which is still noticeable. Caitlyn also saw a huge increase, although the percentage change was not as high as some others. Caitlyn reached a peak playrate of 26%, which is the highest pick rate in the game. As of November 6th, Caitlyn was the most picked champion at 25.8% and Jinx was the second most picked champion at 24%. <p>\n",
    "The release of Arcane was very impactful to the current state of League of Legends. Every champion represented saw an increase in playrate, and some of them were very significant increases. League of Legends has been growing consistently for years, and with their recent venture into new forms of media, Riot Games will continue to grow and make their huge cast of characters more real and lovable."
   ]
  }
 ],
 "metadata": {
  "kernelspec": {
   "display_name": "Python 3 (ipykernel)",
   "language": "python",
   "name": "python3"
  },
  "language_info": {
   "codemirror_mode": {
    "name": "ipython",
    "version": 3
   },
   "file_extension": ".py",
   "mimetype": "text/x-python",
   "name": "python",
   "nbconvert_exporter": "python",
   "pygments_lexer": "ipython3",
   "version": "3.9.6"
  }
 },
 "nbformat": 4,
 "nbformat_minor": 5
}
