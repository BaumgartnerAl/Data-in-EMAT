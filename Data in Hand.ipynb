{
 "cells": [
  {
   "cell_type": "code",
   "execution_count": 1,
   "id": "33eff2f0",
   "metadata": {},
   "outputs": [],
   "source": [
    "import pandas as pd\n",
    "import requests\n",
    "from bs4 import BeautifulSoup"
   ]
  },
  {
   "cell_type": "markdown",
   "id": "4f2c60ba",
   "metadata": {},
   "source": [
    "To gather my data I need the above 3 packages imported."
   ]
  },
  {
   "cell_type": "code",
   "execution_count": 8,
   "id": "7b2b3a14",
   "metadata": {
    "scrolled": false
   },
   "outputs": [],
   "source": [
    "url =\"https://leaguefeed.net/did-you-know-total-league-of-legends-player-count-updated/\"\n",
    "response = requests.get(url)\n",
    "page = response.text\n",
    "soup = BeautifulSoup(page, 'lxml')"
   ]
  },
  {
   "cell_type": "markdown",
   "id": "ea44cc4e",
   "metadata": {},
   "source": [
    "I pulled my data from https://leaguefeed.net/did-you-know-total-league-of-legends-player-count-updated/, a website that seems to update quite regularly with generally precise statistics on the playerbase for League of Legends."
   ]
  },
  {
   "cell_type": "code",
   "execution_count": 9,
   "id": "f4262100",
   "metadata": {},
   "outputs": [
    {
     "ename": "TypeError",
     "evalue": "'NoneType' object is not callable",
     "output_type": "error",
     "traceback": [
      "\u001b[1;31m---------------------------------------------------------------------------\u001b[0m",
      "\u001b[1;31mTypeError\u001b[0m                                 Traceback (most recent call last)",
      "\u001b[1;32m~\\AppData\\Local\\Temp/ipykernel_43412/2061965896.py\u001b[0m in \u001b[0;36m<module>\u001b[1;34m\u001b[0m\n\u001b[0;32m      1\u001b[0m \u001b[0mtable\u001b[0m \u001b[1;33m=\u001b[0m \u001b[0msoup\u001b[0m\u001b[1;33m.\u001b[0m\u001b[0mfind\u001b[0m\u001b[1;33m(\u001b[0m\u001b[0mclass_\u001b[0m\u001b[1;33m=\u001b[0m\u001b[1;34m\"table\"\u001b[0m\u001b[1;33m)\u001b[0m\u001b[1;33m\u001b[0m\u001b[1;33m\u001b[0m\u001b[0m\n\u001b[0;32m      2\u001b[0m \u001b[1;33m[\u001b[0m\u001b[0mrow\u001b[0m\u001b[1;33m.\u001b[0m\u001b[0mtext\u001b[0m\u001b[1;33m.\u001b[0m\u001b[0msplit\u001b[0m\u001b[1;33m(\u001b[0m\u001b[1;33m)\u001b[0m \u001b[1;32mfor\u001b[0m \u001b[0mrow\u001b[0m \u001b[1;32min\u001b[0m \u001b[0mtable\u001b[0m\u001b[1;33m.\u001b[0m\u001b[0mfind_all\u001b[0m\u001b[1;33m(\u001b[0m\u001b[1;34m\"td\"\u001b[0m\u001b[1;33m)\u001b[0m\u001b[1;33m]\u001b[0m\u001b[1;33m\u001b[0m\u001b[1;33m\u001b[0m\u001b[0m\n\u001b[1;32m----> 3\u001b[1;33m \u001b[0mtable\u001b[0m\u001b[1;33m.\u001b[0m\u001b[0mhead\u001b[0m\u001b[1;33m(\u001b[0m\u001b[1;33m)\u001b[0m\u001b[1;33m\u001b[0m\u001b[1;33m\u001b[0m\u001b[0m\n\u001b[0m",
      "\u001b[1;31mTypeError\u001b[0m: 'NoneType' object is not callable"
     ]
    }
   ],
   "source": [
    "table = soup.find(class_=\"table\") \n",
    "[row.text.split() for row in table.find_all(\"td\")]\n"
   ]
  },
  {
   "cell_type": "markdown",
   "id": "3bdd0ded",
   "metadata": {},
   "source": [
    "After inspecting the html of the webpage, In was able to find the table with the playerbase data, and was able to use Beautiful soup's find feature to locate the table data. From there, I have to isolate each column, and then concatenate them into one final dataframe for this data."
   ]
  },
  {
   "cell_type": "code",
   "execution_count": 10,
   "id": "1fa7e909",
   "metadata": {},
   "outputs": [
    {
     "data": {
      "text/plain": [
       "[]"
      ]
     },
     "execution_count": 10,
     "metadata": {},
     "output_type": "execute_result"
    }
   ],
   "source": [
    "table1 = soup.find(class_=\"ninja_column_1.ninja_clmn_nm_averagemonthlyplayers\") \n",
    "[row.text.split() for row in table.find_all(\"ninja_column_1\")]"
   ]
  },
  {
   "cell_type": "code",
   "execution_count": 11,
   "id": "d8670f2f",
   "metadata": {},
   "outputs": [],
   "source": [
    "table1"
   ]
  },
  {
   "cell_type": "code",
   "execution_count": 12,
   "id": "b8150b98",
   "metadata": {},
   "outputs": [
    {
     "data": {
      "text/html": [
       "<div>\n",
       "<style scoped>\n",
       "    .dataframe tbody tr th:only-of-type {\n",
       "        vertical-align: middle;\n",
       "    }\n",
       "\n",
       "    .dataframe tbody tr th {\n",
       "        vertical-align: top;\n",
       "    }\n",
       "\n",
       "    .dataframe thead th {\n",
       "        text-align: right;\n",
       "    }\n",
       "</style>\n",
       "<table border=\"1\" class=\"dataframe\">\n",
       "  <thead>\n",
       "    <tr style=\"text-align: right;\">\n",
       "      <th></th>\n",
       "    </tr>\n",
       "  </thead>\n",
       "  <tbody>\n",
       "  </tbody>\n",
       "</table>\n",
       "</div>"
      ],
      "text/plain": [
       "Empty DataFrame\n",
       "Columns: []\n",
       "Index: []"
      ]
     },
     "execution_count": 12,
     "metadata": {},
     "output_type": "execute_result"
    }
   ],
   "source": [
    "pd.DataFrame(table1)"
   ]
  },
  {
   "cell_type": "code",
   "execution_count": 13,
   "id": "b359f933",
   "metadata": {},
   "outputs": [],
   "source": [
    "table2 = soup.find('table', attrs={'class':'ninja_column_1.ninja_clmn_nm_averagemonthlyplayers'})\n"
   ]
  },
  {
   "cell_type": "markdown",
   "id": "33395b9c",
   "metadata": {},
   "source": [
    "After digging for a bit, I discovered that I did not need to use Beautiful Soup at all. I originally tried to use pandas.read_html, but I messed up somewhere and tried switching paths instead of troubleshooting. However, the below function which I tweaked slightly from a response on Stack Overflow, perfectly portrays the data.\n",
    "\n",
    "Here is the stack overflow that I referenced:\n",
    "https://stackoverflow.com/questions/23377533/python-beautifulsoup-parsing-table"
   ]
  },
  {
   "cell_type": "code",
   "execution_count": 14,
   "id": "da0314f9",
   "metadata": {},
   "outputs": [
    {
     "data": {
      "text/html": [
       "<div>\n",
       "<style scoped>\n",
       "    .dataframe tbody tr th:only-of-type {\n",
       "        vertical-align: middle;\n",
       "    }\n",
       "\n",
       "    .dataframe tbody tr th {\n",
       "        vertical-align: top;\n",
       "    }\n",
       "\n",
       "    .dataframe thead th {\n",
       "        text-align: right;\n",
       "    }\n",
       "</style>\n",
       "<table border=\"1\" class=\"dataframe\">\n",
       "  <thead>\n",
       "    <tr style=\"text-align: right;\">\n",
       "      <th></th>\n",
       "      <th>Month</th>\n",
       "      <th>Average Monthly Players</th>\n",
       "      <th>Peak Players In a Day</th>\n",
       "    </tr>\n",
       "  </thead>\n",
       "  <tbody>\n",
       "    <tr>\n",
       "      <th>0</th>\n",
       "      <td>Last 30 Days</td>\n",
       "      <td>180000000</td>\n",
       "      <td>31512723</td>\n",
       "    </tr>\n",
       "    <tr>\n",
       "      <th>1</th>\n",
       "      <td>September 30, 2021</td>\n",
       "      <td>125995870</td>\n",
       "      <td>11339628</td>\n",
       "    </tr>\n",
       "    <tr>\n",
       "      <th>2</th>\n",
       "      <td>August 30, 2021</td>\n",
       "      <td>126550278</td>\n",
       "      <td>11389525</td>\n",
       "    </tr>\n",
       "    <tr>\n",
       "      <th>3</th>\n",
       "      <td>July 30, 2021</td>\n",
       "      <td>128014473</td>\n",
       "      <td>11521303</td>\n",
       "    </tr>\n",
       "    <tr>\n",
       "      <th>4</th>\n",
       "      <td>June 30, 2021</td>\n",
       "      <td>126335475</td>\n",
       "      <td>11370193</td>\n",
       "    </tr>\n",
       "    <tr>\n",
       "      <th>5</th>\n",
       "      <td>May 30, 2021</td>\n",
       "      <td>121566901</td>\n",
       "      <td>10941021</td>\n",
       "    </tr>\n",
       "    <tr>\n",
       "      <th>6</th>\n",
       "      <td>April 30, 2021</td>\n",
       "      <td>118501466</td>\n",
       "      <td>10665132</td>\n",
       "    </tr>\n",
       "    <tr>\n",
       "      <th>7</th>\n",
       "      <td>March 30, 2021</td>\n",
       "      <td>120302279</td>\n",
       "      <td>10827205</td>\n",
       "    </tr>\n",
       "    <tr>\n",
       "      <th>8</th>\n",
       "      <td>February 28, 2021</td>\n",
       "      <td>117522367</td>\n",
       "      <td>10577013</td>\n",
       "    </tr>\n",
       "    <tr>\n",
       "      <th>9</th>\n",
       "      <td>January 30, 2021</td>\n",
       "      <td>115647815</td>\n",
       "      <td>10408303</td>\n",
       "    </tr>\n",
       "    <tr>\n",
       "      <th>10</th>\n",
       "      <td>December 30, 2020</td>\n",
       "      <td>121206637</td>\n",
       "      <td>10908597</td>\n",
       "    </tr>\n",
       "    <tr>\n",
       "      <th>11</th>\n",
       "      <td>November 30, 2020</td>\n",
       "      <td>116916136</td>\n",
       "      <td>10522452</td>\n",
       "    </tr>\n",
       "  </tbody>\n",
       "</table>\n",
       "</div>"
      ],
      "text/plain": [
       "                 Month  Average Monthly Players  Peak Players In a Day\n",
       "0         Last 30 Days                180000000               31512723\n",
       "1   September 30, 2021                125995870               11339628\n",
       "2      August 30, 2021                126550278               11389525\n",
       "3        July 30, 2021                128014473               11521303\n",
       "4        June 30, 2021                126335475               11370193\n",
       "5         May 30, 2021                121566901               10941021\n",
       "6       April 30, 2021                118501466               10665132\n",
       "7       March 30, 2021                120302279               10827205\n",
       "8    February 28, 2021                117522367               10577013\n",
       "9     January 30, 2021                115647815               10408303\n",
       "10   December 30, 2020                121206637               10908597\n",
       "11   November 30, 2020                116916136               10522452"
      ]
     },
     "execution_count": 14,
     "metadata": {},
     "output_type": "execute_result"
    }
   ],
   "source": [
    "import pandas as pd\n",
    "import requests\n",
    "\n",
    "url = \"https://leaguefeed.net/did-you-know-total-league-of-legends-player-count-updated/\"\n",
    "\n",
    "r = requests.get(url)\n",
    "df_list = pd.read_html(r.text) # this parses all the tables in webpages to a list\n",
    "df = df_list[0]\n",
    "df.head(12)"
   ]
  },
  {
   "cell_type": "markdown",
   "id": "bebfb95d",
   "metadata": {},
   "source": [
    "The above dataframe is one of 2 that I plan to use. The data seems to be mostly consistent, although the data for the last 30 days seems to be skewed. The number is likely taken directly from Riot, who tweeted on November 1st, 2020, that they had reached 180 million monthly players. However, this number is not just for League of Legends. This data point references their total users across League of Legends, Teamfight Tactics, Legends of Runterra, and Wild Rift. This statistic is still impressive and still shows the growth of League of Legends, but is not completely accurate."
   ]
  },
  {
   "cell_type": "code",
   "execution_count": 17,
   "id": "01805d32",
   "metadata": {
    "scrolled": true
   },
   "outputs": [
    {
     "data": {
      "text/html": [
       "<div>\n",
       "<style scoped>\n",
       "    .dataframe tbody tr th:only-of-type {\n",
       "        vertical-align: middle;\n",
       "    }\n",
       "\n",
       "    .dataframe tbody tr th {\n",
       "        vertical-align: top;\n",
       "    }\n",
       "\n",
       "    .dataframe thead th {\n",
       "        text-align: right;\n",
       "    }\n",
       "</style>\n",
       "<table border=\"1\" class=\"dataframe\">\n",
       "  <thead>\n",
       "    <tr style=\"text-align: right;\">\n",
       "      <th></th>\n",
       "      <th>0</th>\n",
       "      <th>1</th>\n",
       "    </tr>\n",
       "  </thead>\n",
       "  <tbody>\n",
       "    <tr>\n",
       "      <th>0</th>\n",
       "      <td>Platform:</td>\n",
       "      <td>Availability:</td>\n",
       "    </tr>\n",
       "    <tr>\n",
       "      <th>1</th>\n",
       "      <td>Windows</td>\n",
       "      <td>✔️</td>\n",
       "    </tr>\n",
       "    <tr>\n",
       "      <th>2</th>\n",
       "      <td>Linux</td>\n",
       "      <td>❌</td>\n",
       "    </tr>\n",
       "    <tr>\n",
       "      <th>3</th>\n",
       "      <td>MAC</td>\n",
       "      <td>✔️</td>\n",
       "    </tr>\n",
       "    <tr>\n",
       "      <th>4</th>\n",
       "      <td>XBOX</td>\n",
       "      <td>❌</td>\n",
       "    </tr>\n",
       "    <tr>\n",
       "      <th>5</th>\n",
       "      <td>PS3</td>\n",
       "      <td>❌</td>\n",
       "    </tr>\n",
       "    <tr>\n",
       "      <th>6</th>\n",
       "      <td>PS4</td>\n",
       "      <td>❌</td>\n",
       "    </tr>\n",
       "    <tr>\n",
       "      <th>7</th>\n",
       "      <td>PS5</td>\n",
       "      <td>❌</td>\n",
       "    </tr>\n",
       "    <tr>\n",
       "      <th>8</th>\n",
       "      <td>Nintendo Switch</td>\n",
       "      <td>❌</td>\n",
       "    </tr>\n",
       "    <tr>\n",
       "      <th>9</th>\n",
       "      <td>Android</td>\n",
       "      <td>❌</td>\n",
       "    </tr>\n",
       "    <tr>\n",
       "      <th>10</th>\n",
       "      <td>iOS</td>\n",
       "      <td>❌</td>\n",
       "    </tr>\n",
       "  </tbody>\n",
       "</table>\n",
       "</div>"
      ],
      "text/plain": [
       "                  0              1\n",
       "0         Platform:  Availability:\n",
       "1           Windows             ✔️\n",
       "2             Linux              ❌\n",
       "3               MAC             ✔️\n",
       "4              XBOX              ❌\n",
       "5               PS3              ❌\n",
       "6               PS4              ❌\n",
       "7               PS5              ❌\n",
       "8   Nintendo Switch              ❌\n",
       "9           Android              ❌\n",
       "10              iOS              ❌"
      ]
     },
     "execution_count": 17,
     "metadata": {},
     "output_type": "execute_result"
    }
   ],
   "source": [
    "url = \"https://activeplayer.io/league-of-legends/\"\n",
    "\n",
    "r = requests.get(url)\n",
    "df_list = pd.read_html(r.text) # this parses all the tables in webpages to a list\n",
    "df = df_list[0]\n",
    "df"
   ]
  },
  {
   "cell_type": "code",
   "execution_count": 18,
   "id": "3f4d1fe5",
   "metadata": {},
   "outputs": [],
   "source": [
    "url =\"https://activeplayer.io/league-of-legends/\"\n",
    "response = requests.get(url)\n",
    "page = response.text\n",
    "soup = BeautifulSoup(page, 'lxml')"
   ]
  },
  {
   "cell_type": "code",
   "execution_count": 19,
   "id": "8c0e8a99",
   "metadata": {},
   "outputs": [
    {
     "ename": "AttributeError",
     "evalue": "'NoneType' object has no attribute 'find_all'",
     "output_type": "error",
     "traceback": [
      "\u001b[1;31m---------------------------------------------------------------------------\u001b[0m",
      "\u001b[1;31mAttributeError\u001b[0m                            Traceback (most recent call last)",
      "\u001b[1;32m~\\AppData\\Local\\Temp/ipykernel_43412/1346749261.py\u001b[0m in \u001b[0;36m<module>\u001b[1;34m\u001b[0m\n\u001b[0;32m      1\u001b[0m \u001b[0mtable\u001b[0m \u001b[1;33m=\u001b[0m \u001b[0msoup\u001b[0m\u001b[1;33m.\u001b[0m\u001b[0mfind\u001b[0m\u001b[1;33m(\u001b[0m\u001b[0mclass_\u001b[0m\u001b[1;33m=\u001b[0m\u001b[1;34m\"table\"\u001b[0m\u001b[1;33m)\u001b[0m\u001b[1;33m\u001b[0m\u001b[1;33m\u001b[0m\u001b[0m\n\u001b[1;32m----> 2\u001b[1;33m \u001b[1;33m[\u001b[0m\u001b[0mrow\u001b[0m\u001b[1;33m.\u001b[0m\u001b[0mtext\u001b[0m\u001b[1;33m.\u001b[0m\u001b[0msplit\u001b[0m\u001b[1;33m(\u001b[0m\u001b[1;33m)\u001b[0m \u001b[1;32mfor\u001b[0m \u001b[0mrow\u001b[0m \u001b[1;32min\u001b[0m \u001b[0mtable\u001b[0m\u001b[1;33m.\u001b[0m\u001b[0mfind_all\u001b[0m\u001b[1;33m(\u001b[0m\u001b[1;34m\"td\"\u001b[0m\u001b[1;33m)\u001b[0m\u001b[1;33m]\u001b[0m\u001b[1;33m\u001b[0m\u001b[1;33m\u001b[0m\u001b[0m\n\u001b[0m",
      "\u001b[1;31mAttributeError\u001b[0m: 'NoneType' object has no attribute 'find_all'"
     ]
    }
   ],
   "source": [
    "table = soup.find(class_=\"table\") \n",
    "[row.text.split() for row in table.find_all(\"td\")]"
   ]
  },
  {
   "cell_type": "code",
   "execution_count": 20,
   "id": "dfad01d2",
   "metadata": {},
   "outputs": [],
   "source": [
    "worlds_data = pd.read_csv('worldsviewership.csv')"
   ]
  },
  {
   "cell_type": "code",
   "execution_count": 21,
   "id": "45c54226",
   "metadata": {},
   "outputs": [
    {
     "data": {
      "text/html": [
       "<div>\n",
       "<style scoped>\n",
       "    .dataframe tbody tr th:only-of-type {\n",
       "        vertical-align: middle;\n",
       "    }\n",
       "\n",
       "    .dataframe tbody tr th {\n",
       "        vertical-align: top;\n",
       "    }\n",
       "\n",
       "    .dataframe thead th {\n",
       "        text-align: right;\n",
       "    }\n",
       "</style>\n",
       "<table border=\"1\" class=\"dataframe\">\n",
       "  <thead>\n",
       "    <tr style=\"text-align: right;\">\n",
       "      <th></th>\n",
       "      <th>Year</th>\n",
       "      <th>Peak Concurrent Viewership</th>\n",
       "      <th>Average Minute Audience</th>\n",
       "    </tr>\n",
       "  </thead>\n",
       "  <tbody>\n",
       "    <tr>\n",
       "      <th>0</th>\n",
       "      <td>2021</td>\n",
       "      <td>73,860,742</td>\n",
       "      <td>30,604,255</td>\n",
       "    </tr>\n",
       "    <tr>\n",
       "      <th>1</th>\n",
       "      <td>2020</td>\n",
       "      <td>46,067,896</td>\n",
       "      <td>23,041,174</td>\n",
       "    </tr>\n",
       "    <tr>\n",
       "      <th>2</th>\n",
       "      <td>2019</td>\n",
       "      <td>43,982,055</td>\n",
       "      <td>21,469,358</td>\n",
       "    </tr>\n",
       "    <tr>\n",
       "      <th>3</th>\n",
       "      <td>2018</td>\n",
       "      <td>43,997,815</td>\n",
       "      <td>19,280,120</td>\n",
       "    </tr>\n",
       "  </tbody>\n",
       "</table>\n",
       "</div>"
      ],
      "text/plain": [
       "   Year Peak Concurrent Viewership Average Minute Audience\n",
       "0  2021                 73,860,742              30,604,255\n",
       "1  2020                 46,067,896              23,041,174\n",
       "2  2019                 43,982,055              21,469,358\n",
       "3  2018                 43,997,815              19,280,120"
      ]
     },
     "execution_count": 21,
     "metadata": {},
     "output_type": "execute_result"
    }
   ],
   "source": [
    "worlds_data"
   ]
  },
  {
   "cell_type": "markdown",
   "id": "8d663279",
   "metadata": {},
   "source": [
    "The above data is the viewership details from the past 4 years of League of Legends Worlds finals, the largest tournament for the game each year. All numbers are provided by Riot, the creators of League of Legends, and can be found here: https://www.sportsbusinessjournal.com/Esports/Sections/Media/2021/11/Worlds-2021-Finals-AMA.aspx\n"
   ]
  },
  {
   "cell_type": "markdown",
   "id": "f0247ea2",
   "metadata": {},
   "source": [
    "This is another piece of data I plan to analyze to help solidify the results, furthering the analysis that league of legends is growing every year."
   ]
  },
  {
   "cell_type": "code",
   "execution_count": null,
   "id": "ef25a3e0",
   "metadata": {},
   "outputs": [],
   "source": []
  }
 ],
 "metadata": {
  "kernelspec": {
   "display_name": "Python 3 (ipykernel)",
   "language": "python",
   "name": "python3"
  },
  "language_info": {
   "codemirror_mode": {
    "name": "ipython",
    "version": 3
   },
   "file_extension": ".py",
   "mimetype": "text/x-python",
   "name": "python",
   "nbconvert_exporter": "python",
   "pygments_lexer": "ipython3",
   "version": "3.9.6"
  }
 },
 "nbformat": 4,
 "nbformat_minor": 5
}
