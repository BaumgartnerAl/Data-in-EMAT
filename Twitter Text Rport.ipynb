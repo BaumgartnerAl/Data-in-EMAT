{
 "cells": [
  {
   "cell_type": "markdown",
   "id": "132b2e56",
   "metadata": {},
   "source": [
    "<h1>Twitter Text Report: Worlds 2021</h1>\n"
   ]
  },
  {
   "cell_type": "markdown",
   "id": "e4553239",
   "metadata": {},
   "source": [
    "<h3>Alex Baumgartner</h3>\n",
    "<h4>10/20/20201</h4>\n",
    "The League of Legends World Finals tournament is currently going on. As an avid player and viewer, I thought it would be interesting to parse some twitter data surrounding the North Americans teams that made it to the Worlds tournament. Those teams for this year are Cloud 9, 100 Thieves, and Team Liquid. After the groups stage has been completed, only Cloud 9 has moved on. Because of this, I predict that Cloud 9 will receive the most positive tweets from among the 3 teams. "
   ]
  },
  {
   "cell_type": "code",
   "execution_count": 148,
   "id": "30907d5f",
   "metadata": {},
   "outputs": [],
   "source": [
    "import requests\n",
    "import pandas as pd\n",
    "import urllib\n",
    "import json\n",
    "import matplotlib"
   ]
  },
  {
   "cell_type": "code",
   "execution_count": null,
   "id": "d59bce73",
   "metadata": {
    "scrolled": false
   },
   "outputs": [],
   "source": [
    "ls"
   ]
  },
  {
   "cell_type": "code",
   "execution_count": 3,
   "id": "e90e8e5f",
   "metadata": {},
   "outputs": [],
   "source": [
    "bearer_token = pd.read_csv('Twitter_Bearer.txt', header = 0)"
   ]
  },
  {
   "cell_type": "code",
   "execution_count": null,
   "id": "157124e1",
   "metadata": {
    "scrolled": true
   },
   "outputs": [],
   "source": [
    "bearer_token['Bearer_Token'].iloc[0]"
   ]
  },
  {
   "cell_type": "code",
   "execution_count": 5,
   "id": "3c5aa597",
   "metadata": {},
   "outputs": [],
   "source": [
    "header = {'Authorization' : 'Bearer {}'.format(bearer_token['Bearer_Token'].iloc[0])}"
   ]
  },
  {
   "cell_type": "code",
   "execution_count": 6,
   "id": "3d14c988",
   "metadata": {},
   "outputs": [
    {
     "data": {
      "text/plain": [
       "Index(['Bearer_Token'], dtype='object')"
      ]
     },
     "execution_count": 6,
     "metadata": {},
     "output_type": "execute_result"
    }
   ],
   "source": [
    "bearer_token.keys()"
   ]
  },
  {
   "cell_type": "code",
   "execution_count": 7,
   "id": "c493f2de",
   "metadata": {},
   "outputs": [],
   "source": [
    "endpoint_url = 'https://api.twitter.com/2/tweets/search/recent'"
   ]
  },
  {
   "cell_type": "code",
   "execution_count": 8,
   "id": "abf7ed55",
   "metadata": {
    "scrolled": false
   },
   "outputs": [
    {
     "data": {
      "text/plain": [
       "'https://api.twitter.com/2/tweets/search/recent'"
      ]
     },
     "execution_count": 8,
     "metadata": {},
     "output_type": "execute_result"
    }
   ],
   "source": [
    "endpoint_url"
   ]
  },
  {
   "cell_type": "code",
   "execution_count": 9,
   "id": "89d26b43",
   "metadata": {},
   "outputs": [],
   "source": [
    "query = urllib.parse.quote('(#C9WIN OR #TLWIN OR #100WIN) lang:en')"
   ]
  },
  {
   "cell_type": "markdown",
   "id": "f2a20a1c",
   "metadata": {},
   "source": [
    "For my query, I wanted to find tweets using hashtags for the 3 North American teams that made it to Worlds. "
   ]
  },
  {
   "cell_type": "code",
   "execution_count": 10,
   "id": "399aa177",
   "metadata": {},
   "outputs": [],
   "source": [
    "tweet_fields = 'public_metrics,created_at,author_id,lang,in_reply_to_user_id'"
   ]
  },
  {
   "cell_type": "code",
   "execution_count": 11,
   "id": "83bfc194",
   "metadata": {},
   "outputs": [],
   "source": [
    "my_api_url = endpoint_url + '?query={}&tweet.fields={}'.format(query, tweet_fields)"
   ]
  },
  {
   "cell_type": "code",
   "execution_count": 12,
   "id": "f59837fe",
   "metadata": {},
   "outputs": [
    {
     "data": {
      "text/plain": [
       "'https://api.twitter.com/2/tweets/search/recent?query=%28%23C9WIN%20OR%20%23TLWIN%20OR%20%23100WIN%29%20lang%3Aen&tweet.fields=public_metrics,created_at,author_id,lang,in_reply_to_user_id'"
      ]
     },
     "execution_count": 12,
     "metadata": {},
     "output_type": "execute_result"
    }
   ],
   "source": [
    "my_api_url"
   ]
  },
  {
   "cell_type": "markdown",
   "id": "e45dcda7",
   "metadata": {},
   "source": [
    "I decided to check if the tweets found were in reply to one another as well as the required fields. This can help show any conversations surrounding the teams, which can be interesting to look at and can help when gauging public response to the 3 teams."
   ]
  },
  {
   "cell_type": "code",
   "execution_count": 13,
   "id": "d0e32686",
   "metadata": {},
   "outputs": [],
   "source": [
    "expansions = 'author_id'"
   ]
  },
  {
   "cell_type": "code",
   "execution_count": 14,
   "id": "9d64478d",
   "metadata": {},
   "outputs": [],
   "source": [
    "url = endpoint_url + '?query={}&max_results=100&tweet.fields={}'.format(query, tweet_fields)"
   ]
  },
  {
   "cell_type": "code",
   "execution_count": 15,
   "id": "7f7ebc0c",
   "metadata": {},
   "outputs": [],
   "source": [
    "url_expansions = endpoint_url + '?query={}&max_results=100&tweet.fields={}&expansions={}'.format(query, tweet_fields, expansions)"
   ]
  },
  {
   "cell_type": "code",
   "execution_count": 16,
   "id": "fca60c22",
   "metadata": {},
   "outputs": [
    {
     "data": {
      "text/plain": [
       "'https://api.twitter.com/2/tweets/search/recent?query=%28%23C9WIN%20OR%20%23TLWIN%20OR%20%23100WIN%29%20lang%3Aen&max_results=100&tweet.fields=public_metrics,created_at,author_id,lang,in_reply_to_user_id&expansions=author_id'"
      ]
     },
     "execution_count": 16,
     "metadata": {},
     "output_type": "execute_result"
    }
   ],
   "source": [
    "url_expansions"
   ]
  },
  {
   "cell_type": "code",
   "execution_count": 17,
   "id": "1b064ddd",
   "metadata": {},
   "outputs": [],
   "source": [
    "response_1 = requests.request(\"GET\", url_expansions, headers = header)"
   ]
  },
  {
   "cell_type": "code",
   "execution_count": null,
   "id": "62fc0026",
   "metadata": {},
   "outputs": [],
   "source": [
    "response_1.text"
   ]
  },
  {
   "cell_type": "code",
   "execution_count": 19,
   "id": "653bfef3",
   "metadata": {},
   "outputs": [],
   "source": [
    "response_1_dict = json.loads(response_1.text)"
   ]
  },
  {
   "cell_type": "code",
   "execution_count": 20,
   "id": "b6a58062",
   "metadata": {},
   "outputs": [
    {
     "data": {
      "text/plain": [
       "dict_keys(['data', 'includes', 'meta'])"
      ]
     },
     "execution_count": 20,
     "metadata": {},
     "output_type": "execute_result"
    }
   ],
   "source": [
    "response_1_dict.keys()"
   ]
  },
  {
   "cell_type": "code",
   "execution_count": 194,
   "id": "44a795aa",
   "metadata": {},
   "outputs": [
    {
     "data": {
      "text/plain": [
       "\"@Cloud9 I doubted c9 once but never again. I'm all in on it baby let's go #c9win\""
      ]
     },
     "execution_count": 194,
     "metadata": {},
     "output_type": "execute_result"
    }
   ],
   "source": [
    "response_1_dict['data'][0]['text']"
   ]
  },
  {
   "cell_type": "code",
   "execution_count": 22,
   "id": "9c5684a1",
   "metadata": {},
   "outputs": [],
   "source": [
    "my_df = pd.DataFrame(response_1_dict['data'])"
   ]
  },
  {
   "cell_type": "code",
   "execution_count": 23,
   "id": "ce2f1bb5",
   "metadata": {},
   "outputs": [
    {
     "data": {
      "text/html": [
       "<div>\n",
       "<style scoped>\n",
       "    .dataframe tbody tr th:only-of-type {\n",
       "        vertical-align: middle;\n",
       "    }\n",
       "\n",
       "    .dataframe tbody tr th {\n",
       "        vertical-align: top;\n",
       "    }\n",
       "\n",
       "    .dataframe thead th {\n",
       "        text-align: right;\n",
       "    }\n",
       "</style>\n",
       "<table border=\"1\" class=\"dataframe\">\n",
       "  <thead>\n",
       "    <tr style=\"text-align: right;\">\n",
       "      <th></th>\n",
       "      <th>id</th>\n",
       "      <th>created_at</th>\n",
       "      <th>in_reply_to_user_id</th>\n",
       "      <th>author_id</th>\n",
       "      <th>text</th>\n",
       "      <th>public_metrics</th>\n",
       "      <th>lang</th>\n",
       "    </tr>\n",
       "  </thead>\n",
       "  <tbody>\n",
       "    <tr>\n",
       "      <th>0</th>\n",
       "      <td>1450980040536215552</td>\n",
       "      <td>2021-10-21T00:19:34.000Z</td>\n",
       "      <td>1452520626</td>\n",
       "      <td>1403794489177673731</td>\n",
       "      <td>@Cloud9 I doubted c9 once but never again. I'm...</td>\n",
       "      <td>{'retweet_count': 0, 'reply_count': 0, 'like_c...</td>\n",
       "      <td>en</td>\n",
       "    </tr>\n",
       "    <tr>\n",
       "      <th>1</th>\n",
       "      <td>1450978144886812672</td>\n",
       "      <td>2021-10-21T00:12:02.000Z</td>\n",
       "      <td>NaN</td>\n",
       "      <td>1376175996852785154</td>\n",
       "      <td>Looking for a professional Invoice? For more v...</td>\n",
       "      <td>{'retweet_count': 0, 'reply_count': 0, 'like_c...</td>\n",
       "      <td>en</td>\n",
       "    </tr>\n",
       "    <tr>\n",
       "      <th>2</th>\n",
       "      <td>1450971352970801156</td>\n",
       "      <td>2021-10-20T23:45:02.000Z</td>\n",
       "      <td>1452520626</td>\n",
       "      <td>612463851</td>\n",
       "      <td>@Cloud9 Not I, for I am hoping and praying for...</td>\n",
       "      <td>{'retweet_count': 0, 'reply_count': 0, 'like_c...</td>\n",
       "      <td>en</td>\n",
       "    </tr>\n",
       "    <tr>\n",
       "      <th>3</th>\n",
       "      <td>1450963657215647749</td>\n",
       "      <td>2021-10-20T23:14:28.000Z</td>\n",
       "      <td>1452520626</td>\n",
       "      <td>602386138</td>\n",
       "      <td>@Cloud9 Gen.g when u win &amp;lt;3 #c9win</td>\n",
       "      <td>{'retweet_count': 0, 'reply_count': 0, 'like_c...</td>\n",
       "      <td>en</td>\n",
       "    </tr>\n",
       "    <tr>\n",
       "      <th>4</th>\n",
       "      <td>1450960114928730124</td>\n",
       "      <td>2021-10-20T23:00:23.000Z</td>\n",
       "      <td>NaN</td>\n",
       "      <td>770305614</td>\n",
       "      <td>Lost a bet against my fiancé during the #LCS S...</td>\n",
       "      <td>{'retweet_count': 0, 'reply_count': 0, 'like_c...</td>\n",
       "      <td>en</td>\n",
       "    </tr>\n",
       "    <tr>\n",
       "      <th>...</th>\n",
       "      <td>...</td>\n",
       "      <td>...</td>\n",
       "      <td>...</td>\n",
       "      <td>...</td>\n",
       "      <td>...</td>\n",
       "      <td>...</td>\n",
       "      <td>...</td>\n",
       "    </tr>\n",
       "    <tr>\n",
       "      <th>95</th>\n",
       "      <td>1450488151550668804</td>\n",
       "      <td>2021-10-19T15:44:58.000Z</td>\n",
       "      <td>NaN</td>\n",
       "      <td>1070160693804986368</td>\n",
       "      <td>Wow, #C9WIN couldn’t have gotten a better knoc...</td>\n",
       "      <td>{'retweet_count': 0, 'reply_count': 0, 'like_c...</td>\n",
       "      <td>en</td>\n",
       "    </tr>\n",
       "    <tr>\n",
       "      <th>96</th>\n",
       "      <td>1450487345174753280</td>\n",
       "      <td>2021-10-19T15:41:46.000Z</td>\n",
       "      <td>NaN</td>\n",
       "      <td>1388253827690909696</td>\n",
       "      <td>RT @TheuzinFN: \" header for @blxckoutz \" \\n\\n@...</td>\n",
       "      <td>{'retweet_count': 19, 'reply_count': 0, 'like_...</td>\n",
       "      <td>en</td>\n",
       "    </tr>\n",
       "    <tr>\n",
       "      <th>97</th>\n",
       "      <td>1450481553335853056</td>\n",
       "      <td>2021-10-19T15:18:45.000Z</td>\n",
       "      <td>NaN</td>\n",
       "      <td>1365053526</td>\n",
       "      <td>RT @AzaelOfficial: CLOUD9 GET GEN.G LET'S FUCK...</td>\n",
       "      <td>{'retweet_count': 62, 'reply_count': 0, 'like_...</td>\n",
       "      <td>en</td>\n",
       "    </tr>\n",
       "    <tr>\n",
       "      <th>98</th>\n",
       "      <td>1450478771966988296</td>\n",
       "      <td>2021-10-19T15:07:42.000Z</td>\n",
       "      <td>NaN</td>\n",
       "      <td>1250880776805195776</td>\n",
       "      <td>RT @TheuzinFN: \" header for @blxckoutz \" \\n\\n@...</td>\n",
       "      <td>{'retweet_count': 19, 'reply_count': 0, 'like_...</td>\n",
       "      <td>en</td>\n",
       "    </tr>\n",
       "    <tr>\n",
       "      <th>99</th>\n",
       "      <td>1450478562528669705</td>\n",
       "      <td>2021-10-19T15:06:52.000Z</td>\n",
       "      <td>NaN</td>\n",
       "      <td>1440302945455665176</td>\n",
       "      <td>RT @TheuzinFN: \" header for @blxckoutz \" \\n\\n@...</td>\n",
       "      <td>{'retweet_count': 19, 'reply_count': 0, 'like_...</td>\n",
       "      <td>en</td>\n",
       "    </tr>\n",
       "  </tbody>\n",
       "</table>\n",
       "<p>100 rows × 7 columns</p>\n",
       "</div>"
      ],
      "text/plain": [
       "                     id                created_at in_reply_to_user_id  \\\n",
       "0   1450980040536215552  2021-10-21T00:19:34.000Z          1452520626   \n",
       "1   1450978144886812672  2021-10-21T00:12:02.000Z                 NaN   \n",
       "2   1450971352970801156  2021-10-20T23:45:02.000Z          1452520626   \n",
       "3   1450963657215647749  2021-10-20T23:14:28.000Z          1452520626   \n",
       "4   1450960114928730124  2021-10-20T23:00:23.000Z                 NaN   \n",
       "..                  ...                       ...                 ...   \n",
       "95  1450488151550668804  2021-10-19T15:44:58.000Z                 NaN   \n",
       "96  1450487345174753280  2021-10-19T15:41:46.000Z                 NaN   \n",
       "97  1450481553335853056  2021-10-19T15:18:45.000Z                 NaN   \n",
       "98  1450478771966988296  2021-10-19T15:07:42.000Z                 NaN   \n",
       "99  1450478562528669705  2021-10-19T15:06:52.000Z                 NaN   \n",
       "\n",
       "              author_id                                               text  \\\n",
       "0   1403794489177673731  @Cloud9 I doubted c9 once but never again. I'm...   \n",
       "1   1376175996852785154  Looking for a professional Invoice? For more v...   \n",
       "2             612463851  @Cloud9 Not I, for I am hoping and praying for...   \n",
       "3             602386138              @Cloud9 Gen.g when u win &lt;3 #c9win   \n",
       "4             770305614  Lost a bet against my fiancé during the #LCS S...   \n",
       "..                  ...                                                ...   \n",
       "95  1070160693804986368  Wow, #C9WIN couldn’t have gotten a better knoc...   \n",
       "96  1388253827690909696  RT @TheuzinFN: \" header for @blxckoutz \" \\n\\n@...   \n",
       "97           1365053526  RT @AzaelOfficial: CLOUD9 GET GEN.G LET'S FUCK...   \n",
       "98  1250880776805195776  RT @TheuzinFN: \" header for @blxckoutz \" \\n\\n@...   \n",
       "99  1440302945455665176  RT @TheuzinFN: \" header for @blxckoutz \" \\n\\n@...   \n",
       "\n",
       "                                       public_metrics lang  \n",
       "0   {'retweet_count': 0, 'reply_count': 0, 'like_c...   en  \n",
       "1   {'retweet_count': 0, 'reply_count': 0, 'like_c...   en  \n",
       "2   {'retweet_count': 0, 'reply_count': 0, 'like_c...   en  \n",
       "3   {'retweet_count': 0, 'reply_count': 0, 'like_c...   en  \n",
       "4   {'retweet_count': 0, 'reply_count': 0, 'like_c...   en  \n",
       "..                                                ...  ...  \n",
       "95  {'retweet_count': 0, 'reply_count': 0, 'like_c...   en  \n",
       "96  {'retweet_count': 19, 'reply_count': 0, 'like_...   en  \n",
       "97  {'retweet_count': 62, 'reply_count': 0, 'like_...   en  \n",
       "98  {'retweet_count': 19, 'reply_count': 0, 'like_...   en  \n",
       "99  {'retweet_count': 19, 'reply_count': 0, 'like_...   en  \n",
       "\n",
       "[100 rows x 7 columns]"
      ]
     },
     "execution_count": 23,
     "metadata": {},
     "output_type": "execute_result"
    }
   ],
   "source": [
    "my_df"
   ]
  },
  {
   "cell_type": "code",
   "execution_count": 24,
   "id": "2ca4a091",
   "metadata": {},
   "outputs": [],
   "source": [
    "my_df.to_csv('twitter_data.csv')"
   ]
  },
  {
   "cell_type": "code",
   "execution_count": 25,
   "id": "b1702a26",
   "metadata": {},
   "outputs": [
    {
     "data": {
      "text/plain": [
       "{'newest_id': '1450980040536215552',\n",
       " 'oldest_id': '1450478562528669705',\n",
       " 'result_count': 100,\n",
       " 'next_token': 'b26v89c19zqg8o3fpdv5sihd2rglt75hlrecyrivgemil'}"
      ]
     },
     "execution_count": 25,
     "metadata": {},
     "output_type": "execute_result"
    }
   ],
   "source": [
    "response_1_dict['meta']"
   ]
  },
  {
   "cell_type": "code",
   "execution_count": 26,
   "id": "cad61a5e",
   "metadata": {},
   "outputs": [],
   "source": [
    "url_2 = url_expansions + '&next_token={}'.format(response_1_dict['meta']['next_token'])"
   ]
  },
  {
   "cell_type": "code",
   "execution_count": 27,
   "id": "1a555458",
   "metadata": {},
   "outputs": [
    {
     "data": {
      "text/plain": [
       "'https://api.twitter.com/2/tweets/search/recent?query=%28%23C9WIN%20OR%20%23TLWIN%20OR%20%23100WIN%29%20lang%3Aen&max_results=100&tweet.fields=public_metrics,created_at,author_id,lang,in_reply_to_user_id&expansions=author_id&next_token=b26v89c19zqg8o3fpdv5sihd2rglt75hlrecyrivgemil'"
      ]
     },
     "execution_count": 27,
     "metadata": {},
     "output_type": "execute_result"
    }
   ],
   "source": [
    "url_2"
   ]
  },
  {
   "cell_type": "code",
   "execution_count": 28,
   "id": "4e46b34d",
   "metadata": {},
   "outputs": [],
   "source": [
    "response_2 = requests.request(\"GET\", url_2, headers = header)"
   ]
  },
  {
   "cell_type": "code",
   "execution_count": null,
   "id": "63c7e2bc",
   "metadata": {
    "scrolled": true
   },
   "outputs": [],
   "source": [
    "response_2.text"
   ]
  },
  {
   "cell_type": "code",
   "execution_count": 30,
   "id": "6402affb",
   "metadata": {},
   "outputs": [],
   "source": [
    "response_2_dict = json.loads(response_2.text)"
   ]
  },
  {
   "cell_type": "code",
   "execution_count": 31,
   "id": "e4eea012",
   "metadata": {},
   "outputs": [],
   "source": [
    "my_df2 = pd.DataFrame(response_2_dict['data'])"
   ]
  },
  {
   "cell_type": "code",
   "execution_count": 32,
   "id": "d1c8e726",
   "metadata": {},
   "outputs": [
    {
     "data": {
      "text/html": [
       "<div>\n",
       "<style scoped>\n",
       "    .dataframe tbody tr th:only-of-type {\n",
       "        vertical-align: middle;\n",
       "    }\n",
       "\n",
       "    .dataframe tbody tr th {\n",
       "        vertical-align: top;\n",
       "    }\n",
       "\n",
       "    .dataframe thead th {\n",
       "        text-align: right;\n",
       "    }\n",
       "</style>\n",
       "<table border=\"1\" class=\"dataframe\">\n",
       "  <thead>\n",
       "    <tr style=\"text-align: right;\">\n",
       "      <th></th>\n",
       "      <th>text</th>\n",
       "      <th>lang</th>\n",
       "      <th>id</th>\n",
       "      <th>author_id</th>\n",
       "      <th>public_metrics</th>\n",
       "      <th>created_at</th>\n",
       "      <th>in_reply_to_user_id</th>\n",
       "    </tr>\n",
       "  </thead>\n",
       "  <tbody>\n",
       "    <tr>\n",
       "      <th>0</th>\n",
       "      <td>RT @Cloud9: We heard the call.\\n\\nOnce again. ...</td>\n",
       "      <td>en</td>\n",
       "      <td>1450478315257671694</td>\n",
       "      <td>942213299323760640</td>\n",
       "      <td>{'retweet_count': 568, 'reply_count': 0, 'like...</td>\n",
       "      <td>2021-10-19T15:05:53.000Z</td>\n",
       "      <td>NaN</td>\n",
       "    </tr>\n",
       "    <tr>\n",
       "      <th>1</th>\n",
       "      <td>RT @TheuzinFN: \" header for @blxckoutz \" \\n\\n@...</td>\n",
       "      <td>en</td>\n",
       "      <td>1450477927846584327</td>\n",
       "      <td>1395790806208892933</td>\n",
       "      <td>{'retweet_count': 19, 'reply_count': 0, 'like_...</td>\n",
       "      <td>2021-10-19T15:04:21.000Z</td>\n",
       "      <td>NaN</td>\n",
       "    </tr>\n",
       "    <tr>\n",
       "      <th>2</th>\n",
       "      <td>RT @TheuzinFN: \" header for @blxckoutz \" \\n\\n@...</td>\n",
       "      <td>en</td>\n",
       "      <td>1450477499692036103</td>\n",
       "      <td>1399482313017286657</td>\n",
       "      <td>{'retweet_count': 19, 'reply_count': 0, 'like_...</td>\n",
       "      <td>2021-10-19T15:02:39.000Z</td>\n",
       "      <td>NaN</td>\n",
       "    </tr>\n",
       "    <tr>\n",
       "      <th>3</th>\n",
       "      <td>RT @TheuzinFN: \" header for @blxckoutz \" \\n\\n@...</td>\n",
       "      <td>en</td>\n",
       "      <td>1450477277339398145</td>\n",
       "      <td>1385087813864017925</td>\n",
       "      <td>{'retweet_count': 19, 'reply_count': 0, 'like_...</td>\n",
       "      <td>2021-10-19T15:01:46.000Z</td>\n",
       "      <td>NaN</td>\n",
       "    </tr>\n",
       "    <tr>\n",
       "      <th>4</th>\n",
       "      <td>RT @Cloud9: See you in the #Worlds2021 Finals ...</td>\n",
       "      <td>en</td>\n",
       "      <td>1450477036384968705</td>\n",
       "      <td>448357975</td>\n",
       "      <td>{'retweet_count': 103, 'reply_count': 0, 'like...</td>\n",
       "      <td>2021-10-19T15:00:48.000Z</td>\n",
       "      <td>NaN</td>\n",
       "    </tr>\n",
       "    <tr>\n",
       "      <th>...</th>\n",
       "      <td>...</td>\n",
       "      <td>...</td>\n",
       "      <td>...</td>\n",
       "      <td>...</td>\n",
       "      <td>...</td>\n",
       "      <td>...</td>\n",
       "      <td>...</td>\n",
       "    </tr>\n",
       "    <tr>\n",
       "      <th>94</th>\n",
       "      <td>RT @LCSOfficial: Quarterfinals #C9WIN | #World...</td>\n",
       "      <td>en</td>\n",
       "      <td>1450309840069406721</td>\n",
       "      <td>3517083197</td>\n",
       "      <td>{'retweet_count': 42, 'reply_count': 0, 'like_...</td>\n",
       "      <td>2021-10-19T03:56:25.000Z</td>\n",
       "      <td>NaN</td>\n",
       "    </tr>\n",
       "    <tr>\n",
       "      <th>95</th>\n",
       "      <td>RT @LosersQueuePod: 4 WAY TIE GROUP D LETS GOO...</td>\n",
       "      <td>en</td>\n",
       "      <td>1450308295718318088</td>\n",
       "      <td>1019362363286355974</td>\n",
       "      <td>{'retweet_count': 1, 'reply_count': 0, 'like_c...</td>\n",
       "      <td>2021-10-19T03:50:17.000Z</td>\n",
       "      <td>NaN</td>\n",
       "    </tr>\n",
       "    <tr>\n",
       "      <th>96</th>\n",
       "      <td>RT @LCSOfficial: Quarterfinals #C9WIN | #World...</td>\n",
       "      <td>en</td>\n",
       "      <td>1450307060726370308</td>\n",
       "      <td>1151851094873653248</td>\n",
       "      <td>{'retweet_count': 42, 'reply_count': 0, 'like_...</td>\n",
       "      <td>2021-10-19T03:45:23.000Z</td>\n",
       "      <td>NaN</td>\n",
       "    </tr>\n",
       "    <tr>\n",
       "      <th>97</th>\n",
       "      <td>RT @Cloud9: We heard the call.\\n\\nOnce again. ...</td>\n",
       "      <td>en</td>\n",
       "      <td>1450304510069559296</td>\n",
       "      <td>1329101830509432833</td>\n",
       "      <td>{'retweet_count': 568, 'reply_count': 0, 'like...</td>\n",
       "      <td>2021-10-19T03:35:15.000Z</td>\n",
       "      <td>NaN</td>\n",
       "    </tr>\n",
       "    <tr>\n",
       "      <th>98</th>\n",
       "      <td>RT @KatieGripne: TOLD ME WE WERE AWFUL AND THA...</td>\n",
       "      <td>en</td>\n",
       "      <td>1450304272776802306</td>\n",
       "      <td>1076642013225865216</td>\n",
       "      <td>{'retweet_count': 2, 'reply_count': 0, 'like_c...</td>\n",
       "      <td>2021-10-19T03:34:18.000Z</td>\n",
       "      <td>NaN</td>\n",
       "    </tr>\n",
       "  </tbody>\n",
       "</table>\n",
       "<p>99 rows × 7 columns</p>\n",
       "</div>"
      ],
      "text/plain": [
       "                                                 text lang  \\\n",
       "0   RT @Cloud9: We heard the call.\\n\\nOnce again. ...   en   \n",
       "1   RT @TheuzinFN: \" header for @blxckoutz \" \\n\\n@...   en   \n",
       "2   RT @TheuzinFN: \" header for @blxckoutz \" \\n\\n@...   en   \n",
       "3   RT @TheuzinFN: \" header for @blxckoutz \" \\n\\n@...   en   \n",
       "4   RT @Cloud9: See you in the #Worlds2021 Finals ...   en   \n",
       "..                                                ...  ...   \n",
       "94  RT @LCSOfficial: Quarterfinals #C9WIN | #World...   en   \n",
       "95  RT @LosersQueuePod: 4 WAY TIE GROUP D LETS GOO...   en   \n",
       "96  RT @LCSOfficial: Quarterfinals #C9WIN | #World...   en   \n",
       "97  RT @Cloud9: We heard the call.\\n\\nOnce again. ...   en   \n",
       "98  RT @KatieGripne: TOLD ME WE WERE AWFUL AND THA...   en   \n",
       "\n",
       "                     id            author_id  \\\n",
       "0   1450478315257671694   942213299323760640   \n",
       "1   1450477927846584327  1395790806208892933   \n",
       "2   1450477499692036103  1399482313017286657   \n",
       "3   1450477277339398145  1385087813864017925   \n",
       "4   1450477036384968705            448357975   \n",
       "..                  ...                  ...   \n",
       "94  1450309840069406721           3517083197   \n",
       "95  1450308295718318088  1019362363286355974   \n",
       "96  1450307060726370308  1151851094873653248   \n",
       "97  1450304510069559296  1329101830509432833   \n",
       "98  1450304272776802306  1076642013225865216   \n",
       "\n",
       "                                       public_metrics  \\\n",
       "0   {'retweet_count': 568, 'reply_count': 0, 'like...   \n",
       "1   {'retweet_count': 19, 'reply_count': 0, 'like_...   \n",
       "2   {'retweet_count': 19, 'reply_count': 0, 'like_...   \n",
       "3   {'retweet_count': 19, 'reply_count': 0, 'like_...   \n",
       "4   {'retweet_count': 103, 'reply_count': 0, 'like...   \n",
       "..                                                ...   \n",
       "94  {'retweet_count': 42, 'reply_count': 0, 'like_...   \n",
       "95  {'retweet_count': 1, 'reply_count': 0, 'like_c...   \n",
       "96  {'retweet_count': 42, 'reply_count': 0, 'like_...   \n",
       "97  {'retweet_count': 568, 'reply_count': 0, 'like...   \n",
       "98  {'retweet_count': 2, 'reply_count': 0, 'like_c...   \n",
       "\n",
       "                  created_at in_reply_to_user_id  \n",
       "0   2021-10-19T15:05:53.000Z                 NaN  \n",
       "1   2021-10-19T15:04:21.000Z                 NaN  \n",
       "2   2021-10-19T15:02:39.000Z                 NaN  \n",
       "3   2021-10-19T15:01:46.000Z                 NaN  \n",
       "4   2021-10-19T15:00:48.000Z                 NaN  \n",
       "..                       ...                 ...  \n",
       "94  2021-10-19T03:56:25.000Z                 NaN  \n",
       "95  2021-10-19T03:50:17.000Z                 NaN  \n",
       "96  2021-10-19T03:45:23.000Z                 NaN  \n",
       "97  2021-10-19T03:35:15.000Z                 NaN  \n",
       "98  2021-10-19T03:34:18.000Z                 NaN  \n",
       "\n",
       "[99 rows x 7 columns]"
      ]
     },
     "execution_count": 32,
     "metadata": {},
     "output_type": "execute_result"
    }
   ],
   "source": [
    "my_df2"
   ]
  },
  {
   "cell_type": "code",
   "execution_count": 33,
   "id": "9bf1bf21",
   "metadata": {},
   "outputs": [
    {
     "data": {
      "text/plain": [
       "{'newest_id': '1450478315257671694',\n",
       " 'oldest_id': '1450304272776802306',\n",
       " 'result_count': 99,\n",
       " 'next_token': 'b26v89c19zqg8o3fpdv5sgaj8cqvze7fzr17b7mzjko71'}"
      ]
     },
     "execution_count": 33,
     "metadata": {},
     "output_type": "execute_result"
    }
   ],
   "source": [
    "response_2_dict['meta']"
   ]
  },
  {
   "cell_type": "code",
   "execution_count": 34,
   "id": "ab976558",
   "metadata": {},
   "outputs": [],
   "source": [
    "url_3 = url_expansions + '&next_token={}'.format(response_2_dict['meta']['next_token'])"
   ]
  },
  {
   "cell_type": "code",
   "execution_count": 35,
   "id": "1f3caf35",
   "metadata": {
    "scrolled": true
   },
   "outputs": [
    {
     "data": {
      "text/plain": [
       "'https://api.twitter.com/2/tweets/search/recent?query=%28%23C9WIN%20OR%20%23TLWIN%20OR%20%23100WIN%29%20lang%3Aen&max_results=100&tweet.fields=public_metrics,created_at,author_id,lang,in_reply_to_user_id&expansions=author_id&next_token=b26v89c19zqg8o3fpdv5sgaj8cqvze7fzr17b7mzjko71'"
      ]
     },
     "execution_count": 35,
     "metadata": {},
     "output_type": "execute_result"
    }
   ],
   "source": [
    "url_3"
   ]
  },
  {
   "cell_type": "code",
   "execution_count": 36,
   "id": "548158ae",
   "metadata": {},
   "outputs": [],
   "source": [
    "response_3 = requests.request(\"GET\", url_3, headers = header)"
   ]
  },
  {
   "cell_type": "code",
   "execution_count": null,
   "id": "ad083a23",
   "metadata": {},
   "outputs": [],
   "source": [
    "response_3.text"
   ]
  },
  {
   "cell_type": "code",
   "execution_count": 38,
   "id": "30c930b3",
   "metadata": {},
   "outputs": [],
   "source": [
    "response_3_dict = json.loads(response_3.text)"
   ]
  },
  {
   "cell_type": "code",
   "execution_count": 39,
   "id": "99524941",
   "metadata": {},
   "outputs": [],
   "source": [
    "my_df3 = pd.DataFrame(response_3_dict['data'])"
   ]
  },
  {
   "cell_type": "code",
   "execution_count": 40,
   "id": "ab25606d",
   "metadata": {},
   "outputs": [
    {
     "data": {
      "text/html": [
       "<div>\n",
       "<style scoped>\n",
       "    .dataframe tbody tr th:only-of-type {\n",
       "        vertical-align: middle;\n",
       "    }\n",
       "\n",
       "    .dataframe tbody tr th {\n",
       "        vertical-align: top;\n",
       "    }\n",
       "\n",
       "    .dataframe thead th {\n",
       "        text-align: right;\n",
       "    }\n",
       "</style>\n",
       "<table border=\"1\" class=\"dataframe\">\n",
       "  <thead>\n",
       "    <tr style=\"text-align: right;\">\n",
       "      <th></th>\n",
       "      <th>lang</th>\n",
       "      <th>text</th>\n",
       "      <th>public_metrics</th>\n",
       "      <th>id</th>\n",
       "      <th>created_at</th>\n",
       "      <th>author_id</th>\n",
       "      <th>in_reply_to_user_id</th>\n",
       "    </tr>\n",
       "  </thead>\n",
       "  <tbody>\n",
       "    <tr>\n",
       "      <th>0</th>\n",
       "      <td>en</td>\n",
       "      <td>RT @Cloud9: Today summarized:\\n\\nLCS &amp;gt; LCK ...</td>\n",
       "      <td>{'retweet_count': 69, 'reply_count': 0, 'like_...</td>\n",
       "      <td>1450303483249188865</td>\n",
       "      <td>2021-10-19T03:31:10.000Z</td>\n",
       "      <td>974494140783214593</td>\n",
       "      <td>NaN</td>\n",
       "    </tr>\n",
       "    <tr>\n",
       "      <th>1</th>\n",
       "      <td>en</td>\n",
       "      <td>RT @LCSOfficial: Quarterfinals #C9WIN | #World...</td>\n",
       "      <td>{'retweet_count': 42, 'reply_count': 0, 'like_...</td>\n",
       "      <td>1450303417415520262</td>\n",
       "      <td>2021-10-19T03:30:54.000Z</td>\n",
       "      <td>2416433815</td>\n",
       "      <td>NaN</td>\n",
       "    </tr>\n",
       "    <tr>\n",
       "      <th>2</th>\n",
       "      <td>en</td>\n",
       "      <td>RT @AzaelOfficial: CLOUD9 GET GEN.G LET'S FUCK...</td>\n",
       "      <td>{'retweet_count': 62, 'reply_count': 0, 'like_...</td>\n",
       "      <td>1450302931463327746</td>\n",
       "      <td>2021-10-19T03:28:58.000Z</td>\n",
       "      <td>3036852366</td>\n",
       "      <td>NaN</td>\n",
       "    </tr>\n",
       "    <tr>\n",
       "      <th>3</th>\n",
       "      <td>en</td>\n",
       "      <td>RT @Cloud9: We heard the call.\\n\\nOnce again. ...</td>\n",
       "      <td>{'retweet_count': 568, 'reply_count': 0, 'like...</td>\n",
       "      <td>1450302769382912000</td>\n",
       "      <td>2021-10-19T03:28:20.000Z</td>\n",
       "      <td>1046146612785950720</td>\n",
       "      <td>NaN</td>\n",
       "    </tr>\n",
       "    <tr>\n",
       "      <th>4</th>\n",
       "      <td>en</td>\n",
       "      <td>RT @LCSOfficial: \"And this one is for the cham...</td>\n",
       "      <td>{'retweet_count': 1276, 'reply_count': 0, 'lik...</td>\n",
       "      <td>1450302766212079620</td>\n",
       "      <td>2021-10-19T03:28:19.000Z</td>\n",
       "      <td>759956701</td>\n",
       "      <td>NaN</td>\n",
       "    </tr>\n",
       "    <tr>\n",
       "      <th>...</th>\n",
       "      <td>...</td>\n",
       "      <td>...</td>\n",
       "      <td>...</td>\n",
       "      <td>...</td>\n",
       "      <td>...</td>\n",
       "      <td>...</td>\n",
       "      <td>...</td>\n",
       "    </tr>\n",
       "    <tr>\n",
       "      <th>95</th>\n",
       "      <td>en</td>\n",
       "      <td>RT @TeamLiquidLoL: LCK broadcast diff #TLWIN #...</td>\n",
       "      <td>{'retweet_count': 55, 'reply_count': 0, 'like_...</td>\n",
       "      <td>1450244474173526020</td>\n",
       "      <td>2021-10-18T23:36:41.000Z</td>\n",
       "      <td>868685008151740417</td>\n",
       "      <td>NaN</td>\n",
       "    </tr>\n",
       "    <tr>\n",
       "      <th>96</th>\n",
       "      <td>en</td>\n",
       "      <td>RT @TeamLiquidLoL: Together We Rise. #TLWIN \\n...</td>\n",
       "      <td>{'retweet_count': 29, 'reply_count': 0, 'like_...</td>\n",
       "      <td>1450244186746273800</td>\n",
       "      <td>2021-10-18T23:35:33.000Z</td>\n",
       "      <td>868685008151740417</td>\n",
       "      <td>NaN</td>\n",
       "    </tr>\n",
       "    <tr>\n",
       "      <th>97</th>\n",
       "      <td>en</td>\n",
       "      <td>@lolesports Script is ready but don't tell any...</td>\n",
       "      <td>{'retweet_count': 0, 'reply_count': 2, 'like_c...</td>\n",
       "      <td>1450244099735445515</td>\n",
       "      <td>2021-10-18T23:35:12.000Z</td>\n",
       "      <td>4079322316</td>\n",
       "      <td>614754689</td>\n",
       "    </tr>\n",
       "    <tr>\n",
       "      <th>98</th>\n",
       "      <td>en</td>\n",
       "      <td>RT @Cloud9: We heard the call.\\n\\nOnce again. ...</td>\n",
       "      <td>{'retweet_count': 568, 'reply_count': 0, 'like...</td>\n",
       "      <td>1450243848039370753</td>\n",
       "      <td>2021-10-18T23:34:12.000Z</td>\n",
       "      <td>700310622</td>\n",
       "      <td>NaN</td>\n",
       "    </tr>\n",
       "    <tr>\n",
       "      <th>99</th>\n",
       "      <td>en</td>\n",
       "      <td>My crafty 12 year old daughter got a cricut fo...</td>\n",
       "      <td>{'retweet_count': 0, 'reply_count': 1, 'like_c...</td>\n",
       "      <td>1450243529440051202</td>\n",
       "      <td>2021-10-18T23:32:56.000Z</td>\n",
       "      <td>2150891</td>\n",
       "      <td>NaN</td>\n",
       "    </tr>\n",
       "  </tbody>\n",
       "</table>\n",
       "<p>100 rows × 7 columns</p>\n",
       "</div>"
      ],
      "text/plain": [
       "   lang                                               text  \\\n",
       "0    en  RT @Cloud9: Today summarized:\\n\\nLCS &gt; LCK ...   \n",
       "1    en  RT @LCSOfficial: Quarterfinals #C9WIN | #World...   \n",
       "2    en  RT @AzaelOfficial: CLOUD9 GET GEN.G LET'S FUCK...   \n",
       "3    en  RT @Cloud9: We heard the call.\\n\\nOnce again. ...   \n",
       "4    en  RT @LCSOfficial: \"And this one is for the cham...   \n",
       "..  ...                                                ...   \n",
       "95   en  RT @TeamLiquidLoL: LCK broadcast diff #TLWIN #...   \n",
       "96   en  RT @TeamLiquidLoL: Together We Rise. #TLWIN \\n...   \n",
       "97   en  @lolesports Script is ready but don't tell any...   \n",
       "98   en  RT @Cloud9: We heard the call.\\n\\nOnce again. ...   \n",
       "99   en  My crafty 12 year old daughter got a cricut fo...   \n",
       "\n",
       "                                       public_metrics                   id  \\\n",
       "0   {'retweet_count': 69, 'reply_count': 0, 'like_...  1450303483249188865   \n",
       "1   {'retweet_count': 42, 'reply_count': 0, 'like_...  1450303417415520262   \n",
       "2   {'retweet_count': 62, 'reply_count': 0, 'like_...  1450302931463327746   \n",
       "3   {'retweet_count': 568, 'reply_count': 0, 'like...  1450302769382912000   \n",
       "4   {'retweet_count': 1276, 'reply_count': 0, 'lik...  1450302766212079620   \n",
       "..                                                ...                  ...   \n",
       "95  {'retweet_count': 55, 'reply_count': 0, 'like_...  1450244474173526020   \n",
       "96  {'retweet_count': 29, 'reply_count': 0, 'like_...  1450244186746273800   \n",
       "97  {'retweet_count': 0, 'reply_count': 2, 'like_c...  1450244099735445515   \n",
       "98  {'retweet_count': 568, 'reply_count': 0, 'like...  1450243848039370753   \n",
       "99  {'retweet_count': 0, 'reply_count': 1, 'like_c...  1450243529440051202   \n",
       "\n",
       "                  created_at            author_id in_reply_to_user_id  \n",
       "0   2021-10-19T03:31:10.000Z   974494140783214593                 NaN  \n",
       "1   2021-10-19T03:30:54.000Z           2416433815                 NaN  \n",
       "2   2021-10-19T03:28:58.000Z           3036852366                 NaN  \n",
       "3   2021-10-19T03:28:20.000Z  1046146612785950720                 NaN  \n",
       "4   2021-10-19T03:28:19.000Z            759956701                 NaN  \n",
       "..                       ...                  ...                 ...  \n",
       "95  2021-10-18T23:36:41.000Z   868685008151740417                 NaN  \n",
       "96  2021-10-18T23:35:33.000Z   868685008151740417                 NaN  \n",
       "97  2021-10-18T23:35:12.000Z           4079322316           614754689  \n",
       "98  2021-10-18T23:34:12.000Z            700310622                 NaN  \n",
       "99  2021-10-18T23:32:56.000Z              2150891                 NaN  \n",
       "\n",
       "[100 rows x 7 columns]"
      ]
     },
     "execution_count": 40,
     "metadata": {},
     "output_type": "execute_result"
    }
   ],
   "source": [
    "my_df3"
   ]
  },
  {
   "cell_type": "markdown",
   "id": "7e53aac3",
   "metadata": {},
   "source": [
    "To wrangle my data I created 3 data frames, each with 100 tweets, and then made them into an array. I then concatenated the 3 data frames together. "
   ]
  },
  {
   "cell_type": "code",
   "execution_count": 41,
   "id": "0a71c8cf",
   "metadata": {},
   "outputs": [],
   "source": [
    "frames = [my_df, my_df2, my_df3]"
   ]
  },
  {
   "cell_type": "code",
   "execution_count": 42,
   "id": "dfaae74a",
   "metadata": {},
   "outputs": [],
   "source": [
    "combined_dfs = pd.concat(frames)"
   ]
  },
  {
   "cell_type": "code",
   "execution_count": 43,
   "id": "a6789475",
   "metadata": {
    "scrolled": true
   },
   "outputs": [
    {
     "data": {
      "text/html": [
       "<div>\n",
       "<style scoped>\n",
       "    .dataframe tbody tr th:only-of-type {\n",
       "        vertical-align: middle;\n",
       "    }\n",
       "\n",
       "    .dataframe tbody tr th {\n",
       "        vertical-align: top;\n",
       "    }\n",
       "\n",
       "    .dataframe thead th {\n",
       "        text-align: right;\n",
       "    }\n",
       "</style>\n",
       "<table border=\"1\" class=\"dataframe\">\n",
       "  <thead>\n",
       "    <tr style=\"text-align: right;\">\n",
       "      <th></th>\n",
       "      <th>id</th>\n",
       "      <th>created_at</th>\n",
       "      <th>author_id</th>\n",
       "      <th>text</th>\n",
       "      <th>public_metrics</th>\n",
       "      <th>lang</th>\n",
       "    </tr>\n",
       "    <tr>\n",
       "      <th>in_reply_to_user_id</th>\n",
       "      <th></th>\n",
       "      <th></th>\n",
       "      <th></th>\n",
       "      <th></th>\n",
       "      <th></th>\n",
       "      <th></th>\n",
       "    </tr>\n",
       "  </thead>\n",
       "  <tbody>\n",
       "    <tr>\n",
       "      <th>964529942</th>\n",
       "      <td>6</td>\n",
       "      <td>6</td>\n",
       "      <td>6</td>\n",
       "      <td>6</td>\n",
       "      <td>6</td>\n",
       "      <td>6</td>\n",
       "    </tr>\n",
       "    <tr>\n",
       "      <th>1452520626</th>\n",
       "      <td>4</td>\n",
       "      <td>4</td>\n",
       "      <td>4</td>\n",
       "      <td>4</td>\n",
       "      <td>4</td>\n",
       "      <td>4</td>\n",
       "    </tr>\n",
       "    <tr>\n",
       "      <th>614754689</th>\n",
       "      <td>4</td>\n",
       "      <td>4</td>\n",
       "      <td>4</td>\n",
       "      <td>4</td>\n",
       "      <td>4</td>\n",
       "      <td>4</td>\n",
       "    </tr>\n",
       "    <tr>\n",
       "      <th>575352314</th>\n",
       "      <td>2</td>\n",
       "      <td>2</td>\n",
       "      <td>2</td>\n",
       "      <td>2</td>\n",
       "      <td>2</td>\n",
       "      <td>2</td>\n",
       "    </tr>\n",
       "    <tr>\n",
       "      <th>951370993439719424</th>\n",
       "      <td>2</td>\n",
       "      <td>2</td>\n",
       "      <td>2</td>\n",
       "      <td>2</td>\n",
       "      <td>2</td>\n",
       "      <td>2</td>\n",
       "    </tr>\n",
       "    <tr>\n",
       "      <th>1076110847947300865</th>\n",
       "      <td>1</td>\n",
       "      <td>1</td>\n",
       "      <td>1</td>\n",
       "      <td>1</td>\n",
       "      <td>1</td>\n",
       "      <td>1</td>\n",
       "    </tr>\n",
       "    <tr>\n",
       "      <th>1152301380121649152</th>\n",
       "      <td>1</td>\n",
       "      <td>1</td>\n",
       "      <td>1</td>\n",
       "      <td>1</td>\n",
       "      <td>1</td>\n",
       "      <td>1</td>\n",
       "    </tr>\n",
       "    <tr>\n",
       "      <th>1290587544330043394</th>\n",
       "      <td>1</td>\n",
       "      <td>1</td>\n",
       "      <td>1</td>\n",
       "      <td>1</td>\n",
       "      <td>1</td>\n",
       "      <td>1</td>\n",
       "    </tr>\n",
       "    <tr>\n",
       "      <th>1648029396</th>\n",
       "      <td>1</td>\n",
       "      <td>1</td>\n",
       "      <td>1</td>\n",
       "      <td>1</td>\n",
       "      <td>1</td>\n",
       "      <td>1</td>\n",
       "    </tr>\n",
       "    <tr>\n",
       "      <th>3410389873</th>\n",
       "      <td>1</td>\n",
       "      <td>1</td>\n",
       "      <td>1</td>\n",
       "      <td>1</td>\n",
       "      <td>1</td>\n",
       "      <td>1</td>\n",
       "    </tr>\n",
       "    <tr>\n",
       "      <th>499278259</th>\n",
       "      <td>1</td>\n",
       "      <td>1</td>\n",
       "      <td>1</td>\n",
       "      <td>1</td>\n",
       "      <td>1</td>\n",
       "      <td>1</td>\n",
       "    </tr>\n",
       "    <tr>\n",
       "      <th>877390870818856965</th>\n",
       "      <td>1</td>\n",
       "      <td>1</td>\n",
       "      <td>1</td>\n",
       "      <td>1</td>\n",
       "      <td>1</td>\n",
       "      <td>1</td>\n",
       "    </tr>\n",
       "    <tr>\n",
       "      <th>884962539963940865</th>\n",
       "      <td>1</td>\n",
       "      <td>1</td>\n",
       "      <td>1</td>\n",
       "      <td>1</td>\n",
       "      <td>1</td>\n",
       "      <td>1</td>\n",
       "    </tr>\n",
       "    <tr>\n",
       "      <th>96625583</th>\n",
       "      <td>1</td>\n",
       "      <td>1</td>\n",
       "      <td>1</td>\n",
       "      <td>1</td>\n",
       "      <td>1</td>\n",
       "      <td>1</td>\n",
       "    </tr>\n",
       "  </tbody>\n",
       "</table>\n",
       "</div>"
      ],
      "text/plain": [
       "                     id  created_at  author_id  text  public_metrics  lang\n",
       "in_reply_to_user_id                                                       \n",
       "964529942             6           6          6     6               6     6\n",
       "1452520626            4           4          4     4               4     4\n",
       "614754689             4           4          4     4               4     4\n",
       "575352314             2           2          2     2               2     2\n",
       "951370993439719424    2           2          2     2               2     2\n",
       "1076110847947300865   1           1          1     1               1     1\n",
       "1152301380121649152   1           1          1     1               1     1\n",
       "1290587544330043394   1           1          1     1               1     1\n",
       "1648029396            1           1          1     1               1     1\n",
       "3410389873            1           1          1     1               1     1\n",
       "499278259             1           1          1     1               1     1\n",
       "877390870818856965    1           1          1     1               1     1\n",
       "884962539963940865    1           1          1     1               1     1\n",
       "96625583              1           1          1     1               1     1"
      ]
     },
     "execution_count": 43,
     "metadata": {},
     "output_type": "execute_result"
    }
   ],
   "source": [
    "combined_dfs.groupby('in_reply_to_user_id').count().sort_values('text', ascending = False)"
   ]
  },
  {
   "cell_type": "code",
   "execution_count": 44,
   "id": "550250bb",
   "metadata": {},
   "outputs": [
    {
     "data": {
      "text/plain": [
       "pandas.core.series.Series"
      ]
     },
     "execution_count": 44,
     "metadata": {},
     "output_type": "execute_result"
    }
   ],
   "source": [
    "type(combined_dfs['text'])"
   ]
  },
  {
   "cell_type": "markdown",
   "id": "610bc602",
   "metadata": {},
   "source": [
    "This is my combined data frame, showing all 300 tweets. This data frame, however, does not really tell us much. To really analyze this data, I will need to count the tweets that contain each of the 3 hashtags that I searched for. To do this, I need to sort the tweets by if they include each hashtag, and count them all."
   ]
  },
  {
   "cell_type": "code",
   "execution_count": 53,
   "id": "9a97904c",
   "metadata": {
    "scrolled": true
   },
   "outputs": [
    {
     "data": {
      "text/html": [
       "<div>\n",
       "<style scoped>\n",
       "    .dataframe tbody tr th:only-of-type {\n",
       "        vertical-align: middle;\n",
       "    }\n",
       "\n",
       "    .dataframe tbody tr th {\n",
       "        vertical-align: top;\n",
       "    }\n",
       "\n",
       "    .dataframe thead th {\n",
       "        text-align: right;\n",
       "    }\n",
       "</style>\n",
       "<table border=\"1\" class=\"dataframe\">\n",
       "  <thead>\n",
       "    <tr style=\"text-align: right;\">\n",
       "      <th></th>\n",
       "      <th>id</th>\n",
       "      <th>created_at</th>\n",
       "      <th>in_reply_to_user_id</th>\n",
       "      <th>author_id</th>\n",
       "      <th>text</th>\n",
       "      <th>public_metrics</th>\n",
       "      <th>lang</th>\n",
       "    </tr>\n",
       "  </thead>\n",
       "  <tbody>\n",
       "    <tr>\n",
       "      <th>5</th>\n",
       "      <td>1450476837721804808</td>\n",
       "      <td>2021-10-19T15:00:01.000Z</td>\n",
       "      <td>NaN</td>\n",
       "      <td>1007039025675456514</td>\n",
       "      <td>\" header for @blxckoutz \" \\n\\n@Cloud9 #C9WIN \\...</td>\n",
       "      <td>{'retweet_count': 19, 'reply_count': 20, 'like...</td>\n",
       "      <td>en</td>\n",
       "    </tr>\n",
       "    <tr>\n",
       "      <th>87</th>\n",
       "      <td>1450498645225185284</td>\n",
       "      <td>2021-10-19T16:26:40.000Z</td>\n",
       "      <td>NaN</td>\n",
       "      <td>2370350274</td>\n",
       "      <td>#C9WIN Let it go! https://t.co/KQWSgmPkXf</td>\n",
       "      <td>{'retweet_count': 0, 'reply_count': 0, 'like_c...</td>\n",
       "      <td>en</td>\n",
       "    </tr>\n",
       "    <tr>\n",
       "      <th>46</th>\n",
       "      <td>1450407564282372096</td>\n",
       "      <td>2021-10-19T10:24:45.000Z</td>\n",
       "      <td>NaN</td>\n",
       "      <td>1065923083696054274</td>\n",
       "      <td>#LeagueOfLegends Head Coach for @cloud9 @mithy...</td>\n",
       "      <td>{'retweet_count': 1, 'reply_count': 0, 'like_c...</td>\n",
       "      <td>en</td>\n",
       "    </tr>\n",
       "    <tr>\n",
       "      <th>74</th>\n",
       "      <td>1450351433266581507</td>\n",
       "      <td>2021-10-19T06:41:42.000Z</td>\n",
       "      <td>NaN</td>\n",
       "      <td>1429149771931942913</td>\n",
       "      <td>#Worlds2021 #C9WIN So excited for the last few...</td>\n",
       "      <td>{'retweet_count': 14, 'reply_count': 1, 'like_...</td>\n",
       "      <td>en</td>\n",
       "    </tr>\n",
       "    <tr>\n",
       "      <th>56</th>\n",
       "      <td>1450384704474124291</td>\n",
       "      <td>2021-10-19T08:53:55.000Z</td>\n",
       "      <td>NaN</td>\n",
       "      <td>1065923083696054274</td>\n",
       "      <td>#Worlds2021 Quarterfinals-Bracket!\\n\\nWho's go...</td>\n",
       "      <td>{'retweet_count': 0, 'reply_count': 0, 'like_c...</td>\n",
       "      <td>en</td>\n",
       "    </tr>\n",
       "    <tr>\n",
       "      <th>...</th>\n",
       "      <td>...</td>\n",
       "      <td>...</td>\n",
       "      <td>...</td>\n",
       "      <td>...</td>\n",
       "      <td>...</td>\n",
       "      <td>...</td>\n",
       "      <td>...</td>\n",
       "    </tr>\n",
       "    <tr>\n",
       "      <th>76</th>\n",
       "      <td>1450514013717254146</td>\n",
       "      <td>2021-10-19T17:27:44.000Z</td>\n",
       "      <td>NaN</td>\n",
       "      <td>439747613</td>\n",
       "      <td>You’re NA’s last hope @Cloud9. I believe in th...</td>\n",
       "      <td>{'retweet_count': 0, 'reply_count': 0, 'like_c...</td>\n",
       "      <td>en</td>\n",
       "    </tr>\n",
       "    <tr>\n",
       "      <th>22</th>\n",
       "      <td>1450285970977296390</td>\n",
       "      <td>2021-10-19T02:21:35.000Z</td>\n",
       "      <td>NaN</td>\n",
       "      <td>1008284215421440000</td>\n",
       "      <td>been a solid ride considering everything that ...</td>\n",
       "      <td>{'retweet_count': 0, 'reply_count': 1, 'like_c...</td>\n",
       "      <td>en</td>\n",
       "    </tr>\n",
       "    <tr>\n",
       "      <th>26</th>\n",
       "      <td>1450281528143974400</td>\n",
       "      <td>2021-10-19T02:03:55.000Z</td>\n",
       "      <td>NaN</td>\n",
       "      <td>1295921559794638854</td>\n",
       "      <td>id have to consume a lot of hopium for the res...</td>\n",
       "      <td>{'retweet_count': 0, 'reply_count': 0, 'like_c...</td>\n",
       "      <td>en</td>\n",
       "    </tr>\n",
       "    <tr>\n",
       "      <th>65</th>\n",
       "      <td>1450258277359566848</td>\n",
       "      <td>2021-10-19T00:31:32.000Z</td>\n",
       "      <td>NaN</td>\n",
       "      <td>782751902488530945</td>\n",
       "      <td>it's time to train new stuffs #C9WIN https://t...</td>\n",
       "      <td>{'retweet_count': 1, 'reply_count': 0, 'like_c...</td>\n",
       "      <td>en</td>\n",
       "    </tr>\n",
       "    <tr>\n",
       "      <th>80</th>\n",
       "      <td>1450332432008290310</td>\n",
       "      <td>2021-10-19T05:26:12.000Z</td>\n",
       "      <td>NaN</td>\n",
       "      <td>976777185884176384</td>\n",
       "      <td>remember how c9 defeated afreeca freecs in 201...</td>\n",
       "      <td>{'retweet_count': 0, 'reply_count': 0, 'like_c...</td>\n",
       "      <td>en</td>\n",
       "    </tr>\n",
       "  </tbody>\n",
       "</table>\n",
       "<p>299 rows × 7 columns</p>\n",
       "</div>"
      ],
      "text/plain": [
       "                     id                created_at in_reply_to_user_id  \\\n",
       "5   1450476837721804808  2021-10-19T15:00:01.000Z                 NaN   \n",
       "87  1450498645225185284  2021-10-19T16:26:40.000Z                 NaN   \n",
       "46  1450407564282372096  2021-10-19T10:24:45.000Z                 NaN   \n",
       "74  1450351433266581507  2021-10-19T06:41:42.000Z                 NaN   \n",
       "56  1450384704474124291  2021-10-19T08:53:55.000Z                 NaN   \n",
       "..                  ...                       ...                 ...   \n",
       "76  1450514013717254146  2021-10-19T17:27:44.000Z                 NaN   \n",
       "22  1450285970977296390  2021-10-19T02:21:35.000Z                 NaN   \n",
       "26  1450281528143974400  2021-10-19T02:03:55.000Z                 NaN   \n",
       "65  1450258277359566848  2021-10-19T00:31:32.000Z                 NaN   \n",
       "80  1450332432008290310  2021-10-19T05:26:12.000Z                 NaN   \n",
       "\n",
       "              author_id                                               text  \\\n",
       "5   1007039025675456514  \" header for @blxckoutz \" \\n\\n@Cloud9 #C9WIN \\...   \n",
       "87           2370350274          #C9WIN Let it go! https://t.co/KQWSgmPkXf   \n",
       "46  1065923083696054274  #LeagueOfLegends Head Coach for @cloud9 @mithy...   \n",
       "74  1429149771931942913  #Worlds2021 #C9WIN So excited for the last few...   \n",
       "56  1065923083696054274  #Worlds2021 Quarterfinals-Bracket!\\n\\nWho's go...   \n",
       "..                  ...                                                ...   \n",
       "76            439747613  You’re NA’s last hope @Cloud9. I believe in th...   \n",
       "22  1008284215421440000  been a solid ride considering everything that ...   \n",
       "26  1295921559794638854  id have to consume a lot of hopium for the res...   \n",
       "65   782751902488530945  it's time to train new stuffs #C9WIN https://t...   \n",
       "80   976777185884176384  remember how c9 defeated afreeca freecs in 201...   \n",
       "\n",
       "                                       public_metrics lang  \n",
       "5   {'retweet_count': 19, 'reply_count': 20, 'like...   en  \n",
       "87  {'retweet_count': 0, 'reply_count': 0, 'like_c...   en  \n",
       "46  {'retweet_count': 1, 'reply_count': 0, 'like_c...   en  \n",
       "74  {'retweet_count': 14, 'reply_count': 1, 'like_...   en  \n",
       "56  {'retweet_count': 0, 'reply_count': 0, 'like_c...   en  \n",
       "..                                                ...  ...  \n",
       "76  {'retweet_count': 0, 'reply_count': 0, 'like_c...   en  \n",
       "22  {'retweet_count': 0, 'reply_count': 1, 'like_c...   en  \n",
       "26  {'retweet_count': 0, 'reply_count': 0, 'like_c...   en  \n",
       "65  {'retweet_count': 1, 'reply_count': 0, 'like_c...   en  \n",
       "80  {'retweet_count': 0, 'reply_count': 0, 'like_c...   en  \n",
       "\n",
       "[299 rows x 7 columns]"
      ]
     },
     "execution_count": 53,
     "metadata": {},
     "output_type": "execute_result"
    }
   ],
   "source": [
    "combined_dfs.sort_values(by=[\"text\"])"
   ]
  },
  {
   "cell_type": "code",
   "execution_count": 54,
   "id": "ea6235de",
   "metadata": {},
   "outputs": [],
   "source": [
    "combined_dfs.to_csv('full_twitter_data.csv')"
   ]
  },
  {
   "cell_type": "code",
   "execution_count": 55,
   "id": "6a40dde4",
   "metadata": {
    "scrolled": false
   },
   "outputs": [
    {
     "data": {
      "text/html": [
       "<div>\n",
       "<style scoped>\n",
       "    .dataframe tbody tr th:only-of-type {\n",
       "        vertical-align: middle;\n",
       "    }\n",
       "\n",
       "    .dataframe tbody tr th {\n",
       "        vertical-align: top;\n",
       "    }\n",
       "\n",
       "    .dataframe thead th {\n",
       "        text-align: right;\n",
       "    }\n",
       "</style>\n",
       "<table border=\"1\" class=\"dataframe\">\n",
       "  <thead>\n",
       "    <tr style=\"text-align: right;\">\n",
       "      <th></th>\n",
       "      <th>id</th>\n",
       "      <th>created_at</th>\n",
       "      <th>in_reply_to_user_id</th>\n",
       "      <th>text</th>\n",
       "      <th>public_metrics</th>\n",
       "      <th>lang</th>\n",
       "    </tr>\n",
       "    <tr>\n",
       "      <th>author_id</th>\n",
       "      <th></th>\n",
       "      <th></th>\n",
       "      <th></th>\n",
       "      <th></th>\n",
       "      <th></th>\n",
       "      <th></th>\n",
       "    </tr>\n",
       "  </thead>\n",
       "  <tbody>\n",
       "    <tr>\n",
       "      <th>995882911</th>\n",
       "      <td>1</td>\n",
       "      <td>1</td>\n",
       "      <td>0</td>\n",
       "      <td>1</td>\n",
       "      <td>1</td>\n",
       "      <td>1</td>\n",
       "    </tr>\n",
       "    <tr>\n",
       "      <th>990125779</th>\n",
       "      <td>1</td>\n",
       "      <td>1</td>\n",
       "      <td>0</td>\n",
       "      <td>1</td>\n",
       "      <td>1</td>\n",
       "      <td>1</td>\n",
       "    </tr>\n",
       "    <tr>\n",
       "      <th>981928962</th>\n",
       "      <td>1</td>\n",
       "      <td>1</td>\n",
       "      <td>0</td>\n",
       "      <td>1</td>\n",
       "      <td>1</td>\n",
       "      <td>1</td>\n",
       "    </tr>\n",
       "    <tr>\n",
       "      <th>976777185884176384</th>\n",
       "      <td>1</td>\n",
       "      <td>1</td>\n",
       "      <td>0</td>\n",
       "      <td>1</td>\n",
       "      <td>1</td>\n",
       "      <td>1</td>\n",
       "    </tr>\n",
       "    <tr>\n",
       "      <th>974494140783214593</th>\n",
       "      <td>3</td>\n",
       "      <td>3</td>\n",
       "      <td>0</td>\n",
       "      <td>3</td>\n",
       "      <td>3</td>\n",
       "      <td>3</td>\n",
       "    </tr>\n",
       "    <tr>\n",
       "      <th>...</th>\n",
       "      <td>...</td>\n",
       "      <td>...</td>\n",
       "      <td>...</td>\n",
       "      <td>...</td>\n",
       "      <td>...</td>\n",
       "      <td>...</td>\n",
       "    </tr>\n",
       "    <tr>\n",
       "      <th>1019362363286355974</th>\n",
       "      <td>1</td>\n",
       "      <td>1</td>\n",
       "      <td>0</td>\n",
       "      <td>1</td>\n",
       "      <td>1</td>\n",
       "      <td>1</td>\n",
       "    </tr>\n",
       "    <tr>\n",
       "      <th>1012552501</th>\n",
       "      <td>1</td>\n",
       "      <td>1</td>\n",
       "      <td>0</td>\n",
       "      <td>1</td>\n",
       "      <td>1</td>\n",
       "      <td>1</td>\n",
       "    </tr>\n",
       "    <tr>\n",
       "      <th>1008284215421440000</th>\n",
       "      <td>1</td>\n",
       "      <td>1</td>\n",
       "      <td>0</td>\n",
       "      <td>1</td>\n",
       "      <td>1</td>\n",
       "      <td>1</td>\n",
       "    </tr>\n",
       "    <tr>\n",
       "      <th>1007039025675456514</th>\n",
       "      <td>1</td>\n",
       "      <td>1</td>\n",
       "      <td>0</td>\n",
       "      <td>1</td>\n",
       "      <td>1</td>\n",
       "      <td>1</td>\n",
       "    </tr>\n",
       "    <tr>\n",
       "      <th>1000411723881426950</th>\n",
       "      <td>1</td>\n",
       "      <td>1</td>\n",
       "      <td>0</td>\n",
       "      <td>1</td>\n",
       "      <td>1</td>\n",
       "      <td>1</td>\n",
       "    </tr>\n",
       "  </tbody>\n",
       "</table>\n",
       "<p>279 rows × 6 columns</p>\n",
       "</div>"
      ],
      "text/plain": [
       "                     id  created_at  in_reply_to_user_id  text  \\\n",
       "author_id                                                        \n",
       "995882911             1           1                    0     1   \n",
       "990125779             1           1                    0     1   \n",
       "981928962             1           1                    0     1   \n",
       "976777185884176384    1           1                    0     1   \n",
       "974494140783214593    3           3                    0     3   \n",
       "...                  ..         ...                  ...   ...   \n",
       "1019362363286355974   1           1                    0     1   \n",
       "1012552501            1           1                    0     1   \n",
       "1008284215421440000   1           1                    0     1   \n",
       "1007039025675456514   1           1                    0     1   \n",
       "1000411723881426950   1           1                    0     1   \n",
       "\n",
       "                     public_metrics  lang  \n",
       "author_id                                  \n",
       "995882911                         1     1  \n",
       "990125779                         1     1  \n",
       "981928962                         1     1  \n",
       "976777185884176384                1     1  \n",
       "974494140783214593                3     3  \n",
       "...                             ...   ...  \n",
       "1019362363286355974               1     1  \n",
       "1012552501                        1     1  \n",
       "1008284215421440000               1     1  \n",
       "1007039025675456514               1     1  \n",
       "1000411723881426950               1     1  \n",
       "\n",
       "[279 rows x 6 columns]"
      ]
     },
     "execution_count": 55,
     "metadata": {},
     "output_type": "execute_result"
    }
   ],
   "source": [
    "combined_dfs.groupby('author_id').count().sort_values('author_id', ascending = False)"
   ]
  },
  {
   "cell_type": "code",
   "execution_count": 196,
   "id": "4d62d71b",
   "metadata": {},
   "outputs": [
    {
     "data": {
      "text/plain": [
       "pandas.core.series.Series"
      ]
     },
     "execution_count": 196,
     "metadata": {},
     "output_type": "execute_result"
    }
   ],
   "source": [
    "type(combined_dfs['text'])"
   ]
  },
  {
   "cell_type": "markdown",
   "id": "ca6a7f26",
   "metadata": {},
   "source": [
    "This was the hardest part of this project. It took lots of searching around and fumbling about to find a way to target the text of the tweets only. I found out that it was listed as a series, and was able to use str.findall to check which tweets contained the hashtags. From there, I created three data frames, each one declaring if the hashtag was present or if there was none."
   ]
  },
  {
   "cell_type": "code",
   "execution_count": 88,
   "id": "38f875f9",
   "metadata": {
    "scrolled": true
   },
   "outputs": [],
   "source": [
    "C9_WIN = combined_dfs['text'].str.findall('C9WIN').to_list()\n",
    "C9_WIN_df = pd.DataFrame(C9_WIN)"
   ]
  },
  {
   "cell_type": "code",
   "execution_count": 89,
   "id": "9ffdee5d",
   "metadata": {},
   "outputs": [],
   "source": [
    "TL_WIN = combined_dfs['text'].str.findall('TLWIN').to_list()\n",
    "TL_WIN_df = pd.DataFrame(TL_WIN)"
   ]
  },
  {
   "cell_type": "code",
   "execution_count": 198,
   "id": "a0c7920b",
   "metadata": {},
   "outputs": [
    {
     "data": {
      "text/html": [
       "<div>\n",
       "<style scoped>\n",
       "    .dataframe tbody tr th:only-of-type {\n",
       "        vertical-align: middle;\n",
       "    }\n",
       "\n",
       "    .dataframe tbody tr th {\n",
       "        vertical-align: top;\n",
       "    }\n",
       "\n",
       "    .dataframe thead th {\n",
       "        text-align: right;\n",
       "    }\n",
       "</style>\n",
       "<table border=\"1\" class=\"dataframe\">\n",
       "  <thead>\n",
       "    <tr style=\"text-align: right;\">\n",
       "      <th></th>\n",
       "      <th>0</th>\n",
       "    </tr>\n",
       "  </thead>\n",
       "  <tbody>\n",
       "    <tr>\n",
       "      <th>0</th>\n",
       "      <td>None</td>\n",
       "    </tr>\n",
       "    <tr>\n",
       "      <th>1</th>\n",
       "      <td>None</td>\n",
       "    </tr>\n",
       "    <tr>\n",
       "      <th>2</th>\n",
       "      <td>None</td>\n",
       "    </tr>\n",
       "    <tr>\n",
       "      <th>3</th>\n",
       "      <td>None</td>\n",
       "    </tr>\n",
       "    <tr>\n",
       "      <th>4</th>\n",
       "      <td>TLWIN</td>\n",
       "    </tr>\n",
       "    <tr>\n",
       "      <th>...</th>\n",
       "      <td>...</td>\n",
       "    </tr>\n",
       "    <tr>\n",
       "      <th>294</th>\n",
       "      <td>TLWIN</td>\n",
       "    </tr>\n",
       "    <tr>\n",
       "      <th>295</th>\n",
       "      <td>TLWIN</td>\n",
       "    </tr>\n",
       "    <tr>\n",
       "      <th>296</th>\n",
       "      <td>None</td>\n",
       "    </tr>\n",
       "    <tr>\n",
       "      <th>297</th>\n",
       "      <td>None</td>\n",
       "    </tr>\n",
       "    <tr>\n",
       "      <th>298</th>\n",
       "      <td>None</td>\n",
       "    </tr>\n",
       "  </tbody>\n",
       "</table>\n",
       "<p>299 rows × 1 columns</p>\n",
       "</div>"
      ],
      "text/plain": [
       "         0\n",
       "0     None\n",
       "1     None\n",
       "2     None\n",
       "3     None\n",
       "4    TLWIN\n",
       "..     ...\n",
       "294  TLWIN\n",
       "295  TLWIN\n",
       "296   None\n",
       "297   None\n",
       "298   None\n",
       "\n",
       "[299 rows x 1 columns]"
      ]
     },
     "execution_count": 198,
     "metadata": {},
     "output_type": "execute_result"
    }
   ],
   "source": [
    "TL_WIN_df"
   ]
  },
  {
   "cell_type": "code",
   "execution_count": 91,
   "id": "29966451",
   "metadata": {},
   "outputs": [],
   "source": [
    "hun_WIN = combined_dfs['text'].str.findall('100WIN').to_list()\n",
    "hun_WIN_df = pd.DataFrame(hun_WIN)"
   ]
  },
  {
   "cell_type": "markdown",
   "id": "7914bd0f",
   "metadata": {},
   "source": [
    "From these 3 data frames, I created one larger data frame using only the relevant columns."
   ]
  },
  {
   "cell_type": "code",
   "execution_count": 199,
   "id": "b69a6999",
   "metadata": {},
   "outputs": [],
   "source": [
    "Hashtag_df = pd.DataFrame(\n",
    "{'#C9WIN': C9_WIN_df[0],\n",
    " '#TLWIN': TL_WIN_df[0],\n",
    " '#100WIN': hun_WIN_df[0]}\n",
    ")"
   ]
  },
  {
   "cell_type": "code",
   "execution_count": 200,
   "id": "43aa7743",
   "metadata": {},
   "outputs": [
    {
     "data": {
      "text/html": [
       "<div>\n",
       "<style scoped>\n",
       "    .dataframe tbody tr th:only-of-type {\n",
       "        vertical-align: middle;\n",
       "    }\n",
       "\n",
       "    .dataframe tbody tr th {\n",
       "        vertical-align: top;\n",
       "    }\n",
       "\n",
       "    .dataframe thead th {\n",
       "        text-align: right;\n",
       "    }\n",
       "</style>\n",
       "<table border=\"1\" class=\"dataframe\">\n",
       "  <thead>\n",
       "    <tr style=\"text-align: right;\">\n",
       "      <th></th>\n",
       "      <th>#C9WIN</th>\n",
       "      <th>#TLWIN</th>\n",
       "      <th>#100WIN</th>\n",
       "    </tr>\n",
       "  </thead>\n",
       "  <tbody>\n",
       "    <tr>\n",
       "      <th>0</th>\n",
       "      <td>None</td>\n",
       "      <td>None</td>\n",
       "      <td>None</td>\n",
       "    </tr>\n",
       "    <tr>\n",
       "      <th>1</th>\n",
       "      <td>C9WIN</td>\n",
       "      <td>None</td>\n",
       "      <td>None</td>\n",
       "    </tr>\n",
       "    <tr>\n",
       "      <th>2</th>\n",
       "      <td>None</td>\n",
       "      <td>None</td>\n",
       "      <td>None</td>\n",
       "    </tr>\n",
       "    <tr>\n",
       "      <th>3</th>\n",
       "      <td>None</td>\n",
       "      <td>None</td>\n",
       "      <td>None</td>\n",
       "    </tr>\n",
       "    <tr>\n",
       "      <th>4</th>\n",
       "      <td>None</td>\n",
       "      <td>TLWIN</td>\n",
       "      <td>None</td>\n",
       "    </tr>\n",
       "    <tr>\n",
       "      <th>...</th>\n",
       "      <td>...</td>\n",
       "      <td>...</td>\n",
       "      <td>...</td>\n",
       "    </tr>\n",
       "    <tr>\n",
       "      <th>294</th>\n",
       "      <td>None</td>\n",
       "      <td>TLWIN</td>\n",
       "      <td>None</td>\n",
       "    </tr>\n",
       "    <tr>\n",
       "      <th>295</th>\n",
       "      <td>None</td>\n",
       "      <td>TLWIN</td>\n",
       "      <td>None</td>\n",
       "    </tr>\n",
       "    <tr>\n",
       "      <th>296</th>\n",
       "      <td>C9WIN</td>\n",
       "      <td>None</td>\n",
       "      <td>None</td>\n",
       "    </tr>\n",
       "    <tr>\n",
       "      <th>297</th>\n",
       "      <td>C9WIN</td>\n",
       "      <td>None</td>\n",
       "      <td>None</td>\n",
       "    </tr>\n",
       "    <tr>\n",
       "      <th>298</th>\n",
       "      <td>C9WIN</td>\n",
       "      <td>None</td>\n",
       "      <td>None</td>\n",
       "    </tr>\n",
       "  </tbody>\n",
       "</table>\n",
       "<p>299 rows × 3 columns</p>\n",
       "</div>"
      ],
      "text/plain": [
       "    #C9WIN #TLWIN #100WIN\n",
       "0     None   None    None\n",
       "1    C9WIN   None    None\n",
       "2     None   None    None\n",
       "3     None   None    None\n",
       "4     None  TLWIN    None\n",
       "..     ...    ...     ...\n",
       "294   None  TLWIN    None\n",
       "295   None  TLWIN    None\n",
       "296  C9WIN   None    None\n",
       "297  C9WIN   None    None\n",
       "298  C9WIN   None    None\n",
       "\n",
       "[299 rows x 3 columns]"
      ]
     },
     "execution_count": 200,
     "metadata": {},
     "output_type": "execute_result"
    }
   ],
   "source": [
    "Hashtag_df"
   ]
  },
  {
   "cell_type": "markdown",
   "id": "e25197bf",
   "metadata": {},
   "source": [
    "After I had the combined data frame, I looked at the sum of each relevant value in the columns, and created a final data frame. Using the sum was necessary to translate the text values into numerical values, which I could then graph below."
   ]
  },
  {
   "cell_type": "code",
   "execution_count": 133,
   "id": "b8c14570",
   "metadata": {
    "scrolled": true
   },
   "outputs": [],
   "source": [
    "C9_Count = (Hashtag_df == 'C9WIN').sum()\n",
    "TL_Count = (Hashtag_df == 'TLWIN').sum()\n",
    "HUN_Count = (Hashtag_df == '100WIN').sum()"
   ]
  },
  {
   "cell_type": "code",
   "execution_count": 144,
   "id": "5296a5d2",
   "metadata": {},
   "outputs": [],
   "source": [
    "Count_df = pd.DataFrame(\n",
    "{'#C9WIN': C9_Count[0],\n",
    " '#TLWIN': TL_Count[1],\n",
    " '#100WIN': HUN_Count[2]\n",
    "}, index=[0]\n",
    ")"
   ]
  },
  {
   "cell_type": "markdown",
   "id": "9a8eb2e6",
   "metadata": {},
   "source": [
    "<h2>Visualization of Query</h2>"
   ]
  },
  {
   "cell_type": "code",
   "execution_count": 193,
   "id": "8a10f77e",
   "metadata": {
    "scrolled": true
   },
   "outputs": [
    {
     "data": {
      "text/plain": [
       "<AxesSubplot:xlabel='Hashtag', ylabel='Frequency of Hashtag'>"
      ]
     },
     "execution_count": 193,
     "metadata": {},
     "output_type": "execute_result"
    },
    {
     "data": {
      "image/png": "[encoded data removed]",
      "text/plain": [
       "<Figure size 432x288 with 1 Axes>"
      ]
     },
     "metadata": {
      "needs_background": "light"
     },
     "output_type": "display_data"
    }
   ],
   "source": [
    "Count_df.plot.bar(ylabel='Frequency of Hashtag', xlabel='Hashtag', fontsize=(13), figsize=(6, 4))"
   ]
  },
  {
   "cell_type": "markdown",
   "id": "2b1ea197",
   "metadata": {},
   "source": [
    "This is the final visualization of my query, showing the frequency of each hashtag from the tweets that I collected. I will say, this data is not conclusive in any way, and is not a perfect representation of the data. I do not know why #100WIN is so low in comparison to the other two. Additionally, these hashtags are not only used in support of the League of Legends teams, which is what I am interested in. These hashtags are used by the organizations across all of their teams as well, making this data somewhat unreliable. This data does make sense however. Cloud 9 was the only team to make it to the playoffs stage of the tournament, so it makes sense that they would have the most support, especially since they have become a source of hope for most North American fans, as they are the last representative we have."
   ]
  },
  {
   "cell_type": "code",
   "execution_count": 165,
   "id": "aba3798a",
   "metadata": {
    "scrolled": true
   },
   "outputs": [
    {
     "data": {
      "text/plain": [
       "dict_keys(['data', 'includes', 'meta'])"
      ]
     },
     "execution_count": 165,
     "metadata": {},
     "output_type": "execute_result"
    }
   ],
   "source": [
    "response_1_dict.keys()"
   ]
  },
  {
   "cell_type": "code",
   "execution_count": null,
   "id": "98fd1a56",
   "metadata": {
    "scrolled": true
   },
   "outputs": [],
   "source": [
    "response_1_dict['includes']"
   ]
  },
  {
   "cell_type": "code",
   "execution_count": 167,
   "id": "4cf81aa1",
   "metadata": {},
   "outputs": [],
   "source": [
    "user_info = pd.DataFrame(response_1_dict['includes']['users'])"
   ]
  },
  {
   "cell_type": "code",
   "execution_count": 168,
   "id": "c9b119c4",
   "metadata": {},
   "outputs": [],
   "source": [
    "user_info2 = pd.DataFrame(response_2_dict['includes']['users'])"
   ]
  },
  {
   "cell_type": "code",
   "execution_count": 169,
   "id": "a6b42d35",
   "metadata": {},
   "outputs": [],
   "source": [
    "user_info3 = pd.DataFrame(response_3_dict['includes']['users'])"
   ]
  },
  {
   "cell_type": "code",
   "execution_count": 170,
   "id": "100e5dcf",
   "metadata": {},
   "outputs": [],
   "source": [
    "user_info_array = [user_info,user_info2,user_info3]"
   ]
  },
  {
   "cell_type": "code",
   "execution_count": 171,
   "id": "f4810a5c",
   "metadata": {},
   "outputs": [],
   "source": [
    "combined_user_info = pd.concat(user_info_array)"
   ]
  },
  {
   "cell_type": "code",
   "execution_count": 175,
   "id": "5c5a75e6",
   "metadata": {},
   "outputs": [],
   "source": [
    "user_name = combined_user_info['name']"
   ]
  },
  {
   "cell_type": "code",
   "execution_count": 176,
   "id": "da590280",
   "metadata": {},
   "outputs": [
    {
     "data": {
      "text/plain": [
       "0                  TheMightyBaloon\n",
       "1                   Graphic Upshot\n",
       "2                    Andrew Norris\n",
       "3              Ronald #Resistencia\n",
       "4                           Cy Ver\n",
       "                  ...             \n",
       "85                          micah.\n",
       "86                 armandoportilho\n",
       "87                              Jo\n",
       "88    Ranking in Doubles(pkmn) 👋🏻👀\n",
       "89                          Colfax\n",
       "Name: name, Length: 282, dtype: object"
      ]
     },
     "execution_count": 176,
     "metadata": {},
     "output_type": "execute_result"
    }
   ],
   "source": [
    "user_name"
   ]
  },
  {
   "cell_type": "code",
   "execution_count": 177,
   "id": "9d32c0b3",
   "metadata": {
    "scrolled": true
   },
   "outputs": [
    {
     "data": {
      "text/html": [
       "<div>\n",
       "<style scoped>\n",
       "    .dataframe tbody tr th:only-of-type {\n",
       "        vertical-align: middle;\n",
       "    }\n",
       "\n",
       "    .dataframe tbody tr th {\n",
       "        vertical-align: top;\n",
       "    }\n",
       "\n",
       "    .dataframe thead th {\n",
       "        text-align: right;\n",
       "    }\n",
       "</style>\n",
       "<table border=\"1\" class=\"dataframe\">\n",
       "  <thead>\n",
       "    <tr style=\"text-align: right;\">\n",
       "      <th></th>\n",
       "      <th>id</th>\n",
       "      <th>name</th>\n",
       "      <th>username</th>\n",
       "    </tr>\n",
       "  </thead>\n",
       "  <tbody>\n",
       "    <tr>\n",
       "      <th>61</th>\n",
       "      <td>995882911</td>\n",
       "      <td>Clarence Storm/Jalen</td>\n",
       "      <td>AgentJalen18</td>\n",
       "    </tr>\n",
       "    <tr>\n",
       "      <th>42</th>\n",
       "      <td>990125779</td>\n",
       "      <td>Jake</td>\n",
       "      <td>thebulld0zer</td>\n",
       "    </tr>\n",
       "    <tr>\n",
       "      <th>60</th>\n",
       "      <td>981928962</td>\n",
       "      <td>Big G fan</td>\n",
       "      <td>Brewer90M</td>\n",
       "    </tr>\n",
       "    <tr>\n",
       "      <th>76</th>\n",
       "      <td>976777185884176384</td>\n",
       "      <td>krazy popet</td>\n",
       "      <td>notseraphs</td>\n",
       "    </tr>\n",
       "    <tr>\n",
       "      <th>0</th>\n",
       "      <td>974494140783214593</td>\n",
       "      <td>grizz233</td>\n",
       "      <td>grizz2331</td>\n",
       "    </tr>\n",
       "    <tr>\n",
       "      <th>...</th>\n",
       "      <td>...</td>\n",
       "      <td>...</td>\n",
       "      <td>...</td>\n",
       "    </tr>\n",
       "    <tr>\n",
       "      <th>91</th>\n",
       "      <td>1019362363286355974</td>\n",
       "      <td>Dan</td>\n",
       "      <td>Windowshadow69</td>\n",
       "    </tr>\n",
       "    <tr>\n",
       "      <th>66</th>\n",
       "      <td>1012552501</td>\n",
       "      <td>eRa Dalaqua</td>\n",
       "      <td>joaodalaqua</td>\n",
       "    </tr>\n",
       "    <tr>\n",
       "      <th>20</th>\n",
       "      <td>1008284215421440000</td>\n",
       "      <td>da</td>\n",
       "      <td>alcaraz_daryl</td>\n",
       "    </tr>\n",
       "    <tr>\n",
       "      <th>5</th>\n",
       "      <td>1007039025675456514</td>\n",
       "      <td>Tzn</td>\n",
       "      <td>TheuzinFN</td>\n",
       "    </tr>\n",
       "    <tr>\n",
       "      <th>9</th>\n",
       "      <td>1000411723881426950</td>\n",
       "      <td>iBeyondGodly</td>\n",
       "      <td>iBeyondGodly</td>\n",
       "    </tr>\n",
       "  </tbody>\n",
       "</table>\n",
       "<p>282 rows × 3 columns</p>\n",
       "</div>"
      ],
      "text/plain": [
       "                     id                  name        username\n",
       "61            995882911  Clarence Storm/Jalen    AgentJalen18\n",
       "42            990125779                  Jake    thebulld0zer\n",
       "60            981928962             Big G fan       Brewer90M\n",
       "76   976777185884176384           krazy popet      notseraphs\n",
       "0    974494140783214593              grizz233       grizz2331\n",
       "..                  ...                   ...             ...\n",
       "91  1019362363286355974                   Dan  Windowshadow69\n",
       "66           1012552501           eRa Dalaqua     joaodalaqua\n",
       "20  1008284215421440000                    da   alcaraz_daryl\n",
       "5   1007039025675456514                   Tzn       TheuzinFN\n",
       "9   1000411723881426950          iBeyondGodly    iBeyondGodly\n",
       "\n",
       "[282 rows x 3 columns]"
      ]
     },
     "execution_count": 177,
     "metadata": {},
     "output_type": "execute_result"
    }
   ],
   "source": [
    "combined_user_info.sort_values('id', ascending = False)"
   ]
  },
  {
   "cell_type": "markdown",
   "id": "79a73d66",
   "metadata": {},
   "source": [
    "This is the combined dataframe with all of the names and usernames of the collected tweets. Here is where I am having some troubles with my code. I have all the names and usernames of the tweets, but I cannot link them up with the other data frame. I think this is partially due to the difference in number of rows. I do not know why the number of rows are different. When I try to add the names as another row to the main dataframe, I get an error about duplicate axis"
   ]
  },
  {
   "cell_type": "code",
   "execution_count": 178,
   "id": "e7a9862e",
   "metadata": {
    "scrolled": true
   },
   "outputs": [
    {
     "data": {
      "text/html": [
       "<div>\n",
       "<style scoped>\n",
       "    .dataframe tbody tr th:only-of-type {\n",
       "        vertical-align: middle;\n",
       "    }\n",
       "\n",
       "    .dataframe tbody tr th {\n",
       "        vertical-align: top;\n",
       "    }\n",
       "\n",
       "    .dataframe thead th {\n",
       "        text-align: right;\n",
       "    }\n",
       "</style>\n",
       "<table border=\"1\" class=\"dataframe\">\n",
       "  <thead>\n",
       "    <tr style=\"text-align: right;\">\n",
       "      <th></th>\n",
       "      <th>name</th>\n",
       "      <th>username</th>\n",
       "    </tr>\n",
       "    <tr>\n",
       "      <th>id</th>\n",
       "      <th></th>\n",
       "      <th></th>\n",
       "    </tr>\n",
       "  </thead>\n",
       "  <tbody>\n",
       "    <tr>\n",
       "      <th>995882911</th>\n",
       "      <td>1</td>\n",
       "      <td>1</td>\n",
       "    </tr>\n",
       "    <tr>\n",
       "      <th>990125779</th>\n",
       "      <td>1</td>\n",
       "      <td>1</td>\n",
       "    </tr>\n",
       "    <tr>\n",
       "      <th>981928962</th>\n",
       "      <td>1</td>\n",
       "      <td>1</td>\n",
       "    </tr>\n",
       "    <tr>\n",
       "      <th>976777185884176384</th>\n",
       "      <td>1</td>\n",
       "      <td>1</td>\n",
       "    </tr>\n",
       "    <tr>\n",
       "      <th>974494140783214593</th>\n",
       "      <td>1</td>\n",
       "      <td>1</td>\n",
       "    </tr>\n",
       "    <tr>\n",
       "      <th>...</th>\n",
       "      <td>...</td>\n",
       "      <td>...</td>\n",
       "    </tr>\n",
       "    <tr>\n",
       "      <th>1019362363286355974</th>\n",
       "      <td>1</td>\n",
       "      <td>1</td>\n",
       "    </tr>\n",
       "    <tr>\n",
       "      <th>1012552501</th>\n",
       "      <td>1</td>\n",
       "      <td>1</td>\n",
       "    </tr>\n",
       "    <tr>\n",
       "      <th>1008284215421440000</th>\n",
       "      <td>1</td>\n",
       "      <td>1</td>\n",
       "    </tr>\n",
       "    <tr>\n",
       "      <th>1007039025675456514</th>\n",
       "      <td>1</td>\n",
       "      <td>1</td>\n",
       "    </tr>\n",
       "    <tr>\n",
       "      <th>1000411723881426950</th>\n",
       "      <td>1</td>\n",
       "      <td>1</td>\n",
       "    </tr>\n",
       "  </tbody>\n",
       "</table>\n",
       "<p>279 rows × 2 columns</p>\n",
       "</div>"
      ],
      "text/plain": [
       "                     name  username\n",
       "id                                 \n",
       "995882911               1         1\n",
       "990125779               1         1\n",
       "981928962               1         1\n",
       "976777185884176384      1         1\n",
       "974494140783214593      1         1\n",
       "...                   ...       ...\n",
       "1019362363286355974     1         1\n",
       "1012552501              1         1\n",
       "1008284215421440000     1         1\n",
       "1007039025675456514     1         1\n",
       "1000411723881426950     1         1\n",
       "\n",
       "[279 rows x 2 columns]"
      ]
     },
     "execution_count": 178,
     "metadata": {},
     "output_type": "execute_result"
    }
   ],
   "source": [
    "combined_user_info.groupby('id').count().sort_values('id', ascending = False)"
   ]
  },
  {
   "cell_type": "code",
   "execution_count": 179,
   "id": "a4b435c8",
   "metadata": {
    "scrolled": true
   },
   "outputs": [
    {
     "data": {
      "text/html": [
       "<div>\n",
       "<style scoped>\n",
       "    .dataframe tbody tr th:only-of-type {\n",
       "        vertical-align: middle;\n",
       "    }\n",
       "\n",
       "    .dataframe tbody tr th {\n",
       "        vertical-align: top;\n",
       "    }\n",
       "\n",
       "    .dataframe thead th {\n",
       "        text-align: right;\n",
       "    }\n",
       "</style>\n",
       "<table border=\"1\" class=\"dataframe\">\n",
       "  <thead>\n",
       "    <tr style=\"text-align: right;\">\n",
       "      <th></th>\n",
       "      <th>name</th>\n",
       "      <th>username</th>\n",
       "    </tr>\n",
       "    <tr>\n",
       "      <th>id</th>\n",
       "      <th></th>\n",
       "      <th></th>\n",
       "    </tr>\n",
       "  </thead>\n",
       "  <tbody>\n",
       "    <tr>\n",
       "      <th>955970677</th>\n",
       "      <td>1</td>\n",
       "      <td>1</td>\n",
       "    </tr>\n",
       "    <tr>\n",
       "      <th>940631444669440000</th>\n",
       "      <td>1</td>\n",
       "      <td>1</td>\n",
       "    </tr>\n",
       "    <tr>\n",
       "      <th>933492426</th>\n",
       "      <td>1</td>\n",
       "      <td>1</td>\n",
       "    </tr>\n",
       "    <tr>\n",
       "      <th>919495234991427584</th>\n",
       "      <td>1</td>\n",
       "      <td>1</td>\n",
       "    </tr>\n",
       "    <tr>\n",
       "      <th>907074598574858241</th>\n",
       "      <td>1</td>\n",
       "      <td>1</td>\n",
       "    </tr>\n",
       "    <tr>\n",
       "      <th>...</th>\n",
       "      <td>...</td>\n",
       "      <td>...</td>\n",
       "    </tr>\n",
       "    <tr>\n",
       "      <th>1066867383061630976</th>\n",
       "      <td>1</td>\n",
       "      <td>1</td>\n",
       "    </tr>\n",
       "    <tr>\n",
       "      <th>1058102479567482880</th>\n",
       "      <td>1</td>\n",
       "      <td>1</td>\n",
       "    </tr>\n",
       "    <tr>\n",
       "      <th>1039511865980870656</th>\n",
       "      <td>1</td>\n",
       "      <td>1</td>\n",
       "    </tr>\n",
       "    <tr>\n",
       "      <th>1037751884</th>\n",
       "      <td>1</td>\n",
       "      <td>1</td>\n",
       "    </tr>\n",
       "    <tr>\n",
       "      <th>1012552501</th>\n",
       "      <td>1</td>\n",
       "      <td>1</td>\n",
       "    </tr>\n",
       "  </tbody>\n",
       "</table>\n",
       "<p>97 rows × 2 columns</p>\n",
       "</div>"
      ],
      "text/plain": [
       "                     name  username\n",
       "id                                 \n",
       "955970677               1         1\n",
       "940631444669440000      1         1\n",
       "933492426               1         1\n",
       "919495234991427584      1         1\n",
       "907074598574858241      1         1\n",
       "...                   ...       ...\n",
       "1066867383061630976     1         1\n",
       "1058102479567482880     1         1\n",
       "1039511865980870656     1         1\n",
       "1037751884              1         1\n",
       "1012552501              1         1\n",
       "\n",
       "[97 rows x 2 columns]"
      ]
     },
     "execution_count": 179,
     "metadata": {},
     "output_type": "execute_result"
    }
   ],
   "source": [
    "user_info.groupby('id').count().sort_values('id', ascending = False)"
   ]
  }
 ],
 "metadata": {
  "kernelspec": {
   "display_name": "Python 3 (ipykernel)",
   "language": "python",
   "name": "python3"
  },
  "language_info": {
   "codemirror_mode": {
    "name": "ipython",
    "version": 3
   },
   "file_extension": ".py",
   "mimetype": "text/x-python",
   "name": "python",
   "nbconvert_exporter": "python",
   "pygments_lexer": "ipython3",
   "version": "3.9.6"
  }
 },
 "nbformat": 4,
 "nbformat_minor": 5
}
