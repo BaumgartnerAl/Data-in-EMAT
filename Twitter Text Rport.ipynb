{
 "cells": [
  {
   "cell_type": "markdown",
   "id": "132b2e56",
   "metadata": {},
   "source": [
    "<h1>Twitter Text Report: Worlds 2021</h1>\n"
   ]
  },
  {
   "cell_type": "markdown",
   "id": "e4553239",
   "metadata": {},
   "source": [
    "<h3>Alex Baumgartner</h3>\n",
    "<h4>10/20/20201</h4>\n",
    "The League of Legends World Finals tournament is currently going on. As an avid player and viewer, I thought it would be interesting to parse some twitter data surrounding the North Americans teams that made it to the Worlds tournament. Those teams for this year are Cloud 9, 100 Thieves, and Team Liquid. After the groups stage has been completed, only Cloud 9 has moved on. Because of this, I predict that Cloud 9 will receive the most positive tweets from among the 3 teams. "
   ]
  },
  {
   "cell_type": "code",
   "execution_count": 148,
   "id": "30907d5f",
   "metadata": {},
   "outputs": [],
   "source": [
    "import requests\n",
    "import pandas as pd\n",
    "import urllib\n",
    "import json\n",
    "import matplotlib"
   ]
  },
  {
   "cell_type": "code",
   "execution_count": null,
   "id": "d59bce73",
   "metadata": {
    "scrolled": false
   },
   "outputs": [],
   "source": [
    "ls"
   ]
  },
  {
   "cell_type": "code",
   "execution_count": 3,
   "id": "e90e8e5f",
   "metadata": {},
   "outputs": [],
   "source": [
    "bearer_token = pd.read_csv('Twitter_Bearer.txt', header = 0)"
   ]
  },
  {
   "cell_type": "code",
   "execution_count": null,
   "id": "157124e1",
   "metadata": {
    "scrolled": true
   },
   "outputs": [],
   "source": [
    "bearer_token['Bearer_Token'].iloc[0]"
   ]
  },
  {
   "cell_type": "code",
   "execution_count": 5,
   "id": "3c5aa597",
   "metadata": {},
   "outputs": [],
   "source": [
    "header = {'Authorization' : 'Bearer {}'.format(bearer_token['Bearer_Token'].iloc[0])}"
   ]
  },
  {
   "cell_type": "code",
   "execution_count": 6,
   "id": "3d14c988",
   "metadata": {},
   "outputs": [
    {
     "data": {
      "text/plain": [
       "Index(['Bearer_Token'], dtype='object')"
      ]
     },
     "execution_count": 6,
     "metadata": {},
     "output_type": "execute_result"
    }
   ],
   "source": [
    "bearer_token.keys()"
   ]
  },
  {
   "cell_type": "code",
   "execution_count": 7,
   "id": "c493f2de",
   "metadata": {},
   "outputs": [],
   "source": [
    "endpoint_url = 'https://api.twitter.com/2/tweets/search/recent'"
   ]
  },
  {
   "cell_type": "code",
   "execution_count": 8,
   "id": "abf7ed55",
   "metadata": {
    "scrolled": false
   },
   "outputs": [
    {
     "data": {
      "text/plain": [
       "'https://api.twitter.com/2/tweets/search/recent'"
      ]
     },
     "execution_count": 8,
     "metadata": {},
     "output_type": "execute_result"
    }
   ],
   "source": [
    "endpoint_url"
   ]
  },
  {
   "cell_type": "code",
   "execution_count": 9,
   "id": "89d26b43",
   "metadata": {},
   "outputs": [],
   "source": [
    "query = urllib.parse.quote('(#C9WIN OR #TLWIN OR #100WIN) lang:en')"
   ]
  },
  {
   "cell_type": "markdown",
   "id": "f2a20a1c",
   "metadata": {},
   "source": [
    "For my query, I wanted to find tweets using hashtags for the 3 North American teams that made it to Worlds. "
   ]
  },
  {
   "cell_type": "code",
   "execution_count": 10,
   "id": "399aa177",
   "metadata": {},
   "outputs": [],
   "source": [
    "tweet_fields = 'public_metrics,created_at,author_id,lang,in_reply_to_user_id'"
   ]
  },
  {
   "cell_type": "code",
   "execution_count": 11,
   "id": "83bfc194",
   "metadata": {},
   "outputs": [],
   "source": [
    "my_api_url = endpoint_url + '?query={}&tweet.fields={}'.format(query, tweet_fields)"
   ]
  },
  {
   "cell_type": "code",
   "execution_count": 12,
   "id": "f59837fe",
   "metadata": {},
   "outputs": [
    {
     "data": {
      "text/plain": [
       "'https://api.twitter.com/2/tweets/search/recent?query=%28%23C9WIN%20OR%20%23TLWIN%20OR%20%23100WIN%29%20lang%3Aen&tweet.fields=public_metrics,created_at,author_id,lang,in_reply_to_user_id'"
      ]
     },
     "execution_count": 12,
     "metadata": {},
     "output_type": "execute_result"
    }
   ],
   "source": [
    "my_api_url"
   ]
  },
  {
   "cell_type": "markdown",
   "id": "e45dcda7",
   "metadata": {},
   "source": [
    "I decided to check if the tweets found were in reply to one another as well as the required fields. This can help show any conversations surrounding the teams, which can be interesting to look at and can help when gauging public response to the 3 teams."
   ]
  },
  {
   "cell_type": "code",
   "execution_count": 13,
   "id": "d0e32686",
   "metadata": {},
   "outputs": [],
   "source": [
    "expansions = 'author_id'"
   ]
  },
  {
   "cell_type": "code",
   "execution_count": 14,
   "id": "9d64478d",
   "metadata": {},
   "outputs": [],
   "source": [
    "url = endpoint_url + '?query={}&max_results=100&tweet.fields={}'.format(query, tweet_fields)"
   ]
  },
  {
   "cell_type": "code",
   "execution_count": 15,
   "id": "7f7ebc0c",
   "metadata": {},
   "outputs": [],
   "source": [
    "url_expansions = endpoint_url + '?query={}&max_results=100&tweet.fields={}&expansions={}'.format(query, tweet_fields, expansions)"
   ]
  },
  {
   "cell_type": "code",
   "execution_count": 16,
   "id": "fca60c22",
   "metadata": {},
   "outputs": [
    {
     "data": {
      "text/plain": [
       "'https://api.twitter.com/2/tweets/search/recent?query=%28%23C9WIN%20OR%20%23TLWIN%20OR%20%23100WIN%29%20lang%3Aen&max_results=100&tweet.fields=public_metrics,created_at,author_id,lang,in_reply_to_user_id&expansions=author_id'"
      ]
     },
     "execution_count": 16,
     "metadata": {},
     "output_type": "execute_result"
    }
   ],
   "source": [
    "url_expansions"
   ]
  },
  {
   "cell_type": "code",
   "execution_count": 17,
   "id": "1b064ddd",
   "metadata": {},
   "outputs": [],
   "source": [
    "response_1 = requests.request(\"GET\", url_expansions, headers = header)"
   ]
  },
  {
   "cell_type": "code",
   "execution_count": 18,
   "id": "62fc0026",
   "metadata": {},
   "outputs": [
    {
     "data": {
      "text/plain": [
       "'{\"data\":[{\"id\":\"1450980040536215552\",\"created_at\":\"2021-10-21T00:19:34.000Z\",\"in_reply_to_user_id\":\"1452520626\",\"author_id\":\"1403794489177673731\",\"text\":\"@Cloud9 I doubted c9 once but never again. I\\'m all in on it baby let\\'s go #c9win\",\"public_metrics\":{\"retweet_count\":0,\"reply_count\":0,\"like_count\":0,\"quote_count\":0},\"lang\":\"en\"},{\"id\":\"1450978144886812672\",\"created_at\":\"2021-10-21T00:12:02.000Z\",\"author_id\":\"1376175996852785154\",\"text\":\"Looking for a professional Invoice? For more visit the Link: https://t.co/bwmAiFw5V5\\\\n\\\\nhttps://t.co/bwmAiFw5V5\\\\n#CSKvsKKR \\\\n#IPLFinal \\\\n#Adele \\\\n#Adele30 \\\\n#EasyOnMe \\\\n#AnimalCrossing \\\\n#ACNH  \\\\n#NintendoDirect \\\\n#JUNGKOOK  \\\\n#Giants \\\\n#Dodgers  \\\\n#OUTNOW \\\\n#C9WIN \\\\nhttps://t.co/bwmAiFw5V5 https://t.co/aZHK2iPL1f\",\"public_metrics\":{\"retweet_count\":0,\"reply_count\":0,\"like_count\":0,\"quote_count\":0},\"lang\":\"en\"},{\"id\":\"1450971352970801156\",\"created_at\":\"2021-10-20T23:45:02.000Z\",\"in_reply_to_user_id\":\"1452520626\",\"author_id\":\"612463851\",\"text\":\"@Cloud9 Not I, for I am hoping and praying for you guys on Monday! #c9win\",\"public_metrics\":{\"retweet_count\":0,\"reply_count\":0,\"like_count\":0,\"quote_count\":0},\"lang\":\"en\"},{\"id\":\"1450963657215647749\",\"created_at\":\"2021-10-20T23:14:28.000Z\",\"in_reply_to_user_id\":\"1452520626\",\"author_id\":\"602386138\",\"text\":\"@Cloud9 Gen.g when u win &lt;3 #c9win\",\"public_metrics\":{\"retweet_count\":0,\"reply_count\":0,\"like_count\":0,\"quote_count\":0},\"lang\":\"en\"},{\"id\":\"1450960114928730124\",\"created_at\":\"2021-10-20T23:00:23.000Z\",\"author_id\":\"770305614\",\"text\":\"Lost a bet against my fiancé during the #LCS Summer Finals and had to pay up. I bet her that #TLWIN over #100T but boy did I find out I was wrong quickly! At least this merch is hella slick but that’s expected from a hoodie org :) love what you’ve done with the team @Nadeshot https://t.co/bufmm1bzdT\",\"public_metrics\":{\"retweet_count\":0,\"reply_count\":0,\"like_count\":0,\"quote_count\":0},\"lang\":\"en\"},{\"id\":\"1450934280775942146\",\"created_at\":\"2021-10-20T21:17:44.000Z\",\"author_id\":\"1325497376388370433\",\"text\":\"RT @GoldenGuardians: LET\\'S GOOOOO @Cloud9 \\\\uD83C\\\\uDF89\\\\uD83C\\\\uDF89\\\\n\\\\n#C9WIN \\\\n#C9WIN \\\\n#C9WIN https://t.co/TdH7lTH4py\",\"public_metrics\":{\"retweet_count\":113,\"reply_count\":0,\"like_count\":0,\"quote_count\":0},\"lang\":\"en\"},{\"id\":\"1450930677038280704\",\"created_at\":\"2021-10-20T21:03:25.000Z\",\"author_id\":\"933492426\",\"text\":\"My Pickem is ready!!.\\\\n#LetsGoNA #c9win #T1WIN #edgwin #DKWIN https://t.co/bHloN0CWjF\",\"public_metrics\":{\"retweet_count\":0,\"reply_count\":0,\"like_count\":0,\"quote_count\":0},\"lang\":\"en\"},{\"id\":\"1450920667885363201\",\"created_at\":\"2021-10-20T20:23:38.000Z\",\"author_id\":\"899998653380673536\",\"text\":\"RT @BMWEsports: That\\'s what @T1 and @Cloud9 can achieve at #Worlds2021 if @EsportsFactor is right. #T1WIN #C9WIN #UnitedInRivalry https://t…\",\"public_metrics\":{\"retweet_count\":1,\"reply_count\":0,\"like_count\":0,\"quote_count\":0},\"lang\":\"en\"},{\"id\":\"1450920244344672261\",\"created_at\":\"2021-10-20T20:21:57.000Z\",\"in_reply_to_user_id\":\"3410389873\",\"author_id\":\"1458665886\",\"text\":\"@Shhiro_ @ImLowww @EsportsDotComEN @TeamLiquidLoL @KoldLoL We Stan Jonas Kold out here \\\\uD83D\\\\uDE24 #TLWIN #LetsGoLiquid\",\"public_metrics\":{\"retweet_count\":0,\"reply_count\":0,\"like_count\":2,\"quote_count\":0},\"lang\":\"en\"},{\"id\":\"1450912046136971264\",\"created_at\":\"2021-10-20T19:49:23.000Z\",\"in_reply_to_user_id\":\"575352314\",\"author_id\":\"545294160\",\"text\":\"@LiQuiD112 Another #TLWIN\",\"public_metrics\":{\"retweet_count\":0,\"reply_count\":0,\"like_count\":0,\"quote_count\":0},\"lang\":\"en\"},{\"id\":\"1450897255628636166\",\"created_at\":\"2021-10-20T18:50:36.000Z\",\"in_reply_to_user_id\":\"614754689\",\"author_id\":\"1441074497340117000\",\"text\":\"@lolesports #C9WIN BABY\",\"public_metrics\":{\"retweet_count\":0,\"reply_count\":0,\"like_count\":0,\"quote_count\":0},\"lang\":\"en\"},{\"id\":\"1450888692642496513\",\"created_at\":\"2021-10-20T18:16:35.000Z\",\"author_id\":\"1344432278353698817\",\"text\":\"These are the correct pickems #c9win https://t.co/fHO76Xg7S3 https://t.co/avUwidGQn5\",\"public_metrics\":{\"retweet_count\":0,\"reply_count\":0,\"like_count\":0,\"quote_count\":0},\"lang\":\"en\"},{\"id\":\"1450887310178983942\",\"created_at\":\"2021-10-20T18:11:05.000Z\",\"author_id\":\"4213976945\",\"text\":\"Start of the game vs lategame, giving you mental edge for monday no problem \\\\uD83D\\\\uDE0E #C9WIN\\\\n@C9Perkz @Fudgecakey @blaber @Zven @VulcanLoL https://t.co/FCctfRp98H\",\"public_metrics\":{\"retweet_count\":0,\"reply_count\":0,\"like_count\":34,\"quote_count\":0},\"lang\":\"en\"},{\"id\":\"1450886979780964358\",\"created_at\":\"2021-10-20T18:09:46.000Z\",\"in_reply_to_user_id\":\"877390870818856965\",\"author_id\":\"177808995\",\"text\":\"@Tactical Rest up for next year my guy #TLWin\",\"public_metrics\":{\"retweet_count\":0,\"reply_count\":0,\"like_count\":0,\"quote_count\":0},\"lang\":\"en\"},{\"id\":\"1450885702581948416\",\"created_at\":\"2021-10-20T18:04:42.000Z\",\"author_id\":\"1405266617638993921\",\"text\":\"RT @OvileeMay: WORLDS BABY x @TeamLiquidLoL powered by @Alienware ft. @RazLCS &amp; @CaptainFlowers\\\\n\\\\n#Worlds2021 #TLWIN https://t.co/t9Wpe8kna7\",\"public_metrics\":{\"retweet_count\":1787,\"reply_count\":0,\"like_count\":0,\"quote_count\":0},\"lang\":\"en\"},{\"id\":\"1450879071366172674\",\"created_at\":\"2021-10-20T17:38:21.000Z\",\"author_id\":\"1287372018426376193\",\"text\":\"RT @BMWEsports: Hands up if you are proud of @Cloud9. We are!\\\\n\\\\n\\\\uD83D\\\\uDE4C\\\\uD83C\\\\uDFFB \\\\uD83D\\\\uDE4C\\\\uD83C\\\\uDFFB \\\\uD83D\\\\uDE4C\\\\uD83C\\\\uDFFB \\\\uD83D\\\\uDE4C\\\\uD83C\\\\uDFFB \\\\uD83D\\\\uDE4C\\\\uD83C\\\\uDFFB \\\\uD83D\\\\uDE4C\\\\uD83C\\\\uDFFB \\\\uD83D\\\\uDE4C\\\\uD83C\\\\uDFFB \\\\uD83D\\\\uDE4C\\\\uD83C\\\\uDFFB \\\\uD83D\\\\uDE4C\\\\uD83C\\\\uDFFB \\\\uD83D\\\\uDE4C\\\\uD83C\\\\uDFFB \\\\uD83D\\\\uDE4C\\\\uD83C\\\\uDFFB \\\\uD83D\\\\uDE4C\\\\uD83C\\\\uDFFB \\\\uD83D\\\\uDE4C\\\\uD83C\\\\uDFFB \\\\uD83D\\\\uDE4C\\\\uD83C\\\\uDFFB \\\\uD83D\\\\uDE4C\\\\uD83C\\\\uDFFB \\\\uD83D\\\\uDE4C\\\\uD83C\\\\uDFFB \\\\uD83D\\\\uDE4C\\\\uD83C\\\\uDFFB \\\\uD83D\\\\uDE4C\\\\uD83C\\\\uDFFB \\\\uD83D\\\\uDE4C\\\\uD83C\\\\uDFFB \\\\uD83D\\\\uDE4C\\\\uD83C\\\\uDFFB \\\\uD83D\\\\uDE4C\\\\uD83C\\\\uDFFB \\\\uD83D\\\\uDE4C\\\\uD83C\\\\uDFFB \\\\uD83D\\\\uDE4C\\\\uD83C\\\\uDFFB \\\\uD83D\\\\uDE4C\\\\uD83C\\\\uDFFB \\\\uD83D\\\\uDE4C\\\\uD83C\\\\uDFFB…\",\"public_metrics\":{\"retweet_count\":8,\"reply_count\":0,\"like_count\":0,\"quote_count\":0},\"lang\":\"en\"},{\"id\":\"1450877646397587459\",\"created_at\":\"2021-10-20T17:32:41.000Z\",\"author_id\":\"1465240051\",\"text\":\"Happy Birthday @Alphari can\\'t wait to see you guys next @lolesports #TLWIN https://t.co/75UdvtxErt\",\"public_metrics\":{\"retweet_count\":0,\"reply_count\":0,\"like_count\":0,\"quote_count\":0},\"lang\":\"en\"},{\"id\":\"1450869428304809987\",\"created_at\":\"2021-10-20T17:00:02.000Z\",\"author_id\":\"35975721\",\"text\":\"In today\\'s video I make Jinx\\'s Hand Cannon from League of Legends Arcane! Also... Go Cloud9! https://t.co/8OwXg4DRiY\\\\n\\\\n@LeagueOfLegends \\\\n\\\\n#leagueoflegends #arcane #lol #leagueoflegendscosplay #jinx #jinxlol #jinxcosplay #cloud9 #c9win https://t.co/Dm9BU7g551\",\"public_metrics\":{\"retweet_count\":0,\"reply_count\":0,\"like_count\":6,\"quote_count\":0},\"lang\":\"en\"},{\"id\":\"1450845181742395400\",\"created_at\":\"2021-10-20T15:23:41.000Z\",\"author_id\":\"2859465749\",\"text\":\"I belive for the West \\\\uD83E\\\\uDD72 @MADLions_EN @Cloud9 \\\\n\\\\n#MADWIN #c9win https://t.co/2Dc8RI5eiS\",\"public_metrics\":{\"retweet_count\":0,\"reply_count\":0,\"like_count\":0,\"quote_count\":0},\"lang\":\"en\"},{\"id\":\"1450838402002214912\",\"created_at\":\"2021-10-20T14:56:44.000Z\",\"author_id\":\"940631444669440000\",\"text\":\"RT @PentanetGG: @Cloud9 We on the #C9WIN train now \\\\uD83D\\\\uDE4F https://t.co/oQgnGQ1oAw\",\"public_metrics\":{\"retweet_count\":2,\"reply_count\":0,\"like_count\":0,\"quote_count\":0},\"lang\":\"en\"},{\"id\":\"1450835673838145537\",\"created_at\":\"2021-10-20T14:45:54.000Z\",\"author_id\":\"2457135274\",\"text\":\"RT @SavannahLoveXo3: #Worlds2021 #C9WIN So excited for the last few days of Worlds! Such an amazing event \\\\uD83D\\\\uDC95\\\\uD83E\\\\uDD7A #NA https://t.co/DjBlcLDGpO\",\"public_metrics\":{\"retweet_count\":14,\"reply_count\":0,\"like_count\":0,\"quote_count\":0},\"lang\":\"en\"},{\"id\":\"1450834181173436424\",\"created_at\":\"2021-10-20T14:39:58.000Z\",\"in_reply_to_user_id\":\"1152301380121649152\",\"author_id\":\"1415503391749443585\",\"text\":\"@MastercardNexus Blaber has been the player of worlds. On Week 2 of Group A he near single handedly clawed out leads for himself and extended to his team to keep C9 alive and to Quarters. #C9WIN https://t.co/aicTH0K0yo\",\"public_metrics\":{\"retweet_count\":0,\"reply_count\":0,\"like_count\":6,\"quote_count\":0},\"lang\":\"en\"},{\"id\":\"1450830528337391619\",\"created_at\":\"2021-10-20T14:25:27.000Z\",\"author_id\":\"1517718614\",\"text\":\"How I think the quarterfinals are going to go (honestly think the matchup is really only 60-40 or 55-45 in favor of geng) vs what I\\'m actually making my pickems because LET\\'S GO NA @Cloud9 #C9WIN #Worlds2021 https://t.co/KbMLkJsoBH\",\"public_metrics\":{\"retweet_count\":0,\"reply_count\":0,\"like_count\":0,\"quote_count\":0},\"lang\":\"en\"},{\"id\":\"1450829479257931779\",\"created_at\":\"2021-10-20T14:21:17.000Z\",\"author_id\":\"919495234991427584\",\"text\":\"RT @harper_xd: 7 - 7\\\\n1 vs 4 clutch\\\\n#R6APACL #C9WIN https://t.co/GB9nc4i8IW\",\"public_metrics\":{\"retweet_count\":195,\"reply_count\":0,\"like_count\":0,\"quote_count\":0},\"lang\":\"en\"},{\"id\":\"1450820165243969543\",\"created_at\":\"2021-10-20T13:44:16.000Z\",\"author_id\":\"1077638125\",\"text\":\"Okay so I\\'ve got to a conclusion :\\\\n@Cloud9 if you guys win Worlds 2021, I\\'m getting your logo tattoo\\'d\\\\n#c9win\",\"public_metrics\":{\"retweet_count\":0,\"reply_count\":0,\"like_count\":1,\"quote_count\":0},\"lang\":\"en\"},{\"id\":\"1450816299228024832\",\"created_at\":\"2021-10-20T13:28:55.000Z\",\"author_id\":\"876990335598985216\",\"text\":\"RT @kamikita_v: #TLWIN\\\\n#ValorantArt \\\\ni love your play @ScreaM_ https://t.co/BH3ohxrCPJ\",\"public_metrics\":{\"retweet_count\":1,\"reply_count\":0,\"like_count\":0,\"quote_count\":0},\"lang\":\"en\"},{\"id\":\"1450815674901749761\",\"created_at\":\"2021-10-20T13:26:26.000Z\",\"author_id\":\"3330885537\",\"text\":\"Picks for Quarterfinals #hopium #MADWIN #c9win https://t.co/c11o2VN5B5\",\"public_metrics\":{\"retweet_count\":0,\"reply_count\":0,\"like_count\":0,\"quote_count\":0},\"lang\":\"en\"},{\"id\":\"1450805891150737414\",\"created_at\":\"2021-10-20T12:47:33.000Z\",\"author_id\":\"1398543070061236227\",\"text\":\"RT @TeamLiquidLoL: LET’S FUUUCKING GOOOOOO #TLWIN\",\"public_metrics\":{\"retweet_count\":188,\"reply_count\":0,\"like_count\":0,\"quote_count\":0},\"lang\":\"en\"},{\"id\":\"1450795229276217345\",\"created_at\":\"2021-10-20T12:05:11.000Z\",\"author_id\":\"3033067642\",\"text\":\"LoL Quarterfinals picks\\\\n\\\\n#Worlds2021 #quarterfinals #MadLions #DWGwin #RNGWIN #T1Fighting #HLE #EDG #C9win  #Geng #LCK #lpl #LEC #lcs https://t.co/MNJ1XDqWvI\",\"public_metrics\":{\"retweet_count\":0,\"reply_count\":0,\"like_count\":0,\"quote_count\":0},\"lang\":\"en\"},{\"id\":\"1450789825586548745\",\"created_at\":\"2021-10-20T11:43:43.000Z\",\"author_id\":\"1388980322\",\"text\":\"RT @Cloud9: AGAINST ALL ODDS #C9WIN https://t.co/o9H3EwFPHV\",\"public_metrics\":{\"retweet_count\":2095,\"reply_count\":0,\"like_count\":0,\"quote_count\":0},\"lang\":\"en\"},{\"id\":\"1450781501491224578\",\"created_at\":\"2021-10-20T11:10:38.000Z\",\"author_id\":\"1294102689559785472\",\"text\":\"RT @Kourou_FR: @Cubbyxx Nothing to say more about this, but be aware of global baiting by C9...\\\\n#Worlds2021 #C9WIN #Geng https://t.co/e4S7W…\",\"public_metrics\":{\"retweet_count\":1,\"reply_count\":0,\"like_count\":0,\"quote_count\":0},\"lang\":\"en\"},{\"id\":\"1450779454221991945\",\"created_at\":\"2021-10-20T11:02:30.000Z\",\"author_id\":\"1191028630245322753\",\"text\":\"RT @OvileeMay: We stan @Santorin in this house \\\\uD83C\\\\uDFC6\\\\n\\\\n#TLWIN #Worlds2021 @TeamLiquidLoL https://t.co/2iZOqCOVH0\",\"public_metrics\":{\"retweet_count\":60,\"reply_count\":0,\"like_count\":0,\"quote_count\":0},\"lang\":\"en\"},{\"id\":\"1450779437365145601\",\"created_at\":\"2021-10-20T11:02:26.000Z\",\"author_id\":\"1191028630245322753\",\"text\":\"RT @OvileeMay: Group Stage starts tomorrow with @TeamLiquidLoL\\'s first game of #Worlds2021\\\\n\\\\nHave a cookie and get hyped for the #TLWIN!! ..…\",\"public_metrics\":{\"retweet_count\":38,\"reply_count\":0,\"like_count\":0,\"quote_count\":0},\"lang\":\"en\"},{\"id\":\"1450771215136829440\",\"created_at\":\"2021-10-20T10:29:46.000Z\",\"author_id\":\"58965194\",\"text\":\"Hopium I guess\\\\uD83D\\\\uDC40\\\\n#MADWIN #c9win https://t.co/awsqclZLQY\",\"public_metrics\":{\"retweet_count\":0,\"reply_count\":0,\"like_count\":0,\"quote_count\":0},\"lang\":\"en\"},{\"id\":\"1450771012677632010\",\"created_at\":\"2021-10-20T10:28:58.000Z\",\"author_id\":\"1360268779\",\"text\":\"RT @OvileeMay: WORLDS BABY x @TeamLiquidLoL powered by @Alienware ft. @RazLCS &amp; @CaptainFlowers\\\\n\\\\n#Worlds2021 #TLWIN https://t.co/t9Wpe8kna7\",\"public_metrics\":{\"retweet_count\":1787,\"reply_count\":0,\"like_count\":0,\"quote_count\":0},\"lang\":\"en\"},{\"id\":\"1450766066179842064\",\"created_at\":\"2021-10-20T10:09:18.000Z\",\"author_id\":\"1374072252333969409\",\"text\":\"EU\\\\uD83E\\\\uDD1DNA supremacy\\\\n\\\\nwe believe\\\\n#Worlds2021 #MADWIN #c9win https://t.co/EiarTNHEAG\",\"public_metrics\":{\"retweet_count\":0,\"reply_count\":0,\"like_count\":2,\"quote_count\":0},\"lang\":\"en\"},{\"id\":\"1450740384284528641\",\"created_at\":\"2021-10-20T08:27:15.000Z\",\"in_reply_to_user_id\":\"1290587544330043394\",\"author_id\":\"1290587544330043394\",\"text\":\"Will @Cloud9 progress to the semifinals, finals or even win #Worlds2021? Vote.\\\\uD83D\\\\uDD3D #C9WIN\",\"public_metrics\":{\"retweet_count\":0,\"reply_count\":1,\"like_count\":8,\"quote_count\":0},\"lang\":\"en\"},{\"id\":\"1450740377011556353\",\"created_at\":\"2021-10-20T08:27:13.000Z\",\"author_id\":\"1290587544330043394\",\"text\":\"That\\'s what @T1 and @Cloud9 can achieve at #Worlds2021 if @EsportsFactor is right. #T1WIN #C9WIN #UnitedInRivalry https://t.co/LMkdyLPySr\",\"public_metrics\":{\"retweet_count\":1,\"reply_count\":2,\"like_count\":31,\"quote_count\":0},\"lang\":\"en\"},{\"id\":\"1450731080475193346\",\"created_at\":\"2021-10-20T07:50:17.000Z\",\"author_id\":\"1282060363446595585\",\"text\":\"Not the most succesful groups pickems but damn close. Crystal Ball pick you alr know it @Cloud9 #C9WIN  PLUS my QF pickems, honestly 0 doubt in any of those 4 teams. https://t.co/ex0MvBHl3F\",\"public_metrics\":{\"retweet_count\":0,\"reply_count\":0,\"like_count\":0,\"quote_count\":0},\"lang\":\"en\"},{\"id\":\"1450727126118776836\",\"created_at\":\"2021-10-20T07:34:34.000Z\",\"author_id\":\"823657220663447552\",\"text\":\"RT @GoldenGuardians: LET\\'S GOOOOO @Cloud9 \\\\uD83C\\\\uDF89\\\\uD83C\\\\uDF89\\\\n\\\\n#C9WIN \\\\n#C9WIN \\\\n#C9WIN https://t.co/TdH7lTH4py\",\"public_metrics\":{\"retweet_count\":113,\"reply_count\":0,\"like_count\":0,\"quote_count\":0},\"lang\":\"en\"},{\"id\":\"1450715742513553410\",\"created_at\":\"2021-10-20T06:49:20.000Z\",\"author_id\":\"765966190707675136\",\"text\":\"*inhales hopium* https://t.co/VXuZmNf722 LETS GO #C9WIN @RazLCS keep that c9 jersey on forever\",\"public_metrics\":{\"retweet_count\":0,\"reply_count\":0,\"like_count\":0,\"quote_count\":0},\"lang\":\"en\"},{\"id\":\"1450688285454606339\",\"created_at\":\"2021-10-20T05:00:14.000Z\",\"author_id\":\"1370171328355962884\",\"text\":\"RT @FlyQuest: Invocation circle:\\\\n\\\\n                      \\\\uD83D\\\\uDD6F\\\\n              \\\\uD83D\\\\uDD6F           \\\\uD83D\\\\uDD6F\\\\n        \\\\uD83D\\\\uDD6F                       \\\\uD83D\\\\uDD6F…\",\"public_metrics\":{\"retweet_count\":22,\"reply_count\":0,\"like_count\":0,\"quote_count\":0},\"lang\":\"en\"},{\"id\":\"1450672617732677632\",\"created_at\":\"2021-10-20T03:57:58.000Z\",\"author_id\":\"1382252800386727937\",\"text\":\"RT @Reemas64361818: #balleghni_alislam\\\\n#Only_Allah_Can_Save_the_world\\\\n\\\\uD83D\\\\uDD3B\\\\uD83D\\\\uDD3B\\\\nAnimal Crossing\\\\nNintendo\\\\n#C9WIN\\\\n#YOUSEASON3\\\\n#FreeCodeFridayContest…\",\"public_metrics\":{\"retweet_count\":1,\"reply_count\":0,\"like_count\":0,\"quote_count\":0},\"lang\":\"en\"},{\"id\":\"1450642045287141377\",\"created_at\":\"2021-10-20T01:56:29.000Z\",\"author_id\":\"1215743068697219074\",\"text\":\"RT @TheuzinFN: \\\\\" header for @blxckoutz \\\\\" \\\\n\\\\n@Cloud9 #C9WIN \\\\n\\\\nall support is appreciated. https://t.co/UxtFoQo96X\",\"public_metrics\":{\"retweet_count\":19,\"reply_count\":0,\"like_count\":0,\"quote_count\":0},\"lang\":\"en\"},{\"id\":\"1450640681521664006\",\"created_at\":\"2021-10-20T01:51:04.000Z\",\"author_id\":\"482423373\",\"text\":\"RT @OvileeMay: WORLDS BABY x @TeamLiquidLoL powered by @Alienware ft. @RazLCS &amp; @CaptainFlowers\\\\n\\\\n#Worlds2021 #TLWIN https://t.co/t9Wpe8kna7\",\"public_metrics\":{\"retweet_count\":1787,\"reply_count\":0,\"like_count\":0,\"quote_count\":0},\"lang\":\"en\"},{\"id\":\"1450620025451294722\",\"created_at\":\"2021-10-20T00:28:59.000Z\",\"author_id\":\"176265369\",\"text\":\"RT @TheuzinFN: \\\\\" header for @blxckoutz \\\\\" \\\\n\\\\n@Cloud9 #C9WIN \\\\n\\\\nall support is appreciated. https://t.co/UxtFoQo96X\",\"public_metrics\":{\"retweet_count\":19,\"reply_count\":0,\"like_count\":0,\"quote_count\":0},\"lang\":\"en\"},{\"id\":\"1450602377262690304\",\"created_at\":\"2021-10-19T23:18:52.000Z\",\"author_id\":\"907074598574858241\",\"text\":\"RT @Cloud9: We heard the call.\\\\n\\\\nOnce again. #C9WIN https://t.co/S2YmPNiKjw\",\"public_metrics\":{\"retweet_count\":568,\"reply_count\":0,\"like_count\":0,\"quote_count\":0},\"lang\":\"en\"},{\"id\":\"1450593672555282434\",\"created_at\":\"2021-10-19T22:44:16.000Z\",\"in_reply_to_user_id\":\"964529942\",\"author_id\":\"1458665886\",\"text\":\"@TeamLiquidLoL @TeamLiquid The Akatsuki comeback for #Worlds2022 \\\\uD83D\\\\uDE24㊙️ \\\\n\\\\n#TLWIN #LetsGoLiquid #Worlds2021\",\"public_metrics\":{\"retweet_count\":0,\"reply_count\":0,\"like_count\":0,\"quote_count\":0},\"lang\":\"en\"},{\"id\":\"1450587373444624385\",\"created_at\":\"2021-10-19T22:19:15.000Z\",\"author_id\":\"1302490060877561856\",\"text\":\"RT @AzaelOfficial: CLOUD9 GET GEN.G LET\\'S FUCKING GOOOOOO!\\\\n\\\\nREVENGE FOR TL, C9 ABOUT TO KILL LCK &amp; MAKE SEMI\\'S AGAIN!\\\\n\\\\nI BELIVEEEEEE!!!! #C…\",\"public_metrics\":{\"retweet_count\":62,\"reply_count\":0,\"like_count\":0,\"quote_count\":0},\"lang\":\"en\"},{\"id\":\"1450577119323508741\",\"created_at\":\"2021-10-19T21:38:30.000Z\",\"author_id\":\"1143878524035641344\",\"text\":\"RT @TheuzinFN: \\\\\" header for @blxckoutz \\\\\" \\\\n\\\\n@Cloud9 #C9WIN \\\\n\\\\nall support is appreciated. https://t.co/UxtFoQo96X\",\"public_metrics\":{\"retweet_count\":19,\"reply_count\":0,\"like_count\":0,\"quote_count\":0},\"lang\":\"en\"},{\"id\":\"1450575374602047488\",\"created_at\":\"2021-10-19T21:31:34.000Z\",\"author_id\":\"1301035161795002369\",\"text\":\"RT @C9Msk7: Cloud9 Podcast S2E7 C9 Miracle Run | FPX Fail | T1 Clap EDG | 100T Crush... https://t.co/MTH3XbyoME via @YouTube newest episode…\",\"public_metrics\":{\"retweet_count\":1,\"reply_count\":0,\"like_count\":0,\"quote_count\":0},\"lang\":\"en\"},{\"id\":\"1450572602532155398\",\"created_at\":\"2021-10-19T21:20:33.000Z\",\"author_id\":\"1413477993939234839\",\"text\":\"RT @TheuzinFN: \\\\\" header for @blxckoutz \\\\\" \\\\n\\\\n@Cloud9 #C9WIN \\\\n\\\\nall support is appreciated. https://t.co/UxtFoQo96X\",\"public_metrics\":{\"retweet_count\":19,\"reply_count\":0,\"like_count\":0,\"quote_count\":0},\"lang\":\"en\"},{\"id\":\"1450570336194416649\",\"created_at\":\"2021-10-19T21:11:33.000Z\",\"author_id\":\"1037751884\",\"text\":\"RT @Cloud9: AGAINST ALL ODDS #C9WIN https://t.co/o9H3EwFPHV\",\"public_metrics\":{\"retweet_count\":2095,\"reply_count\":0,\"like_count\":0,\"quote_count\":0},\"lang\":\"en\"},{\"id\":\"1450570125111869445\",\"created_at\":\"2021-10-19T21:10:42.000Z\",\"author_id\":\"1260407043816599552\",\"text\":\"RT @Cloud9: AGAINST ALL ODDS #C9WIN https://t.co/o9H3EwFPHV\",\"public_metrics\":{\"retweet_count\":2095,\"reply_count\":0,\"like_count\":0,\"quote_count\":0},\"lang\":\"en\"},{\"id\":\"1450568241106010113\",\"created_at\":\"2021-10-19T21:03:13.000Z\",\"author_id\":\"3634744521\",\"text\":\"Whipped up a Cloud 9 shirt so I can represent in #ACNH! Design ID is MO-N4GH-KP51-BCHV if you wanna rep too! Shirt says \\\\\"#C9WIN\\\\\" on the back! https://t.co/lkXE4gOU8h\",\"public_metrics\":{\"retweet_count\":0,\"reply_count\":0,\"like_count\":1,\"quote_count\":0},\"lang\":\"en\"},{\"id\":\"1450567884988629001\",\"created_at\":\"2021-10-19T21:01:48.000Z\",\"author_id\":\"1224985193280393216\",\"text\":\"RT @TheuzinFN: \\\\\" header for @blxckoutz \\\\\" \\\\n\\\\n@Cloud9 #C9WIN \\\\n\\\\nall support is appreciated. https://t.co/UxtFoQo96X\",\"public_metrics\":{\"retweet_count\":19,\"reply_count\":0,\"like_count\":0,\"quote_count\":0},\"lang\":\"en\"},{\"id\":\"1450563705993932810\",\"created_at\":\"2021-10-19T20:45:12.000Z\",\"in_reply_to_user_id\":\"499278259\",\"author_id\":\"1215025968684904454\",\"text\":\"@Cubbyxx Nothing to say more about this, but be aware of global baiting by C9...\\\\n#Worlds2021 #C9WIN #Geng https://t.co/e4S7Wxijbz\",\"public_metrics\":{\"retweet_count\":1,\"reply_count\":0,\"like_count\":5,\"quote_count\":0},\"lang\":\"en\"},{\"id\":\"1450558822108614662\",\"created_at\":\"2021-10-19T20:25:47.000Z\",\"author_id\":\"1290649645056692224\",\"text\":\"RT @TheuzinFN: \\\\\" header for @blxckoutz \\\\\" \\\\n\\\\n@Cloud9 #C9WIN \\\\n\\\\nall support is appreciated. https://t.co/UxtFoQo96X\",\"public_metrics\":{\"retweet_count\":19,\"reply_count\":0,\"like_count\":0,\"quote_count\":0},\"lang\":\"en\"},{\"id\":\"1450555936083427329\",\"created_at\":\"2021-10-19T20:14:19.000Z\",\"author_id\":\"1322354301197520896\",\"text\":\"RT @Cloud9: We heard the call.\\\\n\\\\nOnce again. #C9WIN https://t.co/S2YmPNiKjw\",\"public_metrics\":{\"retweet_count\":568,\"reply_count\":0,\"like_count\":0,\"quote_count\":0},\"lang\":\"en\"},{\"id\":\"1450550897189208065\",\"created_at\":\"2021-10-19T19:54:18.000Z\",\"author_id\":\"3182563234\",\"text\":\"RT @Cloud9: AGAINST ALL ODDS #C9WIN https://t.co/o9H3EwFPHV\",\"public_metrics\":{\"retweet_count\":2095,\"reply_count\":0,\"like_count\":0,\"quote_count\":0},\"lang\":\"en\"},{\"id\":\"1450549196226850820\",\"created_at\":\"2021-10-19T19:47:32.000Z\",\"author_id\":\"1317628519673786374\",\"text\":\"RT @TheKymeri: Shoutout to @esports_kobe for rubbing his C9 shoes! C9 will play GenG in Quarters! LETS GOOOOOO! #c9win\",\"public_metrics\":{\"retweet_count\":2,\"reply_count\":0,\"like_count\":0,\"quote_count\":0},\"lang\":\"en\"},{\"id\":\"1450547829101903876\",\"created_at\":\"2021-10-19T19:42:06.000Z\",\"author_id\":\"2285884165\",\"text\":\"RT @LCSOfficial: Quarterfinals #C9WIN | #Worlds20221 https://t.co/giQQbAr48s\",\"public_metrics\":{\"retweet_count\":42,\"reply_count\":0,\"like_count\":0,\"quote_count\":0},\"lang\":\"en\"},{\"id\":\"1450546020035690499\",\"created_at\":\"2021-10-19T19:34:55.000Z\",\"author_id\":\"72995846\",\"text\":\"Let’s go #C9WIN https://t.co/Q3BuzOwPK6\",\"public_metrics\":{\"retweet_count\":0,\"reply_count\":1,\"like_count\":1,\"quote_count\":0},\"lang\":\"en\"},{\"id\":\"1450544437394919427\",\"created_at\":\"2021-10-19T19:28:38.000Z\",\"author_id\":\"1241417829053870080\",\"text\":\"RT @TheuzinFN: \\\\\" header for @blxckoutz \\\\\" \\\\n\\\\n@Cloud9 #C9WIN \\\\n\\\\nall support is appreciated. https://t.co/UxtFoQo96X\",\"public_metrics\":{\"retweet_count\":19,\"reply_count\":0,\"like_count\":0,\"quote_count\":0},\"lang\":\"en\"},{\"id\":\"1450539310613159942\",\"created_at\":\"2021-10-19T19:08:16.000Z\",\"author_id\":\"1456506624\",\"text\":\"RT @AzaelOfficial: CLOUD9 GET GEN.G LET\\'S FUCKING GOOOOOO!\\\\n\\\\nREVENGE FOR TL, C9 ABOUT TO KILL LCK &amp; MAKE SEMI\\'S AGAIN!\\\\n\\\\nI BELIVEEEEEE!!!! #C…\",\"public_metrics\":{\"retweet_count\":62,\"reply_count\":0,\"like_count\":0,\"quote_count\":0},\"lang\":\"en\"},{\"id\":\"1450538638459162630\",\"created_at\":\"2021-10-19T19:05:35.000Z\",\"author_id\":\"362035384\",\"text\":\"RT @LCSOfficial: Their heist may have come to a close, but @100Thieves did manage to steal one last win and the hope that they will return…\",\"public_metrics\":{\"retweet_count\":65,\"reply_count\":0,\"like_count\":0,\"quote_count\":0},\"lang\":\"en\"},{\"id\":\"1450534198700281858\",\"created_at\":\"2021-10-19T18:47:57.000Z\",\"author_id\":\"1417182971413639176\",\"text\":\"RT @TheuzinFN: \\\\\" header for @blxckoutz \\\\\" \\\\n\\\\n@Cloud9 #C9WIN \\\\n\\\\nall support is appreciated. https://t.co/UxtFoQo96X\",\"public_metrics\":{\"retweet_count\":19,\"reply_count\":0,\"like_count\":0,\"quote_count\":0},\"lang\":\"en\"},{\"id\":\"1450531806155993089\",\"created_at\":\"2021-10-19T18:38:26.000Z\",\"author_id\":\"4186954885\",\"text\":\"Cloud9 Podcast S2E7 C9 Miracle Run | FPX Fail | T1 Clap EDG | 100T Crush... https://t.co/MTH3XbyoME via @YouTube newest episode for the #Cloud9Podcast is out #C9WIN #Worlds2021\",\"public_metrics\":{\"retweet_count\":1,\"reply_count\":0,\"like_count\":3,\"quote_count\":0},\"lang\":\"en\"},{\"id\":\"1450530161263321088\",\"created_at\":\"2021-10-19T18:31:54.000Z\",\"author_id\":\"1293610147663818754\",\"text\":\"RT @TheuzinFN: \\\\\" header for @blxckoutz \\\\\" \\\\n\\\\n@Cloud9 #C9WIN \\\\n\\\\nall support is appreciated. https://t.co/UxtFoQo96X\",\"public_metrics\":{\"retweet_count\":19,\"reply_count\":0,\"like_count\":0,\"quote_count\":0},\"lang\":\"en\"},{\"id\":\"1450525113003257856\",\"created_at\":\"2021-10-19T18:11:51.000Z\",\"author_id\":\"1012552501\",\"text\":\"RT @TheuzinFN: \\\\\" header for @blxckoutz \\\\\" \\\\n\\\\n@Cloud9 #C9WIN \\\\n\\\\nall support is appreciated. https://t.co/UxtFoQo96X\",\"public_metrics\":{\"retweet_count\":19,\"reply_count\":0,\"like_count\":0,\"quote_count\":0},\"lang\":\"en\"},{\"id\":\"1450523812815060996\",\"created_at\":\"2021-10-19T18:06:41.000Z\",\"author_id\":\"1257702798193500160\",\"text\":\"RT @TheuzinFN: \\\\\" header for @blxckoutz \\\\\" \\\\n\\\\n@Cloud9 #C9WIN \\\\n\\\\nall support is appreciated. https://t.co/UxtFoQo96X\",\"public_metrics\":{\"retweet_count\":19,\"reply_count\":0,\"like_count\":0,\"quote_count\":0},\"lang\":\"en\"},{\"id\":\"1450523237755011072\",\"created_at\":\"2021-10-19T18:04:23.000Z\",\"author_id\":\"81732809\",\"text\":\"RT @Cloud9: We heard the call.\\\\n\\\\nOnce again. #C9WIN https://t.co/S2YmPNiKjw\",\"public_metrics\":{\"retweet_count\":568,\"reply_count\":0,\"like_count\":0,\"quote_count\":0},\"lang\":\"en\"},{\"id\":\"1450521284744515585\",\"created_at\":\"2021-10-19T17:56:38.000Z\",\"author_id\":\"1437848577859100676\",\"text\":\"RT @SavannahLoveXo3: #Worlds2021 #C9WIN So excited for the last few days of Worlds! Such an amazing event \\\\uD83D\\\\uDC95\\\\uD83E\\\\uDD7A #NA https://t.co/DjBlcLDGpO\",\"public_metrics\":{\"retweet_count\":14,\"reply_count\":0,\"like_count\":0,\"quote_count\":0},\"lang\":\"en\"},{\"id\":\"1450520098389872644\",\"created_at\":\"2021-10-19T17:51:55.000Z\",\"author_id\":\"422325803\",\"text\":\"RT @AzaelOfficial: CLOUD9 GET GEN.G LET\\'S FUCKING GOOOOOO!\\\\n\\\\nREVENGE FOR TL, C9 ABOUT TO KILL LCK &amp; MAKE SEMI\\'S AGAIN!\\\\n\\\\nI BELIVEEEEEE!!!! #C…\",\"public_metrics\":{\"retweet_count\":62,\"reply_count\":0,\"like_count\":0,\"quote_count\":0},\"lang\":\"en\"},{\"id\":\"1450519601712881672\",\"created_at\":\"2021-10-19T17:49:57.000Z\",\"author_id\":\"2309022188\",\"text\":\"RT @Cloud9: We heard the call.\\\\n\\\\nOnce again. #C9WIN https://t.co/S2YmPNiKjw\",\"public_metrics\":{\"retweet_count\":568,\"reply_count\":0,\"like_count\":0,\"quote_count\":0},\"lang\":\"en\"},{\"id\":\"1450518753263996936\",\"created_at\":\"2021-10-19T17:46:34.000Z\",\"author_id\":\"208787374\",\"text\":\"RT @Cloud9: We heard the call.\\\\n\\\\nOnce again. #C9WIN https://t.co/S2YmPNiKjw\",\"public_metrics\":{\"retweet_count\":568,\"reply_count\":0,\"like_count\":0,\"quote_count\":0},\"lang\":\"en\"},{\"id\":\"1450514013717254146\",\"created_at\":\"2021-10-19T17:27:44.000Z\",\"author_id\":\"439747613\",\"text\":\"You’re NA’s last hope @Cloud9. I believe in the #C9WIN next week https://t.co/D8HYOYezrS\",\"public_metrics\":{\"retweet_count\":0,\"reply_count\":0,\"like_count\":0,\"quote_count\":0},\"lang\":\"en\"},{\"id\":\"1450511612096385037\",\"created_at\":\"2021-10-19T17:18:12.000Z\",\"author_id\":\"1058102479567482880\",\"text\":\"RT @Cloud9: See you in the #Worlds2021 Finals \\\\uD83D\\\\uDE08\\\\n\\\\n#C9WIN https://t.co/Rd0EvWCRgu\",\"public_metrics\":{\"retweet_count\":103,\"reply_count\":0,\"like_count\":0,\"quote_count\":0},\"lang\":\"en\"},{\"id\":\"1450510775060242437\",\"created_at\":\"2021-10-19T17:14:52.000Z\",\"in_reply_to_user_id\":\"575352314\",\"author_id\":\"1039511865980870656\",\"text\":\"@LiQuiD112 @TL_Dodo With all the substitutions, coaching changes, and health issues the 3-3 in this group feels better than last year. I’d kill to see this roster run it back next year but either way #TLWIN\",\"public_metrics\":{\"retweet_count\":0,\"reply_count\":0,\"like_count\":3,\"quote_count\":0},\"lang\":\"en\"},{\"id\":\"1450510071327297548\",\"created_at\":\"2021-10-19T17:12:04.000Z\",\"author_id\":\"1408625744880848899\",\"text\":\"RT @LCSOfficial: \\\\\"And this one is for the champions\\\\\"\\\\n\\\\n#100WIN | #LCS | #Worlds2021 https://t.co/r8FP0amoeS\",\"public_metrics\":{\"retweet_count\":1276,\"reply_count\":0,\"like_count\":0,\"quote_count\":0},\"lang\":\"en\"},{\"id\":\"1450506506823258122\",\"created_at\":\"2021-10-19T16:57:54.000Z\",\"author_id\":\"2800417497\",\"text\":\"RT @AzaelOfficial: CLOUD9 GET GEN.G LET\\'S FUCKING GOOOOOO!\\\\n\\\\nREVENGE FOR TL, C9 ABOUT TO KILL LCK &amp; MAKE SEMI\\'S AGAIN!\\\\n\\\\nI BELIVEEEEEE!!!! #C…\",\"public_metrics\":{\"retweet_count\":62,\"reply_count\":0,\"like_count\":0,\"quote_count\":0},\"lang\":\"en\"},{\"id\":\"1450505470515499011\",\"created_at\":\"2021-10-19T16:53:47.000Z\",\"author_id\":\"1149147784089604097\",\"text\":\"Team I Cheer For: #gorogue #C9WIN \\\\nFav League: #LEC \\\\nFav Top: Fudge\\\\nFavJungle: Jankos\\\\nFavMid: Perkz\\\\nFav Adc: Hans Sama\\\\nFav Supp: Mikyx\\\\nBest Worlds Skins: Damwon 2020\\\\nFav Caster:  Drakos\\\\n\\\\nWho will win #Worlds2021 : Cloud9 https://t.co/rZQbwcxP0Z\",\"public_metrics\":{\"retweet_count\":0,\"reply_count\":0,\"like_count\":2,\"quote_count\":0},\"lang\":\"en\"},{\"id\":\"1450504290141941768\",\"created_at\":\"2021-10-19T16:49:06.000Z\",\"author_id\":\"1241800989088374785\",\"text\":\"RT @Cloud9: We heard the call.\\\\n\\\\nOnce again. #C9WIN https://t.co/S2YmPNiKjw\",\"public_metrics\":{\"retweet_count\":568,\"reply_count\":0,\"like_count\":0,\"quote_count\":0},\"lang\":\"en\"},{\"id\":\"1450502303597961216\",\"created_at\":\"2021-10-19T16:41:12.000Z\",\"author_id\":\"1066867383061630976\",\"text\":\"RT @LCSOfficial: \\\\\"And this one is for the champions\\\\\"\\\\n\\\\n#100WIN | #LCS | #Worlds2021 https://t.co/r8FP0amoeS\",\"public_metrics\":{\"retweet_count\":1276,\"reply_count\":0,\"like_count\":0,\"quote_count\":0},\"lang\":\"en\"},{\"id\":\"1450501729829670918\",\"created_at\":\"2021-10-19T16:38:56.000Z\",\"author_id\":\"955970677\",\"text\":\"WORLDS NEEDS MORE VIOLENCE #C9WIN https://t.co/r2t5uul0ct\",\"public_metrics\":{\"retweet_count\":0,\"reply_count\":0,\"like_count\":0,\"quote_count\":0},\"lang\":\"en\"},{\"id\":\"1450501612074590208\",\"created_at\":\"2021-10-19T16:38:27.000Z\",\"author_id\":\"3286820526\",\"text\":\"RT @BandleBro: LET\\'S GOOOOOOOOOOOOOOOOOOOOOOOOO! \\\\n#C9WIN https://t.co/qdNPkKVY8t\",\"public_metrics\":{\"retweet_count\":122,\"reply_count\":0,\"like_count\":0,\"quote_count\":0},\"lang\":\"en\"},{\"id\":\"1450499680849195009\",\"created_at\":\"2021-10-19T16:30:47.000Z\",\"author_id\":\"1341447337508388864\",\"text\":\"RT @SavannahLoveXo3: #Worlds2021 #C9WIN So excited for the last few days of Worlds! Such an amazing event \\\\uD83D\\\\uDC95\\\\uD83E\\\\uDD7A #NA https://t.co/DjBlcLDGpO\",\"public_metrics\":{\"retweet_count\":14,\"reply_count\":0,\"like_count\":0,\"quote_count\":0},\"lang\":\"en\"},{\"id\":\"1450498645225185284\",\"created_at\":\"2021-10-19T16:26:40.000Z\",\"author_id\":\"2370350274\",\"text\":\"#C9WIN Let it go! https://t.co/KQWSgmPkXf\",\"public_metrics\":{\"retweet_count\":0,\"reply_count\":0,\"like_count\":0,\"quote_count\":0},\"lang\":\"en\"},{\"id\":\"1450497428684251138\",\"created_at\":\"2021-10-19T16:21:50.000Z\",\"author_id\":\"1093020944577241088\",\"text\":\"RT @SavannahLoveXo3: #Worlds2021 #C9WIN So excited for the last few days of Worlds! Such an amazing event \\\\uD83D\\\\uDC95\\\\uD83E\\\\uDD7A #NA https://t.co/DjBlcLDGpO\",\"public_metrics\":{\"retweet_count\":14,\"reply_count\":0,\"like_count\":0,\"quote_count\":0},\"lang\":\"en\"},{\"id\":\"1450497289554857988\",\"created_at\":\"2021-10-19T16:21:17.000Z\",\"author_id\":\"1181908522658742273\",\"text\":\"RT @SavannahLoveXo3: #Worlds2021 #C9WIN So excited for the last few days of Worlds! Such an amazing event \\\\uD83D\\\\uDC95\\\\uD83E\\\\uDD7A #NA https://t.co/DjBlcLDGpO\",\"public_metrics\":{\"retweet_count\":14,\"reply_count\":0,\"like_count\":0,\"quote_count\":0},\"lang\":\"en\"},{\"id\":\"1450495698558984201\",\"created_at\":\"2021-10-19T16:14:58.000Z\",\"author_id\":\"3374422552\",\"text\":\"RT @TheuzinFN: \\\\\" header for @blxckoutz \\\\\" \\\\n\\\\n@Cloud9 #C9WIN \\\\n\\\\nall support is appreciated. https://t.co/UxtFoQo96X\",\"public_metrics\":{\"retweet_count\":19,\"reply_count\":0,\"like_count\":0,\"quote_count\":0},\"lang\":\"en\"},{\"id\":\"1450495613666304003\",\"created_at\":\"2021-10-19T16:14:37.000Z\",\"author_id\":\"596520437\",\"text\":\"RT @AzaelOfficial: CLOUD9 GET GEN.G LET\\'S FUCKING GOOOOOO!\\\\n\\\\nREVENGE FOR TL, C9 ABOUT TO KILL LCK &amp; MAKE SEMI\\'S AGAIN!\\\\n\\\\nI BELIVEEEEEE!!!! #C…\",\"public_metrics\":{\"retweet_count\":62,\"reply_count\":0,\"like_count\":0,\"quote_count\":0},\"lang\":\"en\"},{\"id\":\"1450494823350288392\",\"created_at\":\"2021-10-19T16:11:29.000Z\",\"author_id\":\"1407338653643378699\",\"text\":\"RT @TheuzinFN: \\\\\" header for @blxckoutz \\\\\" \\\\n\\\\n@Cloud9 #C9WIN \\\\n\\\\nall support is appreciated. https://t.co/UxtFoQo96X\",\"public_metrics\":{\"retweet_count\":19,\"reply_count\":0,\"like_count\":0,\"quote_count\":0},\"lang\":\"en\"},{\"id\":\"1450493131712040966\",\"created_at\":\"2021-10-19T16:04:46.000Z\",\"author_id\":\"1281859549587283972\",\"text\":\"RT @LCSOfficial: \\\\\"And this one is for the champions\\\\\"\\\\n\\\\n#100WIN | #LCS | #Worlds2021 https://t.co/r8FP0amoeS\",\"public_metrics\":{\"retweet_count\":1276,\"reply_count\":0,\"like_count\":0,\"quote_count\":0},\"lang\":\"en\"},{\"id\":\"1450492340691419136\",\"created_at\":\"2021-10-19T16:01:37.000Z\",\"author_id\":\"1299062822928871426\",\"text\":\"RT @Cloud9: See you in the #Worlds2021 Finals \\\\uD83D\\\\uDE08\\\\n\\\\n#C9WIN https://t.co/Rd0EvWCRgu\",\"public_metrics\":{\"retweet_count\":103,\"reply_count\":0,\"like_count\":0,\"quote_count\":0},\"lang\":\"en\"},{\"id\":\"1450488151550668804\",\"created_at\":\"2021-10-19T15:44:58.000Z\",\"author_id\":\"1070160693804986368\",\"text\":\"Wow, #C9WIN couldn’t have gotten a better knockout stage draw IMO. They get to face a Gen.G team that looked beatable to end groups and won’t have to face another #LCK team until the finals. \\\\n\\\\nDodging #T1FIGHTING and #DWG, the two strongest teams so far, is HUGE. \\\\n\\\\n#Worlds2021 https://t.co/NJDLBFATR0\",\"public_metrics\":{\"retweet_count\":0,\"reply_count\":0,\"like_count\":0,\"quote_count\":0},\"lang\":\"en\"},{\"id\":\"1450487345174753280\",\"created_at\":\"2021-10-19T15:41:46.000Z\",\"author_id\":\"1388253827690909696\",\"text\":\"RT @TheuzinFN: \\\\\" header for @blxckoutz \\\\\" \\\\n\\\\n@Cloud9 #C9WIN \\\\n\\\\nall support is appreciated. https://t.co/UxtFoQo96X\",\"public_metrics\":{\"retweet_count\":19,\"reply_count\":0,\"like_count\":0,\"quote_count\":0},\"lang\":\"en\"},{\"id\":\"1450481553335853056\",\"created_at\":\"2021-10-19T15:18:45.000Z\",\"author_id\":\"1365053526\",\"text\":\"RT @AzaelOfficial: CLOUD9 GET GEN.G LET\\'S FUCKING GOOOOOO!\\\\n\\\\nREVENGE FOR TL, C9 ABOUT TO KILL LCK &amp; MAKE SEMI\\'S AGAIN!\\\\n\\\\nI BELIVEEEEEE!!!! #C…\",\"public_metrics\":{\"retweet_count\":62,\"reply_count\":0,\"like_count\":0,\"quote_count\":0},\"lang\":\"en\"},{\"id\":\"1450478771966988296\",\"created_at\":\"2021-10-19T15:07:42.000Z\",\"author_id\":\"1250880776805195776\",\"text\":\"RT @TheuzinFN: \\\\\" header for @blxckoutz \\\\\" \\\\n\\\\n@Cloud9 #C9WIN \\\\n\\\\nall support is appreciated. https://t.co/UxtFoQo96X\",\"public_metrics\":{\"retweet_count\":19,\"reply_count\":0,\"like_count\":0,\"quote_count\":0},\"lang\":\"en\"},{\"id\":\"1450478562528669705\",\"created_at\":\"2021-10-19T15:06:52.000Z\",\"author_id\":\"1440302945455665176\",\"text\":\"RT @TheuzinFN: \\\\\" header for @blxckoutz \\\\\" \\\\n\\\\n@Cloud9 #C9WIN \\\\n\\\\nall support is appreciated. https://t.co/UxtFoQo96X\",\"public_metrics\":{\"retweet_count\":19,\"reply_count\":0,\"like_count\":0,\"quote_count\":0},\"lang\":\"en\"}],\"includes\":{\"users\":[{\"id\":\"1403794489177673731\",\"name\":\"TheMightyBaloon\",\"username\":\"TheMightyBaloon\"},{\"id\":\"1376175996852785154\",\"name\":\"Graphic Upshot\",\"username\":\"graphic_upshot\"},{\"id\":\"612463851\",\"name\":\"Andrew Norris\",\"username\":\"JudgeArcadia\"},{\"id\":\"602386138\",\"name\":\"Ronald #Resistencia\",\"username\":\"EsteNoEsRonald\"},{\"id\":\"770305614\",\"name\":\"Cy Ver\",\"username\":\"cycythepanda\"},{\"id\":\"1325497376388370433\",\"name\":\"guy\",\"username\":\"sujiRedsun\"},{\"id\":\"933492426\",\"name\":\"TSM FTX Ari\",\"username\":\"AriYairRP\"},{\"id\":\"899998653380673536\",\"name\":\"\\\\uD83D\\\\uDC2Flea030408(cye)\",\"username\":\"_deus_vult__\"},{\"id\":\"1458665886\",\"name\":\"Instinct✌\\\\uD83C\\\\uDFFE\\\\uD83C\\\\uDF83\",\"username\":\"Instinct_FPS\"},{\"id\":\"545294160\",\"name\":\"Jay\",\"username\":\"JaylinkNA\"},{\"id\":\"1441074497340117000\",\"name\":\"AAAAAAAAAHHHHHHHHHH\",\"username\":\"C9atWorlds\"},{\"id\":\"1344432278353698817\",\"name\":\"vinny | NAmen\",\"username\":\"shieldedistaken\"},{\"id\":\"4213976945\",\"name\":\"Xizz3l\",\"username\":\"RealXizz3l\"},{\"id\":\"177808995\",\"name\":\"Tadashi\",\"username\":\"RyanTadashi\"},{\"id\":\"1405266617638993921\",\"name\":\"Jadon Joyce\",\"username\":\"JoyceJadon\"},{\"id\":\"1287372018426376193\",\"name\":\"히얀\\uea00\",\"username\":\"HiYaN_s05oz\"},{\"id\":\"1465240051\",\"name\":\"#ToTheMoon\\\\uD83D\\\\uDE80 #TLWIN\\\\uD83D\\\\uDC34\",\"username\":\"RamsPatsFire\"},{\"id\":\"35975721\",\"name\":\"Odin Makes\",\"username\":\"OdinMakes\"},{\"id\":\"2859465749\",\"name\":\"DSX Rakona\",\"username\":\"stefanbauschi\"},{\"id\":\"940631444669440000\",\"name\":\"Canteen beauty\",\"username\":\"aguacatefreson\"},{\"id\":\"2457135274\",\"name\":\"\\\\uD83C\\\\uDF83\\\\uD83D\\\\uDC7BAly\\\\uD83D\\\\uDC7B\\\\uD83C\\\\uDF83\",\"username\":\"Lyssuh_bear\"},{\"id\":\"1415503391749443585\",\"name\":\"Jiro\",\"username\":\"jirostwt\"},{\"id\":\"1517718614\",\"name\":\"Zach\",\"username\":\"otgLoL\"},{\"id\":\"919495234991427584\",\"name\":\"Seahorse\",\"username\":\"dltjrdn1114\"},{\"id\":\"1077638125\",\"name\":\"Jérémy \\'Swifter\\' Francoeur\",\"username\":\"SwifterMeister\"},{\"id\":\"876990335598985216\",\"name\":\"かみきたえる\",\"username\":\"kamikita_v\"},{\"id\":\"3330885537\",\"name\":\"TreFLA\",\"username\":\"trefla201\"},{\"id\":\"1398543070061236227\",\"name\":\"KeshiTalk\",\"username\":\"TalkKeshi\"},{\"id\":\"3033067642\",\"name\":\"AbaddonShiva\",\"username\":\"AbaddonShiv4\"},{\"id\":\"1388980322\",\"name\":\"DiogoF\",\"username\":\"suiditto\"},{\"id\":\"1294102689559785472\",\"name\":\"sqd\",\"username\":\"sasukeqwerty\"},{\"id\":\"1191028630245322753\",\"name\":\"David\",\"username\":\"David12065202\"},{\"id\":\"58965194\",\"name\":\"Cüti ✨\",\"username\":\"juancutillas_\"},{\"id\":\"1360268779\",\"name\":\"Manuel Muñoz\",\"username\":\"manuelxpv\"},{\"id\":\"1374072252333969409\",\"name\":\"6ix2wo\",\"username\":\"6ix2wo4\"},{\"id\":\"1290587544330043394\",\"name\":\"BMW Esports\",\"username\":\"BMWEsports\"},{\"id\":\"1282060363446595585\",\"name\":\"C9 WILL WIN WORLDS\",\"username\":\"hersuii\"},{\"id\":\"823657220663447552\",\"name\":\"saint\",\"username\":\"5aintHaven\"},{\"id\":\"765966190707675136\",\"name\":\"CasterEmulated(Vtuber)\",\"username\":\"CasterEmulated\"},{\"id\":\"1370171328355962884\",\"name\":\"HTGREsports\",\"username\":\"HTGREsports\"},{\"id\":\"1382252800386727937\",\"name\":\"Reemas\",\"username\":\"Reemas64361818\"},{\"id\":\"1215743068697219074\",\"name\":\"sımões\",\"username\":\"simoes_xd\"},{\"id\":\"482423373\",\"name\":\"JediFu\",\"username\":\"DarthHeadshot\"},{\"id\":\"176265369\",\"name\":\"PIT EXE\",\"username\":\"pitxxyt\"},{\"id\":\"907074598574858241\",\"name\":\"Joanna\",\"username\":\"BinatogSaKawali\"},{\"id\":\"1302490060877561856\",\"name\":\"Name cannot be blank⁷\",\"username\":\"My_DiaNA_mite\"},{\"id\":\"1143878524035641344\",\"name\":\"9x Baiano ⓮\",\"username\":\"Leo190508\"},{\"id\":\"1301035161795002369\",\"name\":\"Captain K-Dots Sanctum (PN: Saiyan Nigga)\",\"username\":\"DotsCaptain\"},{\"id\":\"1413477993939234839\",\"name\":\"Luis Perisse\",\"username\":\"luisperisse1\"},{\"id\":\"1037751884\",\"name\":\"Tiago Rosado\",\"username\":\"Barendius\"},{\"id\":\"1260407043816599552\",\"name\":\"SNUC Gaming\",\"username\":\"SNUCGaming\"},{\"id\":\"3634744521\",\"name\":\"Zeria Iiyasei\",\"username\":\"ZeriaIiyasei\"},{\"id\":\"1224985193280393216\",\"name\":\"vagabunda de óculos\",\"username\":\"gamiingchair\"},{\"id\":\"1215025968684904454\",\"name\":\"Kourou\",\"username\":\"Kourou_FR\"},{\"id\":\"1290649645056692224\",\"name\":\"F/A Kyo 74\",\"username\":\"kyofps_\"},{\"id\":\"1322354301197520896\",\"name\":\"Inimiga do entretenimento\",\"username\":\"yukigimaingato\"},{\"id\":\"3182563234\",\"name\":\"Adam Grym\",\"username\":\"GrymAdam\"},{\"id\":\"1317628519673786374\",\"name\":\"A_Atrax\",\"username\":\"atrax_a\"},{\"id\":\"2285884165\",\"name\":\"Andrew\",\"username\":\"andrewyang6679\"},{\"id\":\"72995846\",\"name\":\"moreño\",\"username\":\"Thimiie\"},{\"id\":\"1241417829053870080\",\"name\":\"pitt\",\"username\":\"pitt079\"},{\"id\":\"1456506624\",\"name\":\"Eglath\",\"username\":\"Rodrisardi\"},{\"id\":\"362035384\",\"name\":\"Katie V Darrah\",\"username\":\"mekachikiku\"},{\"id\":\"1417182971413639176\",\"name\":\"Mglow\",\"username\":\"MglFtn\"},{\"id\":\"4186954885\",\"name\":\"@MasterSwagKing Entertainment\",\"username\":\"C9Msk7\"},{\"id\":\"1293610147663818754\",\"name\":\"blackoff\",\"username\":\"blxckoff_\"},{\"id\":\"1012552501\",\"name\":\"eRa Dalaqua\",\"username\":\"joaodalaqua\"},{\"id\":\"1257702798193500160\",\"name\":\"Kєиji\",\"username\":\"KenjiXz_\"},{\"id\":\"81732809\",\"name\":\"NotRyanT\",\"username\":\"RealNotRyanT\"},{\"id\":\"1437848577859100676\",\"name\":\"❀ Nᵉᵃˡⁱᵃ \\\\uD835\\\\uDC4B\\\\uD835\\\\uDC4B\\\\uD835\\\\uDC4B\",\"username\":\"CurvyNealiaDiaz\"},{\"id\":\"422325803\",\"name\":\"Tina\",\"username\":\"_wonderskittles\"},{\"id\":\"2309022188\",\"name\":\"Deags\",\"username\":\"Birdman_fl\"},{\"id\":\"208787374\",\"name\":\"Alpha Katie\",\"username\":\"Cuteknight12\"},{\"id\":\"439747613\",\"name\":\"Grey\",\"username\":\"Brauminos\"},{\"id\":\"1058102479567482880\",\"name\":\"Dakota Weitl\",\"username\":\"xStainn\"},{\"id\":\"1039511865980870656\",\"name\":\"Ayden Barber\",\"username\":\"AydenB_24\"},{\"id\":\"1408625744880848899\",\"name\":\"ඩා\\\\uD83D\\\\uDC9CAlice\\\\uD83C\\\\uDFF3️\\u200d⚧️\",\"username\":\"AzraelPrince1\"},{\"id\":\"2800417497\",\"name\":\"ze\",\"username\":\"Ze_Manel2000\"},{\"id\":\"1149147784089604097\",\"name\":\"Vofcake \\\\uD83C\\\\uDF41\",\"username\":\"MrDrmns\"},{\"id\":\"1241800989088374785\",\"name\":\"Bechamel ᶠᶠᶜ \\\\uD83D\\\\uDD25\\\\uD83C\\\\uDDEE\\\\uD83C\\\\uDDF9\",\"username\":\"Sulacapiano\"},{\"id\":\"1066867383061630976\",\"name\":\"ValebyOMG\",\"username\":\"ValebyO\"},{\"id\":\"955970677\",\"name\":\"Yohan Sama\",\"username\":\"Yolisters\"},{\"id\":\"3286820526\",\"name\":\"WindierShark\",\"username\":\"windiershark\"},{\"id\":\"1341447337508388864\",\"name\":\"Huntysmooth2\",\"username\":\"Hunty1998\"},{\"id\":\"2370350274\",\"name\":\"甘楽\\\\uD83D\\\\uDD05\",\"username\":\"judoschlv\"},{\"id\":\"1093020944577241088\",\"name\":\"\\\\uD83D\\\\uDC80\\\\uD83C\\\\uDF83Inara\\\\uD83C\\\\uDF83\\\\uD83D\\\\uDC80spooky fansly sale!\",\"username\":\"InaraFoxx\"},{\"id\":\"1181908522658742273\",\"name\":\"ÅLPHA KHLEO KÅ$H\\\\uD83D\\\\uDC51\\\\uD83D\\\\uDCB8 {FINDOM x CONTENT CREATOR}\",\"username\":\"Krazyy4K\"},{\"id\":\"3374422552\",\"name\":\"TRIBE brubbst\",\"username\":\"brubbst\"},{\"id\":\"596520437\",\"name\":\"Jonathan \\\\uD83D\\\\uDD34⚪️\",\"username\":\"fomentum_gg\"},{\"id\":\"1407338653643378699\",\"name\":\"Toddy\",\"username\":\"toddyltrt\"},{\"id\":\"1281859549587283972\",\"name\":\"carter\",\"username\":\"apheliosfatass\"},{\"id\":\"1299062822928871426\",\"name\":\"Kikoo\",\"username\":\"Kikooo58484120\"},{\"id\":\"1070160693804986368\",\"name\":\"Leo Silverman\",\"username\":\"LeoSilverman\"},{\"id\":\"1388253827690909696\",\"name\":\"F/A FLOW❤\",\"username\":\"AmassaVoce\"},{\"id\":\"1365053526\",\"name\":\"Akina No Yūrei\",\"username\":\"Danalieth__\"},{\"id\":\"1250880776805195776\",\"name\":\"Ryth\",\"username\":\"rythxyy\"},{\"id\":\"1440302945455665176\",\"name\":\"_Idra_\",\"username\":\"_idra__\"}]},\"meta\":{\"newest_id\":\"1450980040536215552\",\"oldest_id\":\"1450478562528669705\",\"result_count\":100,\"next_token\":\"b26v89c19zqg8o3fpdv5sihd2rglt75hlrecyrivgemil\"}}'"
      ]
     },
     "execution_count": 18,
     "metadata": {},
     "output_type": "execute_result"
    }
   ],
   "source": [
    "response_1.text"
   ]
  },
  {
   "cell_type": "code",
   "execution_count": 19,
   "id": "653bfef3",
   "metadata": {},
   "outputs": [],
   "source": [
    "response_1_dict = json.loads(response_1.text)"
   ]
  },
  {
   "cell_type": "code",
   "execution_count": 20,
   "id": "b6a58062",
   "metadata": {},
   "outputs": [
    {
     "data": {
      "text/plain": [
       "dict_keys(['data', 'includes', 'meta'])"
      ]
     },
     "execution_count": 20,
     "metadata": {},
     "output_type": "execute_result"
    }
   ],
   "source": [
    "response_1_dict.keys()"
   ]
  },
  {
   "cell_type": "code",
   "execution_count": 194,
   "id": "44a795aa",
   "metadata": {},
   "outputs": [
    {
     "data": {
      "text/plain": [
       "\"@Cloud9 I doubted c9 once but never again. I'm all in on it baby let's go #c9win\""
      ]
     },
     "execution_count": 194,
     "metadata": {},
     "output_type": "execute_result"
    }
   ],
   "source": [
    "response_1_dict['data'][0]['text']"
   ]
  },
  {
   "cell_type": "code",
   "execution_count": 22,
   "id": "9c5684a1",
   "metadata": {},
   "outputs": [],
   "source": [
    "my_df = pd.DataFrame(response_1_dict['data'])"
   ]
  },
  {
   "cell_type": "code",
   "execution_count": 23,
   "id": "ce2f1bb5",
   "metadata": {},
   "outputs": [
    {
     "data": {
      "text/html": [
       "<div>\n",
       "<style scoped>\n",
       "    .dataframe tbody tr th:only-of-type {\n",
       "        vertical-align: middle;\n",
       "    }\n",
       "\n",
       "    .dataframe tbody tr th {\n",
       "        vertical-align: top;\n",
       "    }\n",
       "\n",
       "    .dataframe thead th {\n",
       "        text-align: right;\n",
       "    }\n",
       "</style>\n",
       "<table border=\"1\" class=\"dataframe\">\n",
       "  <thead>\n",
       "    <tr style=\"text-align: right;\">\n",
       "      <th></th>\n",
       "      <th>id</th>\n",
       "      <th>created_at</th>\n",
       "      <th>in_reply_to_user_id</th>\n",
       "      <th>author_id</th>\n",
       "      <th>text</th>\n",
       "      <th>public_metrics</th>\n",
       "      <th>lang</th>\n",
       "    </tr>\n",
       "  </thead>\n",
       "  <tbody>\n",
       "    <tr>\n",
       "      <th>0</th>\n",
       "      <td>1450980040536215552</td>\n",
       "      <td>2021-10-21T00:19:34.000Z</td>\n",
       "      <td>1452520626</td>\n",
       "      <td>1403794489177673731</td>\n",
       "      <td>@Cloud9 I doubted c9 once but never again. I'm...</td>\n",
       "      <td>{'retweet_count': 0, 'reply_count': 0, 'like_c...</td>\n",
       "      <td>en</td>\n",
       "    </tr>\n",
       "    <tr>\n",
       "      <th>1</th>\n",
       "      <td>1450978144886812672</td>\n",
       "      <td>2021-10-21T00:12:02.000Z</td>\n",
       "      <td>NaN</td>\n",
       "      <td>1376175996852785154</td>\n",
       "      <td>Looking for a professional Invoice? For more v...</td>\n",
       "      <td>{'retweet_count': 0, 'reply_count': 0, 'like_c...</td>\n",
       "      <td>en</td>\n",
       "    </tr>\n",
       "    <tr>\n",
       "      <th>2</th>\n",
       "      <td>1450971352970801156</td>\n",
       "      <td>2021-10-20T23:45:02.000Z</td>\n",
       "      <td>1452520626</td>\n",
       "      <td>612463851</td>\n",
       "      <td>@Cloud9 Not I, for I am hoping and praying for...</td>\n",
       "      <td>{'retweet_count': 0, 'reply_count': 0, 'like_c...</td>\n",
       "      <td>en</td>\n",
       "    </tr>\n",
       "    <tr>\n",
       "      <th>3</th>\n",
       "      <td>1450963657215647749</td>\n",
       "      <td>2021-10-20T23:14:28.000Z</td>\n",
       "      <td>1452520626</td>\n",
       "      <td>602386138</td>\n",
       "      <td>@Cloud9 Gen.g when u win &amp;lt;3 #c9win</td>\n",
       "      <td>{'retweet_count': 0, 'reply_count': 0, 'like_c...</td>\n",
       "      <td>en</td>\n",
       "    </tr>\n",
       "    <tr>\n",
       "      <th>4</th>\n",
       "      <td>1450960114928730124</td>\n",
       "      <td>2021-10-20T23:00:23.000Z</td>\n",
       "      <td>NaN</td>\n",
       "      <td>770305614</td>\n",
       "      <td>Lost a bet against my fiancé during the #LCS S...</td>\n",
       "      <td>{'retweet_count': 0, 'reply_count': 0, 'like_c...</td>\n",
       "      <td>en</td>\n",
       "    </tr>\n",
       "    <tr>\n",
       "      <th>...</th>\n",
       "      <td>...</td>\n",
       "      <td>...</td>\n",
       "      <td>...</td>\n",
       "      <td>...</td>\n",
       "      <td>...</td>\n",
       "      <td>...</td>\n",
       "      <td>...</td>\n",
       "    </tr>\n",
       "    <tr>\n",
       "      <th>95</th>\n",
       "      <td>1450488151550668804</td>\n",
       "      <td>2021-10-19T15:44:58.000Z</td>\n",
       "      <td>NaN</td>\n",
       "      <td>1070160693804986368</td>\n",
       "      <td>Wow, #C9WIN couldn’t have gotten a better knoc...</td>\n",
       "      <td>{'retweet_count': 0, 'reply_count': 0, 'like_c...</td>\n",
       "      <td>en</td>\n",
       "    </tr>\n",
       "    <tr>\n",
       "      <th>96</th>\n",
       "      <td>1450487345174753280</td>\n",
       "      <td>2021-10-19T15:41:46.000Z</td>\n",
       "      <td>NaN</td>\n",
       "      <td>1388253827690909696</td>\n",
       "      <td>RT @TheuzinFN: \" header for @blxckoutz \" \\n\\n@...</td>\n",
       "      <td>{'retweet_count': 19, 'reply_count': 0, 'like_...</td>\n",
       "      <td>en</td>\n",
       "    </tr>\n",
       "    <tr>\n",
       "      <th>97</th>\n",
       "      <td>1450481553335853056</td>\n",
       "      <td>2021-10-19T15:18:45.000Z</td>\n",
       "      <td>NaN</td>\n",
       "      <td>1365053526</td>\n",
       "      <td>RT @AzaelOfficial: CLOUD9 GET GEN.G LET'S FUCK...</td>\n",
       "      <td>{'retweet_count': 62, 'reply_count': 0, 'like_...</td>\n",
       "      <td>en</td>\n",
       "    </tr>\n",
       "    <tr>\n",
       "      <th>98</th>\n",
       "      <td>1450478771966988296</td>\n",
       "      <td>2021-10-19T15:07:42.000Z</td>\n",
       "      <td>NaN</td>\n",
       "      <td>1250880776805195776</td>\n",
       "      <td>RT @TheuzinFN: \" header for @blxckoutz \" \\n\\n@...</td>\n",
       "      <td>{'retweet_count': 19, 'reply_count': 0, 'like_...</td>\n",
       "      <td>en</td>\n",
       "    </tr>\n",
       "    <tr>\n",
       "      <th>99</th>\n",
       "      <td>1450478562528669705</td>\n",
       "      <td>2021-10-19T15:06:52.000Z</td>\n",
       "      <td>NaN</td>\n",
       "      <td>1440302945455665176</td>\n",
       "      <td>RT @TheuzinFN: \" header for @blxckoutz \" \\n\\n@...</td>\n",
       "      <td>{'retweet_count': 19, 'reply_count': 0, 'like_...</td>\n",
       "      <td>en</td>\n",
       "    </tr>\n",
       "  </tbody>\n",
       "</table>\n",
       "<p>100 rows × 7 columns</p>\n",
       "</div>"
      ],
      "text/plain": [
       "                     id                created_at in_reply_to_user_id  \\\n",
       "0   1450980040536215552  2021-10-21T00:19:34.000Z          1452520626   \n",
       "1   1450978144886812672  2021-10-21T00:12:02.000Z                 NaN   \n",
       "2   1450971352970801156  2021-10-20T23:45:02.000Z          1452520626   \n",
       "3   1450963657215647749  2021-10-20T23:14:28.000Z          1452520626   \n",
       "4   1450960114928730124  2021-10-20T23:00:23.000Z                 NaN   \n",
       "..                  ...                       ...                 ...   \n",
       "95  1450488151550668804  2021-10-19T15:44:58.000Z                 NaN   \n",
       "96  1450487345174753280  2021-10-19T15:41:46.000Z                 NaN   \n",
       "97  1450481553335853056  2021-10-19T15:18:45.000Z                 NaN   \n",
       "98  1450478771966988296  2021-10-19T15:07:42.000Z                 NaN   \n",
       "99  1450478562528669705  2021-10-19T15:06:52.000Z                 NaN   \n",
       "\n",
       "              author_id                                               text  \\\n",
       "0   1403794489177673731  @Cloud9 I doubted c9 once but never again. I'm...   \n",
       "1   1376175996852785154  Looking for a professional Invoice? For more v...   \n",
       "2             612463851  @Cloud9 Not I, for I am hoping and praying for...   \n",
       "3             602386138              @Cloud9 Gen.g when u win &lt;3 #c9win   \n",
       "4             770305614  Lost a bet against my fiancé during the #LCS S...   \n",
       "..                  ...                                                ...   \n",
       "95  1070160693804986368  Wow, #C9WIN couldn’t have gotten a better knoc...   \n",
       "96  1388253827690909696  RT @TheuzinFN: \" header for @blxckoutz \" \\n\\n@...   \n",
       "97           1365053526  RT @AzaelOfficial: CLOUD9 GET GEN.G LET'S FUCK...   \n",
       "98  1250880776805195776  RT @TheuzinFN: \" header for @blxckoutz \" \\n\\n@...   \n",
       "99  1440302945455665176  RT @TheuzinFN: \" header for @blxckoutz \" \\n\\n@...   \n",
       "\n",
       "                                       public_metrics lang  \n",
       "0   {'retweet_count': 0, 'reply_count': 0, 'like_c...   en  \n",
       "1   {'retweet_count': 0, 'reply_count': 0, 'like_c...   en  \n",
       "2   {'retweet_count': 0, 'reply_count': 0, 'like_c...   en  \n",
       "3   {'retweet_count': 0, 'reply_count': 0, 'like_c...   en  \n",
       "4   {'retweet_count': 0, 'reply_count': 0, 'like_c...   en  \n",
       "..                                                ...  ...  \n",
       "95  {'retweet_count': 0, 'reply_count': 0, 'like_c...   en  \n",
       "96  {'retweet_count': 19, 'reply_count': 0, 'like_...   en  \n",
       "97  {'retweet_count': 62, 'reply_count': 0, 'like_...   en  \n",
       "98  {'retweet_count': 19, 'reply_count': 0, 'like_...   en  \n",
       "99  {'retweet_count': 19, 'reply_count': 0, 'like_...   en  \n",
       "\n",
       "[100 rows x 7 columns]"
      ]
     },
     "execution_count": 23,
     "metadata": {},
     "output_type": "execute_result"
    }
   ],
   "source": [
    "my_df"
   ]
  },
  {
   "cell_type": "code",
   "execution_count": 24,
   "id": "2ca4a091",
   "metadata": {},
   "outputs": [],
   "source": [
    "my_df.to_csv('twitter_data.csv')"
   ]
  },
  {
   "cell_type": "code",
   "execution_count": 25,
   "id": "b1702a26",
   "metadata": {},
   "outputs": [
    {
     "data": {
      "text/plain": [
       "{'newest_id': '1450980040536215552',\n",
       " 'oldest_id': '1450478562528669705',\n",
       " 'result_count': 100,\n",
       " 'next_token': 'b26v89c19zqg8o3fpdv5sihd2rglt75hlrecyrivgemil'}"
      ]
     },
     "execution_count": 25,
     "metadata": {},
     "output_type": "execute_result"
    }
   ],
   "source": [
    "response_1_dict['meta']"
   ]
  },
  {
   "cell_type": "code",
   "execution_count": 26,
   "id": "cad61a5e",
   "metadata": {},
   "outputs": [],
   "source": [
    "url_2 = url_expansions + '&next_token={}'.format(response_1_dict['meta']['next_token'])"
   ]
  },
  {
   "cell_type": "code",
   "execution_count": 27,
   "id": "1a555458",
   "metadata": {},
   "outputs": [
    {
     "data": {
      "text/plain": [
       "'https://api.twitter.com/2/tweets/search/recent?query=%28%23C9WIN%20OR%20%23TLWIN%20OR%20%23100WIN%29%20lang%3Aen&max_results=100&tweet.fields=public_metrics,created_at,author_id,lang,in_reply_to_user_id&expansions=author_id&next_token=b26v89c19zqg8o3fpdv5sihd2rglt75hlrecyrivgemil'"
      ]
     },
     "execution_count": 27,
     "metadata": {},
     "output_type": "execute_result"
    }
   ],
   "source": [
    "url_2"
   ]
  },
  {
   "cell_type": "code",
   "execution_count": 28,
   "id": "4e46b34d",
   "metadata": {},
   "outputs": [],
   "source": [
    "response_2 = requests.request(\"GET\", url_2, headers = header)"
   ]
  },
  {
   "cell_type": "code",
   "execution_count": 29,
   "id": "63c7e2bc",
   "metadata": {
    "scrolled": true
   },
   "outputs": [
    {
     "data": {
      "text/plain": [
       "'{\"data\":[{\"text\":\"RT @Cloud9: We heard the call.\\\\n\\\\nOnce again. #C9WIN https://t.co/S2YmPNiKjw\",\"lang\":\"en\",\"id\":\"1450478315257671694\",\"author_id\":\"942213299323760640\",\"public_metrics\":{\"retweet_count\":568,\"reply_count\":0,\"like_count\":0,\"quote_count\":0},\"created_at\":\"2021-10-19T15:05:53.000Z\"},{\"text\":\"RT @TheuzinFN: \\\\\" header for @blxckoutz \\\\\" \\\\n\\\\n@Cloud9 #C9WIN \\\\n\\\\nall support is appreciated. https://t.co/UxtFoQo96X\",\"lang\":\"en\",\"id\":\"1450477927846584327\",\"author_id\":\"1395790806208892933\",\"public_metrics\":{\"retweet_count\":19,\"reply_count\":0,\"like_count\":0,\"quote_count\":0},\"created_at\":\"2021-10-19T15:04:21.000Z\"},{\"text\":\"RT @TheuzinFN: \\\\\" header for @blxckoutz \\\\\" \\\\n\\\\n@Cloud9 #C9WIN \\\\n\\\\nall support is appreciated. https://t.co/UxtFoQo96X\",\"lang\":\"en\",\"id\":\"1450477499692036103\",\"author_id\":\"1399482313017286657\",\"public_metrics\":{\"retweet_count\":19,\"reply_count\":0,\"like_count\":0,\"quote_count\":0},\"created_at\":\"2021-10-19T15:02:39.000Z\"},{\"text\":\"RT @TheuzinFN: \\\\\" header for @blxckoutz \\\\\" \\\\n\\\\n@Cloud9 #C9WIN \\\\n\\\\nall support is appreciated. https://t.co/UxtFoQo96X\",\"lang\":\"en\",\"id\":\"1450477277339398145\",\"author_id\":\"1385087813864017925\",\"public_metrics\":{\"retweet_count\":19,\"reply_count\":0,\"like_count\":0,\"quote_count\":0},\"created_at\":\"2021-10-19T15:01:46.000Z\"},{\"text\":\"RT @Cloud9: See you in the #Worlds2021 Finals \\\\uD83D\\\\uDE08\\\\n\\\\n#C9WIN https://t.co/Rd0EvWCRgu\",\"lang\":\"en\",\"id\":\"1450477036384968705\",\"author_id\":\"448357975\",\"public_metrics\":{\"retweet_count\":103,\"reply_count\":0,\"like_count\":0,\"quote_count\":0},\"created_at\":\"2021-10-19T15:00:48.000Z\"},{\"text\":\"\\\\\" header for @blxckoutz \\\\\" \\\\n\\\\n@Cloud9 #C9WIN \\\\n\\\\nall support is appreciated. https://t.co/UxtFoQo96X\",\"lang\":\"en\",\"id\":\"1450476837721804808\",\"author_id\":\"1007039025675456514\",\"public_metrics\":{\"retweet_count\":19,\"reply_count\":20,\"like_count\":121,\"quote_count\":2},\"created_at\":\"2021-10-19T15:00:01.000Z\"},{\"text\":\"RT @SavannahLoveXo3: #Worlds2021 #C9WIN So excited for the last few days of Worlds! Such an amazing event \\\\uD83D\\\\uDC95\\\\uD83E\\\\uDD7A #NA https://t.co/DjBlcLDGpO\",\"lang\":\"en\",\"id\":\"1450475744526749708\",\"author_id\":\"1445817677008674818\",\"public_metrics\":{\"retweet_count\":14,\"reply_count\":0,\"like_count\":0,\"quote_count\":0},\"created_at\":\"2021-10-19T14:55:40.000Z\"},{\"text\":\"#balleghni_alislam\\\\n#Only_Allah_Can_Save_the_world\\\\n\\\\uD83D\\\\uDD3B\\\\uD83D\\\\uDD3B\\\\nAnimal Crossing\\\\nNintendo\\\\n#C9WIN\\\\n#YOUSEASON3\\\\n#FreeCodeFridayContest\\\\n\\\\uD83D\\\\uDD3B\\\\uD83D\\\\uDD3B\\\\n#Allah_is_one \\\\n#Discover_Islam\\\\n#Islam_is_the_truth\\\\nhttps://t.co/bg6Fqpylqh https://t.co/SL5ivrQUOd\",\"lang\":\"en\",\"id\":\"1450475319526371337\",\"author_id\":\"1382252800386727937\",\"public_metrics\":{\"retweet_count\":1,\"reply_count\":0,\"like_count\":0,\"quote_count\":0},\"created_at\":\"2021-10-19T14:53:59.000Z\"},{\"text\":\"RT @SavannahLoveXo3: #Worlds2021 #C9WIN So excited for the last few days of Worlds! Such an amazing event \\\\uD83D\\\\uDC95\\\\uD83E\\\\uDD7A #NA https://t.co/DjBlcLDGpO\",\"lang\":\"en\",\"id\":\"1450471171422658563\",\"author_id\":\"1391055755462250502\",\"public_metrics\":{\"retweet_count\":14,\"reply_count\":0,\"like_count\":0,\"quote_count\":0},\"created_at\":\"2021-10-19T14:37:30.000Z\"},{\"text\":\"Valiant effort from #100T  and #TL this #Worlds2021. NA has played a great tournament so far and excited to see what #C9WIN can do next!\",\"lang\":\"en\",\"id\":\"1450467505848344579\",\"author_id\":\"1000411723881426950\",\"public_metrics\":{\"retweet_count\":0,\"reply_count\":0,\"like_count\":0,\"quote_count\":0},\"created_at\":\"2021-10-19T14:22:56.000Z\"},{\"text\":\"RT @Cloud9: See you in the #Worlds2021 Finals \\\\uD83D\\\\uDE08\\\\n\\\\n#C9WIN https://t.co/Rd0EvWCRgu\",\"lang\":\"en\",\"id\":\"1450464872127508494\",\"author_id\":\"1247899616122527749\",\"public_metrics\":{\"retweet_count\":103,\"reply_count\":0,\"like_count\":0,\"quote_count\":0},\"created_at\":\"2021-10-19T14:12:28.000Z\"},{\"text\":\"@GenG_KR Happy that you\\'ll get home super early ? LUL \\\\n\\\\nC9 3 - 0 GEN.G \\\\n\\\\nEz \\\\n\\\\n#C9WIN\",\"lang\":\"en\",\"id\":\"1450463060146130958\",\"author_id\":\"1247899616122527749\",\"public_metrics\":{\"retweet_count\":0,\"reply_count\":0,\"like_count\":1,\"quote_count\":0},\"in_reply_to_user_id\":\"951370993439719424\",\"created_at\":\"2021-10-19T14:05:16.000Z\"},{\"text\":\"RT @LCSOfficial: Quarterfinals #C9WIN | #Worlds20221 https://t.co/giQQbAr48s\",\"lang\":\"en\",\"id\":\"1450462689516474372\",\"author_id\":\"1079231725778038784\",\"public_metrics\":{\"retweet_count\":42,\"reply_count\":0,\"like_count\":0,\"quote_count\":0},\"created_at\":\"2021-10-19T14:03:48.000Z\"},{\"text\":\"And I got the win? #CallofDuty #RebirthForYou #TLWIN #girlgamer #PS4live https://t.co/M1m5lVIz1o\",\"lang\":\"en\",\"id\":\"1450457089328009216\",\"author_id\":\"1448645807582875650\",\"public_metrics\":{\"retweet_count\":0,\"reply_count\":0,\"like_count\":0,\"quote_count\":0},\"created_at\":\"2021-10-19T13:41:32.000Z\"},{\"text\":\"RT @AzaelOfficial: CLOUD9 GET GEN.G LET\\'S FUCKING GOOOOOO!\\\\n\\\\nREVENGE FOR TL, C9 ABOUT TO KILL LCK &amp; MAKE SEMI\\'S AGAIN!\\\\n\\\\nI BELIVEEEEEE!!!! #C…\",\"lang\":\"en\",\"id\":\"1450455136887836683\",\"author_id\":\"2857297064\",\"public_metrics\":{\"retweet_count\":62,\"reply_count\":0,\"like_count\":0,\"quote_count\":0},\"created_at\":\"2021-10-19T13:33:47.000Z\"},{\"text\":\"RT @iKozlowz: I have hope LCS is winning worlds! #LCS #C9WIN\\\\n\\\\nhttps://t.co/typRX1QKbK https://t.co/T9EwZAHBtr\",\"lang\":\"en\",\"id\":\"1450452444375355395\",\"author_id\":\"546381143\",\"public_metrics\":{\"retweet_count\":1,\"reply_count\":0,\"like_count\":0,\"quote_count\":0},\"created_at\":\"2021-10-19T13:23:05.000Z\"},{\"text\":\"RT @Cloud9: See you in the #Worlds2021 Finals \\\\uD83D\\\\uDE08\\\\n\\\\n#C9WIN https://t.co/Rd0EvWCRgu\",\"lang\":\"en\",\"id\":\"1450448257772048387\",\"author_id\":\"2704716279\",\"public_metrics\":{\"retweet_count\":103,\"reply_count\":0,\"like_count\":0,\"quote_count\":0},\"created_at\":\"2021-10-19T13:06:27.000Z\"},{\"text\":\"RT @SavannahLoveXo3: #Worlds2021 #C9WIN So excited for the last few days of Worlds! Such an amazing event \\\\uD83D\\\\uDC95\\\\uD83E\\\\uDD7A #NA https://t.co/DjBlcLDGpO\",\"lang\":\"en\",\"id\":\"1450446976311517189\",\"author_id\":\"3316769422\",\"public_metrics\":{\"retweet_count\":14,\"reply_count\":0,\"like_count\":0,\"quote_count\":0},\"created_at\":\"2021-10-19T13:01:21.000Z\"},{\"text\":\"Hopium acquired, I’m ready to cheer on NAs last hope! #C9WIN #Worlds2021 #NewProfilePic https://t.co/SoKBweGTHK\",\"lang\":\"en\",\"id\":\"1450446494121795587\",\"author_id\":\"140261655\",\"public_metrics\":{\"retweet_count\":0,\"reply_count\":0,\"like_count\":2,\"quote_count\":0},\"created_at\":\"2021-10-19T12:59:26.000Z\"},{\"text\":\"RT @Cloud9: We heard the call.\\\\n\\\\nOnce again. #C9WIN https://t.co/S2YmPNiKjw\",\"lang\":\"en\",\"id\":\"1450445093412896773\",\"author_id\":\"962880089095471104\",\"public_metrics\":{\"retweet_count\":568,\"reply_count\":0,\"like_count\":0,\"quote_count\":0},\"created_at\":\"2021-10-19T12:53:52.000Z\"},{\"text\":\"RT @SavannahLoveXo3: #Worlds2021 #C9WIN So excited for the last few days of Worlds! Such an amazing event \\\\uD83D\\\\uDC95\\\\uD83E\\\\uDD7A #NA https://t.co/DjBlcLDGpO\",\"lang\":\"en\",\"id\":\"1450445058914795523\",\"author_id\":\"1433594380355518464\",\"public_metrics\":{\"retweet_count\":14,\"reply_count\":0,\"like_count\":0,\"quote_count\":0},\"created_at\":\"2021-10-19T12:53:44.000Z\"},{\"text\":\"RT @SavannahLoveXo3: #Worlds2021 #C9WIN So excited for the last few days of Worlds! Such an amazing event \\\\uD83D\\\\uDC95\\\\uD83E\\\\uDD7A #NA https://t.co/DjBlcLDGpO\",\"lang\":\"en\",\"id\":\"1450444721093062660\",\"author_id\":\"1335813717833945094\",\"public_metrics\":{\"retweet_count\":14,\"reply_count\":0,\"like_count\":0,\"quote_count\":0},\"created_at\":\"2021-10-19T12:52:24.000Z\"},{\"text\":\"RT @Cloud9: We heard the call.\\\\n\\\\nOnce again. #C9WIN https://t.co/S2YmPNiKjw\",\"lang\":\"en\",\"id\":\"1450443905095323649\",\"author_id\":\"1046112417195970561\",\"public_metrics\":{\"retweet_count\":568,\"reply_count\":0,\"like_count\":0,\"quote_count\":0},\"created_at\":\"2021-10-19T12:49:09.000Z\"},{\"text\":\"RT @OvileeMay: WORLDS BABY x @TeamLiquidLoL powered by @Alienware ft. @RazLCS &amp; @CaptainFlowers\\\\n\\\\n#Worlds2021 #TLWIN https://t.co/t9Wpe8kna7\",\"lang\":\"en\",\"id\":\"1450443177689853953\",\"author_id\":\"1162485456\",\"public_metrics\":{\"retweet_count\":1787,\"reply_count\":0,\"like_count\":0,\"quote_count\":0},\"created_at\":\"2021-10-19T12:46:16.000Z\"},{\"text\":\"RT @Cloud9: See you in the #Worlds2021 Finals \\\\uD83D\\\\uDE08\\\\n\\\\n#C9WIN https://t.co/Rd0EvWCRgu\",\"lang\":\"en\",\"id\":\"1450435701309325315\",\"author_id\":\"857345402043072512\",\"public_metrics\":{\"retweet_count\":103,\"reply_count\":0,\"like_count\":0,\"quote_count\":0},\"created_at\":\"2021-10-19T12:16:33.000Z\"},{\"text\":\"RT @Cloud9: We heard the call.\\\\n\\\\nOnce again. #C9WIN https://t.co/S2YmPNiKjw\",\"lang\":\"en\",\"id\":\"1450435135879401472\",\"author_id\":\"1069325946002509825\",\"public_metrics\":{\"retweet_count\":568,\"reply_count\":0,\"like_count\":0,\"quote_count\":0},\"created_at\":\"2021-10-19T12:14:18.000Z\"},{\"text\":\"RT @Cloud9: We heard the call.\\\\n\\\\nOnce again. #C9WIN https://t.co/S2YmPNiKjw\",\"lang\":\"en\",\"id\":\"1450434830764703748\",\"author_id\":\"781380686313844736\",\"public_metrics\":{\"retweet_count\":568,\"reply_count\":0,\"like_count\":0,\"quote_count\":0},\"created_at\":\"2021-10-19T12:13:06.000Z\"},{\"text\":\"RT @Cloud9: See you in the #Worlds2021 Finals \\\\uD83D\\\\uDE08\\\\n\\\\n#C9WIN https://t.co/Rd0EvWCRgu\",\"lang\":\"en\",\"id\":\"1450433366352965634\",\"author_id\":\"133982520\",\"public_metrics\":{\"retweet_count\":103,\"reply_count\":0,\"like_count\":0,\"quote_count\":0},\"created_at\":\"2021-10-19T12:07:16.000Z\"},{\"text\":\"RT @Cloud9: See you in the #Worlds2021 Finals \\\\uD83D\\\\uDE08\\\\n\\\\n#C9WIN https://t.co/Rd0EvWCRgu\",\"lang\":\"en\",\"id\":\"1450433001330855942\",\"author_id\":\"216286881\",\"public_metrics\":{\"retweet_count\":103,\"reply_count\":0,\"like_count\":0,\"quote_count\":0},\"created_at\":\"2021-10-19T12:05:49.000Z\"},{\"text\":\"Let’s go C9 #C9WIN https://t.co/8vLyaVXJ91\",\"lang\":\"en\",\"id\":\"1450427619330203655\",\"author_id\":\"43142388\",\"public_metrics\":{\"retweet_count\":0,\"reply_count\":0,\"like_count\":0,\"quote_count\":0},\"created_at\":\"2021-10-19T11:44:26.000Z\"},{\"text\":\"Please age well... #C9WIN https://t.co/OHmuWkS8s0\",\"lang\":\"en\",\"id\":\"1450427063291236353\",\"author_id\":\"843648931\",\"public_metrics\":{\"retweet_count\":0,\"reply_count\":0,\"like_count\":0,\"quote_count\":0},\"created_at\":\"2021-10-19T11:42:14.000Z\"},{\"text\":\"RT @lolesports: #TLWIN \\\\n\\\\n@TeamLiquidLoL kick off week 2 with a win against @LNG_Esports! #Worlds2021 https://t.co/v621Dbah6o\",\"lang\":\"en\",\"id\":\"1450425694635368453\",\"author_id\":\"1092412246624489472\",\"public_metrics\":{\"retweet_count\":221,\"reply_count\":0,\"like_count\":0,\"quote_count\":0},\"created_at\":\"2021-10-19T11:36:47.000Z\"},{\"text\":\"@TeamLiquidLoL @TLCoreJJ @Tactical @Santorin @Jensen @Alphari An absolute pleasure to watch you guys play! I\\'ve never been so impressed with TL\\'s play as I have been this year, despite all the roster problems in the regular season. Can\\'t wait to see what you accomplish next split! #TLWIN #rideordie\",\"lang\":\"en\",\"id\":\"1450421435588091905\",\"author_id\":\"272654812\",\"public_metrics\":{\"retweet_count\":0,\"reply_count\":0,\"like_count\":0,\"quote_count\":0},\"in_reply_to_user_id\":\"964529942\",\"created_at\":\"2021-10-19T11:19:52.000Z\"},{\"text\":\"Feels weird to be up at 6am and not have a full day of streaming @LeagueOfLegends @lolesports ahead of me. It feels…empty…must recharge for #c9win\",\"lang\":\"en\",\"id\":\"1450420992799559684\",\"author_id\":\"471633199\",\"public_metrics\":{\"retweet_count\":0,\"reply_count\":0,\"like_count\":1,\"quote_count\":0},\"created_at\":\"2021-10-19T11:18:06.000Z\"},{\"text\":\"Well we beat ourselves often, so does that mean…#c9win #hopium #lcs #Worlds2021 https://t.co/KhaEfGTxTt\",\"lang\":\"en\",\"id\":\"1450420370964627458\",\"author_id\":\"471633199\",\"public_metrics\":{\"retweet_count\":0,\"reply_count\":0,\"like_count\":0,\"quote_count\":0},\"created_at\":\"2021-10-19T11:15:38.000Z\"},{\"text\":\"RT @Cloud9: See you in the #Worlds2021 Finals \\\\uD83D\\\\uDE08\\\\n\\\\n#C9WIN https://t.co/Rd0EvWCRgu\",\"lang\":\"en\",\"id\":\"1450419552622456833\",\"author_id\":\"1448783076654526468\",\"public_metrics\":{\"retweet_count\":103,\"reply_count\":0,\"like_count\":0,\"quote_count\":0},\"created_at\":\"2021-10-19T11:12:23.000Z\"},{\"text\":\"RT @OvileeMay: OH IT\\'S THAT TIME BOYS AND GIRLS\\\\n\\\\n#TLWIN #WORLDS2021\",\"lang\":\"en\",\"id\":\"1450416404059013126\",\"author_id\":\"1394574438\",\"public_metrics\":{\"retweet_count\":32,\"reply_count\":0,\"like_count\":0,\"quote_count\":0},\"created_at\":\"2021-10-19T10:59:52.000Z\"},{\"text\":\"RT @LCSOfficial: OUT OF GROUPS #MadeByMany\\\\n\\\\n#C9WIN | #Worlds2021 https://t.co/ejmON5Vayv\",\"lang\":\"en\",\"id\":\"1450416179055669254\",\"author_id\":\"3129644354\",\"public_metrics\":{\"retweet_count\":519,\"reply_count\":0,\"like_count\":0,\"quote_count\":0},\"created_at\":\"2021-10-19T10:58:59.000Z\"},{\"text\":\"Honestly if it were to come for a MAD vs C9 Worlds Final (shut up let me dream) i would want C9 to win it. I just want Perkz to lift that long overdue Trophy. #MADWIN #C9WIN\",\"lang\":\"en\",\"id\":\"1450413925326106628\",\"author_id\":\"698993929082036225\",\"public_metrics\":{\"retweet_count\":0,\"reply_count\":0,\"like_count\":0,\"quote_count\":0},\"created_at\":\"2021-10-19T10:50:01.000Z\"},{\"text\":\"RT @Cloud9: We heard the call.\\\\n\\\\nOnce again. #C9WIN https://t.co/S2YmPNiKjw\",\"lang\":\"en\",\"id\":\"1450413909018648583\",\"author_id\":\"385538791\",\"public_metrics\":{\"retweet_count\":568,\"reply_count\":0,\"like_count\":0,\"quote_count\":0},\"created_at\":\"2021-10-19T10:49:57.000Z\"},{\"text\":\"RT @Cloud9: See you in the #Worlds2021 Finals \\\\uD83D\\\\uDE08\\\\n\\\\n#C9WIN https://t.co/Rd0EvWCRgu\",\"lang\":\"en\",\"id\":\"1450413663580397573\",\"author_id\":\"1129725432209608704\",\"public_metrics\":{\"retweet_count\":103,\"reply_count\":0,\"like_count\":0,\"quote_count\":0},\"created_at\":\"2021-10-19T10:48:59.000Z\"},{\"text\":\"Self made C9 keychain  @Cloud9 #C9WIN https://t.co/zqmCmnrVKz\",\"lang\":\"en\",\"id\":\"1450412050522517508\",\"author_id\":\"2765491520\",\"public_metrics\":{\"retweet_count\":0,\"reply_count\":0,\"like_count\":0,\"quote_count\":0},\"created_at\":\"2021-10-19T10:42:34.000Z\"},{\"text\":\"RT @TeamLiquidLoL: It\\'s time to make it or break it. #TLWIN https://t.co/fmHp9GDGq9\",\"lang\":\"en\",\"id\":\"1450412033522950148\",\"author_id\":\"3179789619\",\"public_metrics\":{\"retweet_count\":59,\"reply_count\":0,\"like_count\":0,\"quote_count\":0},\"created_at\":\"2021-10-19T10:42:30.000Z\"},{\"text\":\"RT @EsportsDotComEN: #LeagueOfLegends Head Coach for @cloud9 @mithygg \\\\n\\\\n“The level of individual laning and the early-game at Worlds is muc…\",\"lang\":\"en\",\"id\":\"1450411267672399887\",\"author_id\":\"830161988651200512\",\"public_metrics\":{\"retweet_count\":1,\"reply_count\":0,\"like_count\":0,\"quote_count\":0},\"created_at\":\"2021-10-19T10:39:28.000Z\"},{\"text\":\"RT @Cloud9: See you in the #Worlds2021 Finals \\\\uD83D\\\\uDE08\\\\n\\\\n#C9WIN https://t.co/Rd0EvWCRgu\",\"lang\":\"en\",\"id\":\"1450410986393927682\",\"author_id\":\"1145589068840914944\",\"public_metrics\":{\"retweet_count\":103,\"reply_count\":0,\"like_count\":0,\"quote_count\":0},\"created_at\":\"2021-10-19T10:38:21.000Z\"},{\"text\":\"RT @Cloud9: We heard the call.\\\\n\\\\nOnce again. #C9WIN https://t.co/S2YmPNiKjw\",\"lang\":\"en\",\"id\":\"1450410884921188355\",\"author_id\":\"437952413\",\"public_metrics\":{\"retweet_count\":568,\"reply_count\":0,\"like_count\":0,\"quote_count\":0},\"created_at\":\"2021-10-19T10:37:56.000Z\"},{\"text\":\"#LeagueOfLegends Head Coach for @cloud9 @mithygg \\\\n\\\\n“The level of individual laning and the early-game at Worlds is much higher and it takes a while for Western teams to adapt”\\\\n\\\\n#Worlds2021 #esports #cloud9 #C9WIN https://t.co/ZIbOwv7EKa\",\"lang\":\"en\",\"id\":\"1450407564282372096\",\"author_id\":\"1065923083696054274\",\"public_metrics\":{\"retweet_count\":1,\"reply_count\":0,\"like_count\":5,\"quote_count\":0},\"created_at\":\"2021-10-19T10:24:45.000Z\"},{\"text\":\"RT @OvileeMay: WORLDS BABY x @TeamLiquidLoL powered by @Alienware ft. @RazLCS &amp; @CaptainFlowers\\\\n\\\\n#Worlds2021 #TLWIN https://t.co/t9Wpe8kna7\",\"lang\":\"en\",\"id\":\"1450407398720606208\",\"author_id\":\"208468357\",\"public_metrics\":{\"retweet_count\":1787,\"reply_count\":0,\"like_count\":0,\"quote_count\":0},\"created_at\":\"2021-10-19T10:24:05.000Z\"},{\"text\":\"@GenG_KR loool book the flights back home #C9WIN\",\"lang\":\"en\",\"id\":\"1450402223180107776\",\"author_id\":\"1325152815736614919\",\"public_metrics\":{\"retweet_count\":0,\"reply_count\":0,\"like_count\":0,\"quote_count\":0},\"in_reply_to_user_id\":\"951370993439719424\",\"created_at\":\"2021-10-19T10:03:31.000Z\"},{\"text\":\"RT @SavannahLoveXo3: #Worlds2021 #C9WIN So excited for the last few days of Worlds! Such an amazing event \\\\uD83D\\\\uDC95\\\\uD83E\\\\uDD7A #NA https://t.co/DjBlcLDGpO\",\"lang\":\"en\",\"id\":\"1450400145800146950\",\"author_id\":\"1261403604788940803\",\"public_metrics\":{\"retweet_count\":14,\"reply_count\":0,\"like_count\":0,\"quote_count\":0},\"created_at\":\"2021-10-19T09:55:16.000Z\"},{\"text\":\"RT @OvileeMay: WORLDS BABY x @TeamLiquidLoL powered by @Alienware ft. @RazLCS &amp; @CaptainFlowers\\\\n\\\\n#Worlds2021 #TLWIN https://t.co/t9Wpe8kna7\",\"lang\":\"en\",\"id\":\"1450399623642746882\",\"author_id\":\"1095119918478123008\",\"public_metrics\":{\"retweet_count\":1787,\"reply_count\":0,\"like_count\":0,\"quote_count\":0},\"created_at\":\"2021-10-19T09:53:12.000Z\"},{\"text\":\"RT @AzaelOfficial: TL have 4 #LCS titles\\\\n4th Worlds\\\\n4th day of the second RR\\\\nPlaying vs the 4th Korean team to make quarters\\\\nNeed their 4th…\",\"lang\":\"en\",\"id\":\"1450395622389993473\",\"author_id\":\"197793635\",\"public_metrics\":{\"retweet_count\":29,\"reply_count\":0,\"like_count\":0,\"quote_count\":0},\"created_at\":\"2021-10-19T09:37:18.000Z\"},{\"text\":\"RT @BDO_Panda: Jack\\'s Reactions to C9 winning is my favorite part of worlds. #C9WIN https://t.co/gDeMDRKkFz\",\"lang\":\"en\",\"id\":\"1450394426791059458\",\"author_id\":\"1717431366\",\"public_metrics\":{\"retweet_count\":1,\"reply_count\":0,\"like_count\":0,\"quote_count\":0},\"created_at\":\"2021-10-19T09:32:33.000Z\"},{\"text\":\"Jack\\'s Reactions to C9 winning is my favorite part of worlds. #C9WIN https://t.co/gDeMDRKkFz\",\"lang\":\"en\",\"id\":\"1450394333945937922\",\"author_id\":\"881967035529428993\",\"public_metrics\":{\"retweet_count\":1,\"reply_count\":2,\"like_count\":2,\"quote_count\":0},\"created_at\":\"2021-10-19T09:32:10.000Z\"},{\"text\":\"RT @AzaelOfficial: CLOUD9 GET GEN.G LET\\'S FUCKING GOOOOOO!\\\\n\\\\nREVENGE FOR TL, C9 ABOUT TO KILL LCK &amp; MAKE SEMI\\'S AGAIN!\\\\n\\\\nI BELIVEEEEEE!!!! #C…\",\"lang\":\"en\",\"id\":\"1450391076712316929\",\"author_id\":\"2950335861\",\"public_metrics\":{\"retweet_count\":62,\"reply_count\":0,\"like_count\":0,\"quote_count\":0},\"created_at\":\"2021-10-19T09:19:14.000Z\"},{\"text\":\"RT @SavannahLoveXo3: #Worlds2021 #C9WIN So excited for the last few days of Worlds! Such an amazing event \\\\uD83D\\\\uDC95\\\\uD83E\\\\uDD7A #NA https://t.co/DjBlcLDGpO\",\"lang\":\"en\",\"id\":\"1450388273520644097\",\"author_id\":\"1362152010380943361\",\"public_metrics\":{\"retweet_count\":14,\"reply_count\":0,\"like_count\":0,\"quote_count\":0},\"created_at\":\"2021-10-19T09:08:05.000Z\"},{\"text\":\"#Worlds2021 Quarterfinals-Bracket!\\\\n\\\\nWho\\'s going to reach into semi-finals? ✍️\\\\n\\\\n@RNG vs. @EDG_Edward\\\\n @GenG vs. @Cloud9\\\\n @T1LoL vs. @HLEofficial\\\\n @DWGKIA vs. @MADLions\\\\n \\\\nCredit: @lolesports\\\\n#RNGWIN , #GenG #GenGWIN ,#C9WIN ,#T1WIN ,#HLEWIN ,#goMAD ,#DK #DWGKIA https://t.co/k9OFy5uJI4\",\"lang\":\"en\",\"id\":\"1450384704474124291\",\"author_id\":\"1065923083696054274\",\"public_metrics\":{\"retweet_count\":0,\"reply_count\":0,\"like_count\":1,\"quote_count\":0},\"created_at\":\"2021-10-19T08:53:55.000Z\"},{\"text\":\"RT @OvileeMay: WORLDS BABY x @TeamLiquidLoL powered by @Alienware ft. @RazLCS &amp; @CaptainFlowers\\\\n\\\\n#Worlds2021 #TLWIN https://t.co/t9Wpe8kna7\",\"lang\":\"en\",\"id\":\"1450378749309038592\",\"author_id\":\"193356806\",\"public_metrics\":{\"retweet_count\":1787,\"reply_count\":0,\"like_count\":0,\"quote_count\":0},\"created_at\":\"2021-10-19T08:30:15.000Z\"},{\"text\":\"RT @Cloud9: We heard the call.\\\\n\\\\nOnce again. #C9WIN https://t.co/S2YmPNiKjw\",\"lang\":\"en\",\"id\":\"1450378472556306445\",\"author_id\":\"3930840027\",\"public_metrics\":{\"retweet_count\":568,\"reply_count\":0,\"like_count\":0,\"quote_count\":0},\"created_at\":\"2021-10-19T08:29:09.000Z\"},{\"text\":\"RT @SavannahLoveXo3: #Worlds2021 #C9WIN So excited for the last few days of Worlds! Such an amazing event \\\\uD83D\\\\uDC95\\\\uD83E\\\\uDD7A #NA https://t.co/DjBlcLDGpO\",\"lang\":\"en\",\"id\":\"1450374942365782018\",\"author_id\":\"1444056829659688964\",\"public_metrics\":{\"retweet_count\":14,\"reply_count\":0,\"like_count\":0,\"quote_count\":0},\"created_at\":\"2021-10-19T08:15:07.000Z\"},{\"text\":\"RT @Titan4H: Fighting! I believe baby. We win. Bring home a cup for US, @Cloud9.\\\\n\\\\uD83D\\\\uDC9C\\\\uD83D\\\\uDC9C\\\\uD83D\\\\uDC9C\\\\uD83D\\\\uDC9C\\\\n#C9WIN #lolworlds #lol #riotgames #leagueoflegends #n…\",\"lang\":\"en\",\"id\":\"1450371322295377921\",\"author_id\":\"1387915915296002052\",\"public_metrics\":{\"retweet_count\":1,\"reply_count\":0,\"like_count\":0,\"quote_count\":0},\"created_at\":\"2021-10-19T08:00:44.000Z\"},{\"text\":\"RT @Cloud9: See you in the #Worlds2021 Finals \\\\uD83D\\\\uDE08\\\\n\\\\n#C9WIN https://t.co/Rd0EvWCRgu\",\"lang\":\"en\",\"id\":\"1450370015929192454\",\"author_id\":\"1290587544330043394\",\"public_metrics\":{\"retweet_count\":103,\"reply_count\":0,\"like_count\":0,\"quote_count\":0},\"created_at\":\"2021-10-19T07:55:33.000Z\"},{\"text\":\"Hey @Cloud9, ya know what would be a great holiday gift for me? Making it to the Worlds finals. Please and thank you!❤️\\\\n\\\\n#C9WIN #Worlds2021 #LCS\",\"lang\":\"en\",\"id\":\"1450364061464469504\",\"author_id\":\"3378231013\",\"public_metrics\":{\"retweet_count\":0,\"reply_count\":0,\"like_count\":0,\"quote_count\":0},\"created_at\":\"2021-10-19T07:31:53.000Z\"},{\"text\":\"RT @Cloud9: We heard the call.\\\\n\\\\nOnce again. #C9WIN https://t.co/S2YmPNiKjw\",\"lang\":\"en\",\"id\":\"1450362475401007106\",\"author_id\":\"981928962\",\"public_metrics\":{\"retweet_count\":568,\"reply_count\":0,\"like_count\":0,\"quote_count\":0},\"created_at\":\"2021-10-19T07:25:35.000Z\"},{\"text\":\"RT @TeamLiquidLoL: AHHHHHHHHHHHHH LET’S GOOOOO #TLWIN\",\"lang\":\"en\",\"id\":\"1450360773390258176\",\"author_id\":\"995882911\",\"public_metrics\":{\"retweet_count\":56,\"reply_count\":0,\"like_count\":0,\"quote_count\":0},\"created_at\":\"2021-10-19T07:18:49.000Z\"},{\"text\":\"RT @lolesports: #TLWIN \\\\n\\\\n@TeamLiquidLoL kick off week 2 with a win against @LNG_Esports! #Worlds2021 https://t.co/v621Dbah6o\",\"lang\":\"en\",\"id\":\"1450359393959174149\",\"author_id\":\"868685008151740417\",\"public_metrics\":{\"retweet_count\":221,\"reply_count\":0,\"like_count\":0,\"quote_count\":0},\"created_at\":\"2021-10-19T07:13:20.000Z\"},{\"text\":\"I have hope LCS is winning worlds! #LCS #C9WIN\\\\n\\\\nhttps://t.co/typRX1QKbK https://t.co/T9EwZAHBtr\",\"lang\":\"en\",\"id\":\"1450358636530782208\",\"author_id\":\"2934115212\",\"public_metrics\":{\"retweet_count\":1,\"reply_count\":0,\"like_count\":1,\"quote_count\":0},\"created_at\":\"2021-10-19T07:10:19.000Z\"},{\"text\":\"RT @TeamLiquidLoL: IT\\'S GAME TIME. Show us in the comments how you\\'re watching our matches today for a chance to win a @secretlabchairs TIT…\",\"lang\":\"en\",\"id\":\"1450355567810199552\",\"author_id\":\"1251599239882387457\",\"public_metrics\":{\"retweet_count\":25,\"reply_count\":0,\"like_count\":0,\"quote_count\":0},\"created_at\":\"2021-10-19T06:58:08.000Z\"},{\"text\":\"RT @Cloud9: We heard the call.\\\\n\\\\nOnce again. #C9WIN https://t.co/S2YmPNiKjw\",\"lang\":\"en\",\"id\":\"1450354251197124619\",\"author_id\":\"1429149771931942913\",\"public_metrics\":{\"retweet_count\":568,\"reply_count\":0,\"like_count\":0,\"quote_count\":0},\"created_at\":\"2021-10-19T06:52:54.000Z\"},{\"text\":\"I am streaming on Twitch playing Fortnite. I won game 100 on Solo in Fortnite WooooHoooo.\\\\uD83D\\\\uDC99 @FortniteGame #FortniteSeason8 #100win @Twitch #twitchaffiliate #twitch #twitchdillpunk206 https://t.co/9L4P5DyjcV\",\"lang\":\"en\",\"id\":\"1450354024234946564\",\"author_id\":\"2344236937\",\"public_metrics\":{\"retweet_count\":0,\"reply_count\":0,\"like_count\":0,\"quote_count\":0},\"created_at\":\"2021-10-19T06:52:00.000Z\"},{\"text\":\"RT @BandleBro: LET\\'S GOOOOOOOOOOOOOOOOOOOOOOOOO! \\\\n#C9WIN https://t.co/qdNPkKVY8t\",\"lang\":\"en\",\"id\":\"1450353453373349889\",\"author_id\":\"1428829633315622912\",\"public_metrics\":{\"retweet_count\":122,\"reply_count\":0,\"like_count\":0,\"quote_count\":0},\"created_at\":\"2021-10-19T06:49:44.000Z\"},{\"text\":\"RT @SavannahLoveXo3: #Worlds2021 #C9WIN So excited for the last few days of Worlds! Such an amazing event \\\\uD83D\\\\uDC95\\\\uD83E\\\\uDD7A #NA https://t.co/DjBlcLDGpO\",\"lang\":\"en\",\"id\":\"1450353010190786567\",\"author_id\":\"1441289541021700108\",\"public_metrics\":{\"retweet_count\":14,\"reply_count\":0,\"like_count\":0,\"quote_count\":0},\"created_at\":\"2021-10-19T06:47:58.000Z\"},{\"text\":\"Fighting! I believe baby. We win. Bring home a cup for US, @Cloud9.\\\\n\\\\uD83D\\\\uDC9C\\\\uD83D\\\\uDC9C\\\\uD83D\\\\uDC9C\\\\uD83D\\\\uDC9C\\\\n#C9WIN #lolworlds #lol #riotgames #leagueoflegends #na https://t.co/PiMmQWiLvc\",\"lang\":\"en\",\"id\":\"1450352162861731842\",\"author_id\":\"1472207708\",\"public_metrics\":{\"retweet_count\":1,\"reply_count\":0,\"like_count\":1,\"quote_count\":0},\"created_at\":\"2021-10-19T06:44:36.000Z\"},{\"text\":\"RT @OvileeMay: WORLDS BABY x @TeamLiquidLoL powered by @Alienware ft. @RazLCS &amp; @CaptainFlowers\\\\n\\\\n#Worlds2021 #TLWIN https://t.co/t9Wpe8kna7\",\"lang\":\"en\",\"id\":\"1450351594415996931\",\"author_id\":\"16167314\",\"public_metrics\":{\"retweet_count\":1787,\"reply_count\":0,\"like_count\":0,\"quote_count\":0},\"created_at\":\"2021-10-19T06:42:20.000Z\"},{\"text\":\"#Worlds2021 #C9WIN So excited for the last few days of Worlds! Such an amazing event \\\\uD83D\\\\uDC95\\\\uD83E\\\\uDD7A #NA https://t.co/DjBlcLDGpO\",\"lang\":\"en\",\"id\":\"1450351433266581507\",\"author_id\":\"1429149771931942913\",\"public_metrics\":{\"retweet_count\":14,\"reply_count\":1,\"like_count\":18,\"quote_count\":0},\"created_at\":\"2021-10-19T06:41:42.000Z\"},{\"text\":\"RT @topreuse5: #Sale Use reusable silicone lid TOP RATED LIDS in #Amazon (https://t.co/jyE0s0iIoK)(https://t.co/HvS5XErJha) #mondaythoughts…\",\"lang\":\"en\",\"id\":\"1450347373557952513\",\"author_id\":\"1137019957571538946\",\"public_metrics\":{\"retweet_count\":2,\"reply_count\":0,\"like_count\":0,\"quote_count\":0},\"created_at\":\"2021-10-19T06:25:34.000Z\"},{\"text\":\"RT @Cloud9: We heard the call.\\\\n\\\\nOnce again. #C9WIN https://t.co/S2YmPNiKjw\",\"lang\":\"en\",\"id\":\"1450343967925551104\",\"author_id\":\"966257895284199424\",\"public_metrics\":{\"retweet_count\":568,\"reply_count\":0,\"like_count\":0,\"quote_count\":0},\"created_at\":\"2021-10-19T06:12:02.000Z\"},{\"text\":\"@Cloud9 You guys play the day before my birthday (oct 26) please win this one, i know you guys can! , and it will be the best gift I\\'ll get!! \\\\n#C9WIN https://t.co/cJPaQzmJVL\",\"lang\":\"en\",\"id\":\"1450343292428824578\",\"author_id\":\"904086660\",\"public_metrics\":{\"retweet_count\":0,\"reply_count\":0,\"like_count\":0,\"quote_count\":0},\"in_reply_to_user_id\":\"1452520626\",\"created_at\":\"2021-10-19T06:09:21.000Z\"},{\"text\":\"RT @AzaelOfficial: CLOUD9 GET GEN.G LET\\'S FUCKING GOOOOOO!\\\\n\\\\nREVENGE FOR TL, C9 ABOUT TO KILL LCK &amp; MAKE SEMI\\'S AGAIN!\\\\n\\\\nI BELIVEEEEEE!!!! #C…\",\"lang\":\"en\",\"id\":\"1450340732041039879\",\"author_id\":\"813849823174660096\",\"public_metrics\":{\"retweet_count\":62,\"reply_count\":0,\"like_count\":0,\"quote_count\":0},\"created_at\":\"2021-10-19T05:59:11.000Z\"},{\"text\":\"RT @LCSOfficial: Quarterfinals #C9WIN | #Worlds20221 https://t.co/giQQbAr48s\",\"lang\":\"en\",\"id\":\"1450340294503763970\",\"author_id\":\"1159509252551000064\",\"public_metrics\":{\"retweet_count\":42,\"reply_count\":0,\"like_count\":0,\"quote_count\":0},\"created_at\":\"2021-10-19T05:57:26.000Z\"},{\"text\":\"remember how c9 defeated afreeca freecs in 2018? its about to happen again vs. gen g mark my fucking words #C9WIN\",\"lang\":\"en\",\"id\":\"1450332432008290310\",\"author_id\":\"976777185884176384\",\"public_metrics\":{\"retweet_count\":0,\"reply_count\":0,\"like_count\":0,\"quote_count\":0},\"created_at\":\"2021-10-19T05:26:12.000Z\"},{\"text\":\"RT @Cloud9: AGAINST ALL ODDS #C9WIN https://t.co/o9H3EwFPHV\",\"lang\":\"en\",\"id\":\"1450330244381032452\",\"author_id\":\"916396645746491392\",\"public_metrics\":{\"retweet_count\":2095,\"reply_count\":0,\"like_count\":0,\"quote_count\":0},\"created_at\":\"2021-10-19T05:17:30.000Z\"},{\"text\":\"@TeamLiquidLoL Congrats on everything you guys have done. Just getting to Worlds is an accomplishment. Ya\\'ll worked hard, but fate called. We will win 2022. Take care of yourselves during this break. #TLWIN #LETSGOLIQUID\",\"lang\":\"en\",\"id\":\"1450328610200506369\",\"author_id\":\"1303091291320987649\",\"public_metrics\":{\"retweet_count\":0,\"reply_count\":0,\"like_count\":1,\"quote_count\":0},\"in_reply_to_user_id\":\"964529942\",\"created_at\":\"2021-10-19T05:11:01.000Z\"},{\"text\":\"RT @Cloud9: We heard the call.\\\\n\\\\nOnce again. #C9WIN https://t.co/S2YmPNiKjw\",\"lang\":\"en\",\"id\":\"1450327808216027137\",\"author_id\":\"1437086304722997249\",\"public_metrics\":{\"retweet_count\":568,\"reply_count\":0,\"like_count\":0,\"quote_count\":0},\"created_at\":\"2021-10-19T05:07:49.000Z\"},{\"text\":\"RT @Cloud9: We heard the call.\\\\n\\\\nOnce again. #C9WIN https://t.co/S2YmPNiKjw\",\"lang\":\"en\",\"id\":\"1450323942749605889\",\"author_id\":\"3056095466\",\"public_metrics\":{\"retweet_count\":568,\"reply_count\":0,\"like_count\":0,\"quote_count\":0},\"created_at\":\"2021-10-19T04:52:28.000Z\"},{\"text\":\"RT @LCSOfficial: Quarterfinals #C9WIN | #Worlds20221 https://t.co/giQQbAr48s\",\"lang\":\"en\",\"id\":\"1450322634009309190\",\"author_id\":\"1262715958155755520\",\"public_metrics\":{\"retweet_count\":42,\"reply_count\":0,\"like_count\":0,\"quote_count\":0},\"created_at\":\"2021-10-19T04:47:16.000Z\"},{\"text\":\"RT @AzaelOfficial: CLOUD9 GET GEN.G LET\\'S FUCKING GOOOOOO!\\\\n\\\\nREVENGE FOR TL, C9 ABOUT TO KILL LCK &amp; MAKE SEMI\\'S AGAIN!\\\\n\\\\nI BELIVEEEEEE!!!! #C…\",\"lang\":\"en\",\"id\":\"1450322251815948294\",\"author_id\":\"3501087979\",\"public_metrics\":{\"retweet_count\":62,\"reply_count\":0,\"like_count\":0,\"quote_count\":0},\"created_at\":\"2021-10-19T04:45:45.000Z\"},{\"text\":\"RT @Cloud9: We heard the call.\\\\n\\\\nOnce again. #C9WIN https://t.co/S2YmPNiKjw\",\"lang\":\"en\",\"id\":\"1450321998282854404\",\"author_id\":\"185252363\",\"public_metrics\":{\"retweet_count\":568,\"reply_count\":0,\"like_count\":0,\"quote_count\":0},\"created_at\":\"2021-10-19T04:44:44.000Z\"},{\"text\":\"RT @LCSOfficial: Quarterfinals #C9WIN | #Worlds20221 https://t.co/giQQbAr48s\",\"lang\":\"en\",\"id\":\"1450319521923751945\",\"author_id\":\"1326005796371525634\",\"public_metrics\":{\"retweet_count\":42,\"reply_count\":0,\"like_count\":0,\"quote_count\":0},\"created_at\":\"2021-10-19T04:34:54.000Z\"},{\"text\":\"RT @Cloud9: We heard the call.\\\\n\\\\nOnce again. #C9WIN https://t.co/S2YmPNiKjw\",\"lang\":\"en\",\"id\":\"1450319361479151618\",\"author_id\":\"535628321\",\"public_metrics\":{\"retweet_count\":568,\"reply_count\":0,\"like_count\":0,\"quote_count\":0},\"created_at\":\"2021-10-19T04:34:16.000Z\"},{\"text\":\"On October 25th @Cloud9 is gonna make it to semis, then after that finals, and after that, they\\'re gonna make NA proud and win worlds. I believe in yall. If any team can do it, it\\'s you guys #C9WIN\",\"lang\":\"en\",\"id\":\"1450318615606140934\",\"author_id\":\"1053824278205005825\",\"public_metrics\":{\"retweet_count\":0,\"reply_count\":0,\"like_count\":0,\"quote_count\":0},\"created_at\":\"2021-10-19T04:31:18.000Z\"},{\"text\":\"RT @Cloud9: We heard the call.\\\\n\\\\nOnce again. #C9WIN https://t.co/S2YmPNiKjw\",\"lang\":\"en\",\"id\":\"1450317483836116992\",\"author_id\":\"4317877280\",\"public_metrics\":{\"retweet_count\":568,\"reply_count\":0,\"like_count\":0,\"quote_count\":0},\"created_at\":\"2021-10-19T04:26:48.000Z\"},{\"text\":\"RT @AzaelOfficial: CLOUD9 GET GEN.G LET\\'S FUCKING GOOOOOO!\\\\n\\\\nREVENGE FOR TL, C9 ABOUT TO KILL LCK &amp; MAKE SEMI\\'S AGAIN!\\\\n\\\\nI BELIVEEEEEE!!!! #C…\",\"lang\":\"en\",\"id\":\"1450317039927627779\",\"author_id\":\"834613469332672513\",\"public_metrics\":{\"retweet_count\":62,\"reply_count\":0,\"like_count\":0,\"quote_count\":0},\"created_at\":\"2021-10-19T04:25:02.000Z\"},{\"text\":\"RT @Cloud9: We heard the call.\\\\n\\\\nOnce again. #C9WIN https://t.co/S2YmPNiKjw\",\"lang\":\"en\",\"id\":\"1450311037777899526\",\"author_id\":\"940848320909643776\",\"public_metrics\":{\"retweet_count\":568,\"reply_count\":0,\"like_count\":0,\"quote_count\":0},\"created_at\":\"2021-10-19T04:01:11.000Z\"},{\"text\":\"RT @LCSOfficial: Quarterfinals #C9WIN | #Worlds20221 https://t.co/giQQbAr48s\",\"lang\":\"en\",\"id\":\"1450309840069406721\",\"author_id\":\"3517083197\",\"public_metrics\":{\"retweet_count\":42,\"reply_count\":0,\"like_count\":0,\"quote_count\":0},\"created_at\":\"2021-10-19T03:56:25.000Z\"},{\"text\":\"RT @LosersQueuePod: 4 WAY TIE GROUP D LETS GOOOO #GenGWIN #lngwin #tlwin #madwin\",\"lang\":\"en\",\"id\":\"1450308295718318088\",\"author_id\":\"1019362363286355974\",\"public_metrics\":{\"retweet_count\":1,\"reply_count\":0,\"like_count\":0,\"quote_count\":0},\"created_at\":\"2021-10-19T03:50:17.000Z\"},{\"text\":\"RT @LCSOfficial: Quarterfinals #C9WIN | #Worlds20221 https://t.co/giQQbAr48s\",\"lang\":\"en\",\"id\":\"1450307060726370308\",\"author_id\":\"1151851094873653248\",\"public_metrics\":{\"retweet_count\":42,\"reply_count\":0,\"like_count\":0,\"quote_count\":0},\"created_at\":\"2021-10-19T03:45:23.000Z\"},{\"text\":\"RT @Cloud9: We heard the call.\\\\n\\\\nOnce again. #C9WIN https://t.co/S2YmPNiKjw\",\"lang\":\"en\",\"id\":\"1450304510069559296\",\"author_id\":\"1329101830509432833\",\"public_metrics\":{\"retweet_count\":568,\"reply_count\":0,\"like_count\":0,\"quote_count\":0},\"created_at\":\"2021-10-19T03:35:15.000Z\"},{\"text\":\"RT @KatieGripne: TOLD ME WE WERE AWFUL AND THAT SHIT DID NOT PHASE ME\\\\n\\\\nTELL ME HOW WE SUCK AGAIN MY MEMORY IS HAZY #C9WIN\",\"lang\":\"en\",\"id\":\"1450304272776802306\",\"author_id\":\"1076642013225865216\",\"public_metrics\":{\"retweet_count\":2,\"reply_count\":0,\"like_count\":0,\"quote_count\":0},\"created_at\":\"2021-10-19T03:34:18.000Z\"}],\"includes\":{\"users\":[{\"id\":\"942213299323760640\",\"name\":\"Michaela\",\"username\":\"KillerAlmonds\"},{\"id\":\"1395790806208892933\",\"name\":\"Tzn Dois\",\"username\":\"TheuzinFN2\"},{\"id\":\"1399482313017286657\",\"name\":\"urso polar gostou de vc\",\"username\":\"ursop0lar_\"},{\"id\":\"1385087813864017925\",\"name\":\"\\\\uD83C\\\\uDFF4\",\"username\":\"reditfn\"},{\"id\":\"448357975\",\"name\":\"Kenjeray Bennett\",\"username\":\"SmugglingNinja\"},{\"id\":\"1007039025675456514\",\"name\":\"Tzn\",\"username\":\"TheuzinFN\"},{\"id\":\"1445817677008674818\",\"name\":\"Savage Rose \\\\uD83C\\\\uDF39(bday 10/12)\",\"username\":\"Savage_Rose23\"},{\"id\":\"1382252800386727937\",\"name\":\"Reemas\",\"username\":\"Reemas64361818\"},{\"id\":\"1391055755462250502\",\"name\":\"kat\",\"username\":\"thekatvo\"},{\"id\":\"1000411723881426950\",\"name\":\"iBeyondGodly\",\"username\":\"iBeyondGodly\"},{\"id\":\"1247899616122527749\",\"name\":\"Sebastian Hueki\",\"username\":\"HuekiSebastian\"},{\"id\":\"1079231725778038784\",\"name\":\"Alephanso De\\'Abuque\",\"username\":\"KeyDestiny12\"},{\"id\":\"1448645807582875650\",\"name\":\"Anna\",\"username\":\"_banannaaas\"},{\"id\":\"2857297064\",\"name\":\"Matt Kingsbury\",\"username\":\"karanda1221\"},{\"id\":\"546381143\",\"name\":\"4C UPDATES\",\"username\":\"4C_RTs\"},{\"id\":\"2704716279\",\"name\":\"Bellford\",\"username\":\"UBorbor\"},{\"id\":\"3316769422\",\"name\":\"MysticFeaDream\",\"username\":\"MysticFeaDream\"},{\"id\":\"140261655\",\"name\":\"Adam Errigo\",\"username\":\"SquiZZomatic_\"},{\"id\":\"962880089095471104\",\"name\":\"ELTR\",\"username\":\"ELTRPG\"},{\"id\":\"1433594380355518464\",\"name\":\"\\\\uD83D\\\\uDC7BRT\\\\uD83C\\\\uDF83\",\"username\":\"RT0121\"},{\"id\":\"1335813717833945094\",\"name\":\"Femboy Maybel \\\\uD83C\\\\uDF83\",\"username\":\"MidbossM\"},{\"id\":\"1046112417195970561\",\"name\":\"Sammy\",\"username\":\"Oblimancer\"},{\"id\":\"1162485456\",\"name\":\"Lateral\",\"username\":\"L4t3ral\"},{\"id\":\"857345402043072512\",\"name\":\"Anthony Huynh\",\"username\":\"Klein7k\"},{\"id\":\"1069325946002509825\",\"name\":\"Silücrert\",\"username\":\"ahinzde30966287\"},{\"id\":\"781380686313844736\",\"name\":\"Myan\",\"username\":\"my4orce\"},{\"id\":\"133982520\",\"name\":\"손혜주외침봇\",\"username\":\"kawail_man\"},{\"id\":\"216286881\",\"name\":\"열심히 공부하자... 8월이/opeth\",\"username\":\"KHANsamsung\"},{\"id\":\"43142388\",\"name\":\"Monitoring FC\",\"username\":\"gsantos725\"},{\"id\":\"843648931\",\"name\":\"KONOCHO \\\\uD83E\\\\uDD86\",\"username\":\"KasceyMalone\"},{\"id\":\"1092412246624489472\",\"name\":\"Krystian\",\"username\":\"buypinkward\"},{\"id\":\"272654812\",\"name\":\"Chicken Fried Bryce\",\"username\":\"jackthebobo\"},{\"id\":\"471633199\",\"name\":\"Steven Briggs\",\"username\":\"TrnDaBeatAround\"},{\"id\":\"1448783076654526468\",\"name\":\"Heidi\",\"username\":\"carpetiddy\"},{\"id\":\"1394574438\",\"name\":\"Manuel Carlos\",\"username\":\"Manuel_castanha\"},{\"id\":\"3129644354\",\"name\":\"Tino\",\"username\":\"titantino17\"},{\"id\":\"698993929082036225\",\"name\":\"SpaceCloud/Marten\",\"username\":\"Sp4ceCloud\"},{\"id\":\"385538791\",\"name\":\"Cody Adams\",\"username\":\"tallwhitekid35\"},{\"id\":\"1129725432209608704\",\"name\":\"Michael :T\",\"username\":\"kelal_\"},{\"id\":\"2765491520\",\"name\":\"Raukho\",\"username\":\"Matthi0604\"},{\"id\":\"3179789619\",\"name\":\"George Moskov\",\"username\":\"georgemoskovuk\"},{\"id\":\"830161988651200512\",\"name\":\"Megalodontus \\\\uD83E\\\\uDD88\",\"username\":\"Megalodontus\"},{\"id\":\"1145589068840914944\",\"name\":\"Ninsu.\",\"username\":\"ninsaaanity\"},{\"id\":\"437952413\",\"name\":\"Jefe Jake \\\\uD83E\\\\uDDD9\\u200d♂️\\\\uD83D\\\\uDC7E\\\\uD83C\\\\uDFC6\",\"username\":\"OGKwiKz\"},{\"id\":\"1065923083696054274\",\"name\":\"esports.com EN\",\"username\":\"EsportsDotComEN\"},{\"id\":\"208468357\",\"name\":\"Baloee\",\"username\":\"RoyHullegie\"},{\"id\":\"1325152815736614919\",\"name\":\"Guguhupf\\\\uD83C\\\\uDDE8\\\\uD83C\\\\uDDED\\\\uD83C\\\\uDDE8\\\\uD83C\\\\uDDED\\\\uD83C\\\\uDDE8\\\\uD83C\\\\uDDED\",\"username\":\"florianwieland9\"},{\"id\":\"1261403604788940803\",\"name\":\"Jordan Bk All Day\",\"username\":\"msgunzzz\"},{\"id\":\"1095119918478123008\",\"name\":\"BlackJosh\",\"username\":\"Black_Josh0\"},{\"id\":\"197793635\",\"name\":\"Cam\",\"username\":\"CamDog1996\"},{\"id\":\"1717431366\",\"name\":\"Ted Vargas\",\"username\":\"TedVargas1\"},{\"id\":\"881967035529428993\",\"name\":\"Golden Oath\",\"username\":\"BDO_Panda\"},{\"id\":\"2950335861\",\"name\":\"Kell\",\"username\":\"tommy_10100\"},{\"id\":\"1362152010380943361\",\"name\":\"✧･ﾟ:*SINFUL SUCCUBUS 1.2K ✧･ﾟ:*\",\"username\":\"devilmoonbrain\"},{\"id\":\"193356806\",\"name\":\"24 || strong.\",\"username\":\"xlikeskyscraper\"},{\"id\":\"3930840027\",\"name\":\"Luis\",\"username\":\"Dragon_goes_brr\"},{\"id\":\"1444056829659688964\",\"name\":\"venus \\\\uD83C\\\\uDF39 50% off fansly & OF\",\"username\":\"venussenuv\"},{\"id\":\"1387915915296002052\",\"name\":\"Woad Grizz\",\"username\":\"Woad_Grizz\"},{\"id\":\"1290587544330043394\",\"name\":\"BMW Esports\",\"username\":\"BMWEsports\"},{\"id\":\"3378231013\",\"name\":\"Spooky Panda \\\\uD83C\\\\uDF83 \\\\uD83D\\\\uDC3C\\\\uD83D\\\\uDC7B\",\"username\":\"kokkikodi\"},{\"id\":\"981928962\",\"name\":\"Big G fan\",\"username\":\"Brewer90M\"},{\"id\":\"995882911\",\"name\":\"Clarence Storm/Jalen\",\"username\":\"AgentJalen18\"},{\"id\":\"868685008151740417\",\"name\":\"Jo\",\"username\":\"josephh2o_\"},{\"id\":\"2934115212\",\"name\":\"Koz \\\\uD83D\\\\uDC7B\",\"username\":\"iKozlowz\"},{\"id\":\"1251599239882387457\",\"name\":\"SirLucky7\",\"username\":\"_SirLucky7_\"},{\"id\":\"1429149771931942913\",\"name\":\"Savannah Love\\\\uD83D\\\\uDC8B\",\"username\":\"SavannahLoveXo3\"},{\"id\":\"2344236937\",\"name\":\"Dillon Whittier \\\\uD83D\\\\uDC99 #GoHawks\",\"username\":\"dillpunk206\"},{\"id\":\"1428829633315622912\",\"name\":\"CARROT CAT VOL 2\",\"username\":\"CARROT_CAT11\"},{\"id\":\"1441289541021700108\",\"name\":\"mint \\\\uD83C\\\\uDF31\",\"username\":\"fairyminht\"},{\"id\":\"1472207708\",\"name\":\"Titan4H™\",\"username\":\"Titan4H\"},{\"id\":\"16167314\",\"name\":\"Jank Hank\",\"username\":\"JankHank\"},{\"id\":\"1137019957571538946\",\"name\":\"Jason\",\"username\":\"Jason63447915\"},{\"id\":\"966257895284199424\",\"name\":\"MatKnows\",\"username\":\"Matsknowsaces\"},{\"id\":\"904086660\",\"name\":\"DankAndy\",\"username\":\"Dank_Andy1\"},{\"id\":\"813849823174660096\",\"name\":\"aerina | kazuha SSR rank\",\"username\":\"foxvisage\"},{\"id\":\"1159509252551000064\",\"name\":\"[HVCWST]Muda\",\"username\":\"7pagemudaa\"},{\"id\":\"976777185884176384\",\"name\":\"krazy popet\",\"username\":\"notseraphs\"},{\"id\":\"916396645746491392\",\"name\":\"C9 Arzakil\",\"username\":\"ArzakiI\"},{\"id\":\"1303091291320987649\",\"name\":\"KS Novation\",\"username\":\"KsNovation\"},{\"id\":\"1437086304722997249\",\"name\":\"K3rem\",\"username\":\"K3rem9\"},{\"id\":\"3056095466\",\"name\":\"Suneater\",\"username\":\"spk_Suneater\"},{\"id\":\"1262715958155755520\",\"name\":\"vulcaN\",\"username\":\"vulxaNNN\"},{\"id\":\"3501087979\",\"name\":\"Jackson Giles\",\"username\":\"Jackson3887\"},{\"id\":\"185252363\",\"name\":\"KURO+++\",\"username\":\"ljf50536\"},{\"id\":\"1326005796371525634\",\"name\":\"Kabob\",\"username\":\"Kabob80714238\"},{\"id\":\"535628321\",\"name\":\"Mitchell\",\"username\":\"MiitchellMD\"},{\"id\":\"1053824278205005825\",\"name\":\"Anjerisu\",\"username\":\"Anjerisu\"},{\"id\":\"4317877280\",\"name\":\"R0GUE78\",\"username\":\"R0GUE78\"},{\"id\":\"834613469332672513\",\"name\":\"lol\",\"username\":\"akiralolol\"},{\"id\":\"940848320909643776\",\"name\":\"G\\\\uD83C\\\\uDF83\",\"username\":\"Gbravo_96\"},{\"id\":\"3517083197\",\"name\":\"Max\",\"username\":\"hoodlor\"},{\"id\":\"1019362363286355974\",\"name\":\"Dan\",\"username\":\"Windowshadow69\"},{\"id\":\"1151851094873653248\",\"name\":\"Sketchy Bat\",\"username\":\"sketchy_bat\"},{\"id\":\"1329101830509432833\",\"name\":\"cloudjonin1\",\"username\":\"cloudjonin1\"},{\"id\":\"1076642013225865216\",\"name\":\"ays\",\"username\":\"sushiske\"}]},\"meta\":{\"newest_id\":\"1450478315257671694\",\"oldest_id\":\"1450304272776802306\",\"result_count\":99,\"next_token\":\"b26v89c19zqg8o3fpdv5sgaj8cqvze7fzr17b7mzjko71\"}}'"
      ]
     },
     "execution_count": 29,
     "metadata": {},
     "output_type": "execute_result"
    }
   ],
   "source": [
    "response_2.text"
   ]
  },
  {
   "cell_type": "code",
   "execution_count": 30,
   "id": "6402affb",
   "metadata": {},
   "outputs": [],
   "source": [
    "response_2_dict = json.loads(response_2.text)"
   ]
  },
  {
   "cell_type": "code",
   "execution_count": 31,
   "id": "e4eea012",
   "metadata": {},
   "outputs": [],
   "source": [
    "my_df2 = pd.DataFrame(response_2_dict['data'])"
   ]
  },
  {
   "cell_type": "code",
   "execution_count": 32,
   "id": "d1c8e726",
   "metadata": {},
   "outputs": [
    {
     "data": {
      "text/html": [
       "<div>\n",
       "<style scoped>\n",
       "    .dataframe tbody tr th:only-of-type {\n",
       "        vertical-align: middle;\n",
       "    }\n",
       "\n",
       "    .dataframe tbody tr th {\n",
       "        vertical-align: top;\n",
       "    }\n",
       "\n",
       "    .dataframe thead th {\n",
       "        text-align: right;\n",
       "    }\n",
       "</style>\n",
       "<table border=\"1\" class=\"dataframe\">\n",
       "  <thead>\n",
       "    <tr style=\"text-align: right;\">\n",
       "      <th></th>\n",
       "      <th>text</th>\n",
       "      <th>lang</th>\n",
       "      <th>id</th>\n",
       "      <th>author_id</th>\n",
       "      <th>public_metrics</th>\n",
       "      <th>created_at</th>\n",
       "      <th>in_reply_to_user_id</th>\n",
       "    </tr>\n",
       "  </thead>\n",
       "  <tbody>\n",
       "    <tr>\n",
       "      <th>0</th>\n",
       "      <td>RT @Cloud9: We heard the call.\\n\\nOnce again. ...</td>\n",
       "      <td>en</td>\n",
       "      <td>1450478315257671694</td>\n",
       "      <td>942213299323760640</td>\n",
       "      <td>{'retweet_count': 568, 'reply_count': 0, 'like...</td>\n",
       "      <td>2021-10-19T15:05:53.000Z</td>\n",
       "      <td>NaN</td>\n",
       "    </tr>\n",
       "    <tr>\n",
       "      <th>1</th>\n",
       "      <td>RT @TheuzinFN: \" header for @blxckoutz \" \\n\\n@...</td>\n",
       "      <td>en</td>\n",
       "      <td>1450477927846584327</td>\n",
       "      <td>1395790806208892933</td>\n",
       "      <td>{'retweet_count': 19, 'reply_count': 0, 'like_...</td>\n",
       "      <td>2021-10-19T15:04:21.000Z</td>\n",
       "      <td>NaN</td>\n",
       "    </tr>\n",
       "    <tr>\n",
       "      <th>2</th>\n",
       "      <td>RT @TheuzinFN: \" header for @blxckoutz \" \\n\\n@...</td>\n",
       "      <td>en</td>\n",
       "      <td>1450477499692036103</td>\n",
       "      <td>1399482313017286657</td>\n",
       "      <td>{'retweet_count': 19, 'reply_count': 0, 'like_...</td>\n",
       "      <td>2021-10-19T15:02:39.000Z</td>\n",
       "      <td>NaN</td>\n",
       "    </tr>\n",
       "    <tr>\n",
       "      <th>3</th>\n",
       "      <td>RT @TheuzinFN: \" header for @blxckoutz \" \\n\\n@...</td>\n",
       "      <td>en</td>\n",
       "      <td>1450477277339398145</td>\n",
       "      <td>1385087813864017925</td>\n",
       "      <td>{'retweet_count': 19, 'reply_count': 0, 'like_...</td>\n",
       "      <td>2021-10-19T15:01:46.000Z</td>\n",
       "      <td>NaN</td>\n",
       "    </tr>\n",
       "    <tr>\n",
       "      <th>4</th>\n",
       "      <td>RT @Cloud9: See you in the #Worlds2021 Finals ...</td>\n",
       "      <td>en</td>\n",
       "      <td>1450477036384968705</td>\n",
       "      <td>448357975</td>\n",
       "      <td>{'retweet_count': 103, 'reply_count': 0, 'like...</td>\n",
       "      <td>2021-10-19T15:00:48.000Z</td>\n",
       "      <td>NaN</td>\n",
       "    </tr>\n",
       "    <tr>\n",
       "      <th>...</th>\n",
       "      <td>...</td>\n",
       "      <td>...</td>\n",
       "      <td>...</td>\n",
       "      <td>...</td>\n",
       "      <td>...</td>\n",
       "      <td>...</td>\n",
       "      <td>...</td>\n",
       "    </tr>\n",
       "    <tr>\n",
       "      <th>94</th>\n",
       "      <td>RT @LCSOfficial: Quarterfinals #C9WIN | #World...</td>\n",
       "      <td>en</td>\n",
       "      <td>1450309840069406721</td>\n",
       "      <td>3517083197</td>\n",
       "      <td>{'retweet_count': 42, 'reply_count': 0, 'like_...</td>\n",
       "      <td>2021-10-19T03:56:25.000Z</td>\n",
       "      <td>NaN</td>\n",
       "    </tr>\n",
       "    <tr>\n",
       "      <th>95</th>\n",
       "      <td>RT @LosersQueuePod: 4 WAY TIE GROUP D LETS GOO...</td>\n",
       "      <td>en</td>\n",
       "      <td>1450308295718318088</td>\n",
       "      <td>1019362363286355974</td>\n",
       "      <td>{'retweet_count': 1, 'reply_count': 0, 'like_c...</td>\n",
       "      <td>2021-10-19T03:50:17.000Z</td>\n",
       "      <td>NaN</td>\n",
       "    </tr>\n",
       "    <tr>\n",
       "      <th>96</th>\n",
       "      <td>RT @LCSOfficial: Quarterfinals #C9WIN | #World...</td>\n",
       "      <td>en</td>\n",
       "      <td>1450307060726370308</td>\n",
       "      <td>1151851094873653248</td>\n",
       "      <td>{'retweet_count': 42, 'reply_count': 0, 'like_...</td>\n",
       "      <td>2021-10-19T03:45:23.000Z</td>\n",
       "      <td>NaN</td>\n",
       "    </tr>\n",
       "    <tr>\n",
       "      <th>97</th>\n",
       "      <td>RT @Cloud9: We heard the call.\\n\\nOnce again. ...</td>\n",
       "      <td>en</td>\n",
       "      <td>1450304510069559296</td>\n",
       "      <td>1329101830509432833</td>\n",
       "      <td>{'retweet_count': 568, 'reply_count': 0, 'like...</td>\n",
       "      <td>2021-10-19T03:35:15.000Z</td>\n",
       "      <td>NaN</td>\n",
       "    </tr>\n",
       "    <tr>\n",
       "      <th>98</th>\n",
       "      <td>RT @KatieGripne: TOLD ME WE WERE AWFUL AND THA...</td>\n",
       "      <td>en</td>\n",
       "      <td>1450304272776802306</td>\n",
       "      <td>1076642013225865216</td>\n",
       "      <td>{'retweet_count': 2, 'reply_count': 0, 'like_c...</td>\n",
       "      <td>2021-10-19T03:34:18.000Z</td>\n",
       "      <td>NaN</td>\n",
       "    </tr>\n",
       "  </tbody>\n",
       "</table>\n",
       "<p>99 rows × 7 columns</p>\n",
       "</div>"
      ],
      "text/plain": [
       "                                                 text lang  \\\n",
       "0   RT @Cloud9: We heard the call.\\n\\nOnce again. ...   en   \n",
       "1   RT @TheuzinFN: \" header for @blxckoutz \" \\n\\n@...   en   \n",
       "2   RT @TheuzinFN: \" header for @blxckoutz \" \\n\\n@...   en   \n",
       "3   RT @TheuzinFN: \" header for @blxckoutz \" \\n\\n@...   en   \n",
       "4   RT @Cloud9: See you in the #Worlds2021 Finals ...   en   \n",
       "..                                                ...  ...   \n",
       "94  RT @LCSOfficial: Quarterfinals #C9WIN | #World...   en   \n",
       "95  RT @LosersQueuePod: 4 WAY TIE GROUP D LETS GOO...   en   \n",
       "96  RT @LCSOfficial: Quarterfinals #C9WIN | #World...   en   \n",
       "97  RT @Cloud9: We heard the call.\\n\\nOnce again. ...   en   \n",
       "98  RT @KatieGripne: TOLD ME WE WERE AWFUL AND THA...   en   \n",
       "\n",
       "                     id            author_id  \\\n",
       "0   1450478315257671694   942213299323760640   \n",
       "1   1450477927846584327  1395790806208892933   \n",
       "2   1450477499692036103  1399482313017286657   \n",
       "3   1450477277339398145  1385087813864017925   \n",
       "4   1450477036384968705            448357975   \n",
       "..                  ...                  ...   \n",
       "94  1450309840069406721           3517083197   \n",
       "95  1450308295718318088  1019362363286355974   \n",
       "96  1450307060726370308  1151851094873653248   \n",
       "97  1450304510069559296  1329101830509432833   \n",
       "98  1450304272776802306  1076642013225865216   \n",
       "\n",
       "                                       public_metrics  \\\n",
       "0   {'retweet_count': 568, 'reply_count': 0, 'like...   \n",
       "1   {'retweet_count': 19, 'reply_count': 0, 'like_...   \n",
       "2   {'retweet_count': 19, 'reply_count': 0, 'like_...   \n",
       "3   {'retweet_count': 19, 'reply_count': 0, 'like_...   \n",
       "4   {'retweet_count': 103, 'reply_count': 0, 'like...   \n",
       "..                                                ...   \n",
       "94  {'retweet_count': 42, 'reply_count': 0, 'like_...   \n",
       "95  {'retweet_count': 1, 'reply_count': 0, 'like_c...   \n",
       "96  {'retweet_count': 42, 'reply_count': 0, 'like_...   \n",
       "97  {'retweet_count': 568, 'reply_count': 0, 'like...   \n",
       "98  {'retweet_count': 2, 'reply_count': 0, 'like_c...   \n",
       "\n",
       "                  created_at in_reply_to_user_id  \n",
       "0   2021-10-19T15:05:53.000Z                 NaN  \n",
       "1   2021-10-19T15:04:21.000Z                 NaN  \n",
       "2   2021-10-19T15:02:39.000Z                 NaN  \n",
       "3   2021-10-19T15:01:46.000Z                 NaN  \n",
       "4   2021-10-19T15:00:48.000Z                 NaN  \n",
       "..                       ...                 ...  \n",
       "94  2021-10-19T03:56:25.000Z                 NaN  \n",
       "95  2021-10-19T03:50:17.000Z                 NaN  \n",
       "96  2021-10-19T03:45:23.000Z                 NaN  \n",
       "97  2021-10-19T03:35:15.000Z                 NaN  \n",
       "98  2021-10-19T03:34:18.000Z                 NaN  \n",
       "\n",
       "[99 rows x 7 columns]"
      ]
     },
     "execution_count": 32,
     "metadata": {},
     "output_type": "execute_result"
    }
   ],
   "source": [
    "my_df2"
   ]
  },
  {
   "cell_type": "code",
   "execution_count": 33,
   "id": "9bf1bf21",
   "metadata": {},
   "outputs": [
    {
     "data": {
      "text/plain": [
       "{'newest_id': '1450478315257671694',\n",
       " 'oldest_id': '1450304272776802306',\n",
       " 'result_count': 99,\n",
       " 'next_token': 'b26v89c19zqg8o3fpdv5sgaj8cqvze7fzr17b7mzjko71'}"
      ]
     },
     "execution_count": 33,
     "metadata": {},
     "output_type": "execute_result"
    }
   ],
   "source": [
    "response_2_dict['meta']"
   ]
  },
  {
   "cell_type": "code",
   "execution_count": 34,
   "id": "ab976558",
   "metadata": {},
   "outputs": [],
   "source": [
    "url_3 = url_expansions + '&next_token={}'.format(response_2_dict['meta']['next_token'])"
   ]
  },
  {
   "cell_type": "code",
   "execution_count": 35,
   "id": "1f3caf35",
   "metadata": {
    "scrolled": true
   },
   "outputs": [
    {
     "data": {
      "text/plain": [
       "'https://api.twitter.com/2/tweets/search/recent?query=%28%23C9WIN%20OR%20%23TLWIN%20OR%20%23100WIN%29%20lang%3Aen&max_results=100&tweet.fields=public_metrics,created_at,author_id,lang,in_reply_to_user_id&expansions=author_id&next_token=b26v89c19zqg8o3fpdv5sgaj8cqvze7fzr17b7mzjko71'"
      ]
     },
     "execution_count": 35,
     "metadata": {},
     "output_type": "execute_result"
    }
   ],
   "source": [
    "url_3"
   ]
  },
  {
   "cell_type": "code",
   "execution_count": 36,
   "id": "548158ae",
   "metadata": {},
   "outputs": [],
   "source": [
    "response_3 = requests.request(\"GET\", url_3, headers = header)"
   ]
  },
  {
   "cell_type": "code",
   "execution_count": 37,
   "id": "ad083a23",
   "metadata": {},
   "outputs": [
    {
     "data": {
      "text/plain": [
       "'{\"data\":[{\"lang\":\"en\",\"text\":\"RT @Cloud9: Today summarized:\\\\n\\\\nLCS &gt; LCK &gt; LPL \\\\n\\\\nBRING THE 4-WAY-TIE \\\\uD83D\\\\uDDE3️ #Worlds2021 #TLWIN\",\"public_metrics\":{\"retweet_count\":69,\"reply_count\":0,\"like_count\":0,\"quote_count\":0},\"id\":\"1450303483249188865\",\"created_at\":\"2021-10-19T03:31:10.000Z\",\"author_id\":\"974494140783214593\"},{\"lang\":\"en\",\"text\":\"RT @LCSOfficial: Quarterfinals #C9WIN | #Worlds20221 https://t.co/giQQbAr48s\",\"public_metrics\":{\"retweet_count\":42,\"reply_count\":0,\"like_count\":0,\"quote_count\":0},\"id\":\"1450303417415520262\",\"created_at\":\"2021-10-19T03:30:54.000Z\",\"author_id\":\"2416433815\"},{\"lang\":\"en\",\"text\":\"RT @AzaelOfficial: CLOUD9 GET GEN.G LET\\'S FUCKING GOOOOOO!\\\\n\\\\nREVENGE FOR TL, C9 ABOUT TO KILL LCK &amp; MAKE SEMI\\'S AGAIN!\\\\n\\\\nI BELIVEEEEEE!!!! #C…\",\"public_metrics\":{\"retweet_count\":62,\"reply_count\":0,\"like_count\":0,\"quote_count\":0},\"id\":\"1450302931463327746\",\"created_at\":\"2021-10-19T03:28:58.000Z\",\"author_id\":\"3036852366\"},{\"lang\":\"en\",\"text\":\"RT @Cloud9: We heard the call.\\\\n\\\\nOnce again. #C9WIN https://t.co/S2YmPNiKjw\",\"public_metrics\":{\"retweet_count\":568,\"reply_count\":0,\"like_count\":0,\"quote_count\":0},\"id\":\"1450302769382912000\",\"created_at\":\"2021-10-19T03:28:20.000Z\",\"author_id\":\"1046146612785950720\"},{\"lang\":\"en\",\"text\":\"RT @LCSOfficial: \\\\\"And this one is for the champions\\\\\"\\\\n\\\\n#100WIN | #LCS | #Worlds2021 https://t.co/r8FP0amoeS\",\"public_metrics\":{\"retweet_count\":1276,\"reply_count\":0,\"like_count\":0,\"quote_count\":0},\"id\":\"1450302766212079620\",\"created_at\":\"2021-10-19T03:28:19.000Z\",\"author_id\":\"759956701\"},{\"lang\":\"en\",\"text\":\"@lolesports Time to cheer @Cloud9 on til the end! #C9WIN https://t.co/yGer8Q5bXI\",\"public_metrics\":{\"retweet_count\":0,\"reply_count\":0,\"like_count\":8,\"quote_count\":0},\"id\":\"1450302707978301445\",\"created_at\":\"2021-10-19T03:28:05.000Z\",\"author_id\":\"3011987372\",\"in_reply_to_user_id\":\"614754689\"},{\"lang\":\"en\",\"text\":\"RT @Cloud9: We heard the call.\\\\n\\\\nOnce again. #C9WIN https://t.co/S2YmPNiKjw\",\"public_metrics\":{\"retweet_count\":568,\"reply_count\":0,\"like_count\":0,\"quote_count\":0},\"id\":\"1450301423967735812\",\"created_at\":\"2021-10-19T03:22:59.000Z\",\"author_id\":\"1087864247441387521\"},{\"lang\":\"en\",\"text\":\"RT @_vexel: Kicking off our first tourney with an undefeated run in groups and a clean 2-0 for our first playoffs game! Quarterfinals tomor…\",\"public_metrics\":{\"retweet_count\":3,\"reply_count\":0,\"like_count\":0,\"quote_count\":0},\"id\":\"1450300475631276036\",\"created_at\":\"2021-10-19T03:19:13.000Z\",\"author_id\":\"1192008677999251456\"},{\"lang\":\"en\",\"text\":\"RT @_vexel: Kicking off our first tourney with an undefeated run in groups and a clean 2-0 for our first playoffs game! Quarterfinals tomor…\",\"public_metrics\":{\"retweet_count\":3,\"reply_count\":0,\"like_count\":0,\"quote_count\":0},\"id\":\"1450300366143250433\",\"created_at\":\"2021-10-19T03:18:47.000Z\",\"author_id\":\"1452520626\"},{\"lang\":\"en\",\"text\":\"RT @_vexel: Kicking off our first tourney with an undefeated run in groups and a clean 2-0 for our first playoffs game! Quarterfinals tomor…\",\"public_metrics\":{\"retweet_count\":3,\"reply_count\":0,\"like_count\":0,\"quote_count\":0},\"id\":\"1450300122882093059\",\"created_at\":\"2021-10-19T03:17:49.000Z\",\"author_id\":\"809676874146193408\"},{\"lang\":\"en\",\"text\":\"RT @Cloud9: We heard the call.\\\\n\\\\nOnce again. #C9WIN https://t.co/S2YmPNiKjw\",\"public_metrics\":{\"retweet_count\":568,\"reply_count\":0,\"like_count\":0,\"quote_count\":0},\"id\":\"1450298346996858882\",\"created_at\":\"2021-10-19T03:10:45.000Z\",\"author_id\":\"1073556837075697664\"},{\"lang\":\"en\",\"text\":\"Kicking off our first tourney with an undefeated run in groups and a clean 2-0 for our first playoffs game! Quarterfinals tomorrow! #C9WIN https://t.co/vZgmN75V84\",\"public_metrics\":{\"retweet_count\":3,\"reply_count\":8,\"like_count\":159,\"quote_count\":0},\"id\":\"1450298327568838660\",\"created_at\":\"2021-10-19T03:10:41.000Z\",\"author_id\":\"2616856868\"},{\"lang\":\"en\",\"text\":\"RT @Cloud9: We heard the call.\\\\n\\\\nOnce again. #C9WIN https://t.co/S2YmPNiKjw\",\"public_metrics\":{\"retweet_count\":568,\"reply_count\":0,\"like_count\":0,\"quote_count\":0},\"id\":\"1450296867896524803\",\"created_at\":\"2021-10-19T03:04:53.000Z\",\"author_id\":\"719609019304951808\"},{\"lang\":\"en\",\"text\":\"RT @Cloud9: We heard the call.\\\\n\\\\nOnce again. #C9WIN https://t.co/S2YmPNiKjw\",\"public_metrics\":{\"retweet_count\":568,\"reply_count\":0,\"like_count\":0,\"quote_count\":0},\"id\":\"1450296284674396160\",\"created_at\":\"2021-10-19T03:02:34.000Z\",\"author_id\":\"1024242313780842496\"},{\"lang\":\"en\",\"text\":\"No matter how many times it takes, we\\'ll always be your support in and out of the rift. You boys keep getting closer and closer, groups won\\'t be able to contain you forever! #OurTimeWillCome #TLWIN #LETSGOLIQUID #ForTheWin https://t.co/OnhlqEFHUa\",\"public_metrics\":{\"retweet_count\":0,\"reply_count\":0,\"like_count\":0,\"quote_count\":0},\"id\":\"1450294737257189379\",\"created_at\":\"2021-10-19T02:56:25.000Z\",\"author_id\":\"4294284500\"},{\"lang\":\"en\",\"text\":\"RT @Cloud9: See you in the #Worlds2021 Finals \\\\uD83D\\\\uDE08\\\\n\\\\n#C9WIN https://t.co/Rd0EvWCRgu\",\"public_metrics\":{\"retweet_count\":103,\"reply_count\":0,\"like_count\":0,\"quote_count\":0},\"id\":\"1450292234851651584\",\"created_at\":\"2021-10-19T02:46:28.000Z\",\"author_id\":\"883471981756243968\"},{\"lang\":\"en\",\"text\":\"Next year will be even sweeter when you boys do. #TLWIN #KeepUpTheFight #TLHopium #ForTheWin https://t.co/7xqY1rNgP8\",\"public_metrics\":{\"retweet_count\":0,\"reply_count\":0,\"like_count\":0,\"quote_count\":0},\"id\":\"1450292202542796801\",\"created_at\":\"2021-10-19T02:46:20.000Z\",\"author_id\":\"4294284500\"},{\"lang\":\"en\",\"text\":\"RT @Cloud9: See you in the #Worlds2021 Finals \\\\uD83D\\\\uDE08\\\\n\\\\n#C9WIN https://t.co/Rd0EvWCRgu\",\"public_metrics\":{\"retweet_count\":103,\"reply_count\":0,\"like_count\":0,\"quote_count\":0},\"id\":\"1450291758609350662\",\"created_at\":\"2021-10-19T02:44:35.000Z\",\"author_id\":\"4004732309\"},{\"lang\":\"en\",\"text\":\"With a vengeance\\\\uD83D\\\\uDD25 #TLWIN https://t.co/iVlRWDmhra\",\"public_metrics\":{\"retweet_count\":0,\"reply_count\":0,\"like_count\":0,\"quote_count\":0},\"id\":\"1450291423274680324\",\"created_at\":\"2021-10-19T02:43:15.000Z\",\"author_id\":\"4294284500\"},{\"lang\":\"en\",\"text\":\"RT @Cloud9: See you in the #Worlds2021 Finals \\\\uD83D\\\\uDE08\\\\n\\\\n#C9WIN https://t.co/Rd0EvWCRgu\",\"public_metrics\":{\"retweet_count\":103,\"reply_count\":0,\"like_count\":0,\"quote_count\":0},\"id\":\"1450290862571851779\",\"created_at\":\"2021-10-19T02:41:01.000Z\",\"author_id\":\"77314700\"},{\"lang\":\"en\",\"text\":\"RT @lolesports: Coming up:\\\\n\\\\n#TLWIN: @TeamLiquidLoL keep their Quarterfinal hopes alive\\\\n#GENWIN: @GenG lock in their Quarterfinal spot\\\\n\\\\n\\\\uD83D\\\\uDCFA ht…\",\"public_metrics\":{\"retweet_count\":22,\"reply_count\":0,\"like_count\":0,\"quote_count\":0},\"id\":\"1450288913910693890\",\"created_at\":\"2021-10-19T02:33:16.000Z\",\"author_id\":\"159450171\"},{\"lang\":\"en\",\"text\":\"@TeamLiquidLoL Since 2015 and will always be rooting #TLWIN \\\\uD83D\\\\uDC99\\\\uD83D\\\\uDC99\",\"public_metrics\":{\"retweet_count\":0,\"reply_count\":0,\"like_count\":0,\"quote_count\":0},\"id\":\"1450287756052209668\",\"created_at\":\"2021-10-19T02:28:40.000Z\",\"author_id\":\"1102396520329105413\",\"in_reply_to_user_id\":\"964529942\"},{\"lang\":\"en\",\"text\":\"been a solid ride considering everything that has happened domestically, we\\'ll come back stronger next year! \\\\uD83D\\\\uDC99\\\\uD83E\\\\uDD0D #TLWIN https://t.co/TKyAf0DJ5Y\",\"public_metrics\":{\"retweet_count\":0,\"reply_count\":1,\"like_count\":1,\"quote_count\":0},\"id\":\"1450285970977296390\",\"created_at\":\"2021-10-19T02:21:35.000Z\",\"author_id\":\"1008284215421440000\"},{\"lang\":\"en\",\"text\":\"RT @Cloud9: We heard the call.\\\\n\\\\nOnce again. #C9WIN https://t.co/S2YmPNiKjw\",\"public_metrics\":{\"retweet_count\":568,\"reply_count\":0,\"like_count\":0,\"quote_count\":0},\"id\":\"1450284893036896258\",\"created_at\":\"2021-10-19T02:17:18.000Z\",\"author_id\":\"393840193\"},{\"lang\":\"en\",\"text\":\"RT @Cloud9: See you in the #Worlds2021 Finals \\\\uD83D\\\\uDE08\\\\n\\\\n#C9WIN https://t.co/Rd0EvWCRgu\",\"public_metrics\":{\"retweet_count\":103,\"reply_count\":0,\"like_count\":0,\"quote_count\":0},\"id\":\"1450284091467653124\",\"created_at\":\"2021-10-19T02:14:07.000Z\",\"author_id\":\"3166456974\"},{\"lang\":\"en\",\"text\":\"RT @Cloud9: See you in the #Worlds2021 Finals \\\\uD83D\\\\uDE08\\\\n\\\\n#C9WIN https://t.co/Rd0EvWCRgu\",\"public_metrics\":{\"retweet_count\":103,\"reply_count\":0,\"like_count\":0,\"quote_count\":0},\"id\":\"1450283002332782594\",\"created_at\":\"2021-10-19T02:09:47.000Z\",\"author_id\":\"946117547891482624\"},{\"lang\":\"en\",\"text\":\"id have to consume a lot of hopium for the rest of #Worlds2021 #C9WIN\",\"public_metrics\":{\"retweet_count\":0,\"reply_count\":0,\"like_count\":0,\"quote_count\":0},\"id\":\"1450281528143974400\",\"created_at\":\"2021-10-19T02:03:55.000Z\",\"author_id\":\"1295921559794638854\"},{\"lang\":\"en\",\"text\":\"Results for Day 7 of #Worlds2021 Group Stage \\\\uD83D\\\\uDC40\\\\n\\\\nCongrats to #GENWIN &amp; #MADWIN for advancing to the Quarterfinals \\\\uD83C\\\\uDF89 And big thumbs up to #TLWIN &amp; #LNGWIN for their effort!\\\\n\\\\n| PLANET9 |\\\\nhttps://t.co/R7yLnIDbn0\\\\n\\\\n#PLANET9gg #MasterYourPlay #WelcomeLanding https://t.co/fO1kBcxBHh\",\"public_metrics\":{\"retweet_count\":0,\"reply_count\":0,\"like_count\":1,\"quote_count\":0},\"id\":\"1450281043311796225\",\"created_at\":\"2021-10-19T02:02:00.000Z\",\"author_id\":\"1164395591205416962\"},{\"lang\":\"en\",\"text\":\"RT @Cloud9: We heard the call.\\\\n\\\\nOnce again. #C9WIN https://t.co/S2YmPNiKjw\",\"public_metrics\":{\"retweet_count\":568,\"reply_count\":0,\"like_count\":0,\"quote_count\":0},\"id\":\"1450279231854886916\",\"created_at\":\"2021-10-19T01:54:48.000Z\",\"author_id\":\"1234061764142288896\"},{\"lang\":\"en\",\"text\":\"RT @LCSOfficial: Quarterfinals #C9WIN | #Worlds20221 https://t.co/giQQbAr48s\",\"public_metrics\":{\"retweet_count\":42,\"reply_count\":0,\"like_count\":0,\"quote_count\":0},\"id\":\"1450278436618977281\",\"created_at\":\"2021-10-19T01:51:38.000Z\",\"author_id\":\"1339465985301032960\"},{\"lang\":\"en\",\"text\":\"RT @Cloud9: We heard the call.\\\\n\\\\nOnce again. #C9WIN https://t.co/S2YmPNiKjw\",\"public_metrics\":{\"retweet_count\":568,\"reply_count\":0,\"like_count\":0,\"quote_count\":0},\"id\":\"1450276958919606273\",\"created_at\":\"2021-10-19T01:45:46.000Z\",\"author_id\":\"3236602453\"},{\"lang\":\"en\",\"text\":\"RT @Cloud9: See you in the #Worlds2021 Finals \\\\uD83D\\\\uDE08\\\\n\\\\n#C9WIN https://t.co/Rd0EvWCRgu\",\"public_metrics\":{\"retweet_count\":103,\"reply_count\":0,\"like_count\":0,\"quote_count\":0},\"id\":\"1450276910286745602\",\"created_at\":\"2021-10-19T01:45:34.000Z\",\"author_id\":\"726150929246986240\"},{\"lang\":\"en\",\"text\":\"RT @PentanetGG: @Cloud9 We on the #C9WIN train now \\\\uD83D\\\\uDE4F https://t.co/oQgnGQ1oAw\",\"public_metrics\":{\"retweet_count\":2,\"reply_count\":0,\"like_count\":0,\"quote_count\":0},\"id\":\"1450275128722567172\",\"created_at\":\"2021-10-19T01:38:30.000Z\",\"author_id\":\"1125823851588403205\"},{\"lang\":\"en\",\"text\":\"RT @Cloud9: We heard the call.\\\\n\\\\nOnce again. #C9WIN https://t.co/S2YmPNiKjw\",\"public_metrics\":{\"retweet_count\":568,\"reply_count\":0,\"like_count\":0,\"quote_count\":0},\"id\":\"1450275039522217994\",\"created_at\":\"2021-10-19T01:38:08.000Z\",\"author_id\":\"1326324511617282050\"},{\"lang\":\"en\",\"text\":\"RT @Cloud9: We heard the call.\\\\n\\\\nOnce again. #C9WIN https://t.co/S2YmPNiKjw\",\"public_metrics\":{\"retweet_count\":568,\"reply_count\":0,\"like_count\":0,\"quote_count\":0},\"id\":\"1450274495114133504\",\"created_at\":\"2021-10-19T01:35:59.000Z\",\"author_id\":\"111501405\"},{\"lang\":\"en\",\"text\":\"RT @AzaelOfficial: CLOUD9 GET GEN.G LET\\'S FUCKING GOOOOOO!\\\\n\\\\nREVENGE FOR TL, C9 ABOUT TO KILL LCK &amp; MAKE SEMI\\'S AGAIN!\\\\n\\\\nI BELIVEEEEEE!!!! #C…\",\"public_metrics\":{\"retweet_count\":62,\"reply_count\":0,\"like_count\":0,\"quote_count\":0},\"id\":\"1450274421030019075\",\"created_at\":\"2021-10-19T01:35:41.000Z\",\"author_id\":\"570609801\"},{\"lang\":\"en\",\"text\":\"RT @Cloud9: We heard the call.\\\\n\\\\nOnce again. #C9WIN https://t.co/S2YmPNiKjw\",\"public_metrics\":{\"retweet_count\":568,\"reply_count\":0,\"like_count\":0,\"quote_count\":0},\"id\":\"1450274073909547008\",\"created_at\":\"2021-10-19T01:34:18.000Z\",\"author_id\":\"2772268951\"},{\"lang\":\"en\",\"text\":\"I believe in @Cloud9 supremacy #C9WIN https://t.co/cvSaJA95Kl\",\"public_metrics\":{\"retweet_count\":0,\"reply_count\":0,\"like_count\":0,\"quote_count\":0},\"id\":\"1450273431321120772\",\"created_at\":\"2021-10-19T01:31:45.000Z\",\"author_id\":\"938061244912738304\"},{\"lang\":\"en\",\"text\":\"RT @Cloud9: Let\\'s get it \\\\uD83D\\\\uDCAA #C9WIN #Worlds2021 https://t.co/H9xuV8TcCk\",\"public_metrics\":{\"retweet_count\":705,\"reply_count\":0,\"like_count\":0,\"quote_count\":0},\"id\":\"1450272958824554496\",\"created_at\":\"2021-10-19T01:29:52.000Z\",\"author_id\":\"2806475836\"},{\"lang\":\"en\",\"text\":\"@GenG @Cloud9 #C9WIN #Worlds2021 #LCS #Quarterfinals  Let\\'s go! https://t.co/gKS9CWe4k0\",\"public_metrics\":{\"retweet_count\":0,\"reply_count\":0,\"like_count\":3,\"quote_count\":0},\"id\":\"1450271149477224453\",\"created_at\":\"2021-10-19T01:22:41.000Z\",\"author_id\":\"51744255\",\"in_reply_to_user_id\":\"884962539963940865\"},{\"lang\":\"en\",\"text\":\"RT @LCSOfficial: Quarterfinals #C9WIN | #Worlds20221 https://t.co/giQQbAr48s\",\"public_metrics\":{\"retweet_count\":42,\"reply_count\":0,\"like_count\":0,\"quote_count\":0},\"id\":\"1450271014437412865\",\"created_at\":\"2021-10-19T01:22:09.000Z\",\"author_id\":\"755300569196224516\"},{\"lang\":\"en\",\"text\":\"RT @Cloud9: We heard the call.\\\\n\\\\nOnce again. #C9WIN https://t.co/S2YmPNiKjw\",\"public_metrics\":{\"retweet_count\":568,\"reply_count\":0,\"like_count\":0,\"quote_count\":0},\"id\":\"1450270694395326466\",\"created_at\":\"2021-10-19T01:20:52.000Z\",\"author_id\":\"1169778607713112064\"},{\"lang\":\"en\",\"text\":\"RT @AzaelOfficial: CLOUD9 GET GEN.G LET\\'S FUCKING GOOOOOO!\\\\n\\\\nREVENGE FOR TL, C9 ABOUT TO KILL LCK &amp; MAKE SEMI\\'S AGAIN!\\\\n\\\\nI BELIVEEEEEE!!!! #C…\",\"public_metrics\":{\"retweet_count\":62,\"reply_count\":0,\"like_count\":0,\"quote_count\":0},\"id\":\"1450270366991994886\",\"created_at\":\"2021-10-19T01:19:34.000Z\",\"author_id\":\"1244520308037406720\"},{\"lang\":\"en\",\"text\":\"RT @Cloud9: We heard the call.\\\\n\\\\nOnce again. #C9WIN https://t.co/S2YmPNiKjw\",\"public_metrics\":{\"retweet_count\":568,\"reply_count\":0,\"like_count\":0,\"quote_count\":0},\"id\":\"1450270163509592065\",\"created_at\":\"2021-10-19T01:18:46.000Z\",\"author_id\":\"432109432\"},{\"lang\":\"en\",\"text\":\"RT @Cloud9: We heard the call.\\\\n\\\\nOnce again. #C9WIN https://t.co/S2YmPNiKjw\",\"public_metrics\":{\"retweet_count\":568,\"reply_count\":0,\"like_count\":0,\"quote_count\":0},\"id\":\"1450269802564567043\",\"created_at\":\"2021-10-19T01:17:20.000Z\",\"author_id\":\"990125779\"},{\"lang\":\"en\",\"text\":\"RT @Cloud9: See you in the #Worlds2021 Finals \\\\uD83D\\\\uDE08\\\\n\\\\n#C9WIN https://t.co/Rd0EvWCRgu\",\"public_metrics\":{\"retweet_count\":103,\"reply_count\":0,\"like_count\":0,\"quote_count\":0},\"id\":\"1450269101801152517\",\"created_at\":\"2021-10-19T01:14:33.000Z\",\"author_id\":\"2457189830\"},{\"lang\":\"en\",\"text\":\"RT @AzaelOfficial: CLOUD9 GET GEN.G LET\\'S FUCKING GOOOOOO!\\\\n\\\\nREVENGE FOR TL, C9 ABOUT TO KILL LCK &amp; MAKE SEMI\\'S AGAIN!\\\\n\\\\nI BELIVEEEEEE!!!! #C…\",\"public_metrics\":{\"retweet_count\":62,\"reply_count\":0,\"like_count\":0,\"quote_count\":0},\"id\":\"1450269069957951489\",\"created_at\":\"2021-10-19T01:14:25.000Z\",\"author_id\":\"1358911175736520704\"},{\"lang\":\"en\",\"text\":\"RT @Snowy_2B: it\\'s time to train new stuffs #C9WIN https://t.co/9B6lcmltzo\",\"public_metrics\":{\"retweet_count\":1,\"reply_count\":0,\"like_count\":0,\"quote_count\":0},\"id\":\"1450267607819509760\",\"created_at\":\"2021-10-19T01:08:37.000Z\",\"author_id\":\"1375934084430622721\"},{\"lang\":\"en\",\"text\":\"RT @AzaelOfficial: CLOUD9 GET GEN.G LET\\'S FUCKING GOOOOOO!\\\\n\\\\nREVENGE FOR TL, C9 ABOUT TO KILL LCK &amp; MAKE SEMI\\'S AGAIN!\\\\n\\\\nI BELIVEEEEEE!!!! #C…\",\"public_metrics\":{\"retweet_count\":62,\"reply_count\":0,\"like_count\":0,\"quote_count\":0},\"id\":\"1450266119495892995\",\"created_at\":\"2021-10-19T01:02:42.000Z\",\"author_id\":\"4831256359\"},{\"lang\":\"en\",\"text\":\"RT @lolesports: Coming up:\\\\n\\\\n#TLWIN: @TeamLiquidLoL keep their Quarterfinal hopes alive\\\\n#GENWIN: @GenG lock in their Quarterfinal spot\\\\n\\\\n\\\\uD83D\\\\uDCFA ht…\",\"public_metrics\":{\"retweet_count\":22,\"reply_count\":0,\"like_count\":0,\"quote_count\":0},\"id\":\"1450266078873997316\",\"created_at\":\"2021-10-19T01:02:32.000Z\",\"author_id\":\"974494140783214593\"},{\"lang\":\"en\",\"text\":\"Round 1\\\\nRNG\\\\nC9\\\\nT1\\\\nDK\\\\n\\\\nRound 2\\\\nC9\\\\nDK\\\\n\\\\nFinals\\\\nC9\\\\n\\\\n#C9WIN https://t.co/D5j7Lqcu6J\",\"public_metrics\":{\"retweet_count\":0,\"reply_count\":0,\"like_count\":1,\"quote_count\":0},\"id\":\"1450264444743864325\",\"created_at\":\"2021-10-19T00:56:02.000Z\",\"author_id\":\"1276249872082100227\"},{\"lang\":\"en\",\"text\":\"RT @alvaradocontent: I have decided to follow this advice and have joined the content team @Cloud9 \\\\uD83D\\\\uDE4F #C9WIN\",\"public_metrics\":{\"retweet_count\":1,\"reply_count\":0,\"like_count\":0,\"quote_count\":0},\"id\":\"1450263076167503877\",\"created_at\":\"2021-10-19T00:50:36.000Z\",\"author_id\":\"1202301014\"},{\"lang\":\"en\",\"text\":\"RT @hikasWelt: I love the fact that @Cloud9 will defend their Worlds Title at home in 2022 Season Worlds. #C9WIN #Worlds2021 https://t.co/I…\",\"public_metrics\":{\"retweet_count\":1,\"reply_count\":0,\"like_count\":0,\"quote_count\":0},\"id\":\"1450262634767454210\",\"created_at\":\"2021-10-19T00:48:51.000Z\",\"author_id\":\"1076399425063452672\"},{\"lang\":\"en\",\"text\":\"RT @Cloud9: We heard the call.\\\\n\\\\nOnce again. #C9WIN https://t.co/S2YmPNiKjw\",\"public_metrics\":{\"retweet_count\":568,\"reply_count\":0,\"like_count\":0,\"quote_count\":0},\"id\":\"1450262582900576261\",\"created_at\":\"2021-10-19T00:48:38.000Z\",\"author_id\":\"1469530285\"},{\"lang\":\"en\",\"text\":\"RT @Cloud9: See you in the #Worlds2021 Finals \\\\uD83D\\\\uDE08\\\\n\\\\n#C9WIN https://t.co/Rd0EvWCRgu\",\"public_metrics\":{\"retweet_count\":103,\"reply_count\":0,\"like_count\":0,\"quote_count\":0},\"id\":\"1450261891008196620\",\"created_at\":\"2021-10-19T00:45:54.000Z\",\"author_id\":\"1371069265\"},{\"lang\":\"en\",\"text\":\"@TeamLiquidLoL I want see GenG and TL in quarterfinal, but so ok\\\\n\\\\nPrepare for spring split LCS Title #TLWIN https://t.co/2HnyUDjc4m\",\"public_metrics\":{\"retweet_count\":0,\"reply_count\":0,\"like_count\":1,\"quote_count\":0},\"id\":\"1450261648200060932\",\"created_at\":\"2021-10-19T00:44:56.000Z\",\"author_id\":\"1354977079264038915\",\"in_reply_to_user_id\":\"964529942\"},{\"lang\":\"en\",\"text\":\"RT @Cloud9: See you in the #Worlds2021 Finals \\\\uD83D\\\\uDE08\\\\n\\\\n#C9WIN https://t.co/Rd0EvWCRgu\",\"public_metrics\":{\"retweet_count\":103,\"reply_count\":0,\"like_count\":0,\"quote_count\":0},\"id\":\"1450260890956099588\",\"created_at\":\"2021-10-19T00:41:55.000Z\",\"author_id\":\"2987069902\"},{\"lang\":\"en\",\"text\":\"RT @Cloud9: We heard the call.\\\\n\\\\nOnce again. #C9WIN https://t.co/S2YmPNiKjw\",\"public_metrics\":{\"retweet_count\":568,\"reply_count\":0,\"like_count\":0,\"quote_count\":0},\"id\":\"1450260631685255171\",\"created_at\":\"2021-10-19T00:40:53.000Z\",\"author_id\":\"1195204461536272385\"},{\"lang\":\"en\",\"text\":\"RT @Cloud9: See you in the #Worlds2021 Finals \\\\uD83D\\\\uDE08\\\\n\\\\n#C9WIN https://t.co/Rd0EvWCRgu\",\"public_metrics\":{\"retweet_count\":103,\"reply_count\":0,\"like_count\":0,\"quote_count\":0},\"id\":\"1450260622399049738\",\"created_at\":\"2021-10-19T00:40:51.000Z\",\"author_id\":\"904288476614369280\"},{\"lang\":\"en\",\"text\":\"RT @Cloud9: We heard the call.\\\\n\\\\nOnce again. #C9WIN https://t.co/S2YmPNiKjw\",\"public_metrics\":{\"retweet_count\":568,\"reply_count\":0,\"like_count\":0,\"quote_count\":0},\"id\":\"1450260618041339905\",\"created_at\":\"2021-10-19T00:40:50.000Z\",\"author_id\":\"1356875776285691905\"},{\"lang\":\"en\",\"text\":\"RT @AzaelOfficial: CLOUD9 GET GEN.G LET\\'S FUCKING GOOOOOO!\\\\n\\\\nREVENGE FOR TL, C9 ABOUT TO KILL LCK &amp; MAKE SEMI\\'S AGAIN!\\\\n\\\\nI BELIVEEEEEE!!!! #C…\",\"public_metrics\":{\"retweet_count\":62,\"reply_count\":0,\"like_count\":0,\"quote_count\":0},\"id\":\"1450260612492275717\",\"created_at\":\"2021-10-19T00:40:49.000Z\",\"author_id\":\"1356875776285691905\"},{\"lang\":\"en\",\"text\":\"He speaks for me too.\\\\uD83D\\\\uDE0C\\\\uD83D\\\\uDE24 #C9Win https://t.co/jgS9xpSwxv\",\"public_metrics\":{\"retweet_count\":0,\"reply_count\":0,\"like_count\":0,\"quote_count\":0},\"id\":\"1450260377959235585\",\"created_at\":\"2021-10-19T00:39:53.000Z\",\"author_id\":\"3303157002\"},{\"lang\":\"en\",\"text\":\"@C9Perkz Have you already chosen your skin Perkz? Haha #GoC9 #C9WIN\",\"public_metrics\":{\"retweet_count\":0,\"reply_count\":0,\"like_count\":0,\"quote_count\":0},\"id\":\"1450260220295450627\",\"created_at\":\"2021-10-19T00:39:15.000Z\",\"author_id\":\"2455826006\",\"in_reply_to_user_id\":\"1648029396\"},{\"lang\":\"en\",\"text\":\"RT @Cloud9: See you in the #Worlds2021 Finals \\\\uD83D\\\\uDE08\\\\n\\\\n#C9WIN https://t.co/Rd0EvWCRgu\",\"public_metrics\":{\"retweet_count\":103,\"reply_count\":0,\"like_count\":0,\"quote_count\":0},\"id\":\"1450258788020211714\",\"created_at\":\"2021-10-19T00:33:34.000Z\",\"author_id\":\"974494140783214593\"},{\"lang\":\"en\",\"text\":\"RT @Cloud9: See you in the #Worlds2021 Finals \\\\uD83D\\\\uDE08\\\\n\\\\n#C9WIN https://t.co/Rd0EvWCRgu\",\"public_metrics\":{\"retweet_count\":103,\"reply_count\":0,\"like_count\":0,\"quote_count\":0},\"id\":\"1450258392983945216\",\"created_at\":\"2021-10-19T00:32:00.000Z\",\"author_id\":\"204447182\"},{\"lang\":\"en\",\"text\":\"it\\'s time to train new stuffs #C9WIN https://t.co/9B6lcmltzo\",\"public_metrics\":{\"retweet_count\":1,\"reply_count\":0,\"like_count\":2,\"quote_count\":0},\"id\":\"1450258277359566848\",\"created_at\":\"2021-10-19T00:31:32.000Z\",\"author_id\":\"782751902488530945\"},{\"lang\":\"en\",\"text\":\"RT @Cloud9: See you in the #Worlds2021 Finals \\\\uD83D\\\\uDE08\\\\n\\\\n#C9WIN https://t.co/Rd0EvWCRgu\",\"public_metrics\":{\"retweet_count\":103,\"reply_count\":0,\"like_count\":0,\"quote_count\":0},\"id\":\"1450256695125491712\",\"created_at\":\"2021-10-19T00:25:15.000Z\",\"author_id\":\"1535660622\"},{\"lang\":\"en\",\"text\":\"RT @AzaelOfficial: CLOUD9 GET GEN.G LET\\'S FUCKING GOOOOOO!\\\\n\\\\nREVENGE FOR TL, C9 ABOUT TO KILL LCK &amp; MAKE SEMI\\'S AGAIN!\\\\n\\\\nI BELIVEEEEEE!!!! #C…\",\"public_metrics\":{\"retweet_count\":62,\"reply_count\":0,\"like_count\":0,\"quote_count\":0},\"id\":\"1450256684299948034\",\"created_at\":\"2021-10-19T00:25:12.000Z\",\"author_id\":\"785048937614807040\"},{\"lang\":\"en\",\"text\":\"RT @Cloud9: We heard the call.\\\\n\\\\nOnce again. #C9WIN https://t.co/S2YmPNiKjw\",\"public_metrics\":{\"retweet_count\":568,\"reply_count\":0,\"like_count\":0,\"quote_count\":0},\"id\":\"1450256375091642370\",\"created_at\":\"2021-10-19T00:23:58.000Z\",\"author_id\":\"27163005\"},{\"lang\":\"en\",\"text\":\"Worlds is soo free for NA\\\\n#Worlds2021\\\\n#C9WIN\",\"public_metrics\":{\"retweet_count\":0,\"reply_count\":0,\"like_count\":0,\"quote_count\":0},\"id\":\"1450255403049046017\",\"created_at\":\"2021-10-19T00:20:07.000Z\",\"author_id\":\"3447738554\"},{\"lang\":\"en\",\"text\":\"RT @OvileeMay: WORLDS BABY x @TeamLiquidLoL powered by @Alienware ft. @RazLCS &amp; @CaptainFlowers\\\\n\\\\n#Worlds2021 #TLWIN https://t.co/t9Wpe8kna7\",\"public_metrics\":{\"retweet_count\":1787,\"reply_count\":0,\"like_count\":0,\"quote_count\":0},\"id\":\"1450254658925064193\",\"created_at\":\"2021-10-19T00:17:09.000Z\",\"author_id\":\"817179557732171777\"},{\"lang\":\"en\",\"text\":\"RT @AzaelOfficial: CLOUD9 GET GEN.G LET\\'S FUCKING GOOOOOO!\\\\n\\\\nREVENGE FOR TL, C9 ABOUT TO KILL LCK &amp; MAKE SEMI\\'S AGAIN!\\\\n\\\\nI BELIVEEEEEE!!!! #C…\",\"public_metrics\":{\"retweet_count\":62,\"reply_count\":0,\"like_count\":0,\"quote_count\":0},\"id\":\"1450254460379439104\",\"created_at\":\"2021-10-19T00:16:22.000Z\",\"author_id\":\"1535660622\"},{\"lang\":\"en\",\"text\":\"@sjokz @Cloud9 Tbh, I think this is the best Worlds we’ve ever had. This is almost anyone’s year to win. Get hyped for NA! #C9WIN\",\"public_metrics\":{\"retweet_count\":0,\"reply_count\":1,\"like_count\":1,\"quote_count\":0},\"id\":\"1450253445831790593\",\"created_at\":\"2021-10-19T00:12:20.000Z\",\"author_id\":\"1428008930916147207\",\"in_reply_to_user_id\":\"96625583\"},{\"lang\":\"en\",\"text\":\"RT @Cloud9: See you in the #Worlds2021 Finals \\\\uD83D\\\\uDE08\\\\n\\\\n#C9WIN https://t.co/Rd0EvWCRgu\",\"public_metrics\":{\"retweet_count\":103,\"reply_count\":0,\"like_count\":0,\"quote_count\":0},\"id\":\"1450252475777179654\",\"created_at\":\"2021-10-19T00:08:29.000Z\",\"author_id\":\"1422121676272066561\"},{\"lang\":\"en\",\"text\":\"RT @Cloud9: See you in the #Worlds2021 Finals \\\\uD83D\\\\uDE08\\\\n\\\\n#C9WIN https://t.co/Rd0EvWCRgu\",\"public_metrics\":{\"retweet_count\":103,\"reply_count\":0,\"like_count\":0,\"quote_count\":0},\"id\":\"1450251886808940544\",\"created_at\":\"2021-10-19T00:06:08.000Z\",\"author_id\":\"2396539346\"},{\"lang\":\"en\",\"text\":\"RT @Cloud9: See you in the #Worlds2021 Finals \\\\uD83D\\\\uDE08\\\\n\\\\n#C9WIN https://t.co/Rd0EvWCRgu\",\"public_metrics\":{\"retweet_count\":103,\"reply_count\":0,\"like_count\":0,\"quote_count\":0},\"id\":\"1450251672148713472\",\"created_at\":\"2021-10-19T00:05:17.000Z\",\"author_id\":\"1073992220422885378\"},{\"lang\":\"en\",\"text\":\"RT @LCSOfficial: Quarterfinals #C9WIN | #Worlds20221 https://t.co/giQQbAr48s\",\"public_metrics\":{\"retweet_count\":42,\"reply_count\":0,\"like_count\":0,\"quote_count\":0},\"id\":\"1450251512794345472\",\"created_at\":\"2021-10-19T00:04:39.000Z\",\"author_id\":\"1607243690\"},{\"lang\":\"en\",\"text\":\"RT @Cloud9: We heard the call.\\\\n\\\\nOnce again. #C9WIN https://t.co/S2YmPNiKjw\",\"public_metrics\":{\"retweet_count\":568,\"reply_count\":0,\"like_count\":0,\"quote_count\":0},\"id\":\"1450251398717845507\",\"created_at\":\"2021-10-19T00:04:12.000Z\",\"author_id\":\"1070528413952290816\"},{\"lang\":\"en\",\"text\":\"RT @Cloud9: We heard the call.\\\\n\\\\nOnce again. #C9WIN https://t.co/S2YmPNiKjw\",\"public_metrics\":{\"retweet_count\":568,\"reply_count\":0,\"like_count\":0,\"quote_count\":0},\"id\":\"1450251061726523394\",\"created_at\":\"2021-10-19T00:02:52.000Z\",\"author_id\":\"1073992220422885378\"},{\"lang\":\"en\",\"text\":\"RT @Cloud9: We heard the call.\\\\n\\\\nOnce again. #C9WIN https://t.co/S2YmPNiKjw\",\"public_metrics\":{\"retweet_count\":568,\"reply_count\":0,\"like_count\":0,\"quote_count\":0},\"id\":\"1450250353023193090\",\"created_at\":\"2021-10-19T00:00:03.000Z\",\"author_id\":\"182840599\"},{\"lang\":\"en\",\"text\":\"RT @Cloud9: We heard the call.\\\\n\\\\nOnce again. #C9WIN https://t.co/S2YmPNiKjw\",\"public_metrics\":{\"retweet_count\":568,\"reply_count\":0,\"like_count\":0,\"quote_count\":0},\"id\":\"1450250000324235265\",\"created_at\":\"2021-10-18T23:58:39.000Z\",\"author_id\":\"1136721230353092610\"},{\"lang\":\"en\",\"text\":\"RT @Cloud9: We heard the call.\\\\n\\\\nOnce again. #C9WIN https://t.co/S2YmPNiKjw\",\"public_metrics\":{\"retweet_count\":568,\"reply_count\":0,\"like_count\":0,\"quote_count\":0},\"id\":\"1450249590339366916\",\"created_at\":\"2021-10-18T23:57:01.000Z\",\"author_id\":\"1210614828944908288\"},{\"lang\":\"en\",\"text\":\"RT @Cloud9: We heard the call.\\\\n\\\\nOnce again. #C9WIN https://t.co/S2YmPNiKjw\",\"public_metrics\":{\"retweet_count\":568,\"reply_count\":0,\"like_count\":0,\"quote_count\":0},\"id\":\"1450248976012304387\",\"created_at\":\"2021-10-18T23:54:34.000Z\",\"author_id\":\"1528448094\"},{\"lang\":\"en\",\"text\":\"RT @Cloud9: See you in the #Worlds2021 Finals \\\\uD83D\\\\uDE08\\\\n\\\\n#C9WIN https://t.co/Rd0EvWCRgu\",\"public_metrics\":{\"retweet_count\":103,\"reply_count\":0,\"like_count\":0,\"quote_count\":0},\"id\":\"1450248256328327174\",\"created_at\":\"2021-10-18T23:51:43.000Z\",\"author_id\":\"553540680\"},{\"lang\":\"en\",\"text\":\"@TeamLiquidLoL love you guys \\\\uD83D\\\\uDC99 #TLWIN\",\"public_metrics\":{\"retweet_count\":0,\"reply_count\":0,\"like_count\":0,\"quote_count\":0},\"id\":\"1450248229933649920\",\"created_at\":\"2021-10-18T23:51:36.000Z\",\"author_id\":\"626742917\",\"in_reply_to_user_id\":\"964529942\"},{\"lang\":\"en\",\"text\":\"RT @TeamLiquidLoL: LET’S GOOOO LIQUID!! #TLWIN https://t.co/vn2acfXWsA\",\"public_metrics\":{\"retweet_count\":50,\"reply_count\":0,\"like_count\":0,\"quote_count\":0},\"id\":\"1450248023779467267\",\"created_at\":\"2021-10-18T23:50:47.000Z\",\"author_id\":\"463193795\"},{\"lang\":\"en\",\"text\":\"RT @Cloud9: We heard the call.\\\\n\\\\nOnce again. #C9WIN https://t.co/S2YmPNiKjw\",\"public_metrics\":{\"retweet_count\":568,\"reply_count\":0,\"like_count\":0,\"quote_count\":0},\"id\":\"1450247662670864384\",\"created_at\":\"2021-10-18T23:49:21.000Z\",\"author_id\":\"2682285187\"},{\"lang\":\"en\",\"text\":\"I love the fact that @Cloud9 will defend their Worlds Title at home in 2022 Season Worlds. #C9WIN #Worlds2021 https://t.co/IMcPBHNsWS\",\"public_metrics\":{\"retweet_count\":1,\"reply_count\":1,\"like_count\":1,\"quote_count\":0},\"id\":\"1450247522262388737\",\"created_at\":\"2021-10-18T23:48:48.000Z\",\"author_id\":\"4079322316\"},{\"lang\":\"en\",\"text\":\"RT @topreuse5: #Sale Use reusable silicone lid TOP RATED LIDS in #Amazon (https://t.co/jyE0s0iIoK)(https://t.co/HvS5XErJha) #mondaythoughts…\",\"public_metrics\":{\"retweet_count\":2,\"reply_count\":0,\"like_count\":0,\"quote_count\":0},\"id\":\"1450247450703314946\",\"created_at\":\"2021-10-18T23:48:31.000Z\",\"author_id\":\"1418210353524084738\"},{\"lang\":\"en\",\"text\":\"@LEC I guess your casters can continue to display their smug superiority after @MADLions_EN get through groups. Especially the American traitor @DanielDrakos. I still love @MedicCasts though. #C9WIN\",\"public_metrics\":{\"retweet_count\":0,\"reply_count\":0,\"like_count\":0,\"quote_count\":0},\"id\":\"1450247020715855879\",\"created_at\":\"2021-10-18T23:46:48.000Z\",\"author_id\":\"1902676346\",\"in_reply_to_user_id\":\"1076110847947300865\"},{\"lang\":\"en\",\"text\":\"@lolesports @T1LoL @HLEofficial @RNG @EDG_Edward @DWGKIA @MADLions_EN @GenG @Cloud9 ¼\\\\n#T1WIN \\\\n#RNGWIN \\\\n#DKWIN \\\\n#C9WIN \\\\n½\\\\n#C9WIN \\\\n#DKWIN \\\\nFINALS\\\\n#C9WIN \\\\nThis is the year it happens!\",\"public_metrics\":{\"retweet_count\":0,\"reply_count\":0,\"like_count\":3,\"quote_count\":0},\"id\":\"1450246821054455808\",\"created_at\":\"2021-10-18T23:46:01.000Z\",\"author_id\":\"4079322316\",\"in_reply_to_user_id\":\"614754689\"},{\"lang\":\"en\",\"text\":\"Takeaways from group stage\\\\n\\\\n#LCK reign supreme\\\\n#LEC kinda overrated but also unfortunate circumstances \\\\n#LCS ain’t that far out of the loop\\\\n#LPL LACKING HARD\\\\nBest in the world is either #DWGKIA or #T1WIN but with the bracket being drawn it’s clearly NAs year and an ez #C9WIN https://t.co/njdaG5z28z\",\"public_metrics\":{\"retweet_count\":0,\"reply_count\":0,\"like_count\":0,\"quote_count\":0},\"id\":\"1450246468397375490\",\"created_at\":\"2021-10-18T23:44:36.000Z\",\"author_id\":\"364018758\"},{\"lang\":\"en\",\"text\":\"RT @Cloud9: We heard the call.\\\\n\\\\nOnce again. #C9WIN https://t.co/S2YmPNiKjw\",\"public_metrics\":{\"retweet_count\":568,\"reply_count\":0,\"like_count\":0,\"quote_count\":0},\"id\":\"1450246193901043712\",\"created_at\":\"2021-10-18T23:43:31.000Z\",\"author_id\":\"1123672941114224640\"},{\"lang\":\"en\",\"text\":\"RT @Cloud9: We heard the call.\\\\n\\\\nOnce again. #C9WIN https://t.co/S2YmPNiKjw\",\"public_metrics\":{\"retweet_count\":568,\"reply_count\":0,\"like_count\":0,\"quote_count\":0},\"id\":\"1450245777595375621\",\"created_at\":\"2021-10-18T23:41:52.000Z\",\"author_id\":\"539644662\"},{\"lang\":\"en\",\"text\":\"RT @Cloud9: See you in the #Worlds2021 Finals \\\\uD83D\\\\uDE08\\\\n\\\\n#C9WIN https://t.co/Rd0EvWCRgu\",\"public_metrics\":{\"retweet_count\":103,\"reply_count\":0,\"like_count\":0,\"quote_count\":0},\"id\":\"1450245733937000451\",\"created_at\":\"2021-10-18T23:41:41.000Z\",\"author_id\":\"1023800353739943941\"},{\"lang\":\"en\",\"text\":\"RT @TeamLiquidLoL: LCK broadcast diff #TLWIN #Worlds2021 https://t.co/GGjoVeB20p\",\"public_metrics\":{\"retweet_count\":55,\"reply_count\":0,\"like_count\":0,\"quote_count\":0},\"id\":\"1450244474173526020\",\"created_at\":\"2021-10-18T23:36:41.000Z\",\"author_id\":\"868685008151740417\"},{\"lang\":\"en\",\"text\":\"RT @TeamLiquidLoL: Together We Rise. #TLWIN \\\\n\\\\nOur schedule for Group D. https://t.co/YsNhBWz0DI\",\"public_metrics\":{\"retweet_count\":29,\"reply_count\":0,\"like_count\":0,\"quote_count\":0},\"id\":\"1450244186746273800\",\"created_at\":\"2021-10-18T23:35:33.000Z\",\"author_id\":\"868685008151740417\"},{\"lang\":\"en\",\"text\":\"@lolesports Script is ready but don\\'t tell anyone it\\'s a secret! #C9WIN @Cloud9 @JackEtienne @portilho @C9Perkz @Fudgecakey @blaber @Zven @VulcanLoL @LCSOfficial https://t.co/zGb1W6UYQn\",\"public_metrics\":{\"retweet_count\":0,\"reply_count\":2,\"like_count\":4,\"quote_count\":0},\"id\":\"1450244099735445515\",\"created_at\":\"2021-10-18T23:35:12.000Z\",\"author_id\":\"4079322316\",\"in_reply_to_user_id\":\"614754689\"},{\"lang\":\"en\",\"text\":\"RT @Cloud9: We heard the call.\\\\n\\\\nOnce again. #C9WIN https://t.co/S2YmPNiKjw\",\"public_metrics\":{\"retweet_count\":568,\"reply_count\":0,\"like_count\":0,\"quote_count\":0},\"id\":\"1450243848039370753\",\"created_at\":\"2021-10-18T23:34:12.000Z\",\"author_id\":\"700310622\"},{\"lang\":\"en\",\"text\":\"My crafty 12 year old daughter got a cricut for her birthday (It makes stickers and things.  I dunno). She made this and stuck it on my cup, because she believes in NA.  @Cloud9 #C9WIN https://t.co/4SNJgQ8jhg\",\"public_metrics\":{\"retweet_count\":0,\"reply_count\":1,\"like_count\":7,\"quote_count\":0},\"id\":\"1450243529440051202\",\"created_at\":\"2021-10-18T23:32:56.000Z\",\"author_id\":\"2150891\"}],\"includes\":{\"users\":[{\"id\":\"974494140783214593\",\"name\":\"grizz233\",\"username\":\"grizz2331\"},{\"id\":\"2416433815\",\"name\":\"Devin\",\"username\":\"DannyTheAsian\"},{\"id\":\"3036852366\",\"name\":\"David Knowles\",\"username\":\"DrgnMstr5\"},{\"id\":\"1046146612785950720\",\"name\":\"Sac Yellow\",\"username\":\"YellowFps\"},{\"id\":\"759956701\",\"name\":\"\\\\uD83C\\\\uDF6CgUssy\\\\uD83C\\\\uDF6C\",\"username\":\"gus_gonzo\"},{\"id\":\"3011987372\",\"name\":\"MAMMOTH ESPORTS CLUB\",\"username\":\"MAMMOTH_OCE\"},{\"id\":\"1087864247441387521\",\"name\":\"\\\\uD83E\\\\uDD8AJun\",\"username\":\"Junisweird\"},{\"id\":\"1192008677999251456\",\"name\":\"Lance David\",\"username\":\"LanceDavedzz\"},{\"id\":\"1452520626\",\"name\":\"Cloud9\",\"username\":\"Cloud9\"},{\"id\":\"809676874146193408\",\"name\":\"C9 Hoonmaru\",\"username\":\"hoonmaru\"},{\"id\":\"1073556837075697664\",\"name\":\"blank.\",\"username\":\"Strelitxiaa\"},{\"id\":\"2616856868\",\"name\":\"C9 vexel\",\"username\":\"_vexel\"},{\"id\":\"719609019304951808\",\"name\":\"Wooooooosh\",\"username\":\"magicgirlten\"},{\"id\":\"1024242313780842496\",\"name\":\"ino\",\"username\":\"Ph03n1x_ps\"},{\"id\":\"4294284500\",\"name\":\"Alexandrea Cardenas\",\"username\":\"SwitchGirlSora\"},{\"id\":\"883471981756243968\",\"name\":\"beez\",\"username\":\"BeezRogue\"},{\"id\":\"4004732309\",\"name\":\"\\\\uD83D\\\\uDD25 Inferno \\\\uD83D\\\\uDD25\",\"username\":\"LostInfernoHD\"},{\"id\":\"77314700\",\"name\":\"Chronos\",\"username\":\"giotur\"},{\"id\":\"159450171\",\"name\":\"อ้วงมีกล้าม\",\"username\":\"baekguodh\"},{\"id\":\"1102396520329105413\",\"name\":\"Eddie\",\"username\":\"ItsCeless_\"},{\"id\":\"1008284215421440000\",\"name\":\"da\",\"username\":\"alcaraz_daryl\"},{\"id\":\"393840193\",\"name\":\"KoaRa@ぽちandぽち\",\"username\":\"inemuRi_nanairO\"},{\"id\":\"3166456974\",\"name\":\"Sbeve\",\"username\":\"gombeiwastaken\"},{\"id\":\"946117547891482624\",\"name\":\"wfg$\",\"username\":\"mnyfrfx\"},{\"id\":\"1295921559794638854\",\"name\":\"nai | #FNCWIN\",\"username\":\"_bbysharkK\"},{\"id\":\"1164395591205416962\",\"name\":\"PLANET9.gg\",\"username\":\"planet9gg\"},{\"id\":\"1234061764142288896\",\"name\":\"Álvaro\",\"username\":\"alvaropiinto\"},{\"id\":\"1339465985301032960\",\"name\":\"Masi \\\\uD83C\\\\uDDEE\\\\uD83C\\\\uDDF8\",\"username\":\"masiigallo\"},{\"id\":\"3236602453\",\"name\":\"Lambda\",\"username\":\"Lambda_Diana\"},{\"id\":\"726150929246986240\",\"name\":\"chaos604 \\uea00\",\"username\":\"chaos604\"},{\"id\":\"1125823851588403205\",\"name\":\"devoto de Nise da Silveira e Paulo Freire\\\\uD83D\\\\uDC9B\\\\uD83C\\\\uDF3F\",\"username\":\"Luiiixxxxx\"},{\"id\":\"1326324511617282050\",\"name\":\"JC\",\"username\":\"Universe135\"},{\"id\":\"111501405\",\"name\":\"Andrés Sánchez Ramos\",\"username\":\"AnDrEz88\"},{\"id\":\"570609801\",\"name\":\"Alfan Kurnia Yudha\",\"username\":\"alfankurnia\"},{\"id\":\"2772268951\",\"name\":\"marcelo silva\",\"username\":\"marcelohyhorn\"},{\"id\":\"938061244912738304\",\"name\":\"risu \\\\uD83D\\\\uDC51 | it\\'s #Worlds2021 szn!!\",\"username\":\"risurreal\"},{\"id\":\"2806475836\",\"name\":\"Blessoflight\",\"username\":\"jiahtjason26\"},{\"id\":\"51744255\",\"name\":\"Julie Gilmer ✈️\\\\uD83D\\\\uDE37\\\\uD83C\\\\uDF38✊\\\\uD83C\\\\uDFFF\\\\uD83C\\\\uDF08\",\"username\":\"FlyNmom1\"},{\"id\":\"755300569196224516\",\"name\":\"Zay\",\"username\":\"Zauceyy\"},{\"id\":\"1169778607713112064\",\"name\":\"piop34\",\"username\":\"piop346\"},{\"id\":\"1244520308037406720\",\"name\":\"Ivy is hype for esports\",\"username\":\"Bambicino7\"},{\"id\":\"432109432\",\"name\":\"Roni\",\"username\":\"ronii4004\"},{\"id\":\"990125779\",\"name\":\"Jake\",\"username\":\"thebulld0zer\"},{\"id\":\"2457189830\",\"name\":\"rika\\\\uD83D\\\\uDC8Etankbuster on healer\",\"username\":\"epsilonkai\"},{\"id\":\"1358911175736520704\",\"name\":\"LIQUID | Spooky Oats \\\\uD83C\\\\uDF83\",\"username\":\"Oatymeals\"},{\"id\":\"1375934084430622721\",\"name\":\"Bany| Moon #GOGL\",\"username\":\"Bany_Yuu\"},{\"id\":\"4831256359\",\"name\":\"Jonathan Rich\",\"username\":\"thatiowaredneck\"},{\"id\":\"1276249872082100227\",\"name\":\"Perkz Stan\",\"username\":\"MrKoalahxd\"},{\"id\":\"1202301014\",\"name\":\"Calle Danielsson\",\"username\":\"calle\"},{\"id\":\"1076399425063452672\",\"name\":\"Nida - DadoCWB\",\"username\":\"tecnoanologica\"},{\"id\":\"1469530285\",\"name\":\"((( ¥~Şøłíkhìñ~€ )))\",\"username\":\"xNicrO\"},{\"id\":\"1371069265\",\"name\":\"Suzy\\\\uD83E\\\\uDD71\",\"username\":\"S2uzy_\"},{\"id\":\"1354977079264038915\",\"name\":\"NamiGaming × #Worlds2021\",\"username\":\"Crystal_NamiLoL\"},{\"id\":\"2987069902\",\"name\":\"Grimo\",\"username\":\"GrimoKiller\"},{\"id\":\"1195204461536272385\",\"name\":\"Justin Villedo\",\"username\":\"JV_Unstoppable\"},{\"id\":\"904288476614369280\",\"name\":\"sana-ssi\",\"username\":\"Paulygamous\"},{\"id\":\"1356875776285691905\",\"name\":\"Rick\",\"username\":\"ezswisher_\"},{\"id\":\"3303157002\",\"name\":\"Juan Villalpando\",\"username\":\"UnoVillalpando\"},{\"id\":\"2455826006\",\"name\":\"Patrick Farias\",\"username\":\"PatrickNFarias\"},{\"id\":\"204447182\",\"name\":\"Pequeno vinicius\",\"username\":\"SuedHyun\"},{\"id\":\"782751902488530945\",\"name\":\"Fanboy da Yatsu \\\\uD83C\\\\uDF38(de comissions open)\",\"username\":\"Snowy_2B\"},{\"id\":\"1535660622\",\"name\":\"Cameron Hoyle\",\"username\":\"CJ9000\"},{\"id\":\"785048937614807040\",\"name\":\"Atari\",\"username\":\"C9_Angelo\"},{\"id\":\"27163005\",\"name\":\"R\",\"username\":\"acceberecanet\"},{\"id\":\"3447738554\",\"name\":\"jan\\\\uD83C\\\\uDF3B\",\"username\":\"FlowerTroyy\"},{\"id\":\"817179557732171777\",\"name\":\"Bungoh\",\"username\":\"imbungoh\"},{\"id\":\"1428008930916147207\",\"name\":\"ElderberriesGaming\",\"username\":\"Elderberries16\"},{\"id\":\"1422121676272066561\",\"name\":\"sheeesh\",\"username\":\"kiyaaaaaaaaaaan\"},{\"id\":\"2396539346\",\"name\":\"Giuliano Amenta\",\"username\":\"Flubbzzz\"},{\"id\":\"1073992220422885378\",\"name\":\"Maro_Mau\",\"username\":\"LaidanMixel\"},{\"id\":\"1607243690\",\"name\":\"Zuhuri Manley\",\"username\":\"BigZDntPlayThat\"},{\"id\":\"1070528413952290816\",\"name\":\"Qx10xD\",\"username\":\"Qx10xD\"},{\"id\":\"182840599\",\"name\":\"いまむらさん\",\"username\":\"modeld25\"},{\"id\":\"1136721230353092610\",\"name\":\"rennan rosado\",\"username\":\"nannre_r\"},{\"id\":\"1210614828944908288\",\"name\":\"phoebe\",\"username\":\"lemonboyarci\"},{\"id\":\"1528448094\",\"name\":\"Surokai\",\"username\":\"Surokai_\"},{\"id\":\"553540680\",\"name\":\"./.\",\"username\":\"matthewlibid\"},{\"id\":\"626742917\",\"name\":\"Carlo\",\"username\":\"cjduya\"},{\"id\":\"463193795\",\"name\":\"Jonathan\",\"username\":\"Chameloski29\"},{\"id\":\"2682285187\",\"name\":\"noah uchiha\",\"username\":\"boahnates\"},{\"id\":\"4079322316\",\"name\":\"Lukas | EHR Regrets\",\"username\":\"hikasWelt\"},{\"id\":\"1418210353524084738\",\"name\":\"topreuse5\",\"username\":\"topreuse5\"},{\"id\":\"1902676346\",\"name\":\"William Poole\",\"username\":\"Pleasebesterile\"},{\"id\":\"364018758\",\"name\":\"Papa Zan\",\"username\":\"ThePapa_Zan\"},{\"id\":\"1123672941114224640\",\"name\":\"Gene\",\"username\":\"Welzebg\"},{\"id\":\"539644662\",\"name\":\"micah.\",\"username\":\"micah_pao_pao\"},{\"id\":\"1023800353739943941\",\"name\":\"armandoportilho\",\"username\":\"armandoportilho\"},{\"id\":\"868685008151740417\",\"name\":\"Jo\",\"username\":\"josephh2o_\"},{\"id\":\"700310622\",\"name\":\"Ranking in Doubles(pkmn) \\\\uD83D\\\\uDC4B\\\\uD83C\\\\uDFFB\\\\uD83D\\\\uDC40\",\"username\":\"ChariGamer\"},{\"id\":\"2150891\",\"name\":\"Colfax\",\"username\":\"HeyColfax\"}]},\"meta\":{\"newest_id\":\"1450303483249188865\",\"oldest_id\":\"1450243529440051202\",\"result_count\":100,\"next_token\":\"b26v89c19zqg8o3fpdv5se7078ar6zb6yzipg11eqlv25\"}}'"
      ]
     },
     "execution_count": 37,
     "metadata": {},
     "output_type": "execute_result"
    }
   ],
   "source": [
    "response_3.text"
   ]
  },
  {
   "cell_type": "code",
   "execution_count": 38,
   "id": "30c930b3",
   "metadata": {},
   "outputs": [],
   "source": [
    "response_3_dict = json.loads(response_3.text)"
   ]
  },
  {
   "cell_type": "code",
   "execution_count": 39,
   "id": "99524941",
   "metadata": {},
   "outputs": [],
   "source": [
    "my_df3 = pd.DataFrame(response_3_dict['data'])"
   ]
  },
  {
   "cell_type": "code",
   "execution_count": 40,
   "id": "ab25606d",
   "metadata": {},
   "outputs": [
    {
     "data": {
      "text/html": [
       "<div>\n",
       "<style scoped>\n",
       "    .dataframe tbody tr th:only-of-type {\n",
       "        vertical-align: middle;\n",
       "    }\n",
       "\n",
       "    .dataframe tbody tr th {\n",
       "        vertical-align: top;\n",
       "    }\n",
       "\n",
       "    .dataframe thead th {\n",
       "        text-align: right;\n",
       "    }\n",
       "</style>\n",
       "<table border=\"1\" class=\"dataframe\">\n",
       "  <thead>\n",
       "    <tr style=\"text-align: right;\">\n",
       "      <th></th>\n",
       "      <th>lang</th>\n",
       "      <th>text</th>\n",
       "      <th>public_metrics</th>\n",
       "      <th>id</th>\n",
       "      <th>created_at</th>\n",
       "      <th>author_id</th>\n",
       "      <th>in_reply_to_user_id</th>\n",
       "    </tr>\n",
       "  </thead>\n",
       "  <tbody>\n",
       "    <tr>\n",
       "      <th>0</th>\n",
       "      <td>en</td>\n",
       "      <td>RT @Cloud9: Today summarized:\\n\\nLCS &amp;gt; LCK ...</td>\n",
       "      <td>{'retweet_count': 69, 'reply_count': 0, 'like_...</td>\n",
       "      <td>1450303483249188865</td>\n",
       "      <td>2021-10-19T03:31:10.000Z</td>\n",
       "      <td>974494140783214593</td>\n",
       "      <td>NaN</td>\n",
       "    </tr>\n",
       "    <tr>\n",
       "      <th>1</th>\n",
       "      <td>en</td>\n",
       "      <td>RT @LCSOfficial: Quarterfinals #C9WIN | #World...</td>\n",
       "      <td>{'retweet_count': 42, 'reply_count': 0, 'like_...</td>\n",
       "      <td>1450303417415520262</td>\n",
       "      <td>2021-10-19T03:30:54.000Z</td>\n",
       "      <td>2416433815</td>\n",
       "      <td>NaN</td>\n",
       "    </tr>\n",
       "    <tr>\n",
       "      <th>2</th>\n",
       "      <td>en</td>\n",
       "      <td>RT @AzaelOfficial: CLOUD9 GET GEN.G LET'S FUCK...</td>\n",
       "      <td>{'retweet_count': 62, 'reply_count': 0, 'like_...</td>\n",
       "      <td>1450302931463327746</td>\n",
       "      <td>2021-10-19T03:28:58.000Z</td>\n",
       "      <td>3036852366</td>\n",
       "      <td>NaN</td>\n",
       "    </tr>\n",
       "    <tr>\n",
       "      <th>3</th>\n",
       "      <td>en</td>\n",
       "      <td>RT @Cloud9: We heard the call.\\n\\nOnce again. ...</td>\n",
       "      <td>{'retweet_count': 568, 'reply_count': 0, 'like...</td>\n",
       "      <td>1450302769382912000</td>\n",
       "      <td>2021-10-19T03:28:20.000Z</td>\n",
       "      <td>1046146612785950720</td>\n",
       "      <td>NaN</td>\n",
       "    </tr>\n",
       "    <tr>\n",
       "      <th>4</th>\n",
       "      <td>en</td>\n",
       "      <td>RT @LCSOfficial: \"And this one is for the cham...</td>\n",
       "      <td>{'retweet_count': 1276, 'reply_count': 0, 'lik...</td>\n",
       "      <td>1450302766212079620</td>\n",
       "      <td>2021-10-19T03:28:19.000Z</td>\n",
       "      <td>759956701</td>\n",
       "      <td>NaN</td>\n",
       "    </tr>\n",
       "    <tr>\n",
       "      <th>...</th>\n",
       "      <td>...</td>\n",
       "      <td>...</td>\n",
       "      <td>...</td>\n",
       "      <td>...</td>\n",
       "      <td>...</td>\n",
       "      <td>...</td>\n",
       "      <td>...</td>\n",
       "    </tr>\n",
       "    <tr>\n",
       "      <th>95</th>\n",
       "      <td>en</td>\n",
       "      <td>RT @TeamLiquidLoL: LCK broadcast diff #TLWIN #...</td>\n",
       "      <td>{'retweet_count': 55, 'reply_count': 0, 'like_...</td>\n",
       "      <td>1450244474173526020</td>\n",
       "      <td>2021-10-18T23:36:41.000Z</td>\n",
       "      <td>868685008151740417</td>\n",
       "      <td>NaN</td>\n",
       "    </tr>\n",
       "    <tr>\n",
       "      <th>96</th>\n",
       "      <td>en</td>\n",
       "      <td>RT @TeamLiquidLoL: Together We Rise. #TLWIN \\n...</td>\n",
       "      <td>{'retweet_count': 29, 'reply_count': 0, 'like_...</td>\n",
       "      <td>1450244186746273800</td>\n",
       "      <td>2021-10-18T23:35:33.000Z</td>\n",
       "      <td>868685008151740417</td>\n",
       "      <td>NaN</td>\n",
       "    </tr>\n",
       "    <tr>\n",
       "      <th>97</th>\n",
       "      <td>en</td>\n",
       "      <td>@lolesports Script is ready but don't tell any...</td>\n",
       "      <td>{'retweet_count': 0, 'reply_count': 2, 'like_c...</td>\n",
       "      <td>1450244099735445515</td>\n",
       "      <td>2021-10-18T23:35:12.000Z</td>\n",
       "      <td>4079322316</td>\n",
       "      <td>614754689</td>\n",
       "    </tr>\n",
       "    <tr>\n",
       "      <th>98</th>\n",
       "      <td>en</td>\n",
       "      <td>RT @Cloud9: We heard the call.\\n\\nOnce again. ...</td>\n",
       "      <td>{'retweet_count': 568, 'reply_count': 0, 'like...</td>\n",
       "      <td>1450243848039370753</td>\n",
       "      <td>2021-10-18T23:34:12.000Z</td>\n",
       "      <td>700310622</td>\n",
       "      <td>NaN</td>\n",
       "    </tr>\n",
       "    <tr>\n",
       "      <th>99</th>\n",
       "      <td>en</td>\n",
       "      <td>My crafty 12 year old daughter got a cricut fo...</td>\n",
       "      <td>{'retweet_count': 0, 'reply_count': 1, 'like_c...</td>\n",
       "      <td>1450243529440051202</td>\n",
       "      <td>2021-10-18T23:32:56.000Z</td>\n",
       "      <td>2150891</td>\n",
       "      <td>NaN</td>\n",
       "    </tr>\n",
       "  </tbody>\n",
       "</table>\n",
       "<p>100 rows × 7 columns</p>\n",
       "</div>"
      ],
      "text/plain": [
       "   lang                                               text  \\\n",
       "0    en  RT @Cloud9: Today summarized:\\n\\nLCS &gt; LCK ...   \n",
       "1    en  RT @LCSOfficial: Quarterfinals #C9WIN | #World...   \n",
       "2    en  RT @AzaelOfficial: CLOUD9 GET GEN.G LET'S FUCK...   \n",
       "3    en  RT @Cloud9: We heard the call.\\n\\nOnce again. ...   \n",
       "4    en  RT @LCSOfficial: \"And this one is for the cham...   \n",
       "..  ...                                                ...   \n",
       "95   en  RT @TeamLiquidLoL: LCK broadcast diff #TLWIN #...   \n",
       "96   en  RT @TeamLiquidLoL: Together We Rise. #TLWIN \\n...   \n",
       "97   en  @lolesports Script is ready but don't tell any...   \n",
       "98   en  RT @Cloud9: We heard the call.\\n\\nOnce again. ...   \n",
       "99   en  My crafty 12 year old daughter got a cricut fo...   \n",
       "\n",
       "                                       public_metrics                   id  \\\n",
       "0   {'retweet_count': 69, 'reply_count': 0, 'like_...  1450303483249188865   \n",
       "1   {'retweet_count': 42, 'reply_count': 0, 'like_...  1450303417415520262   \n",
       "2   {'retweet_count': 62, 'reply_count': 0, 'like_...  1450302931463327746   \n",
       "3   {'retweet_count': 568, 'reply_count': 0, 'like...  1450302769382912000   \n",
       "4   {'retweet_count': 1276, 'reply_count': 0, 'lik...  1450302766212079620   \n",
       "..                                                ...                  ...   \n",
       "95  {'retweet_count': 55, 'reply_count': 0, 'like_...  1450244474173526020   \n",
       "96  {'retweet_count': 29, 'reply_count': 0, 'like_...  1450244186746273800   \n",
       "97  {'retweet_count': 0, 'reply_count': 2, 'like_c...  1450244099735445515   \n",
       "98  {'retweet_count': 568, 'reply_count': 0, 'like...  1450243848039370753   \n",
       "99  {'retweet_count': 0, 'reply_count': 1, 'like_c...  1450243529440051202   \n",
       "\n",
       "                  created_at            author_id in_reply_to_user_id  \n",
       "0   2021-10-19T03:31:10.000Z   974494140783214593                 NaN  \n",
       "1   2021-10-19T03:30:54.000Z           2416433815                 NaN  \n",
       "2   2021-10-19T03:28:58.000Z           3036852366                 NaN  \n",
       "3   2021-10-19T03:28:20.000Z  1046146612785950720                 NaN  \n",
       "4   2021-10-19T03:28:19.000Z            759956701                 NaN  \n",
       "..                       ...                  ...                 ...  \n",
       "95  2021-10-18T23:36:41.000Z   868685008151740417                 NaN  \n",
       "96  2021-10-18T23:35:33.000Z   868685008151740417                 NaN  \n",
       "97  2021-10-18T23:35:12.000Z           4079322316           614754689  \n",
       "98  2021-10-18T23:34:12.000Z            700310622                 NaN  \n",
       "99  2021-10-18T23:32:56.000Z              2150891                 NaN  \n",
       "\n",
       "[100 rows x 7 columns]"
      ]
     },
     "execution_count": 40,
     "metadata": {},
     "output_type": "execute_result"
    }
   ],
   "source": [
    "my_df3"
   ]
  },
  {
   "cell_type": "markdown",
   "id": "3a22f738",
   "metadata": {},
   "source": [
    "To wrangle my data I created 3 data frames, each with 100 tweets, and then made them into an array. I then concatenated the 3 data frames together. "
   ]
  },
  {
   "cell_type": "code",
   "execution_count": 41,
   "id": "0a71c8cf",
   "metadata": {},
   "outputs": [],
   "source": [
    "frames = [my_df, my_df2, my_df3]"
   ]
  },
  {
   "cell_type": "code",
   "execution_count": 42,
   "id": "dfaae74a",
   "metadata": {},
   "outputs": [],
   "source": [
    "combined_dfs = pd.concat(frames)"
   ]
  },
  {
   "cell_type": "code",
   "execution_count": 43,
   "id": "a6789475",
   "metadata": {
    "scrolled": true
   },
   "outputs": [
    {
     "data": {
      "text/html": [
       "<div>\n",
       "<style scoped>\n",
       "    .dataframe tbody tr th:only-of-type {\n",
       "        vertical-align: middle;\n",
       "    }\n",
       "\n",
       "    .dataframe tbody tr th {\n",
       "        vertical-align: top;\n",
       "    }\n",
       "\n",
       "    .dataframe thead th {\n",
       "        text-align: right;\n",
       "    }\n",
       "</style>\n",
       "<table border=\"1\" class=\"dataframe\">\n",
       "  <thead>\n",
       "    <tr style=\"text-align: right;\">\n",
       "      <th></th>\n",
       "      <th>id</th>\n",
       "      <th>created_at</th>\n",
       "      <th>author_id</th>\n",
       "      <th>text</th>\n",
       "      <th>public_metrics</th>\n",
       "      <th>lang</th>\n",
       "    </tr>\n",
       "    <tr>\n",
       "      <th>in_reply_to_user_id</th>\n",
       "      <th></th>\n",
       "      <th></th>\n",
       "      <th></th>\n",
       "      <th></th>\n",
       "      <th></th>\n",
       "      <th></th>\n",
       "    </tr>\n",
       "  </thead>\n",
       "  <tbody>\n",
       "    <tr>\n",
       "      <th>964529942</th>\n",
       "      <td>6</td>\n",
       "      <td>6</td>\n",
       "      <td>6</td>\n",
       "      <td>6</td>\n",
       "      <td>6</td>\n",
       "      <td>6</td>\n",
       "    </tr>\n",
       "    <tr>\n",
       "      <th>1452520626</th>\n",
       "      <td>4</td>\n",
       "      <td>4</td>\n",
       "      <td>4</td>\n",
       "      <td>4</td>\n",
       "      <td>4</td>\n",
       "      <td>4</td>\n",
       "    </tr>\n",
       "    <tr>\n",
       "      <th>614754689</th>\n",
       "      <td>4</td>\n",
       "      <td>4</td>\n",
       "      <td>4</td>\n",
       "      <td>4</td>\n",
       "      <td>4</td>\n",
       "      <td>4</td>\n",
       "    </tr>\n",
       "    <tr>\n",
       "      <th>575352314</th>\n",
       "      <td>2</td>\n",
       "      <td>2</td>\n",
       "      <td>2</td>\n",
       "      <td>2</td>\n",
       "      <td>2</td>\n",
       "      <td>2</td>\n",
       "    </tr>\n",
       "    <tr>\n",
       "      <th>951370993439719424</th>\n",
       "      <td>2</td>\n",
       "      <td>2</td>\n",
       "      <td>2</td>\n",
       "      <td>2</td>\n",
       "      <td>2</td>\n",
       "      <td>2</td>\n",
       "    </tr>\n",
       "    <tr>\n",
       "      <th>1076110847947300865</th>\n",
       "      <td>1</td>\n",
       "      <td>1</td>\n",
       "      <td>1</td>\n",
       "      <td>1</td>\n",
       "      <td>1</td>\n",
       "      <td>1</td>\n",
       "    </tr>\n",
       "    <tr>\n",
       "      <th>1152301380121649152</th>\n",
       "      <td>1</td>\n",
       "      <td>1</td>\n",
       "      <td>1</td>\n",
       "      <td>1</td>\n",
       "      <td>1</td>\n",
       "      <td>1</td>\n",
       "    </tr>\n",
       "    <tr>\n",
       "      <th>1290587544330043394</th>\n",
       "      <td>1</td>\n",
       "      <td>1</td>\n",
       "      <td>1</td>\n",
       "      <td>1</td>\n",
       "      <td>1</td>\n",
       "      <td>1</td>\n",
       "    </tr>\n",
       "    <tr>\n",
       "      <th>1648029396</th>\n",
       "      <td>1</td>\n",
       "      <td>1</td>\n",
       "      <td>1</td>\n",
       "      <td>1</td>\n",
       "      <td>1</td>\n",
       "      <td>1</td>\n",
       "    </tr>\n",
       "    <tr>\n",
       "      <th>3410389873</th>\n",
       "      <td>1</td>\n",
       "      <td>1</td>\n",
       "      <td>1</td>\n",
       "      <td>1</td>\n",
       "      <td>1</td>\n",
       "      <td>1</td>\n",
       "    </tr>\n",
       "    <tr>\n",
       "      <th>499278259</th>\n",
       "      <td>1</td>\n",
       "      <td>1</td>\n",
       "      <td>1</td>\n",
       "      <td>1</td>\n",
       "      <td>1</td>\n",
       "      <td>1</td>\n",
       "    </tr>\n",
       "    <tr>\n",
       "      <th>877390870818856965</th>\n",
       "      <td>1</td>\n",
       "      <td>1</td>\n",
       "      <td>1</td>\n",
       "      <td>1</td>\n",
       "      <td>1</td>\n",
       "      <td>1</td>\n",
       "    </tr>\n",
       "    <tr>\n",
       "      <th>884962539963940865</th>\n",
       "      <td>1</td>\n",
       "      <td>1</td>\n",
       "      <td>1</td>\n",
       "      <td>1</td>\n",
       "      <td>1</td>\n",
       "      <td>1</td>\n",
       "    </tr>\n",
       "    <tr>\n",
       "      <th>96625583</th>\n",
       "      <td>1</td>\n",
       "      <td>1</td>\n",
       "      <td>1</td>\n",
       "      <td>1</td>\n",
       "      <td>1</td>\n",
       "      <td>1</td>\n",
       "    </tr>\n",
       "  </tbody>\n",
       "</table>\n",
       "</div>"
      ],
      "text/plain": [
       "                     id  created_at  author_id  text  public_metrics  lang\n",
       "in_reply_to_user_id                                                       \n",
       "964529942             6           6          6     6               6     6\n",
       "1452520626            4           4          4     4               4     4\n",
       "614754689             4           4          4     4               4     4\n",
       "575352314             2           2          2     2               2     2\n",
       "951370993439719424    2           2          2     2               2     2\n",
       "1076110847947300865   1           1          1     1               1     1\n",
       "1152301380121649152   1           1          1     1               1     1\n",
       "1290587544330043394   1           1          1     1               1     1\n",
       "1648029396            1           1          1     1               1     1\n",
       "3410389873            1           1          1     1               1     1\n",
       "499278259             1           1          1     1               1     1\n",
       "877390870818856965    1           1          1     1               1     1\n",
       "884962539963940865    1           1          1     1               1     1\n",
       "96625583              1           1          1     1               1     1"
      ]
     },
     "execution_count": 43,
     "metadata": {},
     "output_type": "execute_result"
    }
   ],
   "source": [
    "combined_dfs.groupby('in_reply_to_user_id').count().sort_values('text', ascending = False)"
   ]
  },
  {
   "cell_type": "code",
   "execution_count": 44,
   "id": "550250bb",
   "metadata": {},
   "outputs": [
    {
     "data": {
      "text/plain": [
       "pandas.core.series.Series"
      ]
     },
     "execution_count": 44,
     "metadata": {},
     "output_type": "execute_result"
    }
   ],
   "source": [
    "type(combined_dfs['text'])"
   ]
  },
  {
   "cell_type": "markdown",
   "id": "610bc602",
   "metadata": {},
   "source": [
    "This is my combined data frame, showing all 300 tweets. This data frame, however, does not really tell us much. To really analyze this data, I will need to count the tweets that contain each of the 3 hashtags that I searched for. To do this, I need to sort the tweets by if they include each hashtag, and count them all."
   ]
  },
  {
   "cell_type": "code",
   "execution_count": 53,
   "id": "9a97904c",
   "metadata": {
    "scrolled": true
   },
   "outputs": [
    {
     "data": {
      "text/html": [
       "<div>\n",
       "<style scoped>\n",
       "    .dataframe tbody tr th:only-of-type {\n",
       "        vertical-align: middle;\n",
       "    }\n",
       "\n",
       "    .dataframe tbody tr th {\n",
       "        vertical-align: top;\n",
       "    }\n",
       "\n",
       "    .dataframe thead th {\n",
       "        text-align: right;\n",
       "    }\n",
       "</style>\n",
       "<table border=\"1\" class=\"dataframe\">\n",
       "  <thead>\n",
       "    <tr style=\"text-align: right;\">\n",
       "      <th></th>\n",
       "      <th>id</th>\n",
       "      <th>created_at</th>\n",
       "      <th>in_reply_to_user_id</th>\n",
       "      <th>author_id</th>\n",
       "      <th>text</th>\n",
       "      <th>public_metrics</th>\n",
       "      <th>lang</th>\n",
       "    </tr>\n",
       "  </thead>\n",
       "  <tbody>\n",
       "    <tr>\n",
       "      <th>5</th>\n",
       "      <td>1450476837721804808</td>\n",
       "      <td>2021-10-19T15:00:01.000Z</td>\n",
       "      <td>NaN</td>\n",
       "      <td>1007039025675456514</td>\n",
       "      <td>\" header for @blxckoutz \" \\n\\n@Cloud9 #C9WIN \\...</td>\n",
       "      <td>{'retweet_count': 19, 'reply_count': 20, 'like...</td>\n",
       "      <td>en</td>\n",
       "    </tr>\n",
       "    <tr>\n",
       "      <th>87</th>\n",
       "      <td>1450498645225185284</td>\n",
       "      <td>2021-10-19T16:26:40.000Z</td>\n",
       "      <td>NaN</td>\n",
       "      <td>2370350274</td>\n",
       "      <td>#C9WIN Let it go! https://t.co/KQWSgmPkXf</td>\n",
       "      <td>{'retweet_count': 0, 'reply_count': 0, 'like_c...</td>\n",
       "      <td>en</td>\n",
       "    </tr>\n",
       "    <tr>\n",
       "      <th>46</th>\n",
       "      <td>1450407564282372096</td>\n",
       "      <td>2021-10-19T10:24:45.000Z</td>\n",
       "      <td>NaN</td>\n",
       "      <td>1065923083696054274</td>\n",
       "      <td>#LeagueOfLegends Head Coach for @cloud9 @mithy...</td>\n",
       "      <td>{'retweet_count': 1, 'reply_count': 0, 'like_c...</td>\n",
       "      <td>en</td>\n",
       "    </tr>\n",
       "    <tr>\n",
       "      <th>74</th>\n",
       "      <td>1450351433266581507</td>\n",
       "      <td>2021-10-19T06:41:42.000Z</td>\n",
       "      <td>NaN</td>\n",
       "      <td>1429149771931942913</td>\n",
       "      <td>#Worlds2021 #C9WIN So excited for the last few...</td>\n",
       "      <td>{'retweet_count': 14, 'reply_count': 1, 'like_...</td>\n",
       "      <td>en</td>\n",
       "    </tr>\n",
       "    <tr>\n",
       "      <th>56</th>\n",
       "      <td>1450384704474124291</td>\n",
       "      <td>2021-10-19T08:53:55.000Z</td>\n",
       "      <td>NaN</td>\n",
       "      <td>1065923083696054274</td>\n",
       "      <td>#Worlds2021 Quarterfinals-Bracket!\\n\\nWho's go...</td>\n",
       "      <td>{'retweet_count': 0, 'reply_count': 0, 'like_c...</td>\n",
       "      <td>en</td>\n",
       "    </tr>\n",
       "    <tr>\n",
       "      <th>...</th>\n",
       "      <td>...</td>\n",
       "      <td>...</td>\n",
       "      <td>...</td>\n",
       "      <td>...</td>\n",
       "      <td>...</td>\n",
       "      <td>...</td>\n",
       "      <td>...</td>\n",
       "    </tr>\n",
       "    <tr>\n",
       "      <th>76</th>\n",
       "      <td>1450514013717254146</td>\n",
       "      <td>2021-10-19T17:27:44.000Z</td>\n",
       "      <td>NaN</td>\n",
       "      <td>439747613</td>\n",
       "      <td>You’re NA’s last hope @Cloud9. I believe in th...</td>\n",
       "      <td>{'retweet_count': 0, 'reply_count': 0, 'like_c...</td>\n",
       "      <td>en</td>\n",
       "    </tr>\n",
       "    <tr>\n",
       "      <th>22</th>\n",
       "      <td>1450285970977296390</td>\n",
       "      <td>2021-10-19T02:21:35.000Z</td>\n",
       "      <td>NaN</td>\n",
       "      <td>1008284215421440000</td>\n",
       "      <td>been a solid ride considering everything that ...</td>\n",
       "      <td>{'retweet_count': 0, 'reply_count': 1, 'like_c...</td>\n",
       "      <td>en</td>\n",
       "    </tr>\n",
       "    <tr>\n",
       "      <th>26</th>\n",
       "      <td>1450281528143974400</td>\n",
       "      <td>2021-10-19T02:03:55.000Z</td>\n",
       "      <td>NaN</td>\n",
       "      <td>1295921559794638854</td>\n",
       "      <td>id have to consume a lot of hopium for the res...</td>\n",
       "      <td>{'retweet_count': 0, 'reply_count': 0, 'like_c...</td>\n",
       "      <td>en</td>\n",
       "    </tr>\n",
       "    <tr>\n",
       "      <th>65</th>\n",
       "      <td>1450258277359566848</td>\n",
       "      <td>2021-10-19T00:31:32.000Z</td>\n",
       "      <td>NaN</td>\n",
       "      <td>782751902488530945</td>\n",
       "      <td>it's time to train new stuffs #C9WIN https://t...</td>\n",
       "      <td>{'retweet_count': 1, 'reply_count': 0, 'like_c...</td>\n",
       "      <td>en</td>\n",
       "    </tr>\n",
       "    <tr>\n",
       "      <th>80</th>\n",
       "      <td>1450332432008290310</td>\n",
       "      <td>2021-10-19T05:26:12.000Z</td>\n",
       "      <td>NaN</td>\n",
       "      <td>976777185884176384</td>\n",
       "      <td>remember how c9 defeated afreeca freecs in 201...</td>\n",
       "      <td>{'retweet_count': 0, 'reply_count': 0, 'like_c...</td>\n",
       "      <td>en</td>\n",
       "    </tr>\n",
       "  </tbody>\n",
       "</table>\n",
       "<p>299 rows × 7 columns</p>\n",
       "</div>"
      ],
      "text/plain": [
       "                     id                created_at in_reply_to_user_id  \\\n",
       "5   1450476837721804808  2021-10-19T15:00:01.000Z                 NaN   \n",
       "87  1450498645225185284  2021-10-19T16:26:40.000Z                 NaN   \n",
       "46  1450407564282372096  2021-10-19T10:24:45.000Z                 NaN   \n",
       "74  1450351433266581507  2021-10-19T06:41:42.000Z                 NaN   \n",
       "56  1450384704474124291  2021-10-19T08:53:55.000Z                 NaN   \n",
       "..                  ...                       ...                 ...   \n",
       "76  1450514013717254146  2021-10-19T17:27:44.000Z                 NaN   \n",
       "22  1450285970977296390  2021-10-19T02:21:35.000Z                 NaN   \n",
       "26  1450281528143974400  2021-10-19T02:03:55.000Z                 NaN   \n",
       "65  1450258277359566848  2021-10-19T00:31:32.000Z                 NaN   \n",
       "80  1450332432008290310  2021-10-19T05:26:12.000Z                 NaN   \n",
       "\n",
       "              author_id                                               text  \\\n",
       "5   1007039025675456514  \" header for @blxckoutz \" \\n\\n@Cloud9 #C9WIN \\...   \n",
       "87           2370350274          #C9WIN Let it go! https://t.co/KQWSgmPkXf   \n",
       "46  1065923083696054274  #LeagueOfLegends Head Coach for @cloud9 @mithy...   \n",
       "74  1429149771931942913  #Worlds2021 #C9WIN So excited for the last few...   \n",
       "56  1065923083696054274  #Worlds2021 Quarterfinals-Bracket!\\n\\nWho's go...   \n",
       "..                  ...                                                ...   \n",
       "76            439747613  You’re NA’s last hope @Cloud9. I believe in th...   \n",
       "22  1008284215421440000  been a solid ride considering everything that ...   \n",
       "26  1295921559794638854  id have to consume a lot of hopium for the res...   \n",
       "65   782751902488530945  it's time to train new stuffs #C9WIN https://t...   \n",
       "80   976777185884176384  remember how c9 defeated afreeca freecs in 201...   \n",
       "\n",
       "                                       public_metrics lang  \n",
       "5   {'retweet_count': 19, 'reply_count': 20, 'like...   en  \n",
       "87  {'retweet_count': 0, 'reply_count': 0, 'like_c...   en  \n",
       "46  {'retweet_count': 1, 'reply_count': 0, 'like_c...   en  \n",
       "74  {'retweet_count': 14, 'reply_count': 1, 'like_...   en  \n",
       "56  {'retweet_count': 0, 'reply_count': 0, 'like_c...   en  \n",
       "..                                                ...  ...  \n",
       "76  {'retweet_count': 0, 'reply_count': 0, 'like_c...   en  \n",
       "22  {'retweet_count': 0, 'reply_count': 1, 'like_c...   en  \n",
       "26  {'retweet_count': 0, 'reply_count': 0, 'like_c...   en  \n",
       "65  {'retweet_count': 1, 'reply_count': 0, 'like_c...   en  \n",
       "80  {'retweet_count': 0, 'reply_count': 0, 'like_c...   en  \n",
       "\n",
       "[299 rows x 7 columns]"
      ]
     },
     "execution_count": 53,
     "metadata": {},
     "output_type": "execute_result"
    }
   ],
   "source": [
    "combined_dfs.sort_values(by=[\"text\"])"
   ]
  },
  {
   "cell_type": "code",
   "execution_count": 54,
   "id": "ea6235de",
   "metadata": {},
   "outputs": [],
   "source": [
    "combined_dfs.to_csv('full_twitter_data.csv')"
   ]
  },
  {
   "cell_type": "code",
   "execution_count": 55,
   "id": "6a40dde4",
   "metadata": {
    "scrolled": false
   },
   "outputs": [
    {
     "data": {
      "text/html": [
       "<div>\n",
       "<style scoped>\n",
       "    .dataframe tbody tr th:only-of-type {\n",
       "        vertical-align: middle;\n",
       "    }\n",
       "\n",
       "    .dataframe tbody tr th {\n",
       "        vertical-align: top;\n",
       "    }\n",
       "\n",
       "    .dataframe thead th {\n",
       "        text-align: right;\n",
       "    }\n",
       "</style>\n",
       "<table border=\"1\" class=\"dataframe\">\n",
       "  <thead>\n",
       "    <tr style=\"text-align: right;\">\n",
       "      <th></th>\n",
       "      <th>id</th>\n",
       "      <th>created_at</th>\n",
       "      <th>in_reply_to_user_id</th>\n",
       "      <th>text</th>\n",
       "      <th>public_metrics</th>\n",
       "      <th>lang</th>\n",
       "    </tr>\n",
       "    <tr>\n",
       "      <th>author_id</th>\n",
       "      <th></th>\n",
       "      <th></th>\n",
       "      <th></th>\n",
       "      <th></th>\n",
       "      <th></th>\n",
       "      <th></th>\n",
       "    </tr>\n",
       "  </thead>\n",
       "  <tbody>\n",
       "    <tr>\n",
       "      <th>995882911</th>\n",
       "      <td>1</td>\n",
       "      <td>1</td>\n",
       "      <td>0</td>\n",
       "      <td>1</td>\n",
       "      <td>1</td>\n",
       "      <td>1</td>\n",
       "    </tr>\n",
       "    <tr>\n",
       "      <th>990125779</th>\n",
       "      <td>1</td>\n",
       "      <td>1</td>\n",
       "      <td>0</td>\n",
       "      <td>1</td>\n",
       "      <td>1</td>\n",
       "      <td>1</td>\n",
       "    </tr>\n",
       "    <tr>\n",
       "      <th>981928962</th>\n",
       "      <td>1</td>\n",
       "      <td>1</td>\n",
       "      <td>0</td>\n",
       "      <td>1</td>\n",
       "      <td>1</td>\n",
       "      <td>1</td>\n",
       "    </tr>\n",
       "    <tr>\n",
       "      <th>976777185884176384</th>\n",
       "      <td>1</td>\n",
       "      <td>1</td>\n",
       "      <td>0</td>\n",
       "      <td>1</td>\n",
       "      <td>1</td>\n",
       "      <td>1</td>\n",
       "    </tr>\n",
       "    <tr>\n",
       "      <th>974494140783214593</th>\n",
       "      <td>3</td>\n",
       "      <td>3</td>\n",
       "      <td>0</td>\n",
       "      <td>3</td>\n",
       "      <td>3</td>\n",
       "      <td>3</td>\n",
       "    </tr>\n",
       "    <tr>\n",
       "      <th>...</th>\n",
       "      <td>...</td>\n",
       "      <td>...</td>\n",
       "      <td>...</td>\n",
       "      <td>...</td>\n",
       "      <td>...</td>\n",
       "      <td>...</td>\n",
       "    </tr>\n",
       "    <tr>\n",
       "      <th>1019362363286355974</th>\n",
       "      <td>1</td>\n",
       "      <td>1</td>\n",
       "      <td>0</td>\n",
       "      <td>1</td>\n",
       "      <td>1</td>\n",
       "      <td>1</td>\n",
       "    </tr>\n",
       "    <tr>\n",
       "      <th>1012552501</th>\n",
       "      <td>1</td>\n",
       "      <td>1</td>\n",
       "      <td>0</td>\n",
       "      <td>1</td>\n",
       "      <td>1</td>\n",
       "      <td>1</td>\n",
       "    </tr>\n",
       "    <tr>\n",
       "      <th>1008284215421440000</th>\n",
       "      <td>1</td>\n",
       "      <td>1</td>\n",
       "      <td>0</td>\n",
       "      <td>1</td>\n",
       "      <td>1</td>\n",
       "      <td>1</td>\n",
       "    </tr>\n",
       "    <tr>\n",
       "      <th>1007039025675456514</th>\n",
       "      <td>1</td>\n",
       "      <td>1</td>\n",
       "      <td>0</td>\n",
       "      <td>1</td>\n",
       "      <td>1</td>\n",
       "      <td>1</td>\n",
       "    </tr>\n",
       "    <tr>\n",
       "      <th>1000411723881426950</th>\n",
       "      <td>1</td>\n",
       "      <td>1</td>\n",
       "      <td>0</td>\n",
       "      <td>1</td>\n",
       "      <td>1</td>\n",
       "      <td>1</td>\n",
       "    </tr>\n",
       "  </tbody>\n",
       "</table>\n",
       "<p>279 rows × 6 columns</p>\n",
       "</div>"
      ],
      "text/plain": [
       "                     id  created_at  in_reply_to_user_id  text  \\\n",
       "author_id                                                        \n",
       "995882911             1           1                    0     1   \n",
       "990125779             1           1                    0     1   \n",
       "981928962             1           1                    0     1   \n",
       "976777185884176384    1           1                    0     1   \n",
       "974494140783214593    3           3                    0     3   \n",
       "...                  ..         ...                  ...   ...   \n",
       "1019362363286355974   1           1                    0     1   \n",
       "1012552501            1           1                    0     1   \n",
       "1008284215421440000   1           1                    0     1   \n",
       "1007039025675456514   1           1                    0     1   \n",
       "1000411723881426950   1           1                    0     1   \n",
       "\n",
       "                     public_metrics  lang  \n",
       "author_id                                  \n",
       "995882911                         1     1  \n",
       "990125779                         1     1  \n",
       "981928962                         1     1  \n",
       "976777185884176384                1     1  \n",
       "974494140783214593                3     3  \n",
       "...                             ...   ...  \n",
       "1019362363286355974               1     1  \n",
       "1012552501                        1     1  \n",
       "1008284215421440000               1     1  \n",
       "1007039025675456514               1     1  \n",
       "1000411723881426950               1     1  \n",
       "\n",
       "[279 rows x 6 columns]"
      ]
     },
     "execution_count": 55,
     "metadata": {},
     "output_type": "execute_result"
    }
   ],
   "source": [
    "combined_dfs.groupby('author_id').count().sort_values('author_id', ascending = False)"
   ]
  },
  {
   "cell_type": "code",
   "execution_count": 196,
   "id": "ceb23cad",
   "metadata": {},
   "outputs": [
    {
     "data": {
      "text/plain": [
       "pandas.core.series.Series"
      ]
     },
     "execution_count": 196,
     "metadata": {},
     "output_type": "execute_result"
    }
   ],
   "source": [
    "type(combined_dfs['text'])"
   ]
  },
  {
   "cell_type": "markdown",
   "id": "5c90341e",
   "metadata": {},
   "source": [
    "This was the hardest part of this project. It took lots of searching around and fumbling about to find a way to target the text of the tweets only. I found out that it was listed as a series, and was able to use str.findall to check which tweets contained the hashtags. From there, I created three data frames, each one declaring if the hashtag was present or if there was none."
   ]
  },
  {
   "cell_type": "code",
   "execution_count": 88,
   "id": "38f875f9",
   "metadata": {
    "scrolled": true
   },
   "outputs": [],
   "source": [
    "C9_WIN = combined_dfs['text'].str.findall('C9WIN').to_list()\n",
    "C9_WIN_df = pd.DataFrame(C9_WIN)"
   ]
  },
  {
   "cell_type": "code",
   "execution_count": 89,
   "id": "0a300b6e",
   "metadata": {},
   "outputs": [],
   "source": [
    "TL_WIN = combined_dfs['text'].str.findall('TLWIN').to_list()\n",
    "TL_WIN_df = pd.DataFrame(TL_WIN)"
   ]
  },
  {
   "cell_type": "code",
   "execution_count": 198,
   "id": "f344d968",
   "metadata": {},
   "outputs": [
    {
     "data": {
      "text/html": [
       "<div>\n",
       "<style scoped>\n",
       "    .dataframe tbody tr th:only-of-type {\n",
       "        vertical-align: middle;\n",
       "    }\n",
       "\n",
       "    .dataframe tbody tr th {\n",
       "        vertical-align: top;\n",
       "    }\n",
       "\n",
       "    .dataframe thead th {\n",
       "        text-align: right;\n",
       "    }\n",
       "</style>\n",
       "<table border=\"1\" class=\"dataframe\">\n",
       "  <thead>\n",
       "    <tr style=\"text-align: right;\">\n",
       "      <th></th>\n",
       "      <th>0</th>\n",
       "    </tr>\n",
       "  </thead>\n",
       "  <tbody>\n",
       "    <tr>\n",
       "      <th>0</th>\n",
       "      <td>None</td>\n",
       "    </tr>\n",
       "    <tr>\n",
       "      <th>1</th>\n",
       "      <td>None</td>\n",
       "    </tr>\n",
       "    <tr>\n",
       "      <th>2</th>\n",
       "      <td>None</td>\n",
       "    </tr>\n",
       "    <tr>\n",
       "      <th>3</th>\n",
       "      <td>None</td>\n",
       "    </tr>\n",
       "    <tr>\n",
       "      <th>4</th>\n",
       "      <td>TLWIN</td>\n",
       "    </tr>\n",
       "    <tr>\n",
       "      <th>...</th>\n",
       "      <td>...</td>\n",
       "    </tr>\n",
       "    <tr>\n",
       "      <th>294</th>\n",
       "      <td>TLWIN</td>\n",
       "    </tr>\n",
       "    <tr>\n",
       "      <th>295</th>\n",
       "      <td>TLWIN</td>\n",
       "    </tr>\n",
       "    <tr>\n",
       "      <th>296</th>\n",
       "      <td>None</td>\n",
       "    </tr>\n",
       "    <tr>\n",
       "      <th>297</th>\n",
       "      <td>None</td>\n",
       "    </tr>\n",
       "    <tr>\n",
       "      <th>298</th>\n",
       "      <td>None</td>\n",
       "    </tr>\n",
       "  </tbody>\n",
       "</table>\n",
       "<p>299 rows × 1 columns</p>\n",
       "</div>"
      ],
      "text/plain": [
       "         0\n",
       "0     None\n",
       "1     None\n",
       "2     None\n",
       "3     None\n",
       "4    TLWIN\n",
       "..     ...\n",
       "294  TLWIN\n",
       "295  TLWIN\n",
       "296   None\n",
       "297   None\n",
       "298   None\n",
       "\n",
       "[299 rows x 1 columns]"
      ]
     },
     "execution_count": 198,
     "metadata": {},
     "output_type": "execute_result"
    }
   ],
   "source": [
    "TL_WIN_df"
   ]
  },
  {
   "cell_type": "code",
   "execution_count": 91,
   "id": "494d22e0",
   "metadata": {},
   "outputs": [],
   "source": [
    "hun_WIN = combined_dfs['text'].str.findall('100WIN').to_list()\n",
    "hun_WIN_df = pd.DataFrame(hun_WIN)"
   ]
  },
  {
   "cell_type": "markdown",
   "id": "1605f6f7",
   "metadata": {},
   "source": [
    "From these 3 data frames, I created one larger data frame using only the relevant columns."
   ]
  },
  {
   "cell_type": "code",
   "execution_count": 199,
   "id": "1191ae3a",
   "metadata": {},
   "outputs": [],
   "source": [
    "Hashtag_df = pd.DataFrame(\n",
    "{'#C9WIN': C9_WIN_df[0],\n",
    " '#TLWIN': TL_WIN_df[0],\n",
    " '#100WIN': hun_WIN_df[0]}\n",
    ")"
   ]
  },
  {
   "cell_type": "code",
   "execution_count": 200,
   "id": "9d8c0712",
   "metadata": {},
   "outputs": [
    {
     "data": {
      "text/html": [
       "<div>\n",
       "<style scoped>\n",
       "    .dataframe tbody tr th:only-of-type {\n",
       "        vertical-align: middle;\n",
       "    }\n",
       "\n",
       "    .dataframe tbody tr th {\n",
       "        vertical-align: top;\n",
       "    }\n",
       "\n",
       "    .dataframe thead th {\n",
       "        text-align: right;\n",
       "    }\n",
       "</style>\n",
       "<table border=\"1\" class=\"dataframe\">\n",
       "  <thead>\n",
       "    <tr style=\"text-align: right;\">\n",
       "      <th></th>\n",
       "      <th>#C9WIN</th>\n",
       "      <th>#TLWIN</th>\n",
       "      <th>#100WIN</th>\n",
       "    </tr>\n",
       "  </thead>\n",
       "  <tbody>\n",
       "    <tr>\n",
       "      <th>0</th>\n",
       "      <td>None</td>\n",
       "      <td>None</td>\n",
       "      <td>None</td>\n",
       "    </tr>\n",
       "    <tr>\n",
       "      <th>1</th>\n",
       "      <td>C9WIN</td>\n",
       "      <td>None</td>\n",
       "      <td>None</td>\n",
       "    </tr>\n",
       "    <tr>\n",
       "      <th>2</th>\n",
       "      <td>None</td>\n",
       "      <td>None</td>\n",
       "      <td>None</td>\n",
       "    </tr>\n",
       "    <tr>\n",
       "      <th>3</th>\n",
       "      <td>None</td>\n",
       "      <td>None</td>\n",
       "      <td>None</td>\n",
       "    </tr>\n",
       "    <tr>\n",
       "      <th>4</th>\n",
       "      <td>None</td>\n",
       "      <td>TLWIN</td>\n",
       "      <td>None</td>\n",
       "    </tr>\n",
       "    <tr>\n",
       "      <th>...</th>\n",
       "      <td>...</td>\n",
       "      <td>...</td>\n",
       "      <td>...</td>\n",
       "    </tr>\n",
       "    <tr>\n",
       "      <th>294</th>\n",
       "      <td>None</td>\n",
       "      <td>TLWIN</td>\n",
       "      <td>None</td>\n",
       "    </tr>\n",
       "    <tr>\n",
       "      <th>295</th>\n",
       "      <td>None</td>\n",
       "      <td>TLWIN</td>\n",
       "      <td>None</td>\n",
       "    </tr>\n",
       "    <tr>\n",
       "      <th>296</th>\n",
       "      <td>C9WIN</td>\n",
       "      <td>None</td>\n",
       "      <td>None</td>\n",
       "    </tr>\n",
       "    <tr>\n",
       "      <th>297</th>\n",
       "      <td>C9WIN</td>\n",
       "      <td>None</td>\n",
       "      <td>None</td>\n",
       "    </tr>\n",
       "    <tr>\n",
       "      <th>298</th>\n",
       "      <td>C9WIN</td>\n",
       "      <td>None</td>\n",
       "      <td>None</td>\n",
       "    </tr>\n",
       "  </tbody>\n",
       "</table>\n",
       "<p>299 rows × 3 columns</p>\n",
       "</div>"
      ],
      "text/plain": [
       "    #C9WIN #TLWIN #100WIN\n",
       "0     None   None    None\n",
       "1    C9WIN   None    None\n",
       "2     None   None    None\n",
       "3     None   None    None\n",
       "4     None  TLWIN    None\n",
       "..     ...    ...     ...\n",
       "294   None  TLWIN    None\n",
       "295   None  TLWIN    None\n",
       "296  C9WIN   None    None\n",
       "297  C9WIN   None    None\n",
       "298  C9WIN   None    None\n",
       "\n",
       "[299 rows x 3 columns]"
      ]
     },
     "execution_count": 200,
     "metadata": {},
     "output_type": "execute_result"
    }
   ],
   "source": [
    "Hashtag_df"
   ]
  },
  {
   "cell_type": "markdown",
   "id": "be0ef7c8",
   "metadata": {},
   "source": [
    "After I had the combined data frame, I looked at the sum of each relevant value in the columns, and created a final data frame. Using the sum was necessary to translate the text values into numerical values, which I could then graph below."
   ]
  },
  {
   "cell_type": "code",
   "execution_count": 133,
   "id": "c0468dfd",
   "metadata": {
    "scrolled": true
   },
   "outputs": [],
   "source": [
    "C9_Count = (Hashtag_df == 'C9WIN').sum()\n",
    "TL_Count = (Hashtag_df == 'TLWIN').sum()\n",
    "HUN_Count = (Hashtag_df == '100WIN').sum()"
   ]
  },
  {
   "cell_type": "code",
   "execution_count": 144,
   "id": "fc90f4ae",
   "metadata": {},
   "outputs": [],
   "source": [
    "Count_df = pd.DataFrame(\n",
    "{'#C9WIN': C9_Count[0],\n",
    " '#TLWIN': TL_Count[1],\n",
    " '#100WIN': HUN_Count[2]\n",
    "}, index=[0]\n",
    ")"
   ]
  },
  {
   "cell_type": "markdown",
   "id": "3fffa998",
   "metadata": {},
   "source": [
    "<h2>Visualization of Query</h2>"
   ]
  },
  {
   "cell_type": "code",
   "execution_count": 193,
   "id": "d43c4cd5",
   "metadata": {
    "scrolled": true
   },
   "outputs": [
    {
     "data": {
      "text/plain": [
       "<AxesSubplot:xlabel='Hashtag', ylabel='Frequency of Hashtag'>"
      ]
     },
     "execution_count": 193,
     "metadata": {},
     "output_type": "execute_result"
    },
    {
     "data": {
      "image/png": "[encoded data removed]",
      "text/plain": [
       "<Figure size 432x288 with 1 Axes>"
      ]
     },
     "metadata": {
      "needs_background": "light"
     },
     "output_type": "display_data"
    }
   ],
   "source": [
    "Count_df.plot.bar(ylabel='Frequency of Hashtag', xlabel='Hashtag', fontsize=(13), figsize=(6, 4))"
   ]
  },
  {
   "cell_type": "markdown",
   "id": "8e975196",
   "metadata": {},
   "source": [
    "This is the final visualization of my query, showing the frequency of each hashtag from the tweets that I collected. I will say, this data is not conclusive in any way, and is not a perfect representation of the data. I do not know why #100WIN is so low in comparison to the other two. Additionally, these hashtags are not only used in support of the League of Legends teams, which is what I am interested in. These hashtags are used by the organizations across all of their teams as well, making this data somewhat unreliable. This data does make sense however. Cloud 9 was the only team to make it to the playoffs stage of the tournament, so it makes sense that they would have the most support, especially since they have become a source of hope for most North American fans, as they are the last representative we have."
   ]
  },
  {
   "cell_type": "code",
   "execution_count": 165,
   "id": "aba3798a",
   "metadata": {
    "scrolled": true
   },
   "outputs": [
    {
     "data": {
      "text/plain": [
       "dict_keys(['data', 'includes', 'meta'])"
      ]
     },
     "execution_count": 165,
     "metadata": {},
     "output_type": "execute_result"
    }
   ],
   "source": [
    "response_1_dict.keys()"
   ]
  },
  {
   "cell_type": "code",
   "execution_count": 166,
   "id": "98fd1a56",
   "metadata": {
    "scrolled": true
   },
   "outputs": [
    {
     "data": {
      "text/plain": [
       "{'users': [{'id': '1403794489177673731',\n",
       "   'name': 'TheMightyBaloon',\n",
       "   'username': 'TheMightyBaloon'},\n",
       "  {'id': '1376175996852785154',\n",
       "   'name': 'Graphic Upshot',\n",
       "   'username': 'graphic_upshot'},\n",
       "  {'id': '612463851', 'name': 'Andrew Norris', 'username': 'JudgeArcadia'},\n",
       "  {'id': '602386138',\n",
       "   'name': 'Ronald #Resistencia',\n",
       "   'username': 'EsteNoEsRonald'},\n",
       "  {'id': '770305614', 'name': 'Cy Ver', 'username': 'cycythepanda'},\n",
       "  {'id': '1325497376388370433', 'name': 'guy', 'username': 'sujiRedsun'},\n",
       "  {'id': '933492426', 'name': 'TSM FTX Ari', 'username': 'AriYairRP'},\n",
       "  {'id': '899998653380673536',\n",
       "   'name': '🐯lea030408(cye)',\n",
       "   'username': '_deus_vult__'},\n",
       "  {'id': '1458665886', 'name': 'Instinct✌🏾🎃', 'username': 'Instinct_FPS'},\n",
       "  {'id': '545294160', 'name': 'Jay', 'username': 'JaylinkNA'},\n",
       "  {'id': '1441074497340117000',\n",
       "   'name': 'AAAAAAAAAHHHHHHHHHH',\n",
       "   'username': 'C9atWorlds'},\n",
       "  {'id': '1344432278353698817',\n",
       "   'name': 'vinny | NAmen',\n",
       "   'username': 'shieldedistaken'},\n",
       "  {'id': '4213976945', 'name': 'Xizz3l', 'username': 'RealXizz3l'},\n",
       "  {'id': '177808995', 'name': 'Tadashi', 'username': 'RyanTadashi'},\n",
       "  {'id': '1405266617638993921',\n",
       "   'name': 'Jadon Joyce',\n",
       "   'username': 'JoyceJadon'},\n",
       "  {'id': '1287372018426376193', 'name': '히얀\\uea00', 'username': 'HiYaN_s05oz'},\n",
       "  {'id': '1465240051',\n",
       "   'name': '#ToTheMoon🚀 #TLWIN🐴',\n",
       "   'username': 'RamsPatsFire'},\n",
       "  {'id': '35975721', 'name': 'Odin Makes', 'username': 'OdinMakes'},\n",
       "  {'id': '2859465749', 'name': 'DSX Rakona', 'username': 'stefanbauschi'},\n",
       "  {'id': '940631444669440000',\n",
       "   'name': 'Canteen beauty',\n",
       "   'username': 'aguacatefreson'},\n",
       "  {'id': '2457135274', 'name': '🎃👻Aly👻🎃', 'username': 'Lyssuh_bear'},\n",
       "  {'id': '1415503391749443585', 'name': 'Jiro', 'username': 'jirostwt'},\n",
       "  {'id': '1517718614', 'name': 'Zach', 'username': 'otgLoL'},\n",
       "  {'id': '919495234991427584', 'name': 'Seahorse', 'username': 'dltjrdn1114'},\n",
       "  {'id': '1077638125',\n",
       "   'name': \"Jérémy 'Swifter' Francoeur\",\n",
       "   'username': 'SwifterMeister'},\n",
       "  {'id': '876990335598985216', 'name': 'かみきたえる', 'username': 'kamikita_v'},\n",
       "  {'id': '3330885537', 'name': 'TreFLA', 'username': 'trefla201'},\n",
       "  {'id': '1398543070061236227', 'name': 'KeshiTalk', 'username': 'TalkKeshi'},\n",
       "  {'id': '3033067642', 'name': 'AbaddonShiva', 'username': 'AbaddonShiv4'},\n",
       "  {'id': '1388980322', 'name': 'DiogoF', 'username': 'suiditto'},\n",
       "  {'id': '1294102689559785472', 'name': 'sqd', 'username': 'sasukeqwerty'},\n",
       "  {'id': '1191028630245322753', 'name': 'David', 'username': 'David12065202'},\n",
       "  {'id': '58965194', 'name': 'Cüti ✨', 'username': 'juancutillas_'},\n",
       "  {'id': '1360268779', 'name': 'Manuel Muñoz', 'username': 'manuelxpv'},\n",
       "  {'id': '1374072252333969409', 'name': '6ix2wo', 'username': '6ix2wo4'},\n",
       "  {'id': '1290587544330043394',\n",
       "   'name': 'BMW Esports',\n",
       "   'username': 'BMWEsports'},\n",
       "  {'id': '1282060363446595585',\n",
       "   'name': 'C9 WILL WIN WORLDS',\n",
       "   'username': 'hersuii'},\n",
       "  {'id': '823657220663447552', 'name': 'saint', 'username': '5aintHaven'},\n",
       "  {'id': '765966190707675136',\n",
       "   'name': 'CasterEmulated(Vtuber)',\n",
       "   'username': 'CasterEmulated'},\n",
       "  {'id': '1370171328355962884',\n",
       "   'name': 'HTGREsports',\n",
       "   'username': 'HTGREsports'},\n",
       "  {'id': '1382252800386727937',\n",
       "   'name': 'Reemas',\n",
       "   'username': 'Reemas64361818'},\n",
       "  {'id': '1215743068697219074', 'name': 'sımões', 'username': 'simoes_xd'},\n",
       "  {'id': '482423373', 'name': 'JediFu', 'username': 'DarthHeadshot'},\n",
       "  {'id': '176265369', 'name': 'PIT EXE', 'username': 'pitxxyt'},\n",
       "  {'id': '907074598574858241',\n",
       "   'name': 'Joanna',\n",
       "   'username': 'BinatogSaKawali'},\n",
       "  {'id': '1302490060877561856',\n",
       "   'name': 'Name cannot be blank⁷',\n",
       "   'username': 'My_DiaNA_mite'},\n",
       "  {'id': '1143878524035641344',\n",
       "   'name': '9x Baiano ⓮',\n",
       "   'username': 'Leo190508'},\n",
       "  {'id': '1301035161795002369',\n",
       "   'name': 'Captain K-Dots Sanctum (PN: Saiyan Nigga)',\n",
       "   'username': 'DotsCaptain'},\n",
       "  {'id': '1413477993939234839',\n",
       "   'name': 'Luis Perisse',\n",
       "   'username': 'luisperisse1'},\n",
       "  {'id': '1037751884', 'name': 'Tiago Rosado', 'username': 'Barendius'},\n",
       "  {'id': '1260407043816599552',\n",
       "   'name': 'SNUC Gaming',\n",
       "   'username': 'SNUCGaming'},\n",
       "  {'id': '3634744521', 'name': 'Zeria Iiyasei', 'username': 'ZeriaIiyasei'},\n",
       "  {'id': '1224985193280393216',\n",
       "   'name': 'vagabunda de óculos',\n",
       "   'username': 'gamiingchair'},\n",
       "  {'id': '1215025968684904454', 'name': 'Kourou', 'username': 'Kourou_FR'},\n",
       "  {'id': '1290649645056692224', 'name': 'F/A Kyo 74', 'username': 'kyofps_'},\n",
       "  {'id': '1322354301197520896',\n",
       "   'name': 'Inimiga do entretenimento',\n",
       "   'username': 'yukigimaingato'},\n",
       "  {'id': '3182563234', 'name': 'Adam Grym', 'username': 'GrymAdam'},\n",
       "  {'id': '1317628519673786374', 'name': 'A_Atrax', 'username': 'atrax_a'},\n",
       "  {'id': '2285884165', 'name': 'Andrew', 'username': 'andrewyang6679'},\n",
       "  {'id': '72995846', 'name': 'moreño', 'username': 'Thimiie'},\n",
       "  {'id': '1241417829053870080', 'name': 'pitt', 'username': 'pitt079'},\n",
       "  {'id': '1456506624', 'name': 'Eglath', 'username': 'Rodrisardi'},\n",
       "  {'id': '362035384', 'name': 'Katie V Darrah', 'username': 'mekachikiku'},\n",
       "  {'id': '1417182971413639176', 'name': 'Mglow', 'username': 'MglFtn'},\n",
       "  {'id': '4186954885',\n",
       "   'name': '@MasterSwagKing Entertainment',\n",
       "   'username': 'C9Msk7'},\n",
       "  {'id': '1293610147663818754', 'name': 'blackoff', 'username': 'blxckoff_'},\n",
       "  {'id': '1012552501', 'name': 'eRa Dalaqua', 'username': 'joaodalaqua'},\n",
       "  {'id': '1257702798193500160', 'name': 'Kєиji', 'username': 'KenjiXz_'},\n",
       "  {'id': '81732809', 'name': 'NotRyanT', 'username': 'RealNotRyanT'},\n",
       "  {'id': '1437848577859100676',\n",
       "   'name': '❀ Nᵉᵃˡⁱᵃ 𝑋𝑋𝑋',\n",
       "   'username': 'CurvyNealiaDiaz'},\n",
       "  {'id': '422325803', 'name': 'Tina', 'username': '_wonderskittles'},\n",
       "  {'id': '2309022188', 'name': 'Deags', 'username': 'Birdman_fl'},\n",
       "  {'id': '208787374', 'name': 'Alpha Katie', 'username': 'Cuteknight12'},\n",
       "  {'id': '439747613', 'name': 'Grey', 'username': 'Brauminos'},\n",
       "  {'id': '1058102479567482880', 'name': 'Dakota Weitl', 'username': 'xStainn'},\n",
       "  {'id': '1039511865980870656',\n",
       "   'name': 'Ayden Barber',\n",
       "   'username': 'AydenB_24'},\n",
       "  {'id': '1408625744880848899',\n",
       "   'name': 'ඩා💜Alice🏳️\\u200d⚧️',\n",
       "   'username': 'AzraelPrince1'},\n",
       "  {'id': '2800417497', 'name': 'ze', 'username': 'Ze_Manel2000'},\n",
       "  {'id': '1149147784089604097', 'name': 'Vofcake 🍁', 'username': 'MrDrmns'},\n",
       "  {'id': '1241800989088374785',\n",
       "   'name': 'Bechamel ᶠᶠᶜ 🔥🇮🇹',\n",
       "   'username': 'Sulacapiano'},\n",
       "  {'id': '1066867383061630976', 'name': 'ValebyOMG', 'username': 'ValebyO'},\n",
       "  {'id': '955970677', 'name': 'Yohan Sama', 'username': 'Yolisters'},\n",
       "  {'id': '3286820526', 'name': 'WindierShark', 'username': 'windiershark'},\n",
       "  {'id': '1341447337508388864',\n",
       "   'name': 'Huntysmooth2',\n",
       "   'username': 'Hunty1998'},\n",
       "  {'id': '2370350274', 'name': '甘楽🔅', 'username': 'judoschlv'},\n",
       "  {'id': '1093020944577241088',\n",
       "   'name': '💀🎃Inara🎃💀spooky fansly sale!',\n",
       "   'username': 'InaraFoxx'},\n",
       "  {'id': '1181908522658742273',\n",
       "   'name': 'ÅLPHA KHLEO KÅ$H👑💸 {FINDOM x CONTENT CREATOR}',\n",
       "   'username': 'Krazyy4K'},\n",
       "  {'id': '3374422552', 'name': 'TRIBE brubbst', 'username': 'brubbst'},\n",
       "  {'id': '596520437', 'name': 'Jonathan 🔴⚪️', 'username': 'fomentum_gg'},\n",
       "  {'id': '1407338653643378699', 'name': 'Toddy', 'username': 'toddyltrt'},\n",
       "  {'id': '1281859549587283972',\n",
       "   'name': 'carter',\n",
       "   'username': 'apheliosfatass'},\n",
       "  {'id': '1299062822928871426', 'name': 'Kikoo', 'username': 'Kikooo58484120'},\n",
       "  {'id': '1070160693804986368',\n",
       "   'name': 'Leo Silverman',\n",
       "   'username': 'LeoSilverman'},\n",
       "  {'id': '1388253827690909696', 'name': 'F/A FLOW❤', 'username': 'AmassaVoce'},\n",
       "  {'id': '1365053526', 'name': 'Akina No Yūrei', 'username': 'Danalieth__'},\n",
       "  {'id': '1250880776805195776', 'name': 'Ryth', 'username': 'rythxyy'},\n",
       "  {'id': '1440302945455665176', 'name': '_Idra_', 'username': '_idra__'}]}"
      ]
     },
     "execution_count": 166,
     "metadata": {},
     "output_type": "execute_result"
    }
   ],
   "source": [
    "response_1_dict['includes']"
   ]
  },
  {
   "cell_type": "code",
   "execution_count": 167,
   "id": "4cf81aa1",
   "metadata": {},
   "outputs": [],
   "source": [
    "user_info = pd.DataFrame(response_1_dict['includes']['users'])"
   ]
  },
  {
   "cell_type": "code",
   "execution_count": 168,
   "id": "c9b119c4",
   "metadata": {},
   "outputs": [],
   "source": [
    "user_info2 = pd.DataFrame(response_2_dict['includes']['users'])"
   ]
  },
  {
   "cell_type": "code",
   "execution_count": 169,
   "id": "a6b42d35",
   "metadata": {},
   "outputs": [],
   "source": [
    "user_info3 = pd.DataFrame(response_3_dict['includes']['users'])"
   ]
  },
  {
   "cell_type": "code",
   "execution_count": 170,
   "id": "100e5dcf",
   "metadata": {},
   "outputs": [],
   "source": [
    "user_info_array = [user_info,user_info2,user_info3]"
   ]
  },
  {
   "cell_type": "code",
   "execution_count": 171,
   "id": "f4810a5c",
   "metadata": {},
   "outputs": [],
   "source": [
    "combined_user_info = pd.concat(user_info_array)"
   ]
  },
  {
   "cell_type": "code",
   "execution_count": 175,
   "id": "5c5a75e6",
   "metadata": {},
   "outputs": [],
   "source": [
    "user_name = combined_user_info['name']"
   ]
  },
  {
   "cell_type": "code",
   "execution_count": 176,
   "id": "da590280",
   "metadata": {},
   "outputs": [
    {
     "data": {
      "text/plain": [
       "0                  TheMightyBaloon\n",
       "1                   Graphic Upshot\n",
       "2                    Andrew Norris\n",
       "3              Ronald #Resistencia\n",
       "4                           Cy Ver\n",
       "                  ...             \n",
       "85                          micah.\n",
       "86                 armandoportilho\n",
       "87                              Jo\n",
       "88    Ranking in Doubles(pkmn) 👋🏻👀\n",
       "89                          Colfax\n",
       "Name: name, Length: 282, dtype: object"
      ]
     },
     "execution_count": 176,
     "metadata": {},
     "output_type": "execute_result"
    }
   ],
   "source": [
    "user_name"
   ]
  },
  {
   "cell_type": "code",
   "execution_count": 177,
   "id": "9d32c0b3",
   "metadata": {
    "scrolled": true
   },
   "outputs": [
    {
     "data": {
      "text/html": [
       "<div>\n",
       "<style scoped>\n",
       "    .dataframe tbody tr th:only-of-type {\n",
       "        vertical-align: middle;\n",
       "    }\n",
       "\n",
       "    .dataframe tbody tr th {\n",
       "        vertical-align: top;\n",
       "    }\n",
       "\n",
       "    .dataframe thead th {\n",
       "        text-align: right;\n",
       "    }\n",
       "</style>\n",
       "<table border=\"1\" class=\"dataframe\">\n",
       "  <thead>\n",
       "    <tr style=\"text-align: right;\">\n",
       "      <th></th>\n",
       "      <th>id</th>\n",
       "      <th>name</th>\n",
       "      <th>username</th>\n",
       "    </tr>\n",
       "  </thead>\n",
       "  <tbody>\n",
       "    <tr>\n",
       "      <th>61</th>\n",
       "      <td>995882911</td>\n",
       "      <td>Clarence Storm/Jalen</td>\n",
       "      <td>AgentJalen18</td>\n",
       "    </tr>\n",
       "    <tr>\n",
       "      <th>42</th>\n",
       "      <td>990125779</td>\n",
       "      <td>Jake</td>\n",
       "      <td>thebulld0zer</td>\n",
       "    </tr>\n",
       "    <tr>\n",
       "      <th>60</th>\n",
       "      <td>981928962</td>\n",
       "      <td>Big G fan</td>\n",
       "      <td>Brewer90M</td>\n",
       "    </tr>\n",
       "    <tr>\n",
       "      <th>76</th>\n",
       "      <td>976777185884176384</td>\n",
       "      <td>krazy popet</td>\n",
       "      <td>notseraphs</td>\n",
       "    </tr>\n",
       "    <tr>\n",
       "      <th>0</th>\n",
       "      <td>974494140783214593</td>\n",
       "      <td>grizz233</td>\n",
       "      <td>grizz2331</td>\n",
       "    </tr>\n",
       "    <tr>\n",
       "      <th>...</th>\n",
       "      <td>...</td>\n",
       "      <td>...</td>\n",
       "      <td>...</td>\n",
       "    </tr>\n",
       "    <tr>\n",
       "      <th>91</th>\n",
       "      <td>1019362363286355974</td>\n",
       "      <td>Dan</td>\n",
       "      <td>Windowshadow69</td>\n",
       "    </tr>\n",
       "    <tr>\n",
       "      <th>66</th>\n",
       "      <td>1012552501</td>\n",
       "      <td>eRa Dalaqua</td>\n",
       "      <td>joaodalaqua</td>\n",
       "    </tr>\n",
       "    <tr>\n",
       "      <th>20</th>\n",
       "      <td>1008284215421440000</td>\n",
       "      <td>da</td>\n",
       "      <td>alcaraz_daryl</td>\n",
       "    </tr>\n",
       "    <tr>\n",
       "      <th>5</th>\n",
       "      <td>1007039025675456514</td>\n",
       "      <td>Tzn</td>\n",
       "      <td>TheuzinFN</td>\n",
       "    </tr>\n",
       "    <tr>\n",
       "      <th>9</th>\n",
       "      <td>1000411723881426950</td>\n",
       "      <td>iBeyondGodly</td>\n",
       "      <td>iBeyondGodly</td>\n",
       "    </tr>\n",
       "  </tbody>\n",
       "</table>\n",
       "<p>282 rows × 3 columns</p>\n",
       "</div>"
      ],
      "text/plain": [
       "                     id                  name        username\n",
       "61            995882911  Clarence Storm/Jalen    AgentJalen18\n",
       "42            990125779                  Jake    thebulld0zer\n",
       "60            981928962             Big G fan       Brewer90M\n",
       "76   976777185884176384           krazy popet      notseraphs\n",
       "0    974494140783214593              grizz233       grizz2331\n",
       "..                  ...                   ...             ...\n",
       "91  1019362363286355974                   Dan  Windowshadow69\n",
       "66           1012552501           eRa Dalaqua     joaodalaqua\n",
       "20  1008284215421440000                    da   alcaraz_daryl\n",
       "5   1007039025675456514                   Tzn       TheuzinFN\n",
       "9   1000411723881426950          iBeyondGodly    iBeyondGodly\n",
       "\n",
       "[282 rows x 3 columns]"
      ]
     },
     "execution_count": 177,
     "metadata": {},
     "output_type": "execute_result"
    }
   ],
   "source": [
    "combined_user_info.sort_values('id', ascending = False)"
   ]
  },
  {
   "cell_type": "markdown",
   "id": "79a73d66",
   "metadata": {},
   "source": [
    "This is the combined dataframe with all of the names and usernames of the collected tweets. Here is where I am having some troubles with my code. I have all the names and usernames of the tweets, but I cannot link them up with the other data frame. I think this is partially due to the difference in number of rows. I do not know why the number of rows are different. When I try to add the names as another row to the main dataframe, I get an error about duplicate axis"
   ]
  },
  {
   "cell_type": "code",
   "execution_count": 178,
   "id": "e7a9862e",
   "metadata": {
    "scrolled": true
   },
   "outputs": [
    {
     "data": {
      "text/html": [
       "<div>\n",
       "<style scoped>\n",
       "    .dataframe tbody tr th:only-of-type {\n",
       "        vertical-align: middle;\n",
       "    }\n",
       "\n",
       "    .dataframe tbody tr th {\n",
       "        vertical-align: top;\n",
       "    }\n",
       "\n",
       "    .dataframe thead th {\n",
       "        text-align: right;\n",
       "    }\n",
       "</style>\n",
       "<table border=\"1\" class=\"dataframe\">\n",
       "  <thead>\n",
       "    <tr style=\"text-align: right;\">\n",
       "      <th></th>\n",
       "      <th>name</th>\n",
       "      <th>username</th>\n",
       "    </tr>\n",
       "    <tr>\n",
       "      <th>id</th>\n",
       "      <th></th>\n",
       "      <th></th>\n",
       "    </tr>\n",
       "  </thead>\n",
       "  <tbody>\n",
       "    <tr>\n",
       "      <th>995882911</th>\n",
       "      <td>1</td>\n",
       "      <td>1</td>\n",
       "    </tr>\n",
       "    <tr>\n",
       "      <th>990125779</th>\n",
       "      <td>1</td>\n",
       "      <td>1</td>\n",
       "    </tr>\n",
       "    <tr>\n",
       "      <th>981928962</th>\n",
       "      <td>1</td>\n",
       "      <td>1</td>\n",
       "    </tr>\n",
       "    <tr>\n",
       "      <th>976777185884176384</th>\n",
       "      <td>1</td>\n",
       "      <td>1</td>\n",
       "    </tr>\n",
       "    <tr>\n",
       "      <th>974494140783214593</th>\n",
       "      <td>1</td>\n",
       "      <td>1</td>\n",
       "    </tr>\n",
       "    <tr>\n",
       "      <th>...</th>\n",
       "      <td>...</td>\n",
       "      <td>...</td>\n",
       "    </tr>\n",
       "    <tr>\n",
       "      <th>1019362363286355974</th>\n",
       "      <td>1</td>\n",
       "      <td>1</td>\n",
       "    </tr>\n",
       "    <tr>\n",
       "      <th>1012552501</th>\n",
       "      <td>1</td>\n",
       "      <td>1</td>\n",
       "    </tr>\n",
       "    <tr>\n",
       "      <th>1008284215421440000</th>\n",
       "      <td>1</td>\n",
       "      <td>1</td>\n",
       "    </tr>\n",
       "    <tr>\n",
       "      <th>1007039025675456514</th>\n",
       "      <td>1</td>\n",
       "      <td>1</td>\n",
       "    </tr>\n",
       "    <tr>\n",
       "      <th>1000411723881426950</th>\n",
       "      <td>1</td>\n",
       "      <td>1</td>\n",
       "    </tr>\n",
       "  </tbody>\n",
       "</table>\n",
       "<p>279 rows × 2 columns</p>\n",
       "</div>"
      ],
      "text/plain": [
       "                     name  username\n",
       "id                                 \n",
       "995882911               1         1\n",
       "990125779               1         1\n",
       "981928962               1         1\n",
       "976777185884176384      1         1\n",
       "974494140783214593      1         1\n",
       "...                   ...       ...\n",
       "1019362363286355974     1         1\n",
       "1012552501              1         1\n",
       "1008284215421440000     1         1\n",
       "1007039025675456514     1         1\n",
       "1000411723881426950     1         1\n",
       "\n",
       "[279 rows x 2 columns]"
      ]
     },
     "execution_count": 178,
     "metadata": {},
     "output_type": "execute_result"
    }
   ],
   "source": [
    "combined_user_info.groupby('id').count().sort_values('id', ascending = False)"
   ]
  },
  {
   "cell_type": "code",
   "execution_count": 179,
   "id": "a4b435c8",
   "metadata": {
    "scrolled": true
   },
   "outputs": [
    {
     "data": {
      "text/html": [
       "<div>\n",
       "<style scoped>\n",
       "    .dataframe tbody tr th:only-of-type {\n",
       "        vertical-align: middle;\n",
       "    }\n",
       "\n",
       "    .dataframe tbody tr th {\n",
       "        vertical-align: top;\n",
       "    }\n",
       "\n",
       "    .dataframe thead th {\n",
       "        text-align: right;\n",
       "    }\n",
       "</style>\n",
       "<table border=\"1\" class=\"dataframe\">\n",
       "  <thead>\n",
       "    <tr style=\"text-align: right;\">\n",
       "      <th></th>\n",
       "      <th>name</th>\n",
       "      <th>username</th>\n",
       "    </tr>\n",
       "    <tr>\n",
       "      <th>id</th>\n",
       "      <th></th>\n",
       "      <th></th>\n",
       "    </tr>\n",
       "  </thead>\n",
       "  <tbody>\n",
       "    <tr>\n",
       "      <th>955970677</th>\n",
       "      <td>1</td>\n",
       "      <td>1</td>\n",
       "    </tr>\n",
       "    <tr>\n",
       "      <th>940631444669440000</th>\n",
       "      <td>1</td>\n",
       "      <td>1</td>\n",
       "    </tr>\n",
       "    <tr>\n",
       "      <th>933492426</th>\n",
       "      <td>1</td>\n",
       "      <td>1</td>\n",
       "    </tr>\n",
       "    <tr>\n",
       "      <th>919495234991427584</th>\n",
       "      <td>1</td>\n",
       "      <td>1</td>\n",
       "    </tr>\n",
       "    <tr>\n",
       "      <th>907074598574858241</th>\n",
       "      <td>1</td>\n",
       "      <td>1</td>\n",
       "    </tr>\n",
       "    <tr>\n",
       "      <th>...</th>\n",
       "      <td>...</td>\n",
       "      <td>...</td>\n",
       "    </tr>\n",
       "    <tr>\n",
       "      <th>1066867383061630976</th>\n",
       "      <td>1</td>\n",
       "      <td>1</td>\n",
       "    </tr>\n",
       "    <tr>\n",
       "      <th>1058102479567482880</th>\n",
       "      <td>1</td>\n",
       "      <td>1</td>\n",
       "    </tr>\n",
       "    <tr>\n",
       "      <th>1039511865980870656</th>\n",
       "      <td>1</td>\n",
       "      <td>1</td>\n",
       "    </tr>\n",
       "    <tr>\n",
       "      <th>1037751884</th>\n",
       "      <td>1</td>\n",
       "      <td>1</td>\n",
       "    </tr>\n",
       "    <tr>\n",
       "      <th>1012552501</th>\n",
       "      <td>1</td>\n",
       "      <td>1</td>\n",
       "    </tr>\n",
       "  </tbody>\n",
       "</table>\n",
       "<p>97 rows × 2 columns</p>\n",
       "</div>"
      ],
      "text/plain": [
       "                     name  username\n",
       "id                                 \n",
       "955970677               1         1\n",
       "940631444669440000      1         1\n",
       "933492426               1         1\n",
       "919495234991427584      1         1\n",
       "907074598574858241      1         1\n",
       "...                   ...       ...\n",
       "1066867383061630976     1         1\n",
       "1058102479567482880     1         1\n",
       "1039511865980870656     1         1\n",
       "1037751884              1         1\n",
       "1012552501              1         1\n",
       "\n",
       "[97 rows x 2 columns]"
      ]
     },
     "execution_count": 179,
     "metadata": {},
     "output_type": "execute_result"
    }
   ],
   "source": [
    "user_info.groupby('id').count().sort_values('id', ascending = False)"
   ]
  },
  {
   "cell_type": "code",
   "execution_count": null,
   "id": "f24ea4bd",
   "metadata": {},
   "outputs": [],
   "source": []
  },
  {
   "cell_type": "code",
   "execution_count": null,
   "id": "5947a040",
   "metadata": {},
   "outputs": [],
   "source": []
  }
 ],
 "metadata": {
  "kernelspec": {
   "display_name": "Python 3 (ipykernel)",
   "language": "python",
   "name": "python3"
  },
  "language_info": {
   "codemirror_mode": {
    "name": "ipython",
    "version": 3
   },
   "file_extension": ".py",
   "mimetype": "text/x-python",
   "name": "python",
   "nbconvert_exporter": "python",
   "pygments_lexer": "ipython3",
   "version": "3.9.6"
  }
 },
 "nbformat": 4,
 "nbformat_minor": 5
}
